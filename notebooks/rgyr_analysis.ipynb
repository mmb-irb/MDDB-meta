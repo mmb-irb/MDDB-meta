{
 "cells": [
  {
   "cell_type": "markdown",
   "metadata": {
    "tags": []
   },
   "source": [
    "# Radius of gyration analysis\n",
    "***\n",
    "This tutorials shows how to reproduce Radius of gytarion (RGYR) analysis results from any project in the **[MDDB](https://irb.mddbr.eu) database**.\n",
    "\n",
    "Although the **examples** are presented **step by step** with associated information, it is extremely advisable to previously spend some time reading documentation about **Molecular Dynamics (MD)** and the generated **trajectories and metadata**, to get familiar with the terms used, especially for newcomers to the field. \n",
    "\n",
    "This workflow is based on the MDDB database **[REST API](https://irb.mddbr.eu/api/rest/docs/)**: \n",
    "\n",
    "***\n",
    "**Version:** 1.0 (May 2025)\n",
    "***\n",
    "**Contributors:**  Adam Hospital, Daniel Beltrán, Aurélien Luciani, Genís Bayarri, Josep Lluís Gelpí, Modesto Orozco (IRB-Barcelona, Spain)\n",
    "***\n",
    "**Contact:** [daniel.beltran@irbbarcelona.org](mailto:daniel.beltran@irbbarcelona.org)\n",
    "***\n",
    "\n",
    "#### Import required libraries"
   ]
  },
  {
   "cell_type": "code",
   "execution_count": 1,
   "metadata": {},
   "outputs": [],
   "source": [
    "import json, urllib\n",
    "from os.path import exists\n",
    "import mdtraj as mdt\n",
    "import plotly.graph_objs as go"
   ]
  },
  {
   "cell_type": "markdown",
   "metadata": {},
   "source": [
    "#### Set some constants"
   ]
  },
  {
   "cell_type": "code",
   "execution_count": 2,
   "metadata": {},
   "outputs": [],
   "source": [
    "API_BASE_URL = \"http://irb.mddbr.eu/api/rest/current\""
   ]
  },
  {
   "cell_type": "markdown",
   "metadata": {},
   "source": [
    "#### Set a couple of functions to query the REST API"
   ]
  },
  {
   "cell_type": "code",
   "execution_count": 3,
   "metadata": {},
   "outputs": [],
   "source": [
    "# Set a function to call the API\n",
    "def query_api (url : str) -> dict:\n",
    "    # Parse the URL in case it contains any HTTP control characters\n",
    "    # Replace white spaces by the corresponding percent notation character\n",
    "    parsed_url = url.replace(\" \", \"%20\")\n",
    "    with urllib.request.urlopen(parsed_url) as response:\n",
    "        return json.loads(response.read().decode(\"utf-8\"))\n",
    "# Set a function to call the API\n",
    "def download_file_api (url : str, filename : str):\n",
    "    # Parse the URL in case it contains any HTTP control characters\n",
    "    # Replace white spaces by the corresponding percent notation character\n",
    "    parsed_url = url.replace(\" \", \"%20\")\n",
    "    urllib.request.urlretrieve(url, filename)"
   ]
  },
  {
   "cell_type": "markdown",
   "metadata": {},
   "source": [
    "#### Download both structure and trajectory data\n",
    "\n",
    "Use project MCV1900213 for this example since it has just 1000 frames and thus the trajectory download will be ligth."
   ]
  },
  {
   "cell_type": "code",
   "execution_count": 4,
   "metadata": {},
   "outputs": [
    {
     "name": "stdout",
     "output_type": "stream",
     "text": [
      "We query the API at http://irb.mddbr.eu/api/rest/current/projects/MCV1900213/files/structure\n",
      "Structure file has been downloaded successfully\n",
      "We query the API at http://irb.mddbr.eu/api/rest/current/projects/MCV1900213/files/trajectory?format=xtc\n",
      "Trajectory file has been downloaded successfully\n"
     ]
    }
   ],
   "source": [
    "# Set the structure query URL for the API\n",
    "specific_project_url = API_BASE_URL + '/projects/MCV1900213'\n",
    "structure_query = specific_project_url + '/files/structure'\n",
    "print('We query the API at ' + structure_query)\n",
    "\n",
    "# Download the file with an arbitrary name\n",
    "structure_filename = 'structure.pdb'\n",
    "download_file_api(structure_query, structure_filename)\n",
    "if exists(structure_filename):\n",
    "    print('Structure file has been downloaded successfully')\n",
    "\n",
    "# Set the structure query URL for the API\n",
    "trajectory_query = specific_project_url + '/files/trajectory?format=xtc'\n",
    "print('We query the API at ' + trajectory_query)\n",
    "\n",
    "# Download the file with an arbitrary name\n",
    "trajectory_filename = 'trajectory.xtc'\n",
    "print('This may take a few seconds...', end='\\r')\n",
    "download_file_api(trajectory_query, trajectory_filename)\n",
    "if exists(trajectory_filename):\n",
    "    print('Trajectory file has been downloaded successfully')"
   ]
  },
  {
   "cell_type": "markdown",
   "metadata": {},
   "source": [
    "#### Run the analysis\n",
    "\n",
    "Compute the RGYR for every frame"
   ]
  },
  {
   "cell_type": "code",
   "execution_count": 5,
   "metadata": {},
   "outputs": [],
   "source": [
    "# Load the trajectory to MDtraj\n",
    "trajectory = mdt.load(trajectory_filename, top=structure_filename)\n",
    "# Run the RGYR analysis\n",
    "rgyr_values = mdt.compute_rg(trajectory)"
   ]
  },
  {
   "cell_type": "markdown",
   "metadata": {},
   "source": [
    "#### Display the results"
   ]
  },
  {
   "cell_type": "code",
   "execution_count": 6,
   "metadata": {},
   "outputs": [
    {
     "data": {
      "application/vnd.plotly.v1+json": {
       "config": {
        "plotlyServerURL": "https://plot.ly"
       },
       "data": [
        {
         "type": "scatter",
         "x": [
          0,
          1,
          2,
          3,
          4,
          5,
          6,
          7,
          8,
          9,
          10,
          11,
          12,
          13,
          14,
          15,
          16,
          17,
          18,
          19,
          20,
          21,
          22,
          23,
          24,
          25,
          26,
          27,
          28,
          29,
          30,
          31,
          32,
          33,
          34,
          35,
          36,
          37,
          38,
          39,
          40,
          41,
          42,
          43,
          44,
          45,
          46,
          47,
          48,
          49,
          50,
          51,
          52,
          53,
          54,
          55,
          56,
          57,
          58,
          59,
          60,
          61,
          62,
          63,
          64,
          65,
          66,
          67,
          68,
          69,
          70,
          71,
          72,
          73,
          74,
          75,
          76,
          77,
          78,
          79,
          80,
          81,
          82,
          83,
          84,
          85,
          86,
          87,
          88,
          89,
          90,
          91,
          92,
          93,
          94,
          95,
          96,
          97,
          98,
          99,
          100,
          101,
          102,
          103,
          104,
          105,
          106,
          107,
          108,
          109,
          110,
          111,
          112,
          113,
          114,
          115,
          116,
          117,
          118,
          119,
          120,
          121,
          122,
          123,
          124,
          125,
          126,
          127,
          128,
          129,
          130,
          131,
          132,
          133,
          134,
          135,
          136,
          137,
          138,
          139,
          140,
          141,
          142,
          143,
          144,
          145,
          146,
          147,
          148,
          149,
          150,
          151,
          152,
          153,
          154,
          155,
          156,
          157,
          158,
          159,
          160,
          161,
          162,
          163,
          164,
          165,
          166,
          167,
          168,
          169,
          170,
          171,
          172,
          173,
          174,
          175,
          176,
          177,
          178,
          179,
          180,
          181,
          182,
          183,
          184,
          185,
          186,
          187,
          188,
          189,
          190,
          191,
          192,
          193,
          194,
          195,
          196,
          197,
          198,
          199,
          200,
          201,
          202,
          203,
          204,
          205,
          206,
          207,
          208,
          209,
          210,
          211,
          212,
          213,
          214,
          215,
          216,
          217,
          218,
          219,
          220,
          221,
          222,
          223,
          224,
          225,
          226,
          227,
          228,
          229,
          230,
          231,
          232,
          233,
          234,
          235,
          236,
          237,
          238,
          239,
          240,
          241,
          242,
          243,
          244,
          245,
          246,
          247,
          248,
          249,
          250,
          251,
          252,
          253,
          254,
          255,
          256,
          257,
          258,
          259,
          260,
          261,
          262,
          263,
          264,
          265,
          266,
          267,
          268,
          269,
          270,
          271,
          272,
          273,
          274,
          275,
          276,
          277,
          278,
          279,
          280,
          281,
          282,
          283,
          284,
          285,
          286,
          287,
          288,
          289,
          290,
          291,
          292,
          293,
          294,
          295,
          296,
          297,
          298,
          299,
          300,
          301,
          302,
          303,
          304,
          305,
          306,
          307,
          308,
          309,
          310,
          311,
          312,
          313,
          314,
          315,
          316,
          317,
          318,
          319,
          320,
          321,
          322,
          323,
          324,
          325,
          326,
          327,
          328,
          329,
          330,
          331,
          332,
          333,
          334,
          335,
          336,
          337,
          338,
          339,
          340,
          341,
          342,
          343,
          344,
          345,
          346,
          347,
          348,
          349,
          350,
          351,
          352,
          353,
          354,
          355,
          356,
          357,
          358,
          359,
          360,
          361,
          362,
          363,
          364,
          365,
          366,
          367,
          368,
          369,
          370,
          371,
          372,
          373,
          374,
          375,
          376,
          377,
          378,
          379,
          380,
          381,
          382,
          383,
          384,
          385,
          386,
          387,
          388,
          389,
          390,
          391,
          392,
          393,
          394,
          395,
          396,
          397,
          398,
          399,
          400,
          401,
          402,
          403,
          404,
          405,
          406,
          407,
          408,
          409,
          410,
          411,
          412,
          413,
          414,
          415,
          416,
          417,
          418,
          419,
          420,
          421,
          422,
          423,
          424,
          425,
          426,
          427,
          428,
          429,
          430,
          431,
          432,
          433,
          434,
          435,
          436,
          437,
          438,
          439,
          440,
          441,
          442,
          443,
          444,
          445,
          446,
          447,
          448,
          449,
          450,
          451,
          452,
          453,
          454,
          455,
          456,
          457,
          458,
          459,
          460,
          461,
          462,
          463,
          464,
          465,
          466,
          467,
          468,
          469,
          470,
          471,
          472,
          473,
          474,
          475,
          476,
          477,
          478,
          479,
          480,
          481,
          482,
          483,
          484,
          485,
          486,
          487,
          488,
          489,
          490,
          491,
          492,
          493,
          494,
          495,
          496,
          497,
          498,
          499,
          500,
          501,
          502,
          503,
          504,
          505,
          506,
          507,
          508,
          509,
          510,
          511,
          512,
          513,
          514,
          515,
          516,
          517,
          518,
          519,
          520,
          521,
          522,
          523,
          524,
          525,
          526,
          527,
          528,
          529,
          530,
          531,
          532,
          533,
          534,
          535,
          536,
          537,
          538,
          539,
          540,
          541,
          542,
          543,
          544,
          545,
          546,
          547,
          548,
          549,
          550,
          551,
          552,
          553,
          554,
          555,
          556,
          557,
          558,
          559,
          560,
          561,
          562,
          563,
          564,
          565,
          566,
          567,
          568,
          569,
          570,
          571,
          572,
          573,
          574,
          575,
          576,
          577,
          578,
          579,
          580,
          581,
          582,
          583,
          584,
          585,
          586,
          587,
          588,
          589,
          590,
          591,
          592,
          593,
          594,
          595,
          596,
          597,
          598,
          599,
          600,
          601,
          602,
          603,
          604,
          605,
          606,
          607,
          608,
          609,
          610,
          611,
          612,
          613,
          614,
          615,
          616,
          617,
          618,
          619,
          620,
          621,
          622,
          623,
          624,
          625,
          626,
          627,
          628,
          629,
          630,
          631,
          632,
          633,
          634,
          635,
          636,
          637,
          638,
          639,
          640,
          641,
          642,
          643,
          644,
          645,
          646,
          647,
          648,
          649,
          650,
          651,
          652,
          653,
          654,
          655,
          656,
          657,
          658,
          659,
          660,
          661,
          662,
          663,
          664,
          665,
          666,
          667,
          668,
          669,
          670,
          671,
          672,
          673,
          674,
          675,
          676,
          677,
          678,
          679,
          680,
          681,
          682,
          683,
          684,
          685,
          686,
          687,
          688,
          689,
          690,
          691,
          692,
          693,
          694,
          695,
          696,
          697,
          698,
          699,
          700,
          701,
          702,
          703,
          704,
          705,
          706,
          707,
          708,
          709,
          710,
          711,
          712,
          713,
          714,
          715,
          716,
          717,
          718,
          719,
          720,
          721,
          722,
          723,
          724,
          725,
          726,
          727,
          728,
          729,
          730,
          731,
          732,
          733,
          734,
          735,
          736,
          737,
          738,
          739,
          740,
          741,
          742,
          743,
          744,
          745,
          746,
          747,
          748,
          749,
          750,
          751,
          752,
          753,
          754,
          755,
          756,
          757,
          758,
          759,
          760,
          761,
          762,
          763,
          764,
          765,
          766,
          767,
          768,
          769,
          770,
          771,
          772,
          773,
          774,
          775,
          776,
          777,
          778,
          779,
          780,
          781,
          782,
          783,
          784,
          785,
          786,
          787,
          788,
          789,
          790,
          791,
          792,
          793,
          794,
          795,
          796,
          797,
          798,
          799,
          800,
          801,
          802,
          803,
          804,
          805,
          806,
          807,
          808,
          809,
          810,
          811,
          812,
          813,
          814,
          815,
          816,
          817,
          818,
          819,
          820,
          821,
          822,
          823,
          824,
          825,
          826,
          827,
          828,
          829,
          830,
          831,
          832,
          833,
          834,
          835,
          836,
          837,
          838,
          839,
          840,
          841,
          842,
          843,
          844,
          845,
          846,
          847,
          848,
          849,
          850,
          851,
          852,
          853,
          854,
          855,
          856,
          857,
          858,
          859,
          860,
          861,
          862,
          863,
          864,
          865,
          866,
          867,
          868,
          869,
          870,
          871,
          872,
          873,
          874,
          875,
          876,
          877,
          878,
          879,
          880,
          881,
          882,
          883,
          884,
          885,
          886,
          887,
          888,
          889,
          890,
          891,
          892,
          893,
          894,
          895,
          896,
          897,
          898,
          899,
          900,
          901,
          902,
          903,
          904,
          905,
          906,
          907,
          908,
          909,
          910,
          911,
          912,
          913,
          914,
          915,
          916,
          917,
          918,
          919,
          920,
          921,
          922,
          923,
          924,
          925,
          926,
          927,
          928,
          929,
          930,
          931,
          932,
          933,
          934,
          935,
          936,
          937,
          938,
          939,
          940,
          941,
          942,
          943,
          944,
          945,
          946,
          947,
          948,
          949,
          950,
          951,
          952,
          953,
          954,
          955,
          956,
          957,
          958,
          959,
          960,
          961,
          962,
          963,
          964,
          965,
          966,
          967,
          968,
          969,
          970,
          971,
          972,
          973,
          974,
          975,
          976,
          977,
          978,
          979,
          980,
          981,
          982,
          983,
          984,
          985,
          986,
          987,
          988,
          989,
          990,
          991,
          992,
          993,
          994,
          995,
          996,
          997,
          998,
          999,
          1000
         ],
         "y": {
          "bdata": "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",
          "dtype": "f8"
         }
        }
       ],
       "layout": {
        "template": {
         "data": {
          "bar": [
           {
            "error_x": {
             "color": "#2a3f5f"
            },
            "error_y": {
             "color": "#2a3f5f"
            },
            "marker": {
             "line": {
              "color": "#E5ECF6",
              "width": 0.5
             },
             "pattern": {
              "fillmode": "overlay",
              "size": 10,
              "solidity": 0.2
             }
            },
            "type": "bar"
           }
          ],
          "barpolar": [
           {
            "marker": {
             "line": {
              "color": "#E5ECF6",
              "width": 0.5
             },
             "pattern": {
              "fillmode": "overlay",
              "size": 10,
              "solidity": 0.2
             }
            },
            "type": "barpolar"
           }
          ],
          "carpet": [
           {
            "aaxis": {
             "endlinecolor": "#2a3f5f",
             "gridcolor": "white",
             "linecolor": "white",
             "minorgridcolor": "white",
             "startlinecolor": "#2a3f5f"
            },
            "baxis": {
             "endlinecolor": "#2a3f5f",
             "gridcolor": "white",
             "linecolor": "white",
             "minorgridcolor": "white",
             "startlinecolor": "#2a3f5f"
            },
            "type": "carpet"
           }
          ],
          "choropleth": [
           {
            "colorbar": {
             "outlinewidth": 0,
             "ticks": ""
            },
            "type": "choropleth"
           }
          ],
          "contour": [
           {
            "colorbar": {
             "outlinewidth": 0,
             "ticks": ""
            },
            "colorscale": [
             [
              0,
              "#0d0887"
             ],
             [
              0.1111111111111111,
              "#46039f"
             ],
             [
              0.2222222222222222,
              "#7201a8"
             ],
             [
              0.3333333333333333,
              "#9c179e"
             ],
             [
              0.4444444444444444,
              "#bd3786"
             ],
             [
              0.5555555555555556,
              "#d8576b"
             ],
             [
              0.6666666666666666,
              "#ed7953"
             ],
             [
              0.7777777777777778,
              "#fb9f3a"
             ],
             [
              0.8888888888888888,
              "#fdca26"
             ],
             [
              1,
              "#f0f921"
             ]
            ],
            "type": "contour"
           }
          ],
          "contourcarpet": [
           {
            "colorbar": {
             "outlinewidth": 0,
             "ticks": ""
            },
            "type": "contourcarpet"
           }
          ],
          "heatmap": [
           {
            "colorbar": {
             "outlinewidth": 0,
             "ticks": ""
            },
            "colorscale": [
             [
              0,
              "#0d0887"
             ],
             [
              0.1111111111111111,
              "#46039f"
             ],
             [
              0.2222222222222222,
              "#7201a8"
             ],
             [
              0.3333333333333333,
              "#9c179e"
             ],
             [
              0.4444444444444444,
              "#bd3786"
             ],
             [
              0.5555555555555556,
              "#d8576b"
             ],
             [
              0.6666666666666666,
              "#ed7953"
             ],
             [
              0.7777777777777778,
              "#fb9f3a"
             ],
             [
              0.8888888888888888,
              "#fdca26"
             ],
             [
              1,
              "#f0f921"
             ]
            ],
            "type": "heatmap"
           }
          ],
          "histogram": [
           {
            "marker": {
             "pattern": {
              "fillmode": "overlay",
              "size": 10,
              "solidity": 0.2
             }
            },
            "type": "histogram"
           }
          ],
          "histogram2d": [
           {
            "colorbar": {
             "outlinewidth": 0,
             "ticks": ""
            },
            "colorscale": [
             [
              0,
              "#0d0887"
             ],
             [
              0.1111111111111111,
              "#46039f"
             ],
             [
              0.2222222222222222,
              "#7201a8"
             ],
             [
              0.3333333333333333,
              "#9c179e"
             ],
             [
              0.4444444444444444,
              "#bd3786"
             ],
             [
              0.5555555555555556,
              "#d8576b"
             ],
             [
              0.6666666666666666,
              "#ed7953"
             ],
             [
              0.7777777777777778,
              "#fb9f3a"
             ],
             [
              0.8888888888888888,
              "#fdca26"
             ],
             [
              1,
              "#f0f921"
             ]
            ],
            "type": "histogram2d"
           }
          ],
          "histogram2dcontour": [
           {
            "colorbar": {
             "outlinewidth": 0,
             "ticks": ""
            },
            "colorscale": [
             [
              0,
              "#0d0887"
             ],
             [
              0.1111111111111111,
              "#46039f"
             ],
             [
              0.2222222222222222,
              "#7201a8"
             ],
             [
              0.3333333333333333,
              "#9c179e"
             ],
             [
              0.4444444444444444,
              "#bd3786"
             ],
             [
              0.5555555555555556,
              "#d8576b"
             ],
             [
              0.6666666666666666,
              "#ed7953"
             ],
             [
              0.7777777777777778,
              "#fb9f3a"
             ],
             [
              0.8888888888888888,
              "#fdca26"
             ],
             [
              1,
              "#f0f921"
             ]
            ],
            "type": "histogram2dcontour"
           }
          ],
          "mesh3d": [
           {
            "colorbar": {
             "outlinewidth": 0,
             "ticks": ""
            },
            "type": "mesh3d"
           }
          ],
          "parcoords": [
           {
            "line": {
             "colorbar": {
              "outlinewidth": 0,
              "ticks": ""
             }
            },
            "type": "parcoords"
           }
          ],
          "pie": [
           {
            "automargin": true,
            "type": "pie"
           }
          ],
          "scatter": [
           {
            "fillpattern": {
             "fillmode": "overlay",
             "size": 10,
             "solidity": 0.2
            },
            "type": "scatter"
           }
          ],
          "scatter3d": [
           {
            "line": {
             "colorbar": {
              "outlinewidth": 0,
              "ticks": ""
             }
            },
            "marker": {
             "colorbar": {
              "outlinewidth": 0,
              "ticks": ""
             }
            },
            "type": "scatter3d"
           }
          ],
          "scattercarpet": [
           {
            "marker": {
             "colorbar": {
              "outlinewidth": 0,
              "ticks": ""
             }
            },
            "type": "scattercarpet"
           }
          ],
          "scattergeo": [
           {
            "marker": {
             "colorbar": {
              "outlinewidth": 0,
              "ticks": ""
             }
            },
            "type": "scattergeo"
           }
          ],
          "scattergl": [
           {
            "marker": {
             "colorbar": {
              "outlinewidth": 0,
              "ticks": ""
             }
            },
            "type": "scattergl"
           }
          ],
          "scattermap": [
           {
            "marker": {
             "colorbar": {
              "outlinewidth": 0,
              "ticks": ""
             }
            },
            "type": "scattermap"
           }
          ],
          "scattermapbox": [
           {
            "marker": {
             "colorbar": {
              "outlinewidth": 0,
              "ticks": ""
             }
            },
            "type": "scattermapbox"
           }
          ],
          "scatterpolar": [
           {
            "marker": {
             "colorbar": {
              "outlinewidth": 0,
              "ticks": ""
             }
            },
            "type": "scatterpolar"
           }
          ],
          "scatterpolargl": [
           {
            "marker": {
             "colorbar": {
              "outlinewidth": 0,
              "ticks": ""
             }
            },
            "type": "scatterpolargl"
           }
          ],
          "scatterternary": [
           {
            "marker": {
             "colorbar": {
              "outlinewidth": 0,
              "ticks": ""
             }
            },
            "type": "scatterternary"
           }
          ],
          "surface": [
           {
            "colorbar": {
             "outlinewidth": 0,
             "ticks": ""
            },
            "colorscale": [
             [
              0,
              "#0d0887"
             ],
             [
              0.1111111111111111,
              "#46039f"
             ],
             [
              0.2222222222222222,
              "#7201a8"
             ],
             [
              0.3333333333333333,
              "#9c179e"
             ],
             [
              0.4444444444444444,
              "#bd3786"
             ],
             [
              0.5555555555555556,
              "#d8576b"
             ],
             [
              0.6666666666666666,
              "#ed7953"
             ],
             [
              0.7777777777777778,
              "#fb9f3a"
             ],
             [
              0.8888888888888888,
              "#fdca26"
             ],
             [
              1,
              "#f0f921"
             ]
            ],
            "type": "surface"
           }
          ],
          "table": [
           {
            "cells": {
             "fill": {
              "color": "#EBF0F8"
             },
             "line": {
              "color": "white"
             }
            },
            "header": {
             "fill": {
              "color": "#C8D4E3"
             },
             "line": {
              "color": "white"
             }
            },
            "type": "table"
           }
          ]
         },
         "layout": {
          "annotationdefaults": {
           "arrowcolor": "#2a3f5f",
           "arrowhead": 0,
           "arrowwidth": 1
          },
          "autotypenumbers": "strict",
          "coloraxis": {
           "colorbar": {
            "outlinewidth": 0,
            "ticks": ""
           }
          },
          "colorscale": {
           "diverging": [
            [
             0,
             "#8e0152"
            ],
            [
             0.1,
             "#c51b7d"
            ],
            [
             0.2,
             "#de77ae"
            ],
            [
             0.3,
             "#f1b6da"
            ],
            [
             0.4,
             "#fde0ef"
            ],
            [
             0.5,
             "#f7f7f7"
            ],
            [
             0.6,
             "#e6f5d0"
            ],
            [
             0.7,
             "#b8e186"
            ],
            [
             0.8,
             "#7fbc41"
            ],
            [
             0.9,
             "#4d9221"
            ],
            [
             1,
             "#276419"
            ]
           ],
           "sequential": [
            [
             0,
             "#0d0887"
            ],
            [
             0.1111111111111111,
             "#46039f"
            ],
            [
             0.2222222222222222,
             "#7201a8"
            ],
            [
             0.3333333333333333,
             "#9c179e"
            ],
            [
             0.4444444444444444,
             "#bd3786"
            ],
            [
             0.5555555555555556,
             "#d8576b"
            ],
            [
             0.6666666666666666,
             "#ed7953"
            ],
            [
             0.7777777777777778,
             "#fb9f3a"
            ],
            [
             0.8888888888888888,
             "#fdca26"
            ],
            [
             1,
             "#f0f921"
            ]
           ],
           "sequentialminus": [
            [
             0,
             "#0d0887"
            ],
            [
             0.1111111111111111,
             "#46039f"
            ],
            [
             0.2222222222222222,
             "#7201a8"
            ],
            [
             0.3333333333333333,
             "#9c179e"
            ],
            [
             0.4444444444444444,
             "#bd3786"
            ],
            [
             0.5555555555555556,
             "#d8576b"
            ],
            [
             0.6666666666666666,
             "#ed7953"
            ],
            [
             0.7777777777777778,
             "#fb9f3a"
            ],
            [
             0.8888888888888888,
             "#fdca26"
            ],
            [
             1,
             "#f0f921"
            ]
           ]
          },
          "colorway": [
           "#636efa",
           "#EF553B",
           "#00cc96",
           "#ab63fa",
           "#FFA15A",
           "#19d3f3",
           "#FF6692",
           "#B6E880",
           "#FF97FF",
           "#FECB52"
          ],
          "font": {
           "color": "#2a3f5f"
          },
          "geo": {
           "bgcolor": "white",
           "lakecolor": "white",
           "landcolor": "#E5ECF6",
           "showlakes": true,
           "showland": true,
           "subunitcolor": "white"
          },
          "hoverlabel": {
           "align": "left"
          },
          "hovermode": "closest",
          "mapbox": {
           "style": "light"
          },
          "paper_bgcolor": "white",
          "plot_bgcolor": "#E5ECF6",
          "polar": {
           "angularaxis": {
            "gridcolor": "white",
            "linecolor": "white",
            "ticks": ""
           },
           "bgcolor": "#E5ECF6",
           "radialaxis": {
            "gridcolor": "white",
            "linecolor": "white",
            "ticks": ""
           }
          },
          "scene": {
           "xaxis": {
            "backgroundcolor": "#E5ECF6",
            "gridcolor": "white",
            "gridwidth": 2,
            "linecolor": "white",
            "showbackground": true,
            "ticks": "",
            "zerolinecolor": "white"
           },
           "yaxis": {
            "backgroundcolor": "#E5ECF6",
            "gridcolor": "white",
            "gridwidth": 2,
            "linecolor": "white",
            "showbackground": true,
            "ticks": "",
            "zerolinecolor": "white"
           },
           "zaxis": {
            "backgroundcolor": "#E5ECF6",
            "gridcolor": "white",
            "gridwidth": 2,
            "linecolor": "white",
            "showbackground": true,
            "ticks": "",
            "zerolinecolor": "white"
           }
          },
          "shapedefaults": {
           "line": {
            "color": "#2a3f5f"
           }
          },
          "ternary": {
           "aaxis": {
            "gridcolor": "white",
            "linecolor": "white",
            "ticks": ""
           },
           "baxis": {
            "gridcolor": "white",
            "linecolor": "white",
            "ticks": ""
           },
           "bgcolor": "#E5ECF6",
           "caxis": {
            "gridcolor": "white",
            "linecolor": "white",
            "ticks": ""
           }
          },
          "title": {
           "x": 0.05
          },
          "xaxis": {
           "automargin": true,
           "gridcolor": "white",
           "linecolor": "white",
           "ticks": "",
           "title": {
            "standoff": 15
           },
           "zerolinecolor": "white",
           "zerolinewidth": 2
          },
          "yaxis": {
           "automargin": true,
           "gridcolor": "white",
           "linecolor": "white",
           "ticks": "",
           "title": {
            "standoff": 15
           },
           "zerolinecolor": "white",
           "zerolinewidth": 2
          }
         }
        },
        "title": {
         "text": "Radius of gyration"
        },
        "xaxis": {
         "title": {
          "text": "Frames "
         }
        },
        "yaxis": {
         "title": {
          "text": "RGYR (nm)"
         }
        }
       }
      },
      "image/png": "[encoded data removed]"
     },
     "metadata": {},
     "output_type": "display_data"
    }
   ],
   "source": [
    "# Set the plot\n",
    "frames = list(range(len(rgyr_values)))\n",
    "fig = go.Figure({\n",
    "    \"data\": [ go.Scatter(x = frames, y = rgyr_values) ],\n",
    "    \"layout\": go.Layout(\n",
    "        title = 'Radius of gyration',\n",
    "        xaxis = {'title': 'Frames '},\n",
    "        yaxis = {'title': 'RGYR (nm)'}\n",
    "    )\n",
    "})\n",
    "fig.show()"
   ]
  },
  {
   "cell_type": "markdown",
   "metadata": {},
   "source": [
    "# If you have any question, please do not hesitate to ask\n",
    "\n",
    "Contact: daniel.beltran@irbbarcelona.org"
   ]
  },
  {
   "cell_type": "code",
   "execution_count": null,
   "metadata": {},
   "outputs": [],
   "source": []
  }
 ],
 "metadata": {
  "kernelspec": {
   "display_name": "Python 3 (ipykernel)",
   "language": "python",
   "name": "python3"
  },
  "language_info": {
   "codemirror_mode": {
    "name": "ipython",
    "version": 3
   },
   "file_extension": ".py",
   "mimetype": "text/x-python",
   "name": "python",
   "nbconvert_exporter": "python",
   "pygments_lexer": "ipython3",
   "version": "3.12.10"
  }
 },
 "nbformat": 4,
 "nbformat_minor": 4
}
