{
 "cells": [
  {
   "cell_type": "markdown",
   "id": "colored-freedom",
   "metadata": {},
   "source": [
    "# ACE2-RBD interaction analysis for different mutations\n",
    "\n",
    "In this example we intend to analyze the interaction between ***human angiotensin converting enzyme 2 (ACE2)*** and the ***SARS-CoV-2 spike RBD domain***.\n",
    "We want to compare, for the N501Y mutation, how ***electrostatic energies, Van der Waals energies and hydrogen bonds*** change on this residue and its surrounding residues.\n",
    "\n",
    "For this test we will use RBD-ACE2 **atomistic MD trajectories** already loaded in the **[MDDB](https://irb.mddbr.eu) database**. Specifically, we will use a group of simulations from Mary Hongying Cheng including different varaints of the virus.\n",
    "\n",
    "This workflow is based on the MDDB database REST API: https://irb.mddbr.eu/api/rest/docs/\n",
    "\n",
    "***\n",
    "**Version:** 1.0 (May 2025)\n",
    "***\n",
    "**Contributors:**  Adam Hospital, Daniel Beltrán, Aurélien Luciani, Genís Bayarri, Josep Lluís Gelpí, Modesto Orozco (IRB-Barcelona, Spain)\n",
    "***\n",
    "**Contact:** [daniel.beltran@irbbarcelona.org](mailto:daniel.beltran@irbbarcelona.org)\n",
    "***"
   ]
  },
  {
   "cell_type": "code",
   "execution_count": 1,
   "id": "friendly-concept",
   "metadata": {},
   "outputs": [
    {
     "data": {
      "text/html": [
       "        <script type=\"text/javascript\">\n",
       "        window.PlotlyConfig = {MathJaxConfig: 'local'};\n",
       "        if (window.MathJax && window.MathJax.Hub && window.MathJax.Hub.Config) {window.MathJax.Hub.Config({SVG: {font: \"STIX-Web\"}});}\n",
       "        </script>\n",
       "        <script type=\"module\">import \"https://cdn.plot.ly/plotly-3.0.1.min\"</script>\n",
       "        "
      ]
     },
     "metadata": {},
     "output_type": "display_data"
    }
   ],
   "source": [
    "import urllib.request\n",
    "import json\n",
    "\n",
    "from numpy import mean\n",
    "\n",
    "import plotly\n",
    "import plotly.graph_objs as go\n",
    "plotly.offline.init_notebook_mode(connected=True)\n",
    "\n",
    "# Set a dict to change residue 3 letters code to residue 1 letter code:\n",
    "residue_letters = {\n",
    "    'PRO' : 'P',\n",
    "    'HIS' : 'H',\n",
    "    'ARG' : 'R',\n",
    "    'LYS' : 'K',\n",
    "    'ILE' : 'I',\n",
    "    'PHE' : 'F',\n",
    "    'LEU' : 'L',\n",
    "    'TRP' : 'W',\n",
    "    'ALA' : 'A',\n",
    "    'MET' : 'M',\n",
    "    'CYS' : 'C',\n",
    "    'ASN' : 'N',\n",
    "    'VAL' : 'V',\n",
    "    'GLY' : 'G',\n",
    "    'SER' : 'S',\n",
    "    'GLN' : 'Q',\n",
    "    'TYR' : 'Y',\n",
    "    'ASP' : 'D',\n",
    "    'GLU' : 'E',\n",
    "    'THR' : 'T',\n",
    "    'CYX' : 'C',\n",
    "    'HIE' : 'H',\n",
    "    'HSD' : 'H',\n",
    "}"
   ]
  },
  {
   "cell_type": "markdown",
   "id": "intellectual-shock",
   "metadata": {},
   "source": [
    "Request the desired simulation projects through the API"
   ]
  },
  {
   "cell_type": "code",
   "execution_count": 2,
   "id": "empirical-bonus",
   "metadata": {},
   "outputs": [],
   "source": [
    "# Set the URL to the MDDB REST API\n",
    "api_url = 'https://irb.mddbr.eu/api/rest/v1/'\n",
    "\n",
    "# Get a list with all simulations including the 'egfr' word in their names\n",
    "simulations_request = api_url + 'projects?query={\"metadata.AUTHORS\":\"Mary%20Hongying%20Cheng\"}&limit=15'\n",
    "with urllib.request.urlopen(simulations_request) as response:\n",
    "    parsed_response = json.loads(response.read().decode(\"utf-8\"))\n",
    "\n",
    "available_simulations = parsed_response['projects']"
   ]
  },
  {
   "cell_type": "markdown",
   "id": "returning-optics",
   "metadata": {},
   "source": [
    "Set a function to get reference residues from residue indices"
   ]
  },
  {
   "cell_type": "markdown",
   "id": "devoted-flashing",
   "metadata": {},
   "source": [
    "We are going to focus in residue 501 and its surrounding residues. Use the project map to find these residues."
   ]
  },
  {
   "cell_type": "code",
   "execution_count": 3,
   "id": "peaceful-cooking",
   "metadata": {
    "scrolled": true
   },
   "outputs": [
    {
     "name": "stdout",
     "output_type": "stream",
     "text": [
      "MCV1900410 -> GVEGFNCYFPLQSYGFQPT(N)GVGYQPYRVV\n",
      "MCV1900413 -> GVEGFNCYFPLQSYGFQPT(Y)GVGYQPYRVV\n",
      "MCV1900416 -> GVKGFNCYFPLQSYGFQPT(Y)GVGYQPYRVV\n",
      "MCV1900419 -> GVEGFNCYFPLQSYGFQPT(N)GVGYQPYRVV\n",
      "MCV1900422 -> GVKGFNCYFPLQSYGFQPT(Y)GVGYQPYRVV\n"
     ]
    }
   ],
   "source": [
    "# DANI: Para consultar la topología hay que usar la API en \"dev\" de momento\n",
    "dev_api_url = 'https://irb.mddbr.eu/api/rest/v1/'\n",
    "\n",
    "# Set the residue numbers we are interested in. Use reference numeration\n",
    "# In this example we are selecting residues close to residue 501\n",
    "# The range was better fit after experimentaly observing which residues were relevant in this workflow\n",
    "target_residues = list(range(482, 512))\n",
    "reference_residue_index = target_residues.index(501)\n",
    "target_reference = 'P0DTC2' # SARS-CoV-2 spike\n",
    "\n",
    "# Mine each target sequence\n",
    "# Use simulation accesion id as keys\n",
    "target_sequences = {}\n",
    "\n",
    "for simulation in available_simulations:\n",
    "    # Get the simulation id and use it to request the simulation topology\n",
    "    simulation_id = simulation['identifier']\n",
    "    topology_request = dev_api_url + 'projects/' + simulation_id + '/topology'\n",
    "    with urllib.request.urlopen(topology_request) as response:\n",
    "        parsed_response = json.loads(response.read().decode(\"utf-8\"))\n",
    "    topology = parsed_response\n",
    "    # Get the residue reference data in the topology\n",
    "    references = topology['references']\n",
    "    residue_reference_indices = topology['residue_reference_indices']\n",
    "    residue_reference_numbers = topology['residue_reference_numbers']\n",
    "    target_reference_index = references.index(target_reference)\n",
    "    # Set a dictionary to easily relate residue reference numbers to residue indices for the target reference\n",
    "    reference_indices = {}\n",
    "    for i, residue_reference_number in enumerate(residue_reference_numbers):\n",
    "        residue_reference_index = residue_reference_indices[i]\n",
    "        if residue_reference_index != target_reference_index:\n",
    "                continue\n",
    "        reference_indices[residue_reference_number] = i\n",
    "    # Now get the residue indices for each target residue\n",
    "    target_residue_indices = [ reference_indices.get(target_residue, None) for target_residue in target_residues ]\n",
    "    # Use these indices to get the actual aminoacids sequence\n",
    "    residue_names = topology['residue_names']\n",
    "    target_residue_names = [ residue_names[residue_index] for residue_index in target_residue_indices ]\n",
    "    target_residue_letters = [ residue_letters[residue_name] for residue_name in target_residue_names ]\n",
    "    sequence = ''.join(target_residue_letters)\n",
    "    # Save some results in the project itself\n",
    "    simulation['topology'] = topology\n",
    "    simulation['target_residue_indices'] = target_residue_indices\n",
    "    simulation['sequence'] = sequence\n",
    "    # Display the sequence highlighting resiude 501 with parenthesis\n",
    "    print(simulation['accession'] + ' -> '  + sequence[0:reference_residue_index] + '(' + sequence[reference_residue_index] + ')' + sequence[reference_residue_index+1:])"
   ]
  },
  {
   "cell_type": "markdown",
   "id": "protecting-bubble",
   "metadata": {},
   "source": [
    "As it can be observed in the previous logs, we have 6 simulations with the wild type residue (N) and 9 simulations with the mutation (Y) and the surrounding residues are equal in all 15 simulations.\n",
    "\n",
    "Now we create two lists with the accessions of the 'N' and 'Y' simulations."
   ]
  },
  {
   "cell_type": "code",
   "execution_count": 4,
   "id": "outstanding-success",
   "metadata": {},
   "outputs": [],
   "source": [
    "N501_simulations = []\n",
    "Y501_simulations = []\n",
    "for simulation in available_simulations:\n",
    "    sequence = simulation['sequence']\n",
    "    residue_501 = sequence[reference_residue_index]\n",
    "    N501_simulations.append(simulation) if residue_501 == 'N' else Y501_simulations.append(simulation)"
   ]
  },
  {
   "cell_type": "markdown",
   "id": "bored-worry",
   "metadata": {},
   "source": [
    "Set the API requests for project energies analysis data and interactions data"
   ]
  },
  {
   "cell_type": "code",
   "execution_count": 5,
   "id": "permanent-daily",
   "metadata": {},
   "outputs": [],
   "source": [
    "# Set a function to get the specific data energies we are interesed in\n",
    "def get_energies_data (accession_or_id : str) -> dict:\n",
    "\n",
    "    # Request the analysis\n",
    "    analysis_request = api_url + 'projects/' + accession_or_id + '/analyses/energies'\n",
    "    with urllib.request.urlopen(analysis_request) as response:\n",
    "        parsed_response = json.loads(response.read().decode(\"utf-8\"))\n",
    "    analysis_data = parsed_response['data']\n",
    "\n",
    "    # Get the indices of the target residues in the interaction list of residues\n",
    "    # NOTE: Here we access the data using a known pattern:\n",
    "    #   - ACE2-RBD interaction is the first (and usually the only) interaction in all ACE2-RBD simulations\n",
    "    #   - RBD is always the second interacting agent in the interaction\n",
    "    # However, if we did not know this, we could find the interaction and interacting agent as well\n",
    "    # We would have to search for our target residue indices on each interaction and agent from interactions data\n",
    "    interaction_data = analysis_data[0]\n",
    "    rbd_data = interaction_data['agent2']\n",
    "\n",
    "    # For this example, we are going to focus in the overall sum of energies\n",
    "    energies_data = rbd_data['both']\n",
    "    \n",
    "    return energies_data\n",
    "\n",
    "# Set a function to get interaction residue indices from a specific simulation\n",
    "def get_interaction_residue_indices (accession_or_id : str) -> list:\n",
    "    \n",
    "    # Use the simulation id to request the simulation interactions data\n",
    "    interactions_request = dev_api_url + 'projects/' + accession_or_id + '/analyses/interactions'\n",
    "    with urllib.request.urlopen(interactions_request) as response:\n",
    "        parsed_response = json.loads(response.read().decode(\"utf-8\"))\n",
    "    interactions = parsed_response\n",
    "    \n",
    "    # Get the indices of the target residues in the interaction list of residues\n",
    "    # NOTE: Here we access the data using a known pattern:\n",
    "    #   - ACE2-RBD interaction is the first (and usually the only) interaction in all ACE2-RBD simulations\n",
    "    #   - RBD is always the second interacting agent in the interaction\n",
    "    # However, if we did not know this, we could find the interaction and interacting agent as well\n",
    "    # We would have to search for our target residue indices on each interaction and agent\n",
    "    interaction = interactions[0]\n",
    "    \n",
    "    # We are interested in the RBD reisude indices\n",
    "    return interaction['residue_indices_2']"
   ]
  },
  {
   "cell_type": "markdown",
   "id": "rental-brunswick",
   "metadata": {},
   "source": [
    "Get the energies per residue and prepare a graph for each residue 501 variant"
   ]
  },
  {
   "cell_type": "code",
   "execution_count": 6,
   "id": "general-speed",
   "metadata": {},
   "outputs": [
    {
     "data": {
      "application/vnd.plotly.v1+json": {
       "config": {
        "plotlyServerURL": "https://plot.ly"
       },
       "data": [
        {
         "name": "MCV1900410",
         "type": "scatter",
         "x": [
          333,
          334,
          335,
          336,
          337,
          338,
          339,
          340,
          341,
          342,
          343,
          344,
          345,
          346,
          347,
          348,
          349,
          350,
          351,
          352,
          353,
          354,
          355,
          356,
          357,
          358,
          359,
          360,
          361,
          362,
          363,
          364,
          365,
          366,
          367,
          368,
          369,
          370,
          371,
          372,
          373,
          374,
          375,
          376,
          377,
          378,
          379,
          380,
          381,
          382,
          383,
          384,
          385,
          386,
          387,
          388,
          389,
          390,
          391,
          392,
          393,
          394,
          395,
          396,
          397,
          398,
          399,
          400,
          401,
          402,
          403,
          404,
          405,
          406,
          407,
          408,
          409,
          410,
          411,
          412,
          413,
          414,
          415,
          416,
          417,
          418,
          419,
          420,
          421,
          422,
          423,
          424,
          425,
          426,
          427,
          428,
          429,
          430,
          431,
          432,
          433,
          434,
          435,
          436,
          437,
          438,
          439,
          440,
          441,
          442,
          443,
          444,
          445,
          446,
          447,
          448,
          449,
          450,
          451,
          452,
          453,
          454,
          455,
          456,
          457,
          458,
          459,
          460,
          461,
          462,
          463,
          464,
          465,
          466,
          467,
          468,
          469,
          470,
          471,
          472,
          473,
          474,
          475,
          476,
          477,
          478,
          479,
          480,
          481,
          482,
          483,
          484,
          485,
          486,
          487,
          488,
          489,
          490,
          491,
          492,
          493,
          494,
          495,
          496,
          497,
          498,
          499,
          500,
          501,
          502,
          503,
          504,
          505,
          506,
          507,
          508,
          509,
          510,
          511,
          512,
          513,
          514,
          515,
          516,
          517,
          518,
          519,
          520,
          521,
          522,
          523,
          524,
          525,
          526,
          527
         ],
         "y": [
          0.18490000000000004,
          0,
          -0.03919423076923077,
          -0.03726153846153846,
          0.13477096153846155,
          0.049474999999999984,
          0.10184653846153849,
          0.8687826923076921,
          0.05570384615384616,
          0.01056923076923079,
          0.0636711538461539,
          0.0043692307692307555,
          0.03983461538461538,
          -2.1132192307692312,
          0.006130769230769209,
          0.021424999999999972,
          -0.008330769230769244,
          -0.029321153846153806,
          -0.01627884615384613,
          -0.016301923076923068,
          -0.0352240384615385,
          -0.006028846153846171,
          -1.7667903846153836,
          -1.1759396153846153,
          -0.00033653846153847464,
          -0.025640384615384596,
          0.18490000000000004,
          0,
          0,
          0.01448846153846154,
          -0.035198076923076915,
          1.0512576923076922,
          0.18372115384615384,
          0.14372346153846152,
          0.07111923076923075,
          0.025455769230769216,
          0.024692307692307656,
          0.02193076923076924,
          0.016113269230769254,
          0.015403846153846153,
          0.013613653846153834,
          0.00039038461538464073,
          -0.004240384615384665,
          -0.0016384615384615801,
          0.008680769230769185,
          -2.386075,
          0.013003846153846133,
          -0.015594230769230753,
          -0.00991807692307692,
          0.022659615384615386,
          0.020420384615384604,
          -0.008719423076923083,
          0.00823076923076921,
          -1.1434144230769236,
          -0.002188461538461544,
          0.06922115384615385,
          0.08212307692307694,
          -0.06134230769230768,
          0.004507692307692308,
          -0.0734673076923077,
          0.18490000000000004,
          0.03199807692307692,
          -0.28260576923076913,
          0.12210576923076921,
          0.008890384615384644,
          2.0034134615384613,
          -0.006734615384615386,
          -0.011184615384615378,
          0.0002692307692307652,
          -0.022113461538461558,
          -3.46051923076923,
          -0.020490769230769222,
          2.9505423076923067,
          2.9284269230769238,
          -0.01584615384615386,
          -2.7800769230769236,
          -0.026628846153846142,
          -0.006903846153846123,
          0.012394230769230767,
          0.022243076923076942,
          0.017158461538461543,
          0.00710384615384617,
          0.01074999999999997,
          -0.04106750000000001,
          -5.131453846153847,
          -0.02688653846153847,
          -0.030844230769230742,
          2.719571153846153,
          -0.029746779346153853,
          -0.04794807692307695,
          0.023373076923076906,
          -2.531011538461539,
          0.021867307692307682,
          0.017326346153846154,
          2.4090596153846153,
          2.1365653846153845,
          0.0021788461538461553,
          0.001240384615384607,
          0.007427307692307699,
          -0.009571153846153849,
          -0.00643076923076924,
          0.006978846153846145,
          -0.010842307692307672,
          -0.003243461538461492,
          -0.02607115384615383,
          -0.013844230769230735,
          -0.016705769230769305,
          0.005136538461538468,
          0.0017153846153845974,
          2.358734615384615,
          -0.026192307692307664,
          -2.375819230769231,
          -0.03486538461538462,
          -0.05124115384615386,
          -0.043069038461538436,
          0.013353846153846187,
          -0.35728169734615395,
          -0.009134615384615343,
          0.01181923076923083,
          -0.01821923076923076,
          -0.4514089096153846,
          -2.4130769230769236,
          -1.2544334230769227,
          -2.0358132115384615,
          -2.382415384615384,
          -2.909711538461539,
          -0.018071153846153844,
          0.003873076923076881,
          0.02085769230769237,
          -2.2713128846153845,
          -0.020421538461538487,
          -0.020567307692307725,
          2.100490384615384,
          -1.999586538461539,
          2.3303692307692305,
          0.00842884615384611,
          0.03708076923076926,
          0.0009923076923077112,
          2.207901923076923,
          -0.0100826923076923,
          -0.4864919423076924,
          -0.023653846153846088,
          -1.3676461538461535,
          -1.100574423076923,
          -0.38160000000000005,
          -0.14208461538461542,
          0.032571534930769246,
          -0.013899999999999985,
          -0.01545192307692304,
          -0.011517500000000014,
          -0.0006442307692307025,
          2.3276865384615393,
          -0.07192564038461535,
          -2.734578857692308,
          -2.0112526923076923,
          -0.021951923076923112,
          -2.6541450317307684,
          -0.12554915869230773,
          0.01359256150384616,
          -0.046382692307692326,
          -1.804425769230769,
          0.012492307692307764,
          -0.05409657421730766,
          -0.15686961538461533,
          -0.026147448884615378,
          -0.937746153846154,
          -0.03246268683653843,
          -1.9052096153846159,
          -3.0043250000000006,
          -0.38912625,
          -0.029761538461538485,
          -0.02808769230769226,
          -2.062202807692308,
          -0.047611538461538525,
          -0.0022484972692307518,
          0.014313461538461563,
          -2.222196153846154,
          -0.007759615384615401,
          0.013488461538461496,
          -0.011782692307692329,
          0.03239807692307687,
          -0.0892475,
          0.17651153846153844,
          0.21459423076923068,
          -0.01866346153846154,
          -0.0058615384615384606,
          0,
          0,
          0,
          0,
          0.18490000000000004,
          -0.0030634615384615383,
          0,
          -0.0029826923076923073,
          0.014305769230769231
         ]
        },
        {
         "name": "MCV1900419",
         "type": "scatter",
         "x": [
          333,
          334,
          335,
          336,
          337,
          338,
          339,
          340,
          341,
          342,
          343,
          344,
          345,
          346,
          347,
          348,
          349,
          350,
          351,
          352,
          353,
          354,
          355,
          356,
          357,
          358,
          359,
          360,
          361,
          362,
          363,
          364,
          365,
          366,
          367,
          368,
          369,
          370,
          371,
          372,
          373,
          374,
          375,
          376,
          377,
          378,
          379,
          380,
          381,
          382,
          383,
          384,
          385,
          386,
          387,
          388,
          389,
          390,
          391,
          392,
          393,
          394,
          395,
          396,
          397,
          398,
          399,
          400,
          401,
          402,
          403,
          404,
          405,
          406,
          407,
          408,
          409,
          410,
          411,
          412,
          413,
          414,
          415,
          416,
          417,
          418,
          419,
          420,
          421,
          422,
          423,
          424,
          425,
          426,
          427,
          428,
          429,
          430,
          431,
          432,
          433,
          434,
          435,
          436,
          437,
          438,
          439,
          440,
          441,
          442,
          443,
          444,
          445,
          446,
          447,
          448,
          449,
          450,
          451,
          452,
          453,
          454,
          455,
          456,
          457,
          458,
          459,
          460,
          461,
          462,
          463,
          464,
          465,
          466,
          467,
          468,
          469,
          470,
          471,
          472,
          473,
          474,
          475,
          476,
          477,
          478,
          479,
          480,
          481,
          482,
          483,
          484,
          485,
          486,
          487,
          488,
          489,
          490,
          491,
          492,
          493,
          494,
          495,
          496,
          497,
          498,
          499,
          500,
          501,
          502,
          503,
          504,
          505,
          506,
          507,
          508,
          509,
          510,
          511,
          512,
          513,
          514,
          515,
          516,
          517,
          518,
          519,
          520,
          521,
          522,
          523,
          524,
          525,
          526,
          527
         ],
         "y": [
          0.18490000000000006,
          -0.0028358490566037734,
          -0.07174905660377359,
          0.0006924528301886742,
          0.13763150943396224,
          0.026152830188679244,
          0.08133018867924527,
          1.335418867924528,
          0.026405660377358506,
          0.023911320754717,
          0.02040754716981131,
          0.024328301886792462,
          0.024560377358490572,
          -2.2956245283018863,
          0.005162264150943431,
          0.0297188679245283,
          -0.009045283018867914,
          -0.036575471698113246,
          -0.019947169811320786,
          -0.017990566037735838,
          -0.04736603773584906,
          -0.019581132075471713,
          -1.911235849056603,
          -1.2396552830188678,
          -0.13396037735849053,
          -0.04597924528301887,
          0.17499622641509435,
          0,
          0.005045283018867924,
          0.05274716981132075,
          -0.12102830188679246,
          1.5202264150943399,
          0.26332641509433957,
          0.05365377358490568,
          0.026907547169811287,
          0.020992452830188725,
          0.022862264150943404,
          0.025533962264150906,
          0.01988018867924526,
          0.013154716981132056,
          0.020345283018867916,
          0.002164150943396214,
          -0.0034867924528301313,
          -0.002098113207547161,
          0.011599999999999996,
          -2.454805660377358,
          0.012198113207547144,
          -0.015579245283018848,
          -0.002391320754716993,
          0.02715471698113207,
          -0.015297924528301893,
          -0.023576792452830224,
          -0.003984905660377353,
          -1.6483454716981136,
          -0.025832075471698107,
          0.09567169811320753,
          0.047943396226415094,
          -0.05193584905660377,
          0,
          -0.0723622641509434,
          0.18490000000000006,
          0.014481132075471699,
          -0.22788867924528303,
          0.15050943396226413,
          -0.002977358490566051,
          2.078569811320754,
          -0.007773584905660401,
          -0.01161320754716978,
          -0.0016150943396226688,
          -0.022188679245283043,
          -3.743956603773585,
          -0.031082264150943374,
          3.2412264150943395,
          3.1238754716981125,
          -0.025303773584905678,
          -2.8790075471698118,
          -0.03375660377358487,
          -0.0065943396226415246,
          0.013354716981132046,
          0.03054698113207548,
          0.020867924528301926,
          -0.004586792452830157,
          0.01930000000000002,
          -0.04335603773584909,
          -4.560016981132075,
          -0.037230188679245324,
          -0.03466226415094339,
          2.703613207547169,
          -0.02762075471698119,
          -0.05035849056603773,
          0.02496037735849057,
          -2.543277358490567,
          0.017547169811320727,
          0.021627547169811343,
          2.3650773584905664,
          2.091343396226415,
          0.0019264150943396053,
          -9.999999999999946e-05,
          0.007016415094339624,
          -0.010654716981132059,
          -0.006971698113207567,
          0.005543396226415099,
          -0.01448301886792453,
          -0.0073043396226414835,
          -0.03924150943396229,
          -0.016658490566037704,
          -0.021828301886792436,
          0.013841509433962293,
          -0.001484905660377354,
          2.5366207547169806,
          -0.02072264150943401,
          -2.612556603773584,
          -0.04201320754716985,
          -0.07309435849056603,
          -0.07113830188679247,
          0.023128301886792445,
          -0.5148713330188679,
          -0.00947358490566034,
          0.025450943396226444,
          -2.521122641509434,
          -0.6485182886792453,
          -2.432571698113207,
          -1.5029635849056604,
          -1.9072442075471694,
          -2.3690433962264144,
          -2.7066018867924533,
          -0.015420754716981126,
          -0.004237735849056581,
          0.01632264150943397,
          -2.1843069811320754,
          -0.020443396226415105,
          -0.02378490566037737,
          2.1963547169811317,
          -2.060233962264151,
          2.325845283018868,
          0.010726415094339593,
          0.04528867924528299,
          0.00233018867924529,
          2.240160377358491,
          -0.01130566037735846,
          -0.29919356603773584,
          -0.011592452830188676,
          -1.455245283018868,
          -0.7878313018867924,
          -0.42342641509433965,
          -2.6113811320754716,
          0.030397358490566035,
          0.004250943396226424,
          -0.0034094339622641524,
          -0.012209811320754715,
          0.006275471698113179,
          2.487394339622641,
          -0.0267333962264151,
          -2.441308201886792,
          -1.9026452830188678,
          -0.018439622641509407,
          -2.4322316415094334,
          -0.12165620754716987,
          0.018459443207547194,
          -0.049107547169811326,
          -2.2208788679245273,
          -0.02911320754716982,
          -0.14637714096226415,
          -0.674921396226415,
          -0.08900027107547173,
          -1.5705264150943392,
          -0.05957475471698114,
          -3.421364150943396,
          -3.2915056603773576,
          -1.2183126415094339,
          -0.14182264150943394,
          -0.047493584905660385,
          -3.4397657584905663,
          -0.09061509433962267,
          0.0017486853396226198,
          0.02010943396226414,
          -2.370245283018869,
          -0.007394339622641487,
          0.015949056603773545,
          -0.011049056603773623,
          0.015030188679245287,
          -0.050738301886792445,
          0.1840603773584905,
          0.04068679245283019,
          -0.02782830188679245,
          0,
          0,
          0,
          0,
          0,
          0.18490000000000006,
          -0.01470188679245283,
          0.015952830188679247,
          -0.011900566037735849,
          -0.04064509433962265
         ]
        }
       ],
       "layout": {
        "shapes": [
         {
          "line": {
           "dash": "dash",
           "width": 1
          },
          "type": "line",
          "x0": 501,
          "x1": 501,
          "xref": "x",
          "y0": 3.2412264150943395,
          "y1": -5.131453846153847,
          "yref": "y"
         }
        ],
        "template": {
         "data": {
          "bar": [
           {
            "error_x": {
             "color": "#2a3f5f"
            },
            "error_y": {
             "color": "#2a3f5f"
            },
            "marker": {
             "line": {
              "color": "#E5ECF6",
              "width": 0.5
             },
             "pattern": {
              "fillmode": "overlay",
              "size": 10,
              "solidity": 0.2
             }
            },
            "type": "bar"
           }
          ],
          "barpolar": [
           {
            "marker": {
             "line": {
              "color": "#E5ECF6",
              "width": 0.5
             },
             "pattern": {
              "fillmode": "overlay",
              "size": 10,
              "solidity": 0.2
             }
            },
            "type": "barpolar"
           }
          ],
          "carpet": [
           {
            "aaxis": {
             "endlinecolor": "#2a3f5f",
             "gridcolor": "white",
             "linecolor": "white",
             "minorgridcolor": "white",
             "startlinecolor": "#2a3f5f"
            },
            "baxis": {
             "endlinecolor": "#2a3f5f",
             "gridcolor": "white",
             "linecolor": "white",
             "minorgridcolor": "white",
             "startlinecolor": "#2a3f5f"
            },
            "type": "carpet"
           }
          ],
          "choropleth": [
           {
            "colorbar": {
             "outlinewidth": 0,
             "ticks": ""
            },
            "type": "choropleth"
           }
          ],
          "contour": [
           {
            "colorbar": {
             "outlinewidth": 0,
             "ticks": ""
            },
            "colorscale": [
             [
              0,
              "#0d0887"
             ],
             [
              0.1111111111111111,
              "#46039f"
             ],
             [
              0.2222222222222222,
              "#7201a8"
             ],
             [
              0.3333333333333333,
              "#9c179e"
             ],
             [
              0.4444444444444444,
              "#bd3786"
             ],
             [
              0.5555555555555556,
              "#d8576b"
             ],
             [
              0.6666666666666666,
              "#ed7953"
             ],
             [
              0.7777777777777778,
              "#fb9f3a"
             ],
             [
              0.8888888888888888,
              "#fdca26"
             ],
             [
              1,
              "#f0f921"
             ]
            ],
            "type": "contour"
           }
          ],
          "contourcarpet": [
           {
            "colorbar": {
             "outlinewidth": 0,
             "ticks": ""
            },
            "type": "contourcarpet"
           }
          ],
          "heatmap": [
           {
            "colorbar": {
             "outlinewidth": 0,
             "ticks": ""
            },
            "colorscale": [
             [
              0,
              "#0d0887"
             ],
             [
              0.1111111111111111,
              "#46039f"
             ],
             [
              0.2222222222222222,
              "#7201a8"
             ],
             [
              0.3333333333333333,
              "#9c179e"
             ],
             [
              0.4444444444444444,
              "#bd3786"
             ],
             [
              0.5555555555555556,
              "#d8576b"
             ],
             [
              0.6666666666666666,
              "#ed7953"
             ],
             [
              0.7777777777777778,
              "#fb9f3a"
             ],
             [
              0.8888888888888888,
              "#fdca26"
             ],
             [
              1,
              "#f0f921"
             ]
            ],
            "type": "heatmap"
           }
          ],
          "histogram": [
           {
            "marker": {
             "pattern": {
              "fillmode": "overlay",
              "size": 10,
              "solidity": 0.2
             }
            },
            "type": "histogram"
           }
          ],
          "histogram2d": [
           {
            "colorbar": {
             "outlinewidth": 0,
             "ticks": ""
            },
            "colorscale": [
             [
              0,
              "#0d0887"
             ],
             [
              0.1111111111111111,
              "#46039f"
             ],
             [
              0.2222222222222222,
              "#7201a8"
             ],
             [
              0.3333333333333333,
              "#9c179e"
             ],
             [
              0.4444444444444444,
              "#bd3786"
             ],
             [
              0.5555555555555556,
              "#d8576b"
             ],
             [
              0.6666666666666666,
              "#ed7953"
             ],
             [
              0.7777777777777778,
              "#fb9f3a"
             ],
             [
              0.8888888888888888,
              "#fdca26"
             ],
             [
              1,
              "#f0f921"
             ]
            ],
            "type": "histogram2d"
           }
          ],
          "histogram2dcontour": [
           {
            "colorbar": {
             "outlinewidth": 0,
             "ticks": ""
            },
            "colorscale": [
             [
              0,
              "#0d0887"
             ],
             [
              0.1111111111111111,
              "#46039f"
             ],
             [
              0.2222222222222222,
              "#7201a8"
             ],
             [
              0.3333333333333333,
              "#9c179e"
             ],
             [
              0.4444444444444444,
              "#bd3786"
             ],
             [
              0.5555555555555556,
              "#d8576b"
             ],
             [
              0.6666666666666666,
              "#ed7953"
             ],
             [
              0.7777777777777778,
              "#fb9f3a"
             ],
             [
              0.8888888888888888,
              "#fdca26"
             ],
             [
              1,
              "#f0f921"
             ]
            ],
            "type": "histogram2dcontour"
           }
          ],
          "mesh3d": [
           {
            "colorbar": {
             "outlinewidth": 0,
             "ticks": ""
            },
            "type": "mesh3d"
           }
          ],
          "parcoords": [
           {
            "line": {
             "colorbar": {
              "outlinewidth": 0,
              "ticks": ""
             }
            },
            "type": "parcoords"
           }
          ],
          "pie": [
           {
            "automargin": true,
            "type": "pie"
           }
          ],
          "scatter": [
           {
            "fillpattern": {
             "fillmode": "overlay",
             "size": 10,
             "solidity": 0.2
            },
            "type": "scatter"
           }
          ],
          "scatter3d": [
           {
            "line": {
             "colorbar": {
              "outlinewidth": 0,
              "ticks": ""
             }
            },
            "marker": {
             "colorbar": {
              "outlinewidth": 0,
              "ticks": ""
             }
            },
            "type": "scatter3d"
           }
          ],
          "scattercarpet": [
           {
            "marker": {
             "colorbar": {
              "outlinewidth": 0,
              "ticks": ""
             }
            },
            "type": "scattercarpet"
           }
          ],
          "scattergeo": [
           {
            "marker": {
             "colorbar": {
              "outlinewidth": 0,
              "ticks": ""
             }
            },
            "type": "scattergeo"
           }
          ],
          "scattergl": [
           {
            "marker": {
             "colorbar": {
              "outlinewidth": 0,
              "ticks": ""
             }
            },
            "type": "scattergl"
           }
          ],
          "scattermap": [
           {
            "marker": {
             "colorbar": {
              "outlinewidth": 0,
              "ticks": ""
             }
            },
            "type": "scattermap"
           }
          ],
          "scattermapbox": [
           {
            "marker": {
             "colorbar": {
              "outlinewidth": 0,
              "ticks": ""
             }
            },
            "type": "scattermapbox"
           }
          ],
          "scatterpolar": [
           {
            "marker": {
             "colorbar": {
              "outlinewidth": 0,
              "ticks": ""
             }
            },
            "type": "scatterpolar"
           }
          ],
          "scatterpolargl": [
           {
            "marker": {
             "colorbar": {
              "outlinewidth": 0,
              "ticks": ""
             }
            },
            "type": "scatterpolargl"
           }
          ],
          "scatterternary": [
           {
            "marker": {
             "colorbar": {
              "outlinewidth": 0,
              "ticks": ""
             }
            },
            "type": "scatterternary"
           }
          ],
          "surface": [
           {
            "colorbar": {
             "outlinewidth": 0,
             "ticks": ""
            },
            "colorscale": [
             [
              0,
              "#0d0887"
             ],
             [
              0.1111111111111111,
              "#46039f"
             ],
             [
              0.2222222222222222,
              "#7201a8"
             ],
             [
              0.3333333333333333,
              "#9c179e"
             ],
             [
              0.4444444444444444,
              "#bd3786"
             ],
             [
              0.5555555555555556,
              "#d8576b"
             ],
             [
              0.6666666666666666,
              "#ed7953"
             ],
             [
              0.7777777777777778,
              "#fb9f3a"
             ],
             [
              0.8888888888888888,
              "#fdca26"
             ],
             [
              1,
              "#f0f921"
             ]
            ],
            "type": "surface"
           }
          ],
          "table": [
           {
            "cells": {
             "fill": {
              "color": "#EBF0F8"
             },
             "line": {
              "color": "white"
             }
            },
            "header": {
             "fill": {
              "color": "#C8D4E3"
             },
             "line": {
              "color": "white"
             }
            },
            "type": "table"
           }
          ]
         },
         "layout": {
          "annotationdefaults": {
           "arrowcolor": "#2a3f5f",
           "arrowhead": 0,
           "arrowwidth": 1
          },
          "autotypenumbers": "strict",
          "coloraxis": {
           "colorbar": {
            "outlinewidth": 0,
            "ticks": ""
           }
          },
          "colorscale": {
           "diverging": [
            [
             0,
             "#8e0152"
            ],
            [
             0.1,
             "#c51b7d"
            ],
            [
             0.2,
             "#de77ae"
            ],
            [
             0.3,
             "#f1b6da"
            ],
            [
             0.4,
             "#fde0ef"
            ],
            [
             0.5,
             "#f7f7f7"
            ],
            [
             0.6,
             "#e6f5d0"
            ],
            [
             0.7,
             "#b8e186"
            ],
            [
             0.8,
             "#7fbc41"
            ],
            [
             0.9,
             "#4d9221"
            ],
            [
             1,
             "#276419"
            ]
           ],
           "sequential": [
            [
             0,
             "#0d0887"
            ],
            [
             0.1111111111111111,
             "#46039f"
            ],
            [
             0.2222222222222222,
             "#7201a8"
            ],
            [
             0.3333333333333333,
             "#9c179e"
            ],
            [
             0.4444444444444444,
             "#bd3786"
            ],
            [
             0.5555555555555556,
             "#d8576b"
            ],
            [
             0.6666666666666666,
             "#ed7953"
            ],
            [
             0.7777777777777778,
             "#fb9f3a"
            ],
            [
             0.8888888888888888,
             "#fdca26"
            ],
            [
             1,
             "#f0f921"
            ]
           ],
           "sequentialminus": [
            [
             0,
             "#0d0887"
            ],
            [
             0.1111111111111111,
             "#46039f"
            ],
            [
             0.2222222222222222,
             "#7201a8"
            ],
            [
             0.3333333333333333,
             "#9c179e"
            ],
            [
             0.4444444444444444,
             "#bd3786"
            ],
            [
             0.5555555555555556,
             "#d8576b"
            ],
            [
             0.6666666666666666,
             "#ed7953"
            ],
            [
             0.7777777777777778,
             "#fb9f3a"
            ],
            [
             0.8888888888888888,
             "#fdca26"
            ],
            [
             1,
             "#f0f921"
            ]
           ]
          },
          "colorway": [
           "#636efa",
           "#EF553B",
           "#00cc96",
           "#ab63fa",
           "#FFA15A",
           "#19d3f3",
           "#FF6692",
           "#B6E880",
           "#FF97FF",
           "#FECB52"
          ],
          "font": {
           "color": "#2a3f5f"
          },
          "geo": {
           "bgcolor": "white",
           "lakecolor": "white",
           "landcolor": "#E5ECF6",
           "showlakes": true,
           "showland": true,
           "subunitcolor": "white"
          },
          "hoverlabel": {
           "align": "left"
          },
          "hovermode": "closest",
          "mapbox": {
           "style": "light"
          },
          "paper_bgcolor": "white",
          "plot_bgcolor": "#E5ECF6",
          "polar": {
           "angularaxis": {
            "gridcolor": "white",
            "linecolor": "white",
            "ticks": ""
           },
           "bgcolor": "#E5ECF6",
           "radialaxis": {
            "gridcolor": "white",
            "linecolor": "white",
            "ticks": ""
           }
          },
          "scene": {
           "xaxis": {
            "backgroundcolor": "#E5ECF6",
            "gridcolor": "white",
            "gridwidth": 2,
            "linecolor": "white",
            "showbackground": true,
            "ticks": "",
            "zerolinecolor": "white"
           },
           "yaxis": {
            "backgroundcolor": "#E5ECF6",
            "gridcolor": "white",
            "gridwidth": 2,
            "linecolor": "white",
            "showbackground": true,
            "ticks": "",
            "zerolinecolor": "white"
           },
           "zaxis": {
            "backgroundcolor": "#E5ECF6",
            "gridcolor": "white",
            "gridwidth": 2,
            "linecolor": "white",
            "showbackground": true,
            "ticks": "",
            "zerolinecolor": "white"
           }
          },
          "shapedefaults": {
           "line": {
            "color": "#2a3f5f"
           }
          },
          "ternary": {
           "aaxis": {
            "gridcolor": "white",
            "linecolor": "white",
            "ticks": ""
           },
           "baxis": {
            "gridcolor": "white",
            "linecolor": "white",
            "ticks": ""
           },
           "bgcolor": "#E5ECF6",
           "caxis": {
            "gridcolor": "white",
            "linecolor": "white",
            "ticks": ""
           }
          },
          "title": {
           "x": 0.05
          },
          "xaxis": {
           "automargin": true,
           "gridcolor": "white",
           "linecolor": "white",
           "ticks": "",
           "title": {
            "standoff": 15
           },
           "zerolinecolor": "white",
           "zerolinewidth": 2
          },
          "yaxis": {
           "automargin": true,
           "gridcolor": "white",
           "linecolor": "white",
           "ticks": "",
           "title": {
            "standoff": 15
           },
           "zerolinecolor": "white",
           "zerolinewidth": 2
          }
         }
        },
        "title": {
         "text": "Energies analyses from all N501 simulations together"
        },
        "xaxis": {
         "title": {
          "text": "Residues"
         }
        },
        "yaxis": {
         "title": {
          "text": "Electrostatic + VdW energy (kcal/mol)"
         }
        }
       }
      },
      "image/png": "[encoded data removed]",
      "text/html": [
       "<div>            <script src=\"https://cdnjs.cloudflare.com/ajax/libs/mathjax/2.7.5/MathJax.js?config=TeX-AMS-MML_SVG\"></script><script type=\"text/javascript\">if (window.MathJax && window.MathJax.Hub && window.MathJax.Hub.Config) {window.MathJax.Hub.Config({SVG: {font: \"STIX-Web\"}});}</script>                <script type=\"text/javascript\">window.PlotlyConfig = {MathJaxConfig: 'local'};</script>\n",
       "        <script charset=\"utf-8\" src=\"https://cdn.plot.ly/plotly-3.0.1.min.js\"></script>                <div id=\"64522f9c-fcfb-4d83-8f45-d49aa1cb63cd\" class=\"plotly-graph-div\" style=\"height:525px; width:100%;\"></div>            <script type=\"text/javascript\">                window.PLOTLYENV=window.PLOTLYENV || {};                                if (document.getElementById(\"64522f9c-fcfb-4d83-8f45-d49aa1cb63cd\")) {                    Plotly.newPlot(                        \"64522f9c-fcfb-4d83-8f45-d49aa1cb63cd\",                        [{\"name\":\"MCV1900410\",\"x\":[333,334,335,336,337,338,339,340,341,342,343,344,345,346,347,348,349,350,351,352,353,354,355,356,357,358,359,360,361,362,363,364,365,366,367,368,369,370,371,372,373,374,375,376,377,378,379,380,381,382,383,384,385,386,387,388,389,390,391,392,393,394,395,396,397,398,399,400,401,402,403,404,405,406,407,408,409,410,411,412,413,414,415,416,417,418,419,420,421,422,423,424,425,426,427,428,429,430,431,432,433,434,435,436,437,438,439,440,441,442,443,444,445,446,447,448,449,450,451,452,453,454,455,456,457,458,459,460,461,462,463,464,465,466,467,468,469,470,471,472,473,474,475,476,477,478,479,480,481,482,483,484,485,486,487,488,489,490,491,492,493,494,495,496,497,498,499,500,501,502,503,504,505,506,507,508,509,510,511,512,513,514,515,516,517,518,519,520,521,522,523,524,525,526,527],\"y\":[0.18490000000000004,0,-0.03919423076923077,-0.03726153846153846,0.13477096153846155,0.049474999999999984,0.10184653846153849,0.8687826923076921,0.05570384615384616,0.01056923076923079,0.0636711538461539,0.0043692307692307555,0.03983461538461538,-2.1132192307692312,0.006130769230769209,0.021424999999999972,-0.008330769230769244,-0.029321153846153806,-0.01627884615384613,-0.016301923076923068,-0.0352240384615385,-0.006028846153846171,-1.7667903846153836,-1.1759396153846153,-0.00033653846153847464,-0.025640384615384596,0.18490000000000004,0,0,0.01448846153846154,-0.035198076923076915,1.0512576923076922,0.18372115384615384,0.14372346153846152,0.07111923076923075,0.025455769230769216,0.024692307692307656,0.02193076923076924,0.016113269230769254,0.015403846153846153,0.013613653846153834,0.00039038461538464073,-0.004240384615384665,-0.0016384615384615801,0.008680769230769185,-2.386075,0.013003846153846133,-0.015594230769230753,-0.00991807692307692,0.022659615384615386,0.020420384615384604,-0.008719423076923083,0.00823076923076921,-1.1434144230769236,-0.002188461538461544,0.06922115384615385,0.08212307692307694,-0.06134230769230768,0.004507692307692308,-0.0734673076923077,0.18490000000000004,0.03199807692307692,-0.28260576923076913,0.12210576923076921,0.008890384615384644,2.0034134615384613,-0.006734615384615386,-0.011184615384615378,0.0002692307692307652,-0.022113461538461558,-3.46051923076923,-0.020490769230769222,2.9505423076923067,2.9284269230769238,-0.01584615384615386,-2.7800769230769236,-0.026628846153846142,-0.006903846153846123,0.012394230769230767,0.022243076923076942,0.017158461538461543,0.00710384615384617,0.01074999999999997,-0.04106750000000001,-5.131453846153847,-0.02688653846153847,-0.030844230769230742,2.719571153846153,-0.029746779346153853,-0.04794807692307695,0.023373076923076906,-2.531011538461539,0.021867307692307682,0.017326346153846154,2.4090596153846153,2.1365653846153845,0.0021788461538461553,0.001240384615384607,0.007427307692307699,-0.009571153846153849,-0.00643076923076924,0.006978846153846145,-0.010842307692307672,-0.003243461538461492,-0.02607115384615383,-0.013844230769230735,-0.016705769230769305,0.005136538461538468,0.0017153846153845974,2.358734615384615,-0.026192307692307664,-2.375819230769231,-0.03486538461538462,-0.05124115384615386,-0.043069038461538436,0.013353846153846187,-0.35728169734615395,-0.009134615384615343,0.01181923076923083,-0.01821923076923076,-0.4514089096153846,-2.4130769230769236,-1.2544334230769227,-2.0358132115384615,-2.382415384615384,-2.909711538461539,-0.018071153846153844,0.003873076923076881,0.02085769230769237,-2.2713128846153845,-0.020421538461538487,-0.020567307692307725,2.100490384615384,-1.999586538461539,2.3303692307692305,0.00842884615384611,0.03708076923076926,0.0009923076923077112,2.207901923076923,-0.0100826923076923,-0.4864919423076924,-0.023653846153846088,-1.3676461538461535,-1.100574423076923,-0.38160000000000005,-0.14208461538461542,0.032571534930769246,-0.013899999999999985,-0.01545192307692304,-0.011517500000000014,-0.0006442307692307025,2.3276865384615393,-0.07192564038461535,-2.734578857692308,-2.0112526923076923,-0.021951923076923112,-2.6541450317307684,-0.12554915869230773,0.01359256150384616,-0.046382692307692326,-1.804425769230769,0.012492307692307764,-0.05409657421730766,-0.15686961538461533,-0.026147448884615378,-0.937746153846154,-0.03246268683653843,-1.9052096153846159,-3.0043250000000006,-0.38912625,-0.029761538461538485,-0.02808769230769226,-2.062202807692308,-0.047611538461538525,-0.0022484972692307518,0.014313461538461563,-2.222196153846154,-0.007759615384615401,0.013488461538461496,-0.011782692307692329,0.03239807692307687,-0.0892475,0.17651153846153844,0.21459423076923068,-0.01866346153846154,-0.0058615384615384606,0,0,0,0,0.18490000000000004,-0.0030634615384615383,0,-0.0029826923076923073,0.014305769230769231],\"type\":\"scatter\"},{\"name\":\"MCV1900419\",\"x\":[333,334,335,336,337,338,339,340,341,342,343,344,345,346,347,348,349,350,351,352,353,354,355,356,357,358,359,360,361,362,363,364,365,366,367,368,369,370,371,372,373,374,375,376,377,378,379,380,381,382,383,384,385,386,387,388,389,390,391,392,393,394,395,396,397,398,399,400,401,402,403,404,405,406,407,408,409,410,411,412,413,414,415,416,417,418,419,420,421,422,423,424,425,426,427,428,429,430,431,432,433,434,435,436,437,438,439,440,441,442,443,444,445,446,447,448,449,450,451,452,453,454,455,456,457,458,459,460,461,462,463,464,465,466,467,468,469,470,471,472,473,474,475,476,477,478,479,480,481,482,483,484,485,486,487,488,489,490,491,492,493,494,495,496,497,498,499,500,501,502,503,504,505,506,507,508,509,510,511,512,513,514,515,516,517,518,519,520,521,522,523,524,525,526,527],\"y\":[0.18490000000000006,-0.0028358490566037734,-0.07174905660377359,0.0006924528301886742,0.13763150943396224,0.026152830188679244,0.08133018867924527,1.335418867924528,0.026405660377358506,0.023911320754717,0.02040754716981131,0.024328301886792462,0.024560377358490572,-2.2956245283018863,0.005162264150943431,0.0297188679245283,-0.009045283018867914,-0.036575471698113246,-0.019947169811320786,-0.017990566037735838,-0.04736603773584906,-0.019581132075471713,-1.911235849056603,-1.2396552830188678,-0.13396037735849053,-0.04597924528301887,0.17499622641509435,0,0.005045283018867924,0.05274716981132075,-0.12102830188679246,1.5202264150943399,0.26332641509433957,0.05365377358490568,0.026907547169811287,0.020992452830188725,0.022862264150943404,0.025533962264150906,0.01988018867924526,0.013154716981132056,0.020345283018867916,0.002164150943396214,-0.0034867924528301313,-0.002098113207547161,0.011599999999999996,-2.454805660377358,0.012198113207547144,-0.015579245283018848,-0.002391320754716993,0.02715471698113207,-0.015297924528301893,-0.023576792452830224,-0.003984905660377353,-1.6483454716981136,-0.025832075471698107,0.09567169811320753,0.047943396226415094,-0.05193584905660377,0,-0.0723622641509434,0.18490000000000006,0.014481132075471699,-0.22788867924528303,0.15050943396226413,-0.002977358490566051,2.078569811320754,-0.007773584905660401,-0.01161320754716978,-0.0016150943396226688,-0.022188679245283043,-3.743956603773585,-0.031082264150943374,3.2412264150943395,3.1238754716981125,-0.025303773584905678,-2.8790075471698118,-0.03375660377358487,-0.0065943396226415246,0.013354716981132046,0.03054698113207548,0.020867924528301926,-0.004586792452830157,0.01930000000000002,-0.04335603773584909,-4.560016981132075,-0.037230188679245324,-0.03466226415094339,2.703613207547169,-0.02762075471698119,-0.05035849056603773,0.02496037735849057,-2.543277358490567,0.017547169811320727,0.021627547169811343,2.3650773584905664,2.091343396226415,0.0019264150943396053,-9.999999999999946e-05,0.007016415094339624,-0.010654716981132059,-0.006971698113207567,0.005543396226415099,-0.01448301886792453,-0.0073043396226414835,-0.03924150943396229,-0.016658490566037704,-0.021828301886792436,0.013841509433962293,-0.001484905660377354,2.5366207547169806,-0.02072264150943401,-2.612556603773584,-0.04201320754716985,-0.07309435849056603,-0.07113830188679247,0.023128301886792445,-0.5148713330188679,-0.00947358490566034,0.025450943396226444,-2.521122641509434,-0.6485182886792453,-2.432571698113207,-1.5029635849056604,-1.9072442075471694,-2.3690433962264144,-2.7066018867924533,-0.015420754716981126,-0.004237735849056581,0.01632264150943397,-2.1843069811320754,-0.020443396226415105,-0.02378490566037737,2.1963547169811317,-2.060233962264151,2.325845283018868,0.010726415094339593,0.04528867924528299,0.00233018867924529,2.240160377358491,-0.01130566037735846,-0.29919356603773584,-0.011592452830188676,-1.455245283018868,-0.7878313018867924,-0.42342641509433965,-2.6113811320754716,0.030397358490566035,0.004250943396226424,-0.0034094339622641524,-0.012209811320754715,0.006275471698113179,2.487394339622641,-0.0267333962264151,-2.441308201886792,-1.9026452830188678,-0.018439622641509407,-2.4322316415094334,-0.12165620754716987,0.018459443207547194,-0.049107547169811326,-2.2208788679245273,-0.02911320754716982,-0.14637714096226415,-0.674921396226415,-0.08900027107547173,-1.5705264150943392,-0.05957475471698114,-3.421364150943396,-3.2915056603773576,-1.2183126415094339,-0.14182264150943394,-0.047493584905660385,-3.4397657584905663,-0.09061509433962267,0.0017486853396226198,0.02010943396226414,-2.370245283018869,-0.007394339622641487,0.015949056603773545,-0.011049056603773623,0.015030188679245287,-0.050738301886792445,0.1840603773584905,0.04068679245283019,-0.02782830188679245,0,0,0,0,0,0.18490000000000006,-0.01470188679245283,0.015952830188679247,-0.011900566037735849,-0.04064509433962265],\"type\":\"scatter\"}],                        {\"shapes\":[{\"line\":{\"dash\":\"dash\",\"width\":1},\"type\":\"line\",\"x0\":501,\"x1\":501,\"xref\":\"x\",\"y0\":3.2412264150943395,\"y1\":-5.131453846153847,\"yref\":\"y\"}],\"title\":{\"text\":\"Energies analyses from all N501 simulations together\"},\"xaxis\":{\"title\":{\"text\":\"Residues\"}},\"yaxis\":{\"title\":{\"text\":\"Electrostatic + VdW energy (kcal\\u002fmol)\"}},\"template\":{\"data\":{\"histogram2dcontour\":[{\"type\":\"histogram2dcontour\",\"colorbar\":{\"outlinewidth\":0,\"ticks\":\"\"},\"colorscale\":[[0.0,\"#0d0887\"],[0.1111111111111111,\"#46039f\"],[0.2222222222222222,\"#7201a8\"],[0.3333333333333333,\"#9c179e\"],[0.4444444444444444,\"#bd3786\"],[0.5555555555555556,\"#d8576b\"],[0.6666666666666666,\"#ed7953\"],[0.7777777777777778,\"#fb9f3a\"],[0.8888888888888888,\"#fdca26\"],[1.0,\"#f0f921\"]]}],\"choropleth\":[{\"type\":\"choropleth\",\"colorbar\":{\"outlinewidth\":0,\"ticks\":\"\"}}],\"histogram2d\":[{\"type\":\"histogram2d\",\"colorbar\":{\"outlinewidth\":0,\"ticks\":\"\"},\"colorscale\":[[0.0,\"#0d0887\"],[0.1111111111111111,\"#46039f\"],[0.2222222222222222,\"#7201a8\"],[0.3333333333333333,\"#9c179e\"],[0.4444444444444444,\"#bd3786\"],[0.5555555555555556,\"#d8576b\"],[0.6666666666666666,\"#ed7953\"],[0.7777777777777778,\"#fb9f3a\"],[0.8888888888888888,\"#fdca26\"],[1.0,\"#f0f921\"]]}],\"heatmap\":[{\"type\":\"heatmap\",\"colorbar\":{\"outlinewidth\":0,\"ticks\":\"\"},\"colorscale\":[[0.0,\"#0d0887\"],[0.1111111111111111,\"#46039f\"],[0.2222222222222222,\"#7201a8\"],[0.3333333333333333,\"#9c179e\"],[0.4444444444444444,\"#bd3786\"],[0.5555555555555556,\"#d8576b\"],[0.6666666666666666,\"#ed7953\"],[0.7777777777777778,\"#fb9f3a\"],[0.8888888888888888,\"#fdca26\"],[1.0,\"#f0f921\"]]}],\"contourcarpet\":[{\"type\":\"contourcarpet\",\"colorbar\":{\"outlinewidth\":0,\"ticks\":\"\"}}],\"contour\":[{\"type\":\"contour\",\"colorbar\":{\"outlinewidth\":0,\"ticks\":\"\"},\"colorscale\":[[0.0,\"#0d0887\"],[0.1111111111111111,\"#46039f\"],[0.2222222222222222,\"#7201a8\"],[0.3333333333333333,\"#9c179e\"],[0.4444444444444444,\"#bd3786\"],[0.5555555555555556,\"#d8576b\"],[0.6666666666666666,\"#ed7953\"],[0.7777777777777778,\"#fb9f3a\"],[0.8888888888888888,\"#fdca26\"],[1.0,\"#f0f921\"]]}],\"surface\":[{\"type\":\"surface\",\"colorbar\":{\"outlinewidth\":0,\"ticks\":\"\"},\"colorscale\":[[0.0,\"#0d0887\"],[0.1111111111111111,\"#46039f\"],[0.2222222222222222,\"#7201a8\"],[0.3333333333333333,\"#9c179e\"],[0.4444444444444444,\"#bd3786\"],[0.5555555555555556,\"#d8576b\"],[0.6666666666666666,\"#ed7953\"],[0.7777777777777778,\"#fb9f3a\"],[0.8888888888888888,\"#fdca26\"],[1.0,\"#f0f921\"]]}],\"mesh3d\":[{\"type\":\"mesh3d\",\"colorbar\":{\"outlinewidth\":0,\"ticks\":\"\"}}],\"scatter\":[{\"fillpattern\":{\"fillmode\":\"overlay\",\"size\":10,\"solidity\":0.2},\"type\":\"scatter\"}],\"parcoords\":[{\"type\":\"parcoords\",\"line\":{\"colorbar\":{\"outlinewidth\":0,\"ticks\":\"\"}}}],\"scatterpolargl\":[{\"type\":\"scatterpolargl\",\"marker\":{\"colorbar\":{\"outlinewidth\":0,\"ticks\":\"\"}}}],\"bar\":[{\"error_x\":{\"color\":\"#2a3f5f\"},\"error_y\":{\"color\":\"#2a3f5f\"},\"marker\":{\"line\":{\"color\":\"#E5ECF6\",\"width\":0.5},\"pattern\":{\"fillmode\":\"overlay\",\"size\":10,\"solidity\":0.2}},\"type\":\"bar\"}],\"scattergeo\":[{\"type\":\"scattergeo\",\"marker\":{\"colorbar\":{\"outlinewidth\":0,\"ticks\":\"\"}}}],\"scatterpolar\":[{\"type\":\"scatterpolar\",\"marker\":{\"colorbar\":{\"outlinewidth\":0,\"ticks\":\"\"}}}],\"histogram\":[{\"marker\":{\"pattern\":{\"fillmode\":\"overlay\",\"size\":10,\"solidity\":0.2}},\"type\":\"histogram\"}],\"scattergl\":[{\"type\":\"scattergl\",\"marker\":{\"colorbar\":{\"outlinewidth\":0,\"ticks\":\"\"}}}],\"scatter3d\":[{\"type\":\"scatter3d\",\"line\":{\"colorbar\":{\"outlinewidth\":0,\"ticks\":\"\"}},\"marker\":{\"colorbar\":{\"outlinewidth\":0,\"ticks\":\"\"}}}],\"scattermap\":[{\"type\":\"scattermap\",\"marker\":{\"colorbar\":{\"outlinewidth\":0,\"ticks\":\"\"}}}],\"scattermapbox\":[{\"type\":\"scattermapbox\",\"marker\":{\"colorbar\":{\"outlinewidth\":0,\"ticks\":\"\"}}}],\"scatterternary\":[{\"type\":\"scatterternary\",\"marker\":{\"colorbar\":{\"outlinewidth\":0,\"ticks\":\"\"}}}],\"scattercarpet\":[{\"type\":\"scattercarpet\",\"marker\":{\"colorbar\":{\"outlinewidth\":0,\"ticks\":\"\"}}}],\"carpet\":[{\"aaxis\":{\"endlinecolor\":\"#2a3f5f\",\"gridcolor\":\"white\",\"linecolor\":\"white\",\"minorgridcolor\":\"white\",\"startlinecolor\":\"#2a3f5f\"},\"baxis\":{\"endlinecolor\":\"#2a3f5f\",\"gridcolor\":\"white\",\"linecolor\":\"white\",\"minorgridcolor\":\"white\",\"startlinecolor\":\"#2a3f5f\"},\"type\":\"carpet\"}],\"table\":[{\"cells\":{\"fill\":{\"color\":\"#EBF0F8\"},\"line\":{\"color\":\"white\"}},\"header\":{\"fill\":{\"color\":\"#C8D4E3\"},\"line\":{\"color\":\"white\"}},\"type\":\"table\"}],\"barpolar\":[{\"marker\":{\"line\":{\"color\":\"#E5ECF6\",\"width\":0.5},\"pattern\":{\"fillmode\":\"overlay\",\"size\":10,\"solidity\":0.2}},\"type\":\"barpolar\"}],\"pie\":[{\"automargin\":true,\"type\":\"pie\"}]},\"layout\":{\"autotypenumbers\":\"strict\",\"colorway\":[\"#636efa\",\"#EF553B\",\"#00cc96\",\"#ab63fa\",\"#FFA15A\",\"#19d3f3\",\"#FF6692\",\"#B6E880\",\"#FF97FF\",\"#FECB52\"],\"font\":{\"color\":\"#2a3f5f\"},\"hovermode\":\"closest\",\"hoverlabel\":{\"align\":\"left\"},\"paper_bgcolor\":\"white\",\"plot_bgcolor\":\"#E5ECF6\",\"polar\":{\"bgcolor\":\"#E5ECF6\",\"angularaxis\":{\"gridcolor\":\"white\",\"linecolor\":\"white\",\"ticks\":\"\"},\"radialaxis\":{\"gridcolor\":\"white\",\"linecolor\":\"white\",\"ticks\":\"\"}},\"ternary\":{\"bgcolor\":\"#E5ECF6\",\"aaxis\":{\"gridcolor\":\"white\",\"linecolor\":\"white\",\"ticks\":\"\"},\"baxis\":{\"gridcolor\":\"white\",\"linecolor\":\"white\",\"ticks\":\"\"},\"caxis\":{\"gridcolor\":\"white\",\"linecolor\":\"white\",\"ticks\":\"\"}},\"coloraxis\":{\"colorbar\":{\"outlinewidth\":0,\"ticks\":\"\"}},\"colorscale\":{\"sequential\":[[0.0,\"#0d0887\"],[0.1111111111111111,\"#46039f\"],[0.2222222222222222,\"#7201a8\"],[0.3333333333333333,\"#9c179e\"],[0.4444444444444444,\"#bd3786\"],[0.5555555555555556,\"#d8576b\"],[0.6666666666666666,\"#ed7953\"],[0.7777777777777778,\"#fb9f3a\"],[0.8888888888888888,\"#fdca26\"],[1.0,\"#f0f921\"]],\"sequentialminus\":[[0.0,\"#0d0887\"],[0.1111111111111111,\"#46039f\"],[0.2222222222222222,\"#7201a8\"],[0.3333333333333333,\"#9c179e\"],[0.4444444444444444,\"#bd3786\"],[0.5555555555555556,\"#d8576b\"],[0.6666666666666666,\"#ed7953\"],[0.7777777777777778,\"#fb9f3a\"],[0.8888888888888888,\"#fdca26\"],[1.0,\"#f0f921\"]],\"diverging\":[[0,\"#8e0152\"],[0.1,\"#c51b7d\"],[0.2,\"#de77ae\"],[0.3,\"#f1b6da\"],[0.4,\"#fde0ef\"],[0.5,\"#f7f7f7\"],[0.6,\"#e6f5d0\"],[0.7,\"#b8e186\"],[0.8,\"#7fbc41\"],[0.9,\"#4d9221\"],[1,\"#276419\"]]},\"xaxis\":{\"gridcolor\":\"white\",\"linecolor\":\"white\",\"ticks\":\"\",\"title\":{\"standoff\":15},\"zerolinecolor\":\"white\",\"automargin\":true,\"zerolinewidth\":2},\"yaxis\":{\"gridcolor\":\"white\",\"linecolor\":\"white\",\"ticks\":\"\",\"title\":{\"standoff\":15},\"zerolinecolor\":\"white\",\"automargin\":true,\"zerolinewidth\":2},\"scene\":{\"xaxis\":{\"backgroundcolor\":\"#E5ECF6\",\"gridcolor\":\"white\",\"linecolor\":\"white\",\"showbackground\":true,\"ticks\":\"\",\"zerolinecolor\":\"white\",\"gridwidth\":2},\"yaxis\":{\"backgroundcolor\":\"#E5ECF6\",\"gridcolor\":\"white\",\"linecolor\":\"white\",\"showbackground\":true,\"ticks\":\"\",\"zerolinecolor\":\"white\",\"gridwidth\":2},\"zaxis\":{\"backgroundcolor\":\"#E5ECF6\",\"gridcolor\":\"white\",\"linecolor\":\"white\",\"showbackground\":true,\"ticks\":\"\",\"zerolinecolor\":\"white\",\"gridwidth\":2}},\"shapedefaults\":{\"line\":{\"color\":\"#2a3f5f\"}},\"annotationdefaults\":{\"arrowcolor\":\"#2a3f5f\",\"arrowhead\":0,\"arrowwidth\":1},\"geo\":{\"bgcolor\":\"white\",\"landcolor\":\"#E5ECF6\",\"subunitcolor\":\"white\",\"showland\":true,\"showlakes\":true,\"lakecolor\":\"white\"},\"title\":{\"x\":0.05},\"mapbox\":{\"style\":\"light\"}}}},                        {\"responsive\": true}                    ).then(function(){\n",
       "                            \n",
       "var gd = document.getElementById('64522f9c-fcfb-4d83-8f45-d49aa1cb63cd');\n",
       "var x = new MutationObserver(function (mutations, observer) {{\n",
       "        var display = window.getComputedStyle(gd).display;\n",
       "        if (!display || display === 'none') {{\n",
       "            console.log([gd, 'removed!']);\n",
       "            Plotly.purge(gd);\n",
       "            observer.disconnect();\n",
       "        }}\n",
       "}});\n",
       "\n",
       "// Listen for the removal of the full notebook cells\n",
       "var notebookContainer = gd.closest('#notebook-container');\n",
       "if (notebookContainer) {{\n",
       "    x.observe(notebookContainer, {childList: true});\n",
       "}}\n",
       "\n",
       "// Listen for the clearing of the current output cell\n",
       "var outputEl = gd.closest('.output');\n",
       "if (outputEl) {{\n",
       "    x.observe(outputEl, {childList: true});\n",
       "}}\n",
       "\n",
       "                        })                };            </script>        </div>"
      ]
     },
     "metadata": {},
     "output_type": "display_data"
    },
    {
     "data": {
      "application/vnd.plotly.v1+json": {
       "config": {
        "plotlyServerURL": "https://plot.ly"
       },
       "data": [
        {
         "name": "MCV1900413",
         "type": "scatter",
         "x": [
          333,
          334,
          335,
          336,
          337,
          338,
          339,
          340,
          341,
          342,
          343,
          344,
          345,
          346,
          347,
          348,
          349,
          350,
          351,
          352,
          353,
          354,
          355,
          356,
          357,
          358,
          359,
          360,
          361,
          362,
          363,
          364,
          365,
          366,
          367,
          368,
          369,
          370,
          371,
          372,
          373,
          374,
          375,
          376,
          377,
          378,
          379,
          380,
          381,
          382,
          383,
          384,
          385,
          386,
          387,
          388,
          389,
          390,
          391,
          392,
          393,
          394,
          395,
          396,
          397,
          398,
          399,
          400,
          401,
          402,
          403,
          404,
          405,
          406,
          407,
          408,
          409,
          410,
          411,
          412,
          413,
          414,
          415,
          416,
          417,
          418,
          419,
          420,
          421,
          422,
          423,
          424,
          425,
          426,
          427,
          428,
          429,
          430,
          431,
          432,
          433,
          434,
          435,
          436,
          437,
          438,
          439,
          440,
          441,
          442,
          443,
          444,
          445,
          446,
          447,
          448,
          449,
          450,
          451,
          452,
          453,
          454,
          455,
          456,
          457,
          458,
          459,
          460,
          461,
          462,
          463,
          464,
          465,
          466,
          467,
          468,
          469,
          470,
          471,
          472,
          473,
          474,
          475,
          476,
          477,
          478,
          479,
          480,
          481,
          482,
          483,
          484,
          485,
          486,
          487,
          488,
          489,
          490,
          491,
          492,
          493,
          494,
          495,
          496,
          497,
          498,
          499,
          500,
          501,
          502,
          503,
          504,
          505,
          506,
          507,
          508,
          509,
          510,
          511,
          512,
          513,
          514,
          515,
          516,
          517,
          518,
          519,
          520,
          521,
          522,
          523,
          524,
          525,
          526,
          527
         ],
         "y": [
          0.18490000000000004,
          0,
          -0.021507692307692304,
          -0.0059269230769230805,
          0.19050423076923076,
          0.12668461538461534,
          0.09741384615384609,
          0.9561403846153842,
          0.08402884615384619,
          0.061196153846153845,
          0.0723980769230769,
          0.02499230769230767,
          0.07445384615384612,
          -2.2846403846153844,
          0.020436538461538457,
          0.037296153846153854,
          0.002544230769230784,
          -0.03806346153846151,
          -0.015030769230769226,
          -0.034857692307692284,
          -0.04924923076923078,
          0.030659615384615393,
          -1.7766711538461535,
          -0.5775975,
          -0.04255961538461539,
          -0.043796153846153846,
          0.18490000000000004,
          0,
          0,
          0,
          -0.027125000000000003,
          1.0638788461538466,
          0.24412692307692302,
          0.12248596153846156,
          0.02789038461538464,
          0.023021153846153865,
          0.032926923076923055,
          0.02626346153846154,
          0.014551538461538475,
          0.018028846153846142,
          0.02646153846153845,
          0.005365384615384635,
          -0.005730769230769228,
          -0.007223076923076917,
          0.010651923076923066,
          -2.671525,
          0.01801153846153846,
          -0.028776923076923137,
          -0.016562499999999983,
          0.0322903846153846,
          -0.019203461538461558,
          -0.019854999999999973,
          0.008567307692307667,
          -1.4764248076923077,
          -0.1178884615384615,
          0.16600384615384614,
          0.13992115384615383,
          -0.054603846153846156,
          0,
          -0.07310576923076922,
          0.18490000000000004,
          0,
          -0.2678,
          0.1918692307692309,
          0.06068653846153844,
          2.040719230769231,
          -0.018044230769230788,
          -0.012790384615384608,
          -0.0024980769230768998,
          -0.027992307692307705,
          -3.8650442307692305,
          -0.02452692307692312,
          3.4021826923076923,
          3.310205769230769,
          -0.021659615384615326,
          -3.2238076923076906,
          -0.034259615384615395,
          -0.007857692307692335,
          0.015717307692307666,
          0.033512884615384604,
          0.029409423076923125,
          0.0062692307692307665,
          0.021642307692307704,
          -0.04714365384615385,
          -5.157621153846156,
          -0.03652115384615389,
          -0.04170961538461538,
          3.1029807692307694,
          -0.0350363283461539,
          -0.06584038461538458,
          0.03427692307692303,
          -2.8845865384615377,
          0.0309730769230769,
          0.018533269230769235,
          2.7517942307692307,
          2.310886538461538,
          0.004346153846153831,
          -0.011736538461538465,
          0.010309038461538477,
          -0.013638461538461561,
          -0.008698076923076947,
          0.0068096153846153775,
          -0.015292307692307699,
          -0.0011746153846154063,
          -0.05033076923076925,
          0.011680769230769213,
          -0.004803846153846137,
          0.021382692307692283,
          -0.0014269230769230821,
          2.590151923076923,
          -0.029169230769230742,
          -2.5884961538461533,
          -0.04167692307692306,
          -0.057661480769230763,
          -0.061772500000000015,
          0.020103846153846174,
          -0.3675640762499999,
          -0.007221153846153836,
          0.013744230769230746,
          -0.020280769230769182,
          -0.6750087496153849,
          -2.570457692307693,
          -1.3204786153846146,
          -1.946787257692308,
          -2.5645057692307693,
          -2.900007692307691,
          -0.028340384615384594,
          -0.0007346153846153378,
          0.04137692307692305,
          -2.416088461538462,
          -0.07215846153846153,
          -0.023261538461538448,
          2.213784615384616,
          -1.8843576923076921,
          2.440063461538461,
          0.01414038461538462,
          0.05828269230769233,
          -0.007611538461538461,
          2.240915384615384,
          0.00967499999999996,
          -0.35115004807692307,
          -0.019349999999999954,
          -1.1817688461538463,
          -0.6138719230769231,
          -0.26397692307692305,
          -0.0560403846153846,
          0.02436175217307694,
          -0.016084615384615364,
          -0.017444230769230684,
          -0.044285961538461545,
          0.00812500000000002,
          2.3088000000000006,
          -0.04677769230769227,
          -2.585985192307692,
          -1.8160038461538464,
          -0.02189615384615384,
          -2.443351742307691,
          -0.1116533486538461,
          0.024887420778653822,
          -0.04430192307692306,
          -2.0715749999999997,
          -0.015178846153846173,
          -0.11110048546153851,
          -0.12621475,
          -0.04457111723076923,
          -0.9403634615384615,
          -0.0391321403846154,
          -3.110180769230768,
          -3.4529260961538455,
          -1.1015038461538464,
          -0.12180576923076919,
          -0.05428788461538459,
          -3.2952056288461544,
          -0.08679038461538452,
          0.00505846153846155,
          0.02427692307692308,
          -2.4177461538461533,
          -0.0103980769230769,
          0.018619230769230773,
          -0.015615384615384621,
          0.05679807692307689,
          -0.13505673076923083,
          0.2293057692307692,
          0.26770384615384607,
          0.008438461538461525,
          0,
          0,
          0,
          0,
          0,
          0.18490000000000004,
          0,
          0,
          0,
          -0.008871153846153846
         ]
        },
        {
         "name": "MCV1900416",
         "type": "scatter",
         "x": [
          333,
          334,
          335,
          336,
          337,
          338,
          339,
          340,
          341,
          342,
          343,
          344,
          345,
          346,
          347,
          348,
          349,
          350,
          351,
          352,
          353,
          354,
          355,
          356,
          357,
          358,
          359,
          360,
          361,
          362,
          363,
          364,
          365,
          366,
          367,
          368,
          369,
          370,
          371,
          372,
          373,
          374,
          375,
          376,
          377,
          378,
          379,
          380,
          381,
          382,
          383,
          384,
          385,
          386,
          387,
          388,
          389,
          390,
          391,
          392,
          393,
          394,
          395,
          396,
          397,
          398,
          399,
          400,
          401,
          402,
          403,
          404,
          405,
          406,
          407,
          408,
          409,
          410,
          411,
          412,
          413,
          414,
          415,
          416,
          417,
          418,
          419,
          420,
          421,
          422,
          423,
          424,
          425,
          426,
          427,
          428,
          429,
          430,
          431,
          432,
          433,
          434,
          435,
          436,
          437,
          438,
          439,
          440,
          441,
          442,
          443,
          444,
          445,
          446,
          447,
          448,
          449,
          450,
          451,
          452,
          453,
          454,
          455,
          456,
          457,
          458,
          459,
          460,
          461,
          462,
          463,
          464,
          465,
          466,
          467,
          468,
          469,
          470,
          471,
          472,
          473,
          474,
          475,
          476,
          477,
          478,
          479,
          480,
          481,
          482,
          483,
          484,
          485,
          486,
          487,
          488,
          489,
          490,
          491,
          492,
          493,
          494,
          495,
          496,
          497,
          498,
          499,
          500,
          501,
          502,
          503,
          504,
          505,
          506,
          507,
          508,
          509,
          510,
          511,
          512,
          513,
          514,
          515,
          516,
          517,
          518,
          519,
          520,
          521,
          522,
          523,
          524,
          525,
          526,
          527
         ],
         "y": [
          0.2102057692307694,
          -0.15190769230769227,
          -0.03715192307692303,
          -0.062396153846153865,
          0.019837692307692313,
          0.041180769230769215,
          0.14416923076923077,
          1.4029903846153846,
          0.018690384615384602,
          0.02036538461538461,
          0.018101923076923078,
          0.019992307692307695,
          0.021778846153846183,
          -2.1840653846153844,
          0.0034365384615384375,
          0.02232115384615383,
          -0.011303846153846173,
          -0.03290769230769234,
          -0.021832692307692268,
          -0.016649999999999995,
          -0.040870769230769224,
          0.0030865384615384847,
          -1.8990192307692308,
          -1.7105424999999999,
          -0.19614038461538463,
          0.014986538461538464,
          0.17210769230769232,
          0,
          -0.004957692307692306,
          -0.0025384615384615385,
          -0.11357692307692308,
          1.3954038461538463,
          0.13863269230769235,
          0.03037192307692305,
          0.03887500000000001,
          0.01242115384615384,
          0.018807692307692307,
          0.027076923076923075,
          0.000239423076923089,
          -0.00512499999999998,
          0.007357115384615356,
          -0.001076923076923078,
          -0.00531923076923076,
          -0.0016557692307692406,
          0.0060096153846153355,
          -2.3414825,
          0.015505769230769248,
          -0.011599999999999989,
          -0.07218057692307693,
          0.04723846153846155,
          0.13588749999999997,
          -0.07289865384615382,
          0.10169615384615384,
          -0.514968846153846,
          -0.006173076923076934,
          -0.005075000000000001,
          -0.002034615384615387,
          0.028253846153846154,
          0,
          -0.04147884615384616,
          0.18490000000000004,
          0.054575000000000005,
          -0.11451346153846155,
          0.09041923076923078,
          0.013609615384615394,
          2.034209615384615,
          -0.004861153846153825,
          -0.012917307692307704,
          -0.0008057692307692146,
          -0.021567307692307698,
          -3.313859615384616,
          -0.028545000000000025,
          3.037540384615385,
          2.978849999999999,
          -0.02083269230769231,
          -2.860957692307693,
          -0.034613461538461544,
          -0.008499999999999987,
          0.014930769230769235,
          0.027986346153846122,
          0.02160711538461535,
          0.009248076923076907,
          0.017505769230769224,
          -0.044104999999999984,
          -0.11962115384615381,
          -0.030346153846153818,
          -0.03025576923076925,
          2.706848076923077,
          -0.019011538461538427,
          -0.044788461538461506,
          0.022923076923076966,
          -2.5358365384615382,
          0.019498076923076927,
          0.01898230769230771,
          2.359798076923077,
          2.1649769230769236,
          -0.0017769230769230733,
          0.029032692307692287,
          0.0007984615384615363,
          -0.006582692307692311,
          -0.00911346153846156,
          0.005544230769230782,
          -0.014573076923076937,
          -0.004621730769230755,
          -0.0479576923076923,
          -0.020521153846153852,
          0.003115384615384631,
          0.018821153846153856,
          0.0006730769230769387,
          2.442932692307692,
          -0.03402884615384611,
          -2.4638865384615376,
          -0.07668461538461542,
          -0.40531856538461536,
          -0.1957988653846154,
          0.019896153846153914,
          -0.4717187711153847,
          -0.014138461538461523,
          0.023471153846153874,
          -0.019307692307692324,
          -0.3593973732692307,
          -2.4220634615384613,
          -1.577767653846154,
          -1.9749989230769234,
          -2.377096153846154,
          -2.7423711538461535,
          -0.015938461538461547,
          -0.012021153846153794,
          0.016638461538461543,
          -2.222710961538461,
          -0.014204807692307721,
          -0.0046884615384615155,
          2.1632692307692305,
          -2.075363461538462,
          2.3320500000000006,
          0.00905961538461534,
          0.03031346153846154,
          0.006934615384615355,
          2.2794403846153846,
          -0.01845769230769234,
          -0.4192891923076924,
          -0.23998269230769242,
          -1.8317269230769226,
          -0.5812922692307692,
          -0.2268826923076923,
          -0.24881923076923068,
          0.0148283511153846,
          -0.013723076923076914,
          -0.004594230769230767,
          0.02383807692307693,
          0.015271153846153851,
          -3.2105288461538466,
          -0.02858142307692305,
          -2.739299596153846,
          -1.8699048076923075,
          -0.025863461538461554,
          -3.7594915096153843,
          -0.6922791153846153,
          -0.07977557884615383,
          -0.36157307692307705,
          -3.1577851923076925,
          -0.08949999999999997,
          -0.1691004865384615,
          -0.33343982692307694,
          -0.04617729109615386,
          -1.6439626923076922,
          -0.007870366134615371,
          -1.6548211538461535,
          -2.454739238461538,
          -0.32235369230769234,
          -0.020563461538461496,
          -0.044744615384615376,
          -2.3152853846153842,
          -0.08334999999999998,
          0.00018557692307692613,
          0.01869615384615384,
          -2.2841980769230767,
          -0.0074423076923076795,
          0.014321153846153827,
          -0.01014615384615383,
          0.014788461538461512,
          -0.03800096153846154,
          0.19937307692307688,
          0.6386461538461538,
          -0.04216538461538461,
          0,
          0,
          0,
          0,
          0,
          0.18490000000000004,
          0,
          0.03956346153846154,
          -0.013795576923076923,
          -0.04343461538461539
         ]
        },
        {
         "name": "MCV1900422",
         "type": "scatter",
         "x": [
          333,
          334,
          335,
          336,
          337,
          338,
          339,
          340,
          341,
          342,
          343,
          344,
          345,
          346,
          347,
          348,
          349,
          350,
          351,
          352,
          353,
          354,
          355,
          356,
          357,
          358,
          359,
          360,
          361,
          362,
          363,
          364,
          365,
          366,
          367,
          368,
          369,
          370,
          371,
          372,
          373,
          374,
          375,
          376,
          377,
          378,
          379,
          380,
          381,
          382,
          383,
          384,
          385,
          386,
          387,
          388,
          389,
          390,
          391,
          392,
          393,
          394,
          395,
          396,
          397,
          398,
          399,
          400,
          401,
          402,
          403,
          404,
          405,
          406,
          407,
          408,
          409,
          410,
          411,
          412,
          413,
          414,
          415,
          416,
          417,
          418,
          419,
          420,
          421,
          422,
          423,
          424,
          425,
          426,
          427,
          428,
          429,
          430,
          431,
          432,
          433,
          434,
          435,
          436,
          437,
          438,
          439,
          440,
          441,
          442,
          443,
          444,
          445,
          446,
          447,
          448,
          449,
          450,
          451,
          452,
          453,
          454,
          455,
          456,
          457,
          458,
          459,
          460,
          461,
          462,
          463,
          464,
          465,
          466,
          467,
          468,
          469,
          470,
          471,
          472,
          473,
          474,
          475,
          476,
          477,
          478,
          479,
          480,
          481,
          482,
          483,
          484,
          485,
          486,
          487,
          488,
          489,
          490,
          491,
          492,
          493,
          494,
          495,
          496,
          497,
          498,
          499,
          500,
          501,
          502,
          503,
          504,
          505,
          506,
          507,
          508,
          509,
          510,
          511,
          512,
          513,
          514,
          515,
          516,
          517,
          518,
          519,
          520,
          521,
          522,
          523,
          524,
          525,
          526,
          527
         ],
         "y": [
          0.18490000000000004,
          0,
          -0.03734038461538462,
          0.054546153846153834,
          0.10459557692307694,
          0.024849999999999987,
          0.022133653846153838,
          1.6064538461538462,
          0.01786923076923077,
          0.021942307692307705,
          0.022080769230769216,
          0.021984615384615356,
          0.024628846153846154,
          -2.2220942307692306,
          0.0021692307692307397,
          0.022157692307692285,
          -0.011301923076923074,
          -0.034646153846153833,
          -0.02457115384615384,
          -0.018884615384615364,
          -0.04612442307692306,
          0.003759615384615378,
          -1.9873980769230768,
          -1.3780292307692306,
          -0.2577903846153846,
          -0.05480192307692307,
          0.18490000000000004,
          0,
          0,
          0.03378076923076923,
          -0.09465961538461538,
          1.6766423076923074,
          0.28523461538461536,
          0.025833461538461538,
          0.018207692307692272,
          0.02056153846153845,
          0.04891538461538463,
          0.010740384615384548,
          0.013075769230769255,
          0.02039999999999998,
          0.019758653846153832,
          0.002936538461538467,
          0.0002634615384615308,
          -0.003453846153846145,
          0.012805769230769207,
          -2.5125892307692315,
          0.013996153846153851,
          -0.015319230769230778,
          -0.012752884615384603,
          0.02773461538461537,
          -0.015889807692307682,
          -0.014662115384615383,
          -0.003530769230769237,
          -1.5110059615384621,
          -0.07175769230769229,
          0.12119807692307692,
          0.035890384615384616,
          -0.08403269230769231,
          0,
          -0.04741730769230769,
          0.18490000000000004,
          0.06527307692307693,
          -0.24455192307692306,
          0.16672115384615382,
          -0.008938461538461564,
          2.079588461538462,
          -0.007943076923076938,
          -0.011100000000000016,
          -0.00458846153846152,
          -0.016803846153846152,
          -3.4864673076923087,
          -0.023518461538461526,
          3.149746153846154,
          3.0319576923076927,
          -0.02165384615384613,
          -2.919330769230769,
          -0.028248076923076862,
          -0.006403846153846153,
          0.009346153846153829,
          0.03334692307692306,
          0.013902500000000005,
          0.0016115384615384548,
          0.018755769230769256,
          -0.04172115384615383,
          -5.332051923076921,
          -0.030803846153846178,
          -0.034840384615384606,
          2.7922749999999996,
          -0.0311578158269231,
          -0.049684615384615355,
          0.02697115384615384,
          -2.5709884615384615,
          0.01960961538461539,
          0.02016615384615383,
          2.411088461538461,
          2.1950307692307693,
          0.0023173076923076828,
          -0.002855769230769224,
          0.007919230769230744,
          -0.010719230769230769,
          -0.0062384615384615556,
          0.005282692307692281,
          -0.011761538461538478,
          -0.005916153846153887,
          -0.03709999999999998,
          0.002428846153846181,
          -0.020036538461538432,
          0.003811538461538503,
          0.002455769230769259,
          2.502538461538461,
          -0.02658461538461538,
          -2.5583692307692307,
          -0.03748653846153848,
          -0.04855192307692308,
          -0.04963788461538462,
          0.01560192307692307,
          -0.36427445932692315,
          -0.007519230769230756,
          0.013023076923076927,
          -0.016300000000000002,
          -0.9958802613461537,
          -2.437515384615385,
          -1.3511084615384616,
          -2.075795386538462,
          -2.3676480769230777,
          -2.8414634615384617,
          -0.019673076923076897,
          -0.0206384615384615,
          0.020575000000000003,
          -2.1830042307692312,
          -0.021033076923076936,
          -0.019375,
          2.162946153846154,
          -2.1041423076923076,
          2.3251942307692306,
          0.010273076923076914,
          0.030926923076923043,
          0.0037557692307692613,
          2.225771153846154,
          -0.013819230769230794,
          -0.35261780769230777,
          -0.021538461538461524,
          -0.9882151923076928,
          -0.8379253461538462,
          -0.2417653846153847,
          -0.10446923076923074,
          0.028093176134615393,
          0.00027884615384612314,
          -0.010515384615384623,
          -0.018248269230769207,
          -0.4406619230769231,
          -5.038957884615384,
          -0.11878955769230772,
          -2.866528615384616,
          -1.88361423076923,
          -0.017936538461538483,
          -2.5120042057692307,
          -0.11320613076923072,
          0.019361229532692315,
          -0.07635769230769231,
          -2.4409975000000013,
          -0.06741153846153844,
          -0.11077601369230766,
          -0.10852139230769234,
          -0.028284793931153865,
          -0.7717942307692307,
          -0.03314663847307692,
          -3.043694230769231,
          -3.786809396153845,
          -1.359866153846154,
          -0.372125,
          -0.05237942307692309,
          -3.2237151365384618,
          -0.08479999999999999,
          0.0015567232249999923,
          0.0098461538461538,
          -2.344446153846154,
          -0.008171153846153835,
          0.014269230769230777,
          -0.011865384615384627,
          0.01660769230769234,
          -0.00835096153846155,
          0.07055576923076926,
          0.5983923076923078,
          -0.08940961538461537,
          0,
          0,
          0,
          0,
          0,
          0.18490000000000004,
          -0.01173076923076923,
          0,
          0,
          0.010634615384615383
         ]
        }
       ],
       "layout": {
        "shapes": [
         {
          "line": {
           "dash": "dash",
           "width": 1
          },
          "type": "line",
          "x0": 501,
          "x1": 501,
          "xref": "x",
          "y0": 3.4021826923076923,
          "y1": -5.332051923076921,
          "yref": "y"
         }
        ],
        "template": {
         "data": {
          "bar": [
           {
            "error_x": {
             "color": "#2a3f5f"
            },
            "error_y": {
             "color": "#2a3f5f"
            },
            "marker": {
             "line": {
              "color": "#E5ECF6",
              "width": 0.5
             },
             "pattern": {
              "fillmode": "overlay",
              "size": 10,
              "solidity": 0.2
             }
            },
            "type": "bar"
           }
          ],
          "barpolar": [
           {
            "marker": {
             "line": {
              "color": "#E5ECF6",
              "width": 0.5
             },
             "pattern": {
              "fillmode": "overlay",
              "size": 10,
              "solidity": 0.2
             }
            },
            "type": "barpolar"
           }
          ],
          "carpet": [
           {
            "aaxis": {
             "endlinecolor": "#2a3f5f",
             "gridcolor": "white",
             "linecolor": "white",
             "minorgridcolor": "white",
             "startlinecolor": "#2a3f5f"
            },
            "baxis": {
             "endlinecolor": "#2a3f5f",
             "gridcolor": "white",
             "linecolor": "white",
             "minorgridcolor": "white",
             "startlinecolor": "#2a3f5f"
            },
            "type": "carpet"
           }
          ],
          "choropleth": [
           {
            "colorbar": {
             "outlinewidth": 0,
             "ticks": ""
            },
            "type": "choropleth"
           }
          ],
          "contour": [
           {
            "colorbar": {
             "outlinewidth": 0,
             "ticks": ""
            },
            "colorscale": [
             [
              0,
              "#0d0887"
             ],
             [
              0.1111111111111111,
              "#46039f"
             ],
             [
              0.2222222222222222,
              "#7201a8"
             ],
             [
              0.3333333333333333,
              "#9c179e"
             ],
             [
              0.4444444444444444,
              "#bd3786"
             ],
             [
              0.5555555555555556,
              "#d8576b"
             ],
             [
              0.6666666666666666,
              "#ed7953"
             ],
             [
              0.7777777777777778,
              "#fb9f3a"
             ],
             [
              0.8888888888888888,
              "#fdca26"
             ],
             [
              1,
              "#f0f921"
             ]
            ],
            "type": "contour"
           }
          ],
          "contourcarpet": [
           {
            "colorbar": {
             "outlinewidth": 0,
             "ticks": ""
            },
            "type": "contourcarpet"
           }
          ],
          "heatmap": [
           {
            "colorbar": {
             "outlinewidth": 0,
             "ticks": ""
            },
            "colorscale": [
             [
              0,
              "#0d0887"
             ],
             [
              0.1111111111111111,
              "#46039f"
             ],
             [
              0.2222222222222222,
              "#7201a8"
             ],
             [
              0.3333333333333333,
              "#9c179e"
             ],
             [
              0.4444444444444444,
              "#bd3786"
             ],
             [
              0.5555555555555556,
              "#d8576b"
             ],
             [
              0.6666666666666666,
              "#ed7953"
             ],
             [
              0.7777777777777778,
              "#fb9f3a"
             ],
             [
              0.8888888888888888,
              "#fdca26"
             ],
             [
              1,
              "#f0f921"
             ]
            ],
            "type": "heatmap"
           }
          ],
          "histogram": [
           {
            "marker": {
             "pattern": {
              "fillmode": "overlay",
              "size": 10,
              "solidity": 0.2
             }
            },
            "type": "histogram"
           }
          ],
          "histogram2d": [
           {
            "colorbar": {
             "outlinewidth": 0,
             "ticks": ""
            },
            "colorscale": [
             [
              0,
              "#0d0887"
             ],
             [
              0.1111111111111111,
              "#46039f"
             ],
             [
              0.2222222222222222,
              "#7201a8"
             ],
             [
              0.3333333333333333,
              "#9c179e"
             ],
             [
              0.4444444444444444,
              "#bd3786"
             ],
             [
              0.5555555555555556,
              "#d8576b"
             ],
             [
              0.6666666666666666,
              "#ed7953"
             ],
             [
              0.7777777777777778,
              "#fb9f3a"
             ],
             [
              0.8888888888888888,
              "#fdca26"
             ],
             [
              1,
              "#f0f921"
             ]
            ],
            "type": "histogram2d"
           }
          ],
          "histogram2dcontour": [
           {
            "colorbar": {
             "outlinewidth": 0,
             "ticks": ""
            },
            "colorscale": [
             [
              0,
              "#0d0887"
             ],
             [
              0.1111111111111111,
              "#46039f"
             ],
             [
              0.2222222222222222,
              "#7201a8"
             ],
             [
              0.3333333333333333,
              "#9c179e"
             ],
             [
              0.4444444444444444,
              "#bd3786"
             ],
             [
              0.5555555555555556,
              "#d8576b"
             ],
             [
              0.6666666666666666,
              "#ed7953"
             ],
             [
              0.7777777777777778,
              "#fb9f3a"
             ],
             [
              0.8888888888888888,
              "#fdca26"
             ],
             [
              1,
              "#f0f921"
             ]
            ],
            "type": "histogram2dcontour"
           }
          ],
          "mesh3d": [
           {
            "colorbar": {
             "outlinewidth": 0,
             "ticks": ""
            },
            "type": "mesh3d"
           }
          ],
          "parcoords": [
           {
            "line": {
             "colorbar": {
              "outlinewidth": 0,
              "ticks": ""
             }
            },
            "type": "parcoords"
           }
          ],
          "pie": [
           {
            "automargin": true,
            "type": "pie"
           }
          ],
          "scatter": [
           {
            "fillpattern": {
             "fillmode": "overlay",
             "size": 10,
             "solidity": 0.2
            },
            "type": "scatter"
           }
          ],
          "scatter3d": [
           {
            "line": {
             "colorbar": {
              "outlinewidth": 0,
              "ticks": ""
             }
            },
            "marker": {
             "colorbar": {
              "outlinewidth": 0,
              "ticks": ""
             }
            },
            "type": "scatter3d"
           }
          ],
          "scattercarpet": [
           {
            "marker": {
             "colorbar": {
              "outlinewidth": 0,
              "ticks": ""
             }
            },
            "type": "scattercarpet"
           }
          ],
          "scattergeo": [
           {
            "marker": {
             "colorbar": {
              "outlinewidth": 0,
              "ticks": ""
             }
            },
            "type": "scattergeo"
           }
          ],
          "scattergl": [
           {
            "marker": {
             "colorbar": {
              "outlinewidth": 0,
              "ticks": ""
             }
            },
            "type": "scattergl"
           }
          ],
          "scattermap": [
           {
            "marker": {
             "colorbar": {
              "outlinewidth": 0,
              "ticks": ""
             }
            },
            "type": "scattermap"
           }
          ],
          "scattermapbox": [
           {
            "marker": {
             "colorbar": {
              "outlinewidth": 0,
              "ticks": ""
             }
            },
            "type": "scattermapbox"
           }
          ],
          "scatterpolar": [
           {
            "marker": {
             "colorbar": {
              "outlinewidth": 0,
              "ticks": ""
             }
            },
            "type": "scatterpolar"
           }
          ],
          "scatterpolargl": [
           {
            "marker": {
             "colorbar": {
              "outlinewidth": 0,
              "ticks": ""
             }
            },
            "type": "scatterpolargl"
           }
          ],
          "scatterternary": [
           {
            "marker": {
             "colorbar": {
              "outlinewidth": 0,
              "ticks": ""
             }
            },
            "type": "scatterternary"
           }
          ],
          "surface": [
           {
            "colorbar": {
             "outlinewidth": 0,
             "ticks": ""
            },
            "colorscale": [
             [
              0,
              "#0d0887"
             ],
             [
              0.1111111111111111,
              "#46039f"
             ],
             [
              0.2222222222222222,
              "#7201a8"
             ],
             [
              0.3333333333333333,
              "#9c179e"
             ],
             [
              0.4444444444444444,
              "#bd3786"
             ],
             [
              0.5555555555555556,
              "#d8576b"
             ],
             [
              0.6666666666666666,
              "#ed7953"
             ],
             [
              0.7777777777777778,
              "#fb9f3a"
             ],
             [
              0.8888888888888888,
              "#fdca26"
             ],
             [
              1,
              "#f0f921"
             ]
            ],
            "type": "surface"
           }
          ],
          "table": [
           {
            "cells": {
             "fill": {
              "color": "#EBF0F8"
             },
             "line": {
              "color": "white"
             }
            },
            "header": {
             "fill": {
              "color": "#C8D4E3"
             },
             "line": {
              "color": "white"
             }
            },
            "type": "table"
           }
          ]
         },
         "layout": {
          "annotationdefaults": {
           "arrowcolor": "#2a3f5f",
           "arrowhead": 0,
           "arrowwidth": 1
          },
          "autotypenumbers": "strict",
          "coloraxis": {
           "colorbar": {
            "outlinewidth": 0,
            "ticks": ""
           }
          },
          "colorscale": {
           "diverging": [
            [
             0,
             "#8e0152"
            ],
            [
             0.1,
             "#c51b7d"
            ],
            [
             0.2,
             "#de77ae"
            ],
            [
             0.3,
             "#f1b6da"
            ],
            [
             0.4,
             "#fde0ef"
            ],
            [
             0.5,
             "#f7f7f7"
            ],
            [
             0.6,
             "#e6f5d0"
            ],
            [
             0.7,
             "#b8e186"
            ],
            [
             0.8,
             "#7fbc41"
            ],
            [
             0.9,
             "#4d9221"
            ],
            [
             1,
             "#276419"
            ]
           ],
           "sequential": [
            [
             0,
             "#0d0887"
            ],
            [
             0.1111111111111111,
             "#46039f"
            ],
            [
             0.2222222222222222,
             "#7201a8"
            ],
            [
             0.3333333333333333,
             "#9c179e"
            ],
            [
             0.4444444444444444,
             "#bd3786"
            ],
            [
             0.5555555555555556,
             "#d8576b"
            ],
            [
             0.6666666666666666,
             "#ed7953"
            ],
            [
             0.7777777777777778,
             "#fb9f3a"
            ],
            [
             0.8888888888888888,
             "#fdca26"
            ],
            [
             1,
             "#f0f921"
            ]
           ],
           "sequentialminus": [
            [
             0,
             "#0d0887"
            ],
            [
             0.1111111111111111,
             "#46039f"
            ],
            [
             0.2222222222222222,
             "#7201a8"
            ],
            [
             0.3333333333333333,
             "#9c179e"
            ],
            [
             0.4444444444444444,
             "#bd3786"
            ],
            [
             0.5555555555555556,
             "#d8576b"
            ],
            [
             0.6666666666666666,
             "#ed7953"
            ],
            [
             0.7777777777777778,
             "#fb9f3a"
            ],
            [
             0.8888888888888888,
             "#fdca26"
            ],
            [
             1,
             "#f0f921"
            ]
           ]
          },
          "colorway": [
           "#636efa",
           "#EF553B",
           "#00cc96",
           "#ab63fa",
           "#FFA15A",
           "#19d3f3",
           "#FF6692",
           "#B6E880",
           "#FF97FF",
           "#FECB52"
          ],
          "font": {
           "color": "#2a3f5f"
          },
          "geo": {
           "bgcolor": "white",
           "lakecolor": "white",
           "landcolor": "#E5ECF6",
           "showlakes": true,
           "showland": true,
           "subunitcolor": "white"
          },
          "hoverlabel": {
           "align": "left"
          },
          "hovermode": "closest",
          "mapbox": {
           "style": "light"
          },
          "paper_bgcolor": "white",
          "plot_bgcolor": "#E5ECF6",
          "polar": {
           "angularaxis": {
            "gridcolor": "white",
            "linecolor": "white",
            "ticks": ""
           },
           "bgcolor": "#E5ECF6",
           "radialaxis": {
            "gridcolor": "white",
            "linecolor": "white",
            "ticks": ""
           }
          },
          "scene": {
           "xaxis": {
            "backgroundcolor": "#E5ECF6",
            "gridcolor": "white",
            "gridwidth": 2,
            "linecolor": "white",
            "showbackground": true,
            "ticks": "",
            "zerolinecolor": "white"
           },
           "yaxis": {
            "backgroundcolor": "#E5ECF6",
            "gridcolor": "white",
            "gridwidth": 2,
            "linecolor": "white",
            "showbackground": true,
            "ticks": "",
            "zerolinecolor": "white"
           },
           "zaxis": {
            "backgroundcolor": "#E5ECF6",
            "gridcolor": "white",
            "gridwidth": 2,
            "linecolor": "white",
            "showbackground": true,
            "ticks": "",
            "zerolinecolor": "white"
           }
          },
          "shapedefaults": {
           "line": {
            "color": "#2a3f5f"
           }
          },
          "ternary": {
           "aaxis": {
            "gridcolor": "white",
            "linecolor": "white",
            "ticks": ""
           },
           "baxis": {
            "gridcolor": "white",
            "linecolor": "white",
            "ticks": ""
           },
           "bgcolor": "#E5ECF6",
           "caxis": {
            "gridcolor": "white",
            "linecolor": "white",
            "ticks": ""
           }
          },
          "title": {
           "x": 0.05
          },
          "xaxis": {
           "automargin": true,
           "gridcolor": "white",
           "linecolor": "white",
           "ticks": "",
           "title": {
            "standoff": 15
           },
           "zerolinecolor": "white",
           "zerolinewidth": 2
          },
          "yaxis": {
           "automargin": true,
           "gridcolor": "white",
           "linecolor": "white",
           "ticks": "",
           "title": {
            "standoff": 15
           },
           "zerolinecolor": "white",
           "zerolinewidth": 2
          }
         }
        },
        "title": {
         "text": "Energies analyses from all Y501 simulations together"
        },
        "xaxis": {
         "title": {
          "text": "Residues"
         }
        },
        "yaxis": {
         "title": {
          "text": "Electrostatic + VdW energy (kcal/mol)"
         }
        }
       }
      },
      "image/png": "[encoded data removed]",
      "text/html": [
       "<div>            <script src=\"https://cdnjs.cloudflare.com/ajax/libs/mathjax/2.7.5/MathJax.js?config=TeX-AMS-MML_SVG\"></script><script type=\"text/javascript\">if (window.MathJax && window.MathJax.Hub && window.MathJax.Hub.Config) {window.MathJax.Hub.Config({SVG: {font: \"STIX-Web\"}});}</script>                <script type=\"text/javascript\">window.PlotlyConfig = {MathJaxConfig: 'local'};</script>\n",
       "        <script charset=\"utf-8\" src=\"https://cdn.plot.ly/plotly-3.0.1.min.js\"></script>                <div id=\"0888a89a-f05d-40eb-b7b7-e4930ab62f11\" class=\"plotly-graph-div\" style=\"height:525px; width:100%;\"></div>            <script type=\"text/javascript\">                window.PLOTLYENV=window.PLOTLYENV || {};                                if (document.getElementById(\"0888a89a-f05d-40eb-b7b7-e4930ab62f11\")) {                    Plotly.newPlot(                        \"0888a89a-f05d-40eb-b7b7-e4930ab62f11\",                        [{\"name\":\"MCV1900413\",\"x\":[333,334,335,336,337,338,339,340,341,342,343,344,345,346,347,348,349,350,351,352,353,354,355,356,357,358,359,360,361,362,363,364,365,366,367,368,369,370,371,372,373,374,375,376,377,378,379,380,381,382,383,384,385,386,387,388,389,390,391,392,393,394,395,396,397,398,399,400,401,402,403,404,405,406,407,408,409,410,411,412,413,414,415,416,417,418,419,420,421,422,423,424,425,426,427,428,429,430,431,432,433,434,435,436,437,438,439,440,441,442,443,444,445,446,447,448,449,450,451,452,453,454,455,456,457,458,459,460,461,462,463,464,465,466,467,468,469,470,471,472,473,474,475,476,477,478,479,480,481,482,483,484,485,486,487,488,489,490,491,492,493,494,495,496,497,498,499,500,501,502,503,504,505,506,507,508,509,510,511,512,513,514,515,516,517,518,519,520,521,522,523,524,525,526,527],\"y\":[0.18490000000000004,0,-0.021507692307692304,-0.0059269230769230805,0.19050423076923076,0.12668461538461534,0.09741384615384609,0.9561403846153842,0.08402884615384619,0.061196153846153845,0.0723980769230769,0.02499230769230767,0.07445384615384612,-2.2846403846153844,0.020436538461538457,0.037296153846153854,0.002544230769230784,-0.03806346153846151,-0.015030769230769226,-0.034857692307692284,-0.04924923076923078,0.030659615384615393,-1.7766711538461535,-0.5775975,-0.04255961538461539,-0.043796153846153846,0.18490000000000004,0,0,0,-0.027125000000000003,1.0638788461538466,0.24412692307692302,0.12248596153846156,0.02789038461538464,0.023021153846153865,0.032926923076923055,0.02626346153846154,0.014551538461538475,0.018028846153846142,0.02646153846153845,0.005365384615384635,-0.005730769230769228,-0.007223076923076917,0.010651923076923066,-2.671525,0.01801153846153846,-0.028776923076923137,-0.016562499999999983,0.0322903846153846,-0.019203461538461558,-0.019854999999999973,0.008567307692307667,-1.4764248076923077,-0.1178884615384615,0.16600384615384614,0.13992115384615383,-0.054603846153846156,0,-0.07310576923076922,0.18490000000000004,0,-0.2678,0.1918692307692309,0.06068653846153844,2.040719230769231,-0.018044230769230788,-0.012790384615384608,-0.0024980769230768998,-0.027992307692307705,-3.8650442307692305,-0.02452692307692312,3.4021826923076923,3.310205769230769,-0.021659615384615326,-3.2238076923076906,-0.034259615384615395,-0.007857692307692335,0.015717307692307666,0.033512884615384604,0.029409423076923125,0.0062692307692307665,0.021642307692307704,-0.04714365384615385,-5.157621153846156,-0.03652115384615389,-0.04170961538461538,3.1029807692307694,-0.0350363283461539,-0.06584038461538458,0.03427692307692303,-2.8845865384615377,0.0309730769230769,0.018533269230769235,2.7517942307692307,2.310886538461538,0.004346153846153831,-0.011736538461538465,0.010309038461538477,-0.013638461538461561,-0.008698076923076947,0.0068096153846153775,-0.015292307692307699,-0.0011746153846154063,-0.05033076923076925,0.011680769230769213,-0.004803846153846137,0.021382692307692283,-0.0014269230769230821,2.590151923076923,-0.029169230769230742,-2.5884961538461533,-0.04167692307692306,-0.057661480769230763,-0.061772500000000015,0.020103846153846174,-0.3675640762499999,-0.007221153846153836,0.013744230769230746,-0.020280769230769182,-0.6750087496153849,-2.570457692307693,-1.3204786153846146,-1.946787257692308,-2.5645057692307693,-2.900007692307691,-0.028340384615384594,-0.0007346153846153378,0.04137692307692305,-2.416088461538462,-0.07215846153846153,-0.023261538461538448,2.213784615384616,-1.8843576923076921,2.440063461538461,0.01414038461538462,0.05828269230769233,-0.007611538461538461,2.240915384615384,0.00967499999999996,-0.35115004807692307,-0.019349999999999954,-1.1817688461538463,-0.6138719230769231,-0.26397692307692305,-0.0560403846153846,0.02436175217307694,-0.016084615384615364,-0.017444230769230684,-0.044285961538461545,0.00812500000000002,2.3088000000000006,-0.04677769230769227,-2.585985192307692,-1.8160038461538464,-0.02189615384615384,-2.443351742307691,-0.1116533486538461,0.024887420778653822,-0.04430192307692306,-2.0715749999999997,-0.015178846153846173,-0.11110048546153851,-0.12621475,-0.04457111723076923,-0.9403634615384615,-0.0391321403846154,-3.110180769230768,-3.4529260961538455,-1.1015038461538464,-0.12180576923076919,-0.05428788461538459,-3.2952056288461544,-0.08679038461538452,0.00505846153846155,0.02427692307692308,-2.4177461538461533,-0.0103980769230769,0.018619230769230773,-0.015615384615384621,0.05679807692307689,-0.13505673076923083,0.2293057692307692,0.26770384615384607,0.008438461538461525,0,0,0,0,0,0.18490000000000004,0,0,0,-0.008871153846153846],\"type\":\"scatter\"},{\"name\":\"MCV1900416\",\"x\":[333,334,335,336,337,338,339,340,341,342,343,344,345,346,347,348,349,350,351,352,353,354,355,356,357,358,359,360,361,362,363,364,365,366,367,368,369,370,371,372,373,374,375,376,377,378,379,380,381,382,383,384,385,386,387,388,389,390,391,392,393,394,395,396,397,398,399,400,401,402,403,404,405,406,407,408,409,410,411,412,413,414,415,416,417,418,419,420,421,422,423,424,425,426,427,428,429,430,431,432,433,434,435,436,437,438,439,440,441,442,443,444,445,446,447,448,449,450,451,452,453,454,455,456,457,458,459,460,461,462,463,464,465,466,467,468,469,470,471,472,473,474,475,476,477,478,479,480,481,482,483,484,485,486,487,488,489,490,491,492,493,494,495,496,497,498,499,500,501,502,503,504,505,506,507,508,509,510,511,512,513,514,515,516,517,518,519,520,521,522,523,524,525,526,527],\"y\":[0.2102057692307694,-0.15190769230769227,-0.03715192307692303,-0.062396153846153865,0.019837692307692313,0.041180769230769215,0.14416923076923077,1.4029903846153846,0.018690384615384602,0.02036538461538461,0.018101923076923078,0.019992307692307695,0.021778846153846183,-2.1840653846153844,0.0034365384615384375,0.02232115384615383,-0.011303846153846173,-0.03290769230769234,-0.021832692307692268,-0.016649999999999995,-0.040870769230769224,0.0030865384615384847,-1.8990192307692308,-1.7105424999999999,-0.19614038461538463,0.014986538461538464,0.17210769230769232,0,-0.004957692307692306,-0.0025384615384615385,-0.11357692307692308,1.3954038461538463,0.13863269230769235,0.03037192307692305,0.03887500000000001,0.01242115384615384,0.018807692307692307,0.027076923076923075,0.000239423076923089,-0.00512499999999998,0.007357115384615356,-0.001076923076923078,-0.00531923076923076,-0.0016557692307692406,0.0060096153846153355,-2.3414825,0.015505769230769248,-0.011599999999999989,-0.07218057692307693,0.04723846153846155,0.13588749999999997,-0.07289865384615382,0.10169615384615384,-0.514968846153846,-0.006173076923076934,-0.005075000000000001,-0.002034615384615387,0.028253846153846154,0,-0.04147884615384616,0.18490000000000004,0.054575000000000005,-0.11451346153846155,0.09041923076923078,0.013609615384615394,2.034209615384615,-0.004861153846153825,-0.012917307692307704,-0.0008057692307692146,-0.021567307692307698,-3.313859615384616,-0.028545000000000025,3.037540384615385,2.978849999999999,-0.02083269230769231,-2.860957692307693,-0.034613461538461544,-0.008499999999999987,0.014930769230769235,0.027986346153846122,0.02160711538461535,0.009248076923076907,0.017505769230769224,-0.044104999999999984,-0.11962115384615381,-0.030346153846153818,-0.03025576923076925,2.706848076923077,-0.019011538461538427,-0.044788461538461506,0.022923076923076966,-2.5358365384615382,0.019498076923076927,0.01898230769230771,2.359798076923077,2.1649769230769236,-0.0017769230769230733,0.029032692307692287,0.0007984615384615363,-0.006582692307692311,-0.00911346153846156,0.005544230769230782,-0.014573076923076937,-0.004621730769230755,-0.0479576923076923,-0.020521153846153852,0.003115384615384631,0.018821153846153856,0.0006730769230769387,2.442932692307692,-0.03402884615384611,-2.4638865384615376,-0.07668461538461542,-0.40531856538461536,-0.1957988653846154,0.019896153846153914,-0.4717187711153847,-0.014138461538461523,0.023471153846153874,-0.019307692307692324,-0.3593973732692307,-2.4220634615384613,-1.577767653846154,-1.9749989230769234,-2.377096153846154,-2.7423711538461535,-0.015938461538461547,-0.012021153846153794,0.016638461538461543,-2.222710961538461,-0.014204807692307721,-0.0046884615384615155,2.1632692307692305,-2.075363461538462,2.3320500000000006,0.00905961538461534,0.03031346153846154,0.006934615384615355,2.2794403846153846,-0.01845769230769234,-0.4192891923076924,-0.23998269230769242,-1.8317269230769226,-0.5812922692307692,-0.2268826923076923,-0.24881923076923068,0.0148283511153846,-0.013723076923076914,-0.004594230769230767,0.02383807692307693,0.015271153846153851,-3.2105288461538466,-0.02858142307692305,-2.739299596153846,-1.8699048076923075,-0.025863461538461554,-3.7594915096153843,-0.6922791153846153,-0.07977557884615383,-0.36157307692307705,-3.1577851923076925,-0.08949999999999997,-0.1691004865384615,-0.33343982692307694,-0.04617729109615386,-1.6439626923076922,-0.007870366134615371,-1.6548211538461535,-2.454739238461538,-0.32235369230769234,-0.020563461538461496,-0.044744615384615376,-2.3152853846153842,-0.08334999999999998,0.00018557692307692613,0.01869615384615384,-2.2841980769230767,-0.0074423076923076795,0.014321153846153827,-0.01014615384615383,0.014788461538461512,-0.03800096153846154,0.19937307692307688,0.6386461538461538,-0.04216538461538461,0,0,0,0,0,0.18490000000000004,0,0.03956346153846154,-0.013795576923076923,-0.04343461538461539],\"type\":\"scatter\"},{\"name\":\"MCV1900422\",\"x\":[333,334,335,336,337,338,339,340,341,342,343,344,345,346,347,348,349,350,351,352,353,354,355,356,357,358,359,360,361,362,363,364,365,366,367,368,369,370,371,372,373,374,375,376,377,378,379,380,381,382,383,384,385,386,387,388,389,390,391,392,393,394,395,396,397,398,399,400,401,402,403,404,405,406,407,408,409,410,411,412,413,414,415,416,417,418,419,420,421,422,423,424,425,426,427,428,429,430,431,432,433,434,435,436,437,438,439,440,441,442,443,444,445,446,447,448,449,450,451,452,453,454,455,456,457,458,459,460,461,462,463,464,465,466,467,468,469,470,471,472,473,474,475,476,477,478,479,480,481,482,483,484,485,486,487,488,489,490,491,492,493,494,495,496,497,498,499,500,501,502,503,504,505,506,507,508,509,510,511,512,513,514,515,516,517,518,519,520,521,522,523,524,525,526,527],\"y\":[0.18490000000000004,0,-0.03734038461538462,0.054546153846153834,0.10459557692307694,0.024849999999999987,0.022133653846153838,1.6064538461538462,0.01786923076923077,0.021942307692307705,0.022080769230769216,0.021984615384615356,0.024628846153846154,-2.2220942307692306,0.0021692307692307397,0.022157692307692285,-0.011301923076923074,-0.034646153846153833,-0.02457115384615384,-0.018884615384615364,-0.04612442307692306,0.003759615384615378,-1.9873980769230768,-1.3780292307692306,-0.2577903846153846,-0.05480192307692307,0.18490000000000004,0,0,0.03378076923076923,-0.09465961538461538,1.6766423076923074,0.28523461538461536,0.025833461538461538,0.018207692307692272,0.02056153846153845,0.04891538461538463,0.010740384615384548,0.013075769230769255,0.02039999999999998,0.019758653846153832,0.002936538461538467,0.0002634615384615308,-0.003453846153846145,0.012805769230769207,-2.5125892307692315,0.013996153846153851,-0.015319230769230778,-0.012752884615384603,0.02773461538461537,-0.015889807692307682,-0.014662115384615383,-0.003530769230769237,-1.5110059615384621,-0.07175769230769229,0.12119807692307692,0.035890384615384616,-0.08403269230769231,0,-0.04741730769230769,0.18490000000000004,0.06527307692307693,-0.24455192307692306,0.16672115384615382,-0.008938461538461564,2.079588461538462,-0.007943076923076938,-0.011100000000000016,-0.00458846153846152,-0.016803846153846152,-3.4864673076923087,-0.023518461538461526,3.149746153846154,3.0319576923076927,-0.02165384615384613,-2.919330769230769,-0.028248076923076862,-0.006403846153846153,0.009346153846153829,0.03334692307692306,0.013902500000000005,0.0016115384615384548,0.018755769230769256,-0.04172115384615383,-5.332051923076921,-0.030803846153846178,-0.034840384615384606,2.7922749999999996,-0.0311578158269231,-0.049684615384615355,0.02697115384615384,-2.5709884615384615,0.01960961538461539,0.02016615384615383,2.411088461538461,2.1950307692307693,0.0023173076923076828,-0.002855769230769224,0.007919230769230744,-0.010719230769230769,-0.0062384615384615556,0.005282692307692281,-0.011761538461538478,-0.005916153846153887,-0.03709999999999998,0.002428846153846181,-0.020036538461538432,0.003811538461538503,0.002455769230769259,2.502538461538461,-0.02658461538461538,-2.5583692307692307,-0.03748653846153848,-0.04855192307692308,-0.04963788461538462,0.01560192307692307,-0.36427445932692315,-0.007519230769230756,0.013023076923076927,-0.016300000000000002,-0.9958802613461537,-2.437515384615385,-1.3511084615384616,-2.075795386538462,-2.3676480769230777,-2.8414634615384617,-0.019673076923076897,-0.0206384615384615,0.020575000000000003,-2.1830042307692312,-0.021033076923076936,-0.019375,2.162946153846154,-2.1041423076923076,2.3251942307692306,0.010273076923076914,0.030926923076923043,0.0037557692307692613,2.225771153846154,-0.013819230769230794,-0.35261780769230777,-0.021538461538461524,-0.9882151923076928,-0.8379253461538462,-0.2417653846153847,-0.10446923076923074,0.028093176134615393,0.00027884615384612314,-0.010515384615384623,-0.018248269230769207,-0.4406619230769231,-5.038957884615384,-0.11878955769230772,-2.866528615384616,-1.88361423076923,-0.017936538461538483,-2.5120042057692307,-0.11320613076923072,0.019361229532692315,-0.07635769230769231,-2.4409975000000013,-0.06741153846153844,-0.11077601369230766,-0.10852139230769234,-0.028284793931153865,-0.7717942307692307,-0.03314663847307692,-3.043694230769231,-3.786809396153845,-1.359866153846154,-0.372125,-0.05237942307692309,-3.2237151365384618,-0.08479999999999999,0.0015567232249999923,0.0098461538461538,-2.344446153846154,-0.008171153846153835,0.014269230769230777,-0.011865384615384627,0.01660769230769234,-0.00835096153846155,0.07055576923076926,0.5983923076923078,-0.08940961538461537,0,0,0,0,0,0.18490000000000004,-0.01173076923076923,0,0,0.010634615384615383],\"type\":\"scatter\"}],                        {\"shapes\":[{\"line\":{\"dash\":\"dash\",\"width\":1},\"type\":\"line\",\"x0\":501,\"x1\":501,\"xref\":\"x\",\"y0\":3.4021826923076923,\"y1\":-5.332051923076921,\"yref\":\"y\"}],\"title\":{\"text\":\"Energies analyses from all Y501 simulations together\"},\"xaxis\":{\"title\":{\"text\":\"Residues\"}},\"yaxis\":{\"title\":{\"text\":\"Electrostatic + VdW energy (kcal\\u002fmol)\"}},\"template\":{\"data\":{\"histogram2dcontour\":[{\"type\":\"histogram2dcontour\",\"colorbar\":{\"outlinewidth\":0,\"ticks\":\"\"},\"colorscale\":[[0.0,\"#0d0887\"],[0.1111111111111111,\"#46039f\"],[0.2222222222222222,\"#7201a8\"],[0.3333333333333333,\"#9c179e\"],[0.4444444444444444,\"#bd3786\"],[0.5555555555555556,\"#d8576b\"],[0.6666666666666666,\"#ed7953\"],[0.7777777777777778,\"#fb9f3a\"],[0.8888888888888888,\"#fdca26\"],[1.0,\"#f0f921\"]]}],\"choropleth\":[{\"type\":\"choropleth\",\"colorbar\":{\"outlinewidth\":0,\"ticks\":\"\"}}],\"histogram2d\":[{\"type\":\"histogram2d\",\"colorbar\":{\"outlinewidth\":0,\"ticks\":\"\"},\"colorscale\":[[0.0,\"#0d0887\"],[0.1111111111111111,\"#46039f\"],[0.2222222222222222,\"#7201a8\"],[0.3333333333333333,\"#9c179e\"],[0.4444444444444444,\"#bd3786\"],[0.5555555555555556,\"#d8576b\"],[0.6666666666666666,\"#ed7953\"],[0.7777777777777778,\"#fb9f3a\"],[0.8888888888888888,\"#fdca26\"],[1.0,\"#f0f921\"]]}],\"heatmap\":[{\"type\":\"heatmap\",\"colorbar\":{\"outlinewidth\":0,\"ticks\":\"\"},\"colorscale\":[[0.0,\"#0d0887\"],[0.1111111111111111,\"#46039f\"],[0.2222222222222222,\"#7201a8\"],[0.3333333333333333,\"#9c179e\"],[0.4444444444444444,\"#bd3786\"],[0.5555555555555556,\"#d8576b\"],[0.6666666666666666,\"#ed7953\"],[0.7777777777777778,\"#fb9f3a\"],[0.8888888888888888,\"#fdca26\"],[1.0,\"#f0f921\"]]}],\"contourcarpet\":[{\"type\":\"contourcarpet\",\"colorbar\":{\"outlinewidth\":0,\"ticks\":\"\"}}],\"contour\":[{\"type\":\"contour\",\"colorbar\":{\"outlinewidth\":0,\"ticks\":\"\"},\"colorscale\":[[0.0,\"#0d0887\"],[0.1111111111111111,\"#46039f\"],[0.2222222222222222,\"#7201a8\"],[0.3333333333333333,\"#9c179e\"],[0.4444444444444444,\"#bd3786\"],[0.5555555555555556,\"#d8576b\"],[0.6666666666666666,\"#ed7953\"],[0.7777777777777778,\"#fb9f3a\"],[0.8888888888888888,\"#fdca26\"],[1.0,\"#f0f921\"]]}],\"surface\":[{\"type\":\"surface\",\"colorbar\":{\"outlinewidth\":0,\"ticks\":\"\"},\"colorscale\":[[0.0,\"#0d0887\"],[0.1111111111111111,\"#46039f\"],[0.2222222222222222,\"#7201a8\"],[0.3333333333333333,\"#9c179e\"],[0.4444444444444444,\"#bd3786\"],[0.5555555555555556,\"#d8576b\"],[0.6666666666666666,\"#ed7953\"],[0.7777777777777778,\"#fb9f3a\"],[0.8888888888888888,\"#fdca26\"],[1.0,\"#f0f921\"]]}],\"mesh3d\":[{\"type\":\"mesh3d\",\"colorbar\":{\"outlinewidth\":0,\"ticks\":\"\"}}],\"scatter\":[{\"fillpattern\":{\"fillmode\":\"overlay\",\"size\":10,\"solidity\":0.2},\"type\":\"scatter\"}],\"parcoords\":[{\"type\":\"parcoords\",\"line\":{\"colorbar\":{\"outlinewidth\":0,\"ticks\":\"\"}}}],\"scatterpolargl\":[{\"type\":\"scatterpolargl\",\"marker\":{\"colorbar\":{\"outlinewidth\":0,\"ticks\":\"\"}}}],\"bar\":[{\"error_x\":{\"color\":\"#2a3f5f\"},\"error_y\":{\"color\":\"#2a3f5f\"},\"marker\":{\"line\":{\"color\":\"#E5ECF6\",\"width\":0.5},\"pattern\":{\"fillmode\":\"overlay\",\"size\":10,\"solidity\":0.2}},\"type\":\"bar\"}],\"scattergeo\":[{\"type\":\"scattergeo\",\"marker\":{\"colorbar\":{\"outlinewidth\":0,\"ticks\":\"\"}}}],\"scatterpolar\":[{\"type\":\"scatterpolar\",\"marker\":{\"colorbar\":{\"outlinewidth\":0,\"ticks\":\"\"}}}],\"histogram\":[{\"marker\":{\"pattern\":{\"fillmode\":\"overlay\",\"size\":10,\"solidity\":0.2}},\"type\":\"histogram\"}],\"scattergl\":[{\"type\":\"scattergl\",\"marker\":{\"colorbar\":{\"outlinewidth\":0,\"ticks\":\"\"}}}],\"scatter3d\":[{\"type\":\"scatter3d\",\"line\":{\"colorbar\":{\"outlinewidth\":0,\"ticks\":\"\"}},\"marker\":{\"colorbar\":{\"outlinewidth\":0,\"ticks\":\"\"}}}],\"scattermap\":[{\"type\":\"scattermap\",\"marker\":{\"colorbar\":{\"outlinewidth\":0,\"ticks\":\"\"}}}],\"scattermapbox\":[{\"type\":\"scattermapbox\",\"marker\":{\"colorbar\":{\"outlinewidth\":0,\"ticks\":\"\"}}}],\"scatterternary\":[{\"type\":\"scatterternary\",\"marker\":{\"colorbar\":{\"outlinewidth\":0,\"ticks\":\"\"}}}],\"scattercarpet\":[{\"type\":\"scattercarpet\",\"marker\":{\"colorbar\":{\"outlinewidth\":0,\"ticks\":\"\"}}}],\"carpet\":[{\"aaxis\":{\"endlinecolor\":\"#2a3f5f\",\"gridcolor\":\"white\",\"linecolor\":\"white\",\"minorgridcolor\":\"white\",\"startlinecolor\":\"#2a3f5f\"},\"baxis\":{\"endlinecolor\":\"#2a3f5f\",\"gridcolor\":\"white\",\"linecolor\":\"white\",\"minorgridcolor\":\"white\",\"startlinecolor\":\"#2a3f5f\"},\"type\":\"carpet\"}],\"table\":[{\"cells\":{\"fill\":{\"color\":\"#EBF0F8\"},\"line\":{\"color\":\"white\"}},\"header\":{\"fill\":{\"color\":\"#C8D4E3\"},\"line\":{\"color\":\"white\"}},\"type\":\"table\"}],\"barpolar\":[{\"marker\":{\"line\":{\"color\":\"#E5ECF6\",\"width\":0.5},\"pattern\":{\"fillmode\":\"overlay\",\"size\":10,\"solidity\":0.2}},\"type\":\"barpolar\"}],\"pie\":[{\"automargin\":true,\"type\":\"pie\"}]},\"layout\":{\"autotypenumbers\":\"strict\",\"colorway\":[\"#636efa\",\"#EF553B\",\"#00cc96\",\"#ab63fa\",\"#FFA15A\",\"#19d3f3\",\"#FF6692\",\"#B6E880\",\"#FF97FF\",\"#FECB52\"],\"font\":{\"color\":\"#2a3f5f\"},\"hovermode\":\"closest\",\"hoverlabel\":{\"align\":\"left\"},\"paper_bgcolor\":\"white\",\"plot_bgcolor\":\"#E5ECF6\",\"polar\":{\"bgcolor\":\"#E5ECF6\",\"angularaxis\":{\"gridcolor\":\"white\",\"linecolor\":\"white\",\"ticks\":\"\"},\"radialaxis\":{\"gridcolor\":\"white\",\"linecolor\":\"white\",\"ticks\":\"\"}},\"ternary\":{\"bgcolor\":\"#E5ECF6\",\"aaxis\":{\"gridcolor\":\"white\",\"linecolor\":\"white\",\"ticks\":\"\"},\"baxis\":{\"gridcolor\":\"white\",\"linecolor\":\"white\",\"ticks\":\"\"},\"caxis\":{\"gridcolor\":\"white\",\"linecolor\":\"white\",\"ticks\":\"\"}},\"coloraxis\":{\"colorbar\":{\"outlinewidth\":0,\"ticks\":\"\"}},\"colorscale\":{\"sequential\":[[0.0,\"#0d0887\"],[0.1111111111111111,\"#46039f\"],[0.2222222222222222,\"#7201a8\"],[0.3333333333333333,\"#9c179e\"],[0.4444444444444444,\"#bd3786\"],[0.5555555555555556,\"#d8576b\"],[0.6666666666666666,\"#ed7953\"],[0.7777777777777778,\"#fb9f3a\"],[0.8888888888888888,\"#fdca26\"],[1.0,\"#f0f921\"]],\"sequentialminus\":[[0.0,\"#0d0887\"],[0.1111111111111111,\"#46039f\"],[0.2222222222222222,\"#7201a8\"],[0.3333333333333333,\"#9c179e\"],[0.4444444444444444,\"#bd3786\"],[0.5555555555555556,\"#d8576b\"],[0.6666666666666666,\"#ed7953\"],[0.7777777777777778,\"#fb9f3a\"],[0.8888888888888888,\"#fdca26\"],[1.0,\"#f0f921\"]],\"diverging\":[[0,\"#8e0152\"],[0.1,\"#c51b7d\"],[0.2,\"#de77ae\"],[0.3,\"#f1b6da\"],[0.4,\"#fde0ef\"],[0.5,\"#f7f7f7\"],[0.6,\"#e6f5d0\"],[0.7,\"#b8e186\"],[0.8,\"#7fbc41\"],[0.9,\"#4d9221\"],[1,\"#276419\"]]},\"xaxis\":{\"gridcolor\":\"white\",\"linecolor\":\"white\",\"ticks\":\"\",\"title\":{\"standoff\":15},\"zerolinecolor\":\"white\",\"automargin\":true,\"zerolinewidth\":2},\"yaxis\":{\"gridcolor\":\"white\",\"linecolor\":\"white\",\"ticks\":\"\",\"title\":{\"standoff\":15},\"zerolinecolor\":\"white\",\"automargin\":true,\"zerolinewidth\":2},\"scene\":{\"xaxis\":{\"backgroundcolor\":\"#E5ECF6\",\"gridcolor\":\"white\",\"linecolor\":\"white\",\"showbackground\":true,\"ticks\":\"\",\"zerolinecolor\":\"white\",\"gridwidth\":2},\"yaxis\":{\"backgroundcolor\":\"#E5ECF6\",\"gridcolor\":\"white\",\"linecolor\":\"white\",\"showbackground\":true,\"ticks\":\"\",\"zerolinecolor\":\"white\",\"gridwidth\":2},\"zaxis\":{\"backgroundcolor\":\"#E5ECF6\",\"gridcolor\":\"white\",\"linecolor\":\"white\",\"showbackground\":true,\"ticks\":\"\",\"zerolinecolor\":\"white\",\"gridwidth\":2}},\"shapedefaults\":{\"line\":{\"color\":\"#2a3f5f\"}},\"annotationdefaults\":{\"arrowcolor\":\"#2a3f5f\",\"arrowhead\":0,\"arrowwidth\":1},\"geo\":{\"bgcolor\":\"white\",\"landcolor\":\"#E5ECF6\",\"subunitcolor\":\"white\",\"showland\":true,\"showlakes\":true,\"lakecolor\":\"white\"},\"title\":{\"x\":0.05},\"mapbox\":{\"style\":\"light\"}}}},                        {\"responsive\": true}                    ).then(function(){\n",
       "                            \n",
       "var gd = document.getElementById('0888a89a-f05d-40eb-b7b7-e4930ab62f11');\n",
       "var x = new MutationObserver(function (mutations, observer) {{\n",
       "        var display = window.getComputedStyle(gd).display;\n",
       "        if (!display || display === 'none') {{\n",
       "            console.log([gd, 'removed!']);\n",
       "            Plotly.purge(gd);\n",
       "            observer.disconnect();\n",
       "        }}\n",
       "}});\n",
       "\n",
       "// Listen for the removal of the full notebook cells\n",
       "var notebookContainer = gd.closest('#notebook-container');\n",
       "if (notebookContainer) {{\n",
       "    x.observe(notebookContainer, {childList: true});\n",
       "}}\n",
       "\n",
       "// Listen for the clearing of the current output cell\n",
       "var outputEl = gd.closest('.output');\n",
       "if (outputEl) {{\n",
       "    x.observe(outputEl, {childList: true});\n",
       "}}\n",
       "\n",
       "                        })                };            </script>        </div>"
      ]
     },
     "metadata": {},
     "output_type": "display_data"
    }
   ],
   "source": [
    "# Make a plot for each group of simulations\n",
    "# Overlap all energies for each group\n",
    "simulation_groups = { 'N501': N501_simulations, 'Y501': Y501_simulations }\n",
    "# Store energies data for further use\n",
    "energies_data = { 'N501': [], 'Y501': [] }\n",
    "for group_name, simulations in simulation_groups.items():\n",
    "    # Make a scatter for each energies result\n",
    "    data = []\n",
    "    all_energies = []\n",
    "    for simulation in simulations:\n",
    "        accession = simulation['accession']\n",
    "        # Get residue indices for residues in the energies analysis\n",
    "        rbd_interaction_residues = get_interaction_residue_indices(accession)\n",
    "        # Convert residue indices to reference numeration\n",
    "        residue_reference_numbers = simulation['topology']['residue_reference_numbers']\n",
    "        rbd_interaction_residue_refs = [ residue_reference_numbers[i] for i in rbd_interaction_residues ]\n",
    "        # Get the energies data\n",
    "        energies = get_energies_data(accession)\n",
    "        # Store apart energies + interactions data for further use\n",
    "        energies_data[group_name].append({ 'energies': energies, 'residues': rbd_interaction_residues })\n",
    "        # Save all energies together\n",
    "        all_energies += energies\n",
    "        # Generate the corresponding line for the plot\n",
    "        data.append(\n",
    "            go.Scatter(\n",
    "                x = rbd_interaction_residue_refs,\n",
    "                y = energies,\n",
    "                name = accession,\n",
    "                #hovertemplate = 'Residue %{x} (%{text}): %{y:.4f}',\n",
    "                #text = residue_names,\n",
    "            )\n",
    "        )\n",
    "    # Set a vertical lines to mark the mutated residue\n",
    "    mutated_residue_x = 501\n",
    "    max_value = max(all_energies)\n",
    "    min_value = min(all_energies)\n",
    "    shapes = [{\n",
    "        'type': 'line',\n",
    "        'line':{\n",
    "            'dash': 'dash',\n",
    "            'width': 1,\n",
    "        },\n",
    "        'xref': 'x',\n",
    "        'yref': 'y',\n",
    "        'x0': mutated_residue_x,\n",
    "        'y0': max_value,\n",
    "        'x1': mutated_residue_x,\n",
    "        'y1': min_value\n",
    "    }]\n",
    "    # Show the figure of all energies overlapped\n",
    "    fig = go.Figure({\n",
    "        \"data\": data,\n",
    "        \"layout\": go.Layout(\n",
    "            title='Energies analyses from all ' + group_name + ' simulations together',\n",
    "            xaxis={'title': 'Residues'},\n",
    "            yaxis={'title': 'Electrostatic + VdW energy (kcal/mol)'},\n",
    "            shapes=shapes\n",
    "        )\n",
    "    })\n",
    "    fig.show()"
   ]
  },
  {
   "cell_type": "markdown",
   "id": "31c95a99",
   "metadata": {},
   "source": [
    "To highlight the difference between the two aminoacid groups we will merge data by calculating averages and then we will overlap these values.<br />\n",
    "This time we will plot only the region of residues we are focused in."
   ]
  },
  {
   "cell_type": "code",
   "execution_count": 7,
   "id": "ff6f91e0",
   "metadata": {},
   "outputs": [
    {
     "data": {
      "application/vnd.plotly.v1+json": {
       "config": {
        "plotlyServerURL": "https://plot.ly"
       },
       "data": [
        {
         "name": "N501",
         "type": "scatter",
         "x": [
          482,
          483,
          484,
          485,
          486,
          487,
          488,
          489,
          490,
          491,
          492,
          493,
          494,
          495,
          496,
          497,
          498,
          499,
          500,
          501,
          502,
          503,
          504,
          505,
          506,
          507,
          508,
          509,
          510,
          511
         ],
         "y": [
          -0.011863655660377365,
          0.002815620464441238,
          2.40754043904209,
          -0.04932951830551523,
          -2.58794352978955,
          -1.9569489876632802,
          -0.02019577285921626,
          -2.543188336620101,
          -0.1236026831197388,
          0.016026002355696678,
          -0.047745119738751826,
          -2.012652318577648,
          -0.008310449927431027,
          -0.1002368575897859,
          -0.41589550580551515,
          -0.05757385998004355,
          -1.2541362844702466,
          -0.04601872077675979,
          -2.663286883164006,
          -3.1479153301886793,
          -0.803719445754717,
          -0.08579208998548621,
          -0.03779063860667632,
          -2.7509842830914373,
          -0.0691133164005806,
          -0.000249905964804066,
          0.017211447750362853,
          -2.2962207184325116,
          -0.007576977503628444,
          0.01471875907111752
         ]
        },
        {
         "name": "Y501",
         "type": "scatter",
         "x": [
          482,
          483,
          484,
          485,
          486,
          487,
          488,
          489,
          490,
          491,
          492,
          493,
          494,
          495,
          496,
          497,
          498,
          499,
          500,
          501,
          502,
          503,
          504,
          505,
          506,
          507,
          508,
          509,
          510,
          511
         ],
         "y": [
          -0.012898717948717942,
          -0.13908858974358973,
          -1.9802289102564101,
          -0.06471622435897434,
          -2.730604467948718,
          -1.8565076282051278,
          -0.02189871794871796,
          -2.904949152564102,
          -0.3057128649358974,
          -0.011842309511602563,
          -0.1607442307692308,
          -2.5567858974358977,
          -0.05736346153846152,
          -0.13032566189743588,
          -0.18939198974358976,
          -0.03967773408602565,
          -1.1187067948717948,
          -0.026716381664102562,
          -2.6028987179487175,
          -3.2314915769230765,
          -0.9279078974358977,
          -0.17149807692307686,
          -0.05047064102564102,
          -2.944735383333333,
          -0.08498012820512817,
          0.0022669205621794896,
          0.01760641025641024,
          -2.3487967948717947,
          -0.008670512820512805,
          0.015736538461538458
         ]
        }
       ],
       "layout": {
        "shapes": [
         {
          "line": {
           "dash": "dash",
           "width": 1
          },
          "type": "line",
          "x0": 501,
          "x1": 501,
          "xref": "x",
          "y0": 3.4021826923076923,
          "y1": -5.332051923076921,
          "yref": "y"
         }
        ],
        "template": {
         "data": {
          "bar": [
           {
            "error_x": {
             "color": "#2a3f5f"
            },
            "error_y": {
             "color": "#2a3f5f"
            },
            "marker": {
             "line": {
              "color": "#E5ECF6",
              "width": 0.5
             },
             "pattern": {
              "fillmode": "overlay",
              "size": 10,
              "solidity": 0.2
             }
            },
            "type": "bar"
           }
          ],
          "barpolar": [
           {
            "marker": {
             "line": {
              "color": "#E5ECF6",
              "width": 0.5
             },
             "pattern": {
              "fillmode": "overlay",
              "size": 10,
              "solidity": 0.2
             }
            },
            "type": "barpolar"
           }
          ],
          "carpet": [
           {
            "aaxis": {
             "endlinecolor": "#2a3f5f",
             "gridcolor": "white",
             "linecolor": "white",
             "minorgridcolor": "white",
             "startlinecolor": "#2a3f5f"
            },
            "baxis": {
             "endlinecolor": "#2a3f5f",
             "gridcolor": "white",
             "linecolor": "white",
             "minorgridcolor": "white",
             "startlinecolor": "#2a3f5f"
            },
            "type": "carpet"
           }
          ],
          "choropleth": [
           {
            "colorbar": {
             "outlinewidth": 0,
             "ticks": ""
            },
            "type": "choropleth"
           }
          ],
          "contour": [
           {
            "colorbar": {
             "outlinewidth": 0,
             "ticks": ""
            },
            "colorscale": [
             [
              0,
              "#0d0887"
             ],
             [
              0.1111111111111111,
              "#46039f"
             ],
             [
              0.2222222222222222,
              "#7201a8"
             ],
             [
              0.3333333333333333,
              "#9c179e"
             ],
             [
              0.4444444444444444,
              "#bd3786"
             ],
             [
              0.5555555555555556,
              "#d8576b"
             ],
             [
              0.6666666666666666,
              "#ed7953"
             ],
             [
              0.7777777777777778,
              "#fb9f3a"
             ],
             [
              0.8888888888888888,
              "#fdca26"
             ],
             [
              1,
              "#f0f921"
             ]
            ],
            "type": "contour"
           }
          ],
          "contourcarpet": [
           {
            "colorbar": {
             "outlinewidth": 0,
             "ticks": ""
            },
            "type": "contourcarpet"
           }
          ],
          "heatmap": [
           {
            "colorbar": {
             "outlinewidth": 0,
             "ticks": ""
            },
            "colorscale": [
             [
              0,
              "#0d0887"
             ],
             [
              0.1111111111111111,
              "#46039f"
             ],
             [
              0.2222222222222222,
              "#7201a8"
             ],
             [
              0.3333333333333333,
              "#9c179e"
             ],
             [
              0.4444444444444444,
              "#bd3786"
             ],
             [
              0.5555555555555556,
              "#d8576b"
             ],
             [
              0.6666666666666666,
              "#ed7953"
             ],
             [
              0.7777777777777778,
              "#fb9f3a"
             ],
             [
              0.8888888888888888,
              "#fdca26"
             ],
             [
              1,
              "#f0f921"
             ]
            ],
            "type": "heatmap"
           }
          ],
          "histogram": [
           {
            "marker": {
             "pattern": {
              "fillmode": "overlay",
              "size": 10,
              "solidity": 0.2
             }
            },
            "type": "histogram"
           }
          ],
          "histogram2d": [
           {
            "colorbar": {
             "outlinewidth": 0,
             "ticks": ""
            },
            "colorscale": [
             [
              0,
              "#0d0887"
             ],
             [
              0.1111111111111111,
              "#46039f"
             ],
             [
              0.2222222222222222,
              "#7201a8"
             ],
             [
              0.3333333333333333,
              "#9c179e"
             ],
             [
              0.4444444444444444,
              "#bd3786"
             ],
             [
              0.5555555555555556,
              "#d8576b"
             ],
             [
              0.6666666666666666,
              "#ed7953"
             ],
             [
              0.7777777777777778,
              "#fb9f3a"
             ],
             [
              0.8888888888888888,
              "#fdca26"
             ],
             [
              1,
              "#f0f921"
             ]
            ],
            "type": "histogram2d"
           }
          ],
          "histogram2dcontour": [
           {
            "colorbar": {
             "outlinewidth": 0,
             "ticks": ""
            },
            "colorscale": [
             [
              0,
              "#0d0887"
             ],
             [
              0.1111111111111111,
              "#46039f"
             ],
             [
              0.2222222222222222,
              "#7201a8"
             ],
             [
              0.3333333333333333,
              "#9c179e"
             ],
             [
              0.4444444444444444,
              "#bd3786"
             ],
             [
              0.5555555555555556,
              "#d8576b"
             ],
             [
              0.6666666666666666,
              "#ed7953"
             ],
             [
              0.7777777777777778,
              "#fb9f3a"
             ],
             [
              0.8888888888888888,
              "#fdca26"
             ],
             [
              1,
              "#f0f921"
             ]
            ],
            "type": "histogram2dcontour"
           }
          ],
          "mesh3d": [
           {
            "colorbar": {
             "outlinewidth": 0,
             "ticks": ""
            },
            "type": "mesh3d"
           }
          ],
          "parcoords": [
           {
            "line": {
             "colorbar": {
              "outlinewidth": 0,
              "ticks": ""
             }
            },
            "type": "parcoords"
           }
          ],
          "pie": [
           {
            "automargin": true,
            "type": "pie"
           }
          ],
          "scatter": [
           {
            "fillpattern": {
             "fillmode": "overlay",
             "size": 10,
             "solidity": 0.2
            },
            "type": "scatter"
           }
          ],
          "scatter3d": [
           {
            "line": {
             "colorbar": {
              "outlinewidth": 0,
              "ticks": ""
             }
            },
            "marker": {
             "colorbar": {
              "outlinewidth": 0,
              "ticks": ""
             }
            },
            "type": "scatter3d"
           }
          ],
          "scattercarpet": [
           {
            "marker": {
             "colorbar": {
              "outlinewidth": 0,
              "ticks": ""
             }
            },
            "type": "scattercarpet"
           }
          ],
          "scattergeo": [
           {
            "marker": {
             "colorbar": {
              "outlinewidth": 0,
              "ticks": ""
             }
            },
            "type": "scattergeo"
           }
          ],
          "scattergl": [
           {
            "marker": {
             "colorbar": {
              "outlinewidth": 0,
              "ticks": ""
             }
            },
            "type": "scattergl"
           }
          ],
          "scattermap": [
           {
            "marker": {
             "colorbar": {
              "outlinewidth": 0,
              "ticks": ""
             }
            },
            "type": "scattermap"
           }
          ],
          "scattermapbox": [
           {
            "marker": {
             "colorbar": {
              "outlinewidth": 0,
              "ticks": ""
             }
            },
            "type": "scattermapbox"
           }
          ],
          "scatterpolar": [
           {
            "marker": {
             "colorbar": {
              "outlinewidth": 0,
              "ticks": ""
             }
            },
            "type": "scatterpolar"
           }
          ],
          "scatterpolargl": [
           {
            "marker": {
             "colorbar": {
              "outlinewidth": 0,
              "ticks": ""
             }
            },
            "type": "scatterpolargl"
           }
          ],
          "scatterternary": [
           {
            "marker": {
             "colorbar": {
              "outlinewidth": 0,
              "ticks": ""
             }
            },
            "type": "scatterternary"
           }
          ],
          "surface": [
           {
            "colorbar": {
             "outlinewidth": 0,
             "ticks": ""
            },
            "colorscale": [
             [
              0,
              "#0d0887"
             ],
             [
              0.1111111111111111,
              "#46039f"
             ],
             [
              0.2222222222222222,
              "#7201a8"
             ],
             [
              0.3333333333333333,
              "#9c179e"
             ],
             [
              0.4444444444444444,
              "#bd3786"
             ],
             [
              0.5555555555555556,
              "#d8576b"
             ],
             [
              0.6666666666666666,
              "#ed7953"
             ],
             [
              0.7777777777777778,
              "#fb9f3a"
             ],
             [
              0.8888888888888888,
              "#fdca26"
             ],
             [
              1,
              "#f0f921"
             ]
            ],
            "type": "surface"
           }
          ],
          "table": [
           {
            "cells": {
             "fill": {
              "color": "#EBF0F8"
             },
             "line": {
              "color": "white"
             }
            },
            "header": {
             "fill": {
              "color": "#C8D4E3"
             },
             "line": {
              "color": "white"
             }
            },
            "type": "table"
           }
          ]
         },
         "layout": {
          "annotationdefaults": {
           "arrowcolor": "#2a3f5f",
           "arrowhead": 0,
           "arrowwidth": 1
          },
          "autotypenumbers": "strict",
          "coloraxis": {
           "colorbar": {
            "outlinewidth": 0,
            "ticks": ""
           }
          },
          "colorscale": {
           "diverging": [
            [
             0,
             "#8e0152"
            ],
            [
             0.1,
             "#c51b7d"
            ],
            [
             0.2,
             "#de77ae"
            ],
            [
             0.3,
             "#f1b6da"
            ],
            [
             0.4,
             "#fde0ef"
            ],
            [
             0.5,
             "#f7f7f7"
            ],
            [
             0.6,
             "#e6f5d0"
            ],
            [
             0.7,
             "#b8e186"
            ],
            [
             0.8,
             "#7fbc41"
            ],
            [
             0.9,
             "#4d9221"
            ],
            [
             1,
             "#276419"
            ]
           ],
           "sequential": [
            [
             0,
             "#0d0887"
            ],
            [
             0.1111111111111111,
             "#46039f"
            ],
            [
             0.2222222222222222,
             "#7201a8"
            ],
            [
             0.3333333333333333,
             "#9c179e"
            ],
            [
             0.4444444444444444,
             "#bd3786"
            ],
            [
             0.5555555555555556,
             "#d8576b"
            ],
            [
             0.6666666666666666,
             "#ed7953"
            ],
            [
             0.7777777777777778,
             "#fb9f3a"
            ],
            [
             0.8888888888888888,
             "#fdca26"
            ],
            [
             1,
             "#f0f921"
            ]
           ],
           "sequentialminus": [
            [
             0,
             "#0d0887"
            ],
            [
             0.1111111111111111,
             "#46039f"
            ],
            [
             0.2222222222222222,
             "#7201a8"
            ],
            [
             0.3333333333333333,
             "#9c179e"
            ],
            [
             0.4444444444444444,
             "#bd3786"
            ],
            [
             0.5555555555555556,
             "#d8576b"
            ],
            [
             0.6666666666666666,
             "#ed7953"
            ],
            [
             0.7777777777777778,
             "#fb9f3a"
            ],
            [
             0.8888888888888888,
             "#fdca26"
            ],
            [
             1,
             "#f0f921"
            ]
           ]
          },
          "colorway": [
           "#636efa",
           "#EF553B",
           "#00cc96",
           "#ab63fa",
           "#FFA15A",
           "#19d3f3",
           "#FF6692",
           "#B6E880",
           "#FF97FF",
           "#FECB52"
          ],
          "font": {
           "color": "#2a3f5f"
          },
          "geo": {
           "bgcolor": "white",
           "lakecolor": "white",
           "landcolor": "#E5ECF6",
           "showlakes": true,
           "showland": true,
           "subunitcolor": "white"
          },
          "hoverlabel": {
           "align": "left"
          },
          "hovermode": "closest",
          "mapbox": {
           "style": "light"
          },
          "paper_bgcolor": "white",
          "plot_bgcolor": "#E5ECF6",
          "polar": {
           "angularaxis": {
            "gridcolor": "white",
            "linecolor": "white",
            "ticks": ""
           },
           "bgcolor": "#E5ECF6",
           "radialaxis": {
            "gridcolor": "white",
            "linecolor": "white",
            "ticks": ""
           }
          },
          "scene": {
           "xaxis": {
            "backgroundcolor": "#E5ECF6",
            "gridcolor": "white",
            "gridwidth": 2,
            "linecolor": "white",
            "showbackground": true,
            "ticks": "",
            "zerolinecolor": "white"
           },
           "yaxis": {
            "backgroundcolor": "#E5ECF6",
            "gridcolor": "white",
            "gridwidth": 2,
            "linecolor": "white",
            "showbackground": true,
            "ticks": "",
            "zerolinecolor": "white"
           },
           "zaxis": {
            "backgroundcolor": "#E5ECF6",
            "gridcolor": "white",
            "gridwidth": 2,
            "linecolor": "white",
            "showbackground": true,
            "ticks": "",
            "zerolinecolor": "white"
           }
          },
          "shapedefaults": {
           "line": {
            "color": "#2a3f5f"
           }
          },
          "ternary": {
           "aaxis": {
            "gridcolor": "white",
            "linecolor": "white",
            "ticks": ""
           },
           "baxis": {
            "gridcolor": "white",
            "linecolor": "white",
            "ticks": ""
           },
           "bgcolor": "#E5ECF6",
           "caxis": {
            "gridcolor": "white",
            "linecolor": "white",
            "ticks": ""
           }
          },
          "title": {
           "x": 0.05
          },
          "xaxis": {
           "automargin": true,
           "gridcolor": "white",
           "linecolor": "white",
           "ticks": "",
           "title": {
            "standoff": 15
           },
           "zerolinecolor": "white",
           "zerolinewidth": 2
          },
          "yaxis": {
           "automargin": true,
           "gridcolor": "white",
           "linecolor": "white",
           "ticks": "",
           "title": {
            "standoff": 15
           },
           "zerolinecolor": "white",
           "zerolinewidth": 2
          }
         }
        },
        "title": {
         "text": "N501 vs Y501 average energies"
        },
        "xaxis": {
         "title": {
          "text": "Residues"
         }
        },
        "yaxis": {
         "title": {
          "text": "Electrostatic + VdW energy (kcal/mol)"
         }
        }
       }
      },
      "image/png": "[encoded data removed]",
      "text/html": [
       "<div>            <script src=\"https://cdnjs.cloudflare.com/ajax/libs/mathjax/2.7.5/MathJax.js?config=TeX-AMS-MML_SVG\"></script><script type=\"text/javascript\">if (window.MathJax && window.MathJax.Hub && window.MathJax.Hub.Config) {window.MathJax.Hub.Config({SVG: {font: \"STIX-Web\"}});}</script>                <script type=\"text/javascript\">window.PlotlyConfig = {MathJaxConfig: 'local'};</script>\n",
       "        <script charset=\"utf-8\" src=\"https://cdn.plot.ly/plotly-3.0.1.min.js\"></script>                <div id=\"257ab59f-bb67-4780-b86b-33e18eae8dd6\" class=\"plotly-graph-div\" style=\"height:525px; width:100%;\"></div>            <script type=\"text/javascript\">                window.PLOTLYENV=window.PLOTLYENV || {};                                if (document.getElementById(\"257ab59f-bb67-4780-b86b-33e18eae8dd6\")) {                    Plotly.newPlot(                        \"257ab59f-bb67-4780-b86b-33e18eae8dd6\",                        [{\"name\":\"N501\",\"x\":[482,483,484,485,486,487,488,489,490,491,492,493,494,495,496,497,498,499,500,501,502,503,504,505,506,507,508,509,510,511],\"y\":[-0.011863655660377365,0.002815620464441238,2.40754043904209,-0.04932951830551523,-2.58794352978955,-1.9569489876632802,-0.02019577285921626,-2.543188336620101,-0.1236026831197388,0.016026002355696678,-0.047745119738751826,-2.012652318577648,-0.008310449927431027,-0.1002368575897859,-0.41589550580551515,-0.05757385998004355,-1.2541362844702466,-0.04601872077675979,-2.663286883164006,-3.1479153301886793,-0.803719445754717,-0.08579208998548621,-0.03779063860667632,-2.7509842830914373,-0.0691133164005806,-0.000249905964804066,0.017211447750362853,-2.2962207184325116,-0.007576977503628444,0.01471875907111752],\"type\":\"scatter\"},{\"name\":\"Y501\",\"x\":[482,483,484,485,486,487,488,489,490,491,492,493,494,495,496,497,498,499,500,501,502,503,504,505,506,507,508,509,510,511],\"y\":[-0.012898717948717942,-0.13908858974358973,-1.9802289102564101,-0.06471622435897434,-2.730604467948718,-1.8565076282051278,-0.02189871794871796,-2.904949152564102,-0.3057128649358974,-0.011842309511602563,-0.1607442307692308,-2.5567858974358977,-0.05736346153846152,-0.13032566189743588,-0.18939198974358976,-0.03967773408602565,-1.1187067948717948,-0.026716381664102562,-2.6028987179487175,-3.2314915769230765,-0.9279078974358977,-0.17149807692307686,-0.05047064102564102,-2.944735383333333,-0.08498012820512817,0.0022669205621794896,0.01760641025641024,-2.3487967948717947,-0.008670512820512805,0.015736538461538458],\"type\":\"scatter\"}],                        {\"shapes\":[{\"line\":{\"dash\":\"dash\",\"width\":1},\"type\":\"line\",\"x0\":501,\"x1\":501,\"xref\":\"x\",\"y0\":3.4021826923076923,\"y1\":-5.332051923076921,\"yref\":\"y\"}],\"title\":{\"text\":\"N501 vs Y501 average energies\"},\"xaxis\":{\"title\":{\"text\":\"Residues\"}},\"yaxis\":{\"title\":{\"text\":\"Electrostatic + VdW energy (kcal\\u002fmol)\"}},\"template\":{\"data\":{\"histogram2dcontour\":[{\"type\":\"histogram2dcontour\",\"colorbar\":{\"outlinewidth\":0,\"ticks\":\"\"},\"colorscale\":[[0.0,\"#0d0887\"],[0.1111111111111111,\"#46039f\"],[0.2222222222222222,\"#7201a8\"],[0.3333333333333333,\"#9c179e\"],[0.4444444444444444,\"#bd3786\"],[0.5555555555555556,\"#d8576b\"],[0.6666666666666666,\"#ed7953\"],[0.7777777777777778,\"#fb9f3a\"],[0.8888888888888888,\"#fdca26\"],[1.0,\"#f0f921\"]]}],\"choropleth\":[{\"type\":\"choropleth\",\"colorbar\":{\"outlinewidth\":0,\"ticks\":\"\"}}],\"histogram2d\":[{\"type\":\"histogram2d\",\"colorbar\":{\"outlinewidth\":0,\"ticks\":\"\"},\"colorscale\":[[0.0,\"#0d0887\"],[0.1111111111111111,\"#46039f\"],[0.2222222222222222,\"#7201a8\"],[0.3333333333333333,\"#9c179e\"],[0.4444444444444444,\"#bd3786\"],[0.5555555555555556,\"#d8576b\"],[0.6666666666666666,\"#ed7953\"],[0.7777777777777778,\"#fb9f3a\"],[0.8888888888888888,\"#fdca26\"],[1.0,\"#f0f921\"]]}],\"heatmap\":[{\"type\":\"heatmap\",\"colorbar\":{\"outlinewidth\":0,\"ticks\":\"\"},\"colorscale\":[[0.0,\"#0d0887\"],[0.1111111111111111,\"#46039f\"],[0.2222222222222222,\"#7201a8\"],[0.3333333333333333,\"#9c179e\"],[0.4444444444444444,\"#bd3786\"],[0.5555555555555556,\"#d8576b\"],[0.6666666666666666,\"#ed7953\"],[0.7777777777777778,\"#fb9f3a\"],[0.8888888888888888,\"#fdca26\"],[1.0,\"#f0f921\"]]}],\"contourcarpet\":[{\"type\":\"contourcarpet\",\"colorbar\":{\"outlinewidth\":0,\"ticks\":\"\"}}],\"contour\":[{\"type\":\"contour\",\"colorbar\":{\"outlinewidth\":0,\"ticks\":\"\"},\"colorscale\":[[0.0,\"#0d0887\"],[0.1111111111111111,\"#46039f\"],[0.2222222222222222,\"#7201a8\"],[0.3333333333333333,\"#9c179e\"],[0.4444444444444444,\"#bd3786\"],[0.5555555555555556,\"#d8576b\"],[0.6666666666666666,\"#ed7953\"],[0.7777777777777778,\"#fb9f3a\"],[0.8888888888888888,\"#fdca26\"],[1.0,\"#f0f921\"]]}],\"surface\":[{\"type\":\"surface\",\"colorbar\":{\"outlinewidth\":0,\"ticks\":\"\"},\"colorscale\":[[0.0,\"#0d0887\"],[0.1111111111111111,\"#46039f\"],[0.2222222222222222,\"#7201a8\"],[0.3333333333333333,\"#9c179e\"],[0.4444444444444444,\"#bd3786\"],[0.5555555555555556,\"#d8576b\"],[0.6666666666666666,\"#ed7953\"],[0.7777777777777778,\"#fb9f3a\"],[0.8888888888888888,\"#fdca26\"],[1.0,\"#f0f921\"]]}],\"mesh3d\":[{\"type\":\"mesh3d\",\"colorbar\":{\"outlinewidth\":0,\"ticks\":\"\"}}],\"scatter\":[{\"fillpattern\":{\"fillmode\":\"overlay\",\"size\":10,\"solidity\":0.2},\"type\":\"scatter\"}],\"parcoords\":[{\"type\":\"parcoords\",\"line\":{\"colorbar\":{\"outlinewidth\":0,\"ticks\":\"\"}}}],\"scatterpolargl\":[{\"type\":\"scatterpolargl\",\"marker\":{\"colorbar\":{\"outlinewidth\":0,\"ticks\":\"\"}}}],\"bar\":[{\"error_x\":{\"color\":\"#2a3f5f\"},\"error_y\":{\"color\":\"#2a3f5f\"},\"marker\":{\"line\":{\"color\":\"#E5ECF6\",\"width\":0.5},\"pattern\":{\"fillmode\":\"overlay\",\"size\":10,\"solidity\":0.2}},\"type\":\"bar\"}],\"scattergeo\":[{\"type\":\"scattergeo\",\"marker\":{\"colorbar\":{\"outlinewidth\":0,\"ticks\":\"\"}}}],\"scatterpolar\":[{\"type\":\"scatterpolar\",\"marker\":{\"colorbar\":{\"outlinewidth\":0,\"ticks\":\"\"}}}],\"histogram\":[{\"marker\":{\"pattern\":{\"fillmode\":\"overlay\",\"size\":10,\"solidity\":0.2}},\"type\":\"histogram\"}],\"scattergl\":[{\"type\":\"scattergl\",\"marker\":{\"colorbar\":{\"outlinewidth\":0,\"ticks\":\"\"}}}],\"scatter3d\":[{\"type\":\"scatter3d\",\"line\":{\"colorbar\":{\"outlinewidth\":0,\"ticks\":\"\"}},\"marker\":{\"colorbar\":{\"outlinewidth\":0,\"ticks\":\"\"}}}],\"scattermap\":[{\"type\":\"scattermap\",\"marker\":{\"colorbar\":{\"outlinewidth\":0,\"ticks\":\"\"}}}],\"scattermapbox\":[{\"type\":\"scattermapbox\",\"marker\":{\"colorbar\":{\"outlinewidth\":0,\"ticks\":\"\"}}}],\"scatterternary\":[{\"type\":\"scatterternary\",\"marker\":{\"colorbar\":{\"outlinewidth\":0,\"ticks\":\"\"}}}],\"scattercarpet\":[{\"type\":\"scattercarpet\",\"marker\":{\"colorbar\":{\"outlinewidth\":0,\"ticks\":\"\"}}}],\"carpet\":[{\"aaxis\":{\"endlinecolor\":\"#2a3f5f\",\"gridcolor\":\"white\",\"linecolor\":\"white\",\"minorgridcolor\":\"white\",\"startlinecolor\":\"#2a3f5f\"},\"baxis\":{\"endlinecolor\":\"#2a3f5f\",\"gridcolor\":\"white\",\"linecolor\":\"white\",\"minorgridcolor\":\"white\",\"startlinecolor\":\"#2a3f5f\"},\"type\":\"carpet\"}],\"table\":[{\"cells\":{\"fill\":{\"color\":\"#EBF0F8\"},\"line\":{\"color\":\"white\"}},\"header\":{\"fill\":{\"color\":\"#C8D4E3\"},\"line\":{\"color\":\"white\"}},\"type\":\"table\"}],\"barpolar\":[{\"marker\":{\"line\":{\"color\":\"#E5ECF6\",\"width\":0.5},\"pattern\":{\"fillmode\":\"overlay\",\"size\":10,\"solidity\":0.2}},\"type\":\"barpolar\"}],\"pie\":[{\"automargin\":true,\"type\":\"pie\"}]},\"layout\":{\"autotypenumbers\":\"strict\",\"colorway\":[\"#636efa\",\"#EF553B\",\"#00cc96\",\"#ab63fa\",\"#FFA15A\",\"#19d3f3\",\"#FF6692\",\"#B6E880\",\"#FF97FF\",\"#FECB52\"],\"font\":{\"color\":\"#2a3f5f\"},\"hovermode\":\"closest\",\"hoverlabel\":{\"align\":\"left\"},\"paper_bgcolor\":\"white\",\"plot_bgcolor\":\"#E5ECF6\",\"polar\":{\"bgcolor\":\"#E5ECF6\",\"angularaxis\":{\"gridcolor\":\"white\",\"linecolor\":\"white\",\"ticks\":\"\"},\"radialaxis\":{\"gridcolor\":\"white\",\"linecolor\":\"white\",\"ticks\":\"\"}},\"ternary\":{\"bgcolor\":\"#E5ECF6\",\"aaxis\":{\"gridcolor\":\"white\",\"linecolor\":\"white\",\"ticks\":\"\"},\"baxis\":{\"gridcolor\":\"white\",\"linecolor\":\"white\",\"ticks\":\"\"},\"caxis\":{\"gridcolor\":\"white\",\"linecolor\":\"white\",\"ticks\":\"\"}},\"coloraxis\":{\"colorbar\":{\"outlinewidth\":0,\"ticks\":\"\"}},\"colorscale\":{\"sequential\":[[0.0,\"#0d0887\"],[0.1111111111111111,\"#46039f\"],[0.2222222222222222,\"#7201a8\"],[0.3333333333333333,\"#9c179e\"],[0.4444444444444444,\"#bd3786\"],[0.5555555555555556,\"#d8576b\"],[0.6666666666666666,\"#ed7953\"],[0.7777777777777778,\"#fb9f3a\"],[0.8888888888888888,\"#fdca26\"],[1.0,\"#f0f921\"]],\"sequentialminus\":[[0.0,\"#0d0887\"],[0.1111111111111111,\"#46039f\"],[0.2222222222222222,\"#7201a8\"],[0.3333333333333333,\"#9c179e\"],[0.4444444444444444,\"#bd3786\"],[0.5555555555555556,\"#d8576b\"],[0.6666666666666666,\"#ed7953\"],[0.7777777777777778,\"#fb9f3a\"],[0.8888888888888888,\"#fdca26\"],[1.0,\"#f0f921\"]],\"diverging\":[[0,\"#8e0152\"],[0.1,\"#c51b7d\"],[0.2,\"#de77ae\"],[0.3,\"#f1b6da\"],[0.4,\"#fde0ef\"],[0.5,\"#f7f7f7\"],[0.6,\"#e6f5d0\"],[0.7,\"#b8e186\"],[0.8,\"#7fbc41\"],[0.9,\"#4d9221\"],[1,\"#276419\"]]},\"xaxis\":{\"gridcolor\":\"white\",\"linecolor\":\"white\",\"ticks\":\"\",\"title\":{\"standoff\":15},\"zerolinecolor\":\"white\",\"automargin\":true,\"zerolinewidth\":2},\"yaxis\":{\"gridcolor\":\"white\",\"linecolor\":\"white\",\"ticks\":\"\",\"title\":{\"standoff\":15},\"zerolinecolor\":\"white\",\"automargin\":true,\"zerolinewidth\":2},\"scene\":{\"xaxis\":{\"backgroundcolor\":\"#E5ECF6\",\"gridcolor\":\"white\",\"linecolor\":\"white\",\"showbackground\":true,\"ticks\":\"\",\"zerolinecolor\":\"white\",\"gridwidth\":2},\"yaxis\":{\"backgroundcolor\":\"#E5ECF6\",\"gridcolor\":\"white\",\"linecolor\":\"white\",\"showbackground\":true,\"ticks\":\"\",\"zerolinecolor\":\"white\",\"gridwidth\":2},\"zaxis\":{\"backgroundcolor\":\"#E5ECF6\",\"gridcolor\":\"white\",\"linecolor\":\"white\",\"showbackground\":true,\"ticks\":\"\",\"zerolinecolor\":\"white\",\"gridwidth\":2}},\"shapedefaults\":{\"line\":{\"color\":\"#2a3f5f\"}},\"annotationdefaults\":{\"arrowcolor\":\"#2a3f5f\",\"arrowhead\":0,\"arrowwidth\":1},\"geo\":{\"bgcolor\":\"white\",\"landcolor\":\"#E5ECF6\",\"subunitcolor\":\"white\",\"showland\":true,\"showlakes\":true,\"lakecolor\":\"white\"},\"title\":{\"x\":0.05},\"mapbox\":{\"style\":\"light\"}}}},                        {\"responsive\": true}                    ).then(function(){\n",
       "                            \n",
       "var gd = document.getElementById('257ab59f-bb67-4780-b86b-33e18eae8dd6');\n",
       "var x = new MutationObserver(function (mutations, observer) {{\n",
       "        var display = window.getComputedStyle(gd).display;\n",
       "        if (!display || display === 'none') {{\n",
       "            console.log([gd, 'removed!']);\n",
       "            Plotly.purge(gd);\n",
       "            observer.disconnect();\n",
       "        }}\n",
       "}});\n",
       "\n",
       "// Listen for the removal of the full notebook cells\n",
       "var notebookContainer = gd.closest('#notebook-container');\n",
       "if (notebookContainer) {{\n",
       "    x.observe(notebookContainer, {childList: true});\n",
       "}}\n",
       "\n",
       "// Listen for the clearing of the current output cell\n",
       "var outputEl = gd.closest('.output');\n",
       "if (outputEl) {{\n",
       "    x.observe(outputEl, {childList: true});\n",
       "}}\n",
       "\n",
       "                        })                };            </script>        </div>"
      ]
     },
     "metadata": {},
     "output_type": "display_data"
    }
   ],
   "source": [
    "plot_data = []\n",
    "\n",
    "# Get the residue indices for each target residue\n",
    "# Note that we rely in the fact that all energies analyses have identical residue numbers\n",
    "target_residue_indices = [ reference_indices.get(target_residue, None) for target_residue in target_residues ]\n",
    "\n",
    "for group_name, energies_analyses in energies_data.items():\n",
    "    # Calculate average energy values for target residues\n",
    "    energies_avg = []\n",
    "    for residue_index in target_residue_indices:\n",
    "        energy_values = []\n",
    "        for energies_analysis in energies_analyses:\n",
    "            data_residue_index = energies_analysis['residues'].index(residue_index)\n",
    "            energy_values.append(energies_analysis['energies'][data_residue_index])\n",
    "        energies_avg.append(mean(energy_values))\n",
    "    # Add data to the plot (last 60 residues only)\n",
    "    plot_data.append(\n",
    "        go.Scatter(\n",
    "            x = target_residues,\n",
    "            y = energies_avg,\n",
    "            name = group_name,\n",
    "        )\n",
    "    )\n",
    "    \n",
    "# Show both average values overlapped to see the real difference\n",
    "fig = go.Figure({\n",
    "    \"data\": plot_data,\n",
    "    \"layout\": go.Layout(\n",
    "        title='N501 vs Y501 average energies',\n",
    "        xaxis={'title': 'Residues'},\n",
    "        yaxis={'title': 'Electrostatic + VdW energy (kcal/mol)'},\n",
    "        shapes=shapes # We reuse the residue 501 mark from last cell\n",
    "    )\n",
    "})\n",
    "fig.show()\n",
    "\n",
    "# Show also the difference"
   ]
  },
  {
   "cell_type": "markdown",
   "id": "1672fed9",
   "metadata": {},
   "source": [
    "The energies difference in the residue 501 region is not remarkable, althought there is a difference.<br />\n",
    "Residue 501 has a 30% higher average energy when it is a tyrosine than when it is an aspargine.<br />\n",
    "We can observe a high difference in residue 484, but this is because several simulations in the Y501 group have a N to K mutation in this residue (6 out of 9)."
   ]
  },
  {
   "cell_type": "markdown",
   "id": "lesser-warren",
   "metadata": {},
   "source": [
    "Now lets check hydrogen bonds"
   ]
  },
  {
   "cell_type": "code",
   "execution_count": 8,
   "id": "interested-sessions",
   "metadata": {},
   "outputs": [
    {
     "data": {
      "application/vnd.plotly.v1+json": {
       "config": {
        "plotlyServerURL": "https://plot.ly"
       },
       "data": [
        {
         "marker": {
          "color": "red",
          "size": 12
         },
         "mode": "markers",
         "name": "MCV1900410",
         "opacity": 0.4,
         "type": "scatter",
         "x": [
          482,
          483,
          484,
          485,
          486,
          487,
          488,
          489,
          490,
          491,
          492,
          493,
          494,
          495,
          496,
          497,
          498,
          499,
          500,
          501,
          502,
          503,
          504,
          505,
          506,
          507,
          508,
          509,
          510,
          511
         ],
         "y": [
          0,
          0,
          0.058252427184466014,
          0,
          0,
          1.0485436893203883,
          0,
          0.07766990291262135,
          0.019417475728155338,
          0,
          0,
          0.44660194174757284,
          0,
          0,
          0.009708737864077669,
          0,
          0.04854368932038834,
          0,
          0.4271844660194175,
          0.4854368932038835,
          0.038834951456310676,
          0,
          0,
          0.038834951456310676,
          0,
          0,
          0,
          0,
          0,
          0
         ]
        },
        {
         "marker": {
          "color": "red",
          "size": 12
         },
         "mode": "markers",
         "name": "MCV1900419",
         "opacity": 0.4,
         "type": "scatter",
         "x": [
          482,
          483,
          484,
          485,
          486,
          487,
          488,
          489,
          490,
          491,
          492,
          493,
          494,
          495,
          496,
          497,
          498,
          499,
          500,
          501,
          502,
          503,
          504,
          505,
          506,
          507,
          508,
          509,
          510,
          511
         ],
         "y": [
          0,
          0,
          0,
          0,
          0,
          0.980952380952381,
          0,
          0,
          0,
          0,
          0,
          0.6095238095238096,
          0,
          0,
          0.18095238095238095,
          0,
          0.12380952380952381,
          0,
          0.9428571428571428,
          0.009523809523809525,
          0.6,
          0,
          0,
          0.37142857142857144,
          0,
          0,
          0,
          0,
          0,
          0
         ]
        },
        {
         "marker": {
          "color": "blue",
          "size": 12
         },
         "mode": "markers",
         "name": "MCV1900413",
         "opacity": 0.4,
         "type": "scatter",
         "x": [
          482,
          483,
          484,
          485,
          486,
          487,
          488,
          489,
          490,
          491,
          492,
          493,
          494,
          495,
          496,
          497,
          498,
          499,
          500,
          501,
          502,
          503,
          504,
          505,
          506,
          507,
          508,
          509,
          510,
          511
         ],
         "y": [
          0,
          0,
          0.23076923076923078,
          0,
          0,
          0.923076923076923,
          0,
          0.009615384615384616,
          0,
          0,
          0,
          0.45192307692307687,
          0,
          0.009615384615384616,
          0,
          0,
          0.04807692307692308,
          0,
          0.9326923076923077,
          0.14423076923076925,
          0.4807692307692308,
          0,
          0,
          0.375,
          0,
          0,
          0,
          0,
          0,
          0
         ]
        },
        {
         "marker": {
          "color": "blue",
          "size": 12
         },
         "mode": "markers",
         "name": "MCV1900416",
         "opacity": 0.4,
         "type": "scatter",
         "x": [
          482,
          483,
          484,
          485,
          486,
          487,
          488,
          489,
          490,
          491,
          492,
          493,
          494,
          495,
          496,
          497,
          498,
          499,
          500,
          501,
          502,
          503,
          504,
          505,
          506,
          507,
          508,
          509,
          510,
          511
         ],
         "y": [
          0,
          0,
          0.1844660194174757,
          0,
          0,
          0.4077669902912621,
          0,
          0.5242718446601942,
          0.13592233009708737,
          0,
          0.06796116504854369,
          1,
          0,
          0,
          0,
          0,
          0.4077669902912621,
          0,
          0.46601941747572817,
          0.029126213592233007,
          0.019417475728155338,
          0,
          0,
          0.029126213592233007,
          0,
          0,
          0,
          0,
          0,
          0
         ]
        },
        {
         "marker": {
          "color": "blue",
          "size": 12
         },
         "mode": "markers",
         "name": "MCV1900422",
         "opacity": 0.4,
         "type": "scatter",
         "x": [
          482,
          483,
          484,
          485,
          486,
          487,
          488,
          489,
          490,
          491,
          492,
          493,
          494,
          495,
          496,
          497,
          498,
          499,
          500,
          501,
          502,
          503,
          504,
          505,
          506,
          507,
          508,
          509,
          510,
          511
         ],
         "y": [
          0,
          0,
          0.3980582524271844,
          0,
          0,
          1.0388349514563107,
          0,
          0.019417475728155338,
          0,
          0,
          0,
          0.5631067961165048,
          0,
          0,
          0,
          0,
          0.04854368932038835,
          0,
          0.7184466019417476,
          0.04854368932038834,
          0.8543689320388349,
          0,
          0,
          0.4660194174757281,
          0,
          0,
          0,
          0,
          0,
          0
         ]
        }
       ],
       "layout": {
        "template": {
         "data": {
          "bar": [
           {
            "error_x": {
             "color": "#2a3f5f"
            },
            "error_y": {
             "color": "#2a3f5f"
            },
            "marker": {
             "line": {
              "color": "#E5ECF6",
              "width": 0.5
             },
             "pattern": {
              "fillmode": "overlay",
              "size": 10,
              "solidity": 0.2
             }
            },
            "type": "bar"
           }
          ],
          "barpolar": [
           {
            "marker": {
             "line": {
              "color": "#E5ECF6",
              "width": 0.5
             },
             "pattern": {
              "fillmode": "overlay",
              "size": 10,
              "solidity": 0.2
             }
            },
            "type": "barpolar"
           }
          ],
          "carpet": [
           {
            "aaxis": {
             "endlinecolor": "#2a3f5f",
             "gridcolor": "white",
             "linecolor": "white",
             "minorgridcolor": "white",
             "startlinecolor": "#2a3f5f"
            },
            "baxis": {
             "endlinecolor": "#2a3f5f",
             "gridcolor": "white",
             "linecolor": "white",
             "minorgridcolor": "white",
             "startlinecolor": "#2a3f5f"
            },
            "type": "carpet"
           }
          ],
          "choropleth": [
           {
            "colorbar": {
             "outlinewidth": 0,
             "ticks": ""
            },
            "type": "choropleth"
           }
          ],
          "contour": [
           {
            "colorbar": {
             "outlinewidth": 0,
             "ticks": ""
            },
            "colorscale": [
             [
              0,
              "#0d0887"
             ],
             [
              0.1111111111111111,
              "#46039f"
             ],
             [
              0.2222222222222222,
              "#7201a8"
             ],
             [
              0.3333333333333333,
              "#9c179e"
             ],
             [
              0.4444444444444444,
              "#bd3786"
             ],
             [
              0.5555555555555556,
              "#d8576b"
             ],
             [
              0.6666666666666666,
              "#ed7953"
             ],
             [
              0.7777777777777778,
              "#fb9f3a"
             ],
             [
              0.8888888888888888,
              "#fdca26"
             ],
             [
              1,
              "#f0f921"
             ]
            ],
            "type": "contour"
           }
          ],
          "contourcarpet": [
           {
            "colorbar": {
             "outlinewidth": 0,
             "ticks": ""
            },
            "type": "contourcarpet"
           }
          ],
          "heatmap": [
           {
            "colorbar": {
             "outlinewidth": 0,
             "ticks": ""
            },
            "colorscale": [
             [
              0,
              "#0d0887"
             ],
             [
              0.1111111111111111,
              "#46039f"
             ],
             [
              0.2222222222222222,
              "#7201a8"
             ],
             [
              0.3333333333333333,
              "#9c179e"
             ],
             [
              0.4444444444444444,
              "#bd3786"
             ],
             [
              0.5555555555555556,
              "#d8576b"
             ],
             [
              0.6666666666666666,
              "#ed7953"
             ],
             [
              0.7777777777777778,
              "#fb9f3a"
             ],
             [
              0.8888888888888888,
              "#fdca26"
             ],
             [
              1,
              "#f0f921"
             ]
            ],
            "type": "heatmap"
           }
          ],
          "histogram": [
           {
            "marker": {
             "pattern": {
              "fillmode": "overlay",
              "size": 10,
              "solidity": 0.2
             }
            },
            "type": "histogram"
           }
          ],
          "histogram2d": [
           {
            "colorbar": {
             "outlinewidth": 0,
             "ticks": ""
            },
            "colorscale": [
             [
              0,
              "#0d0887"
             ],
             [
              0.1111111111111111,
              "#46039f"
             ],
             [
              0.2222222222222222,
              "#7201a8"
             ],
             [
              0.3333333333333333,
              "#9c179e"
             ],
             [
              0.4444444444444444,
              "#bd3786"
             ],
             [
              0.5555555555555556,
              "#d8576b"
             ],
             [
              0.6666666666666666,
              "#ed7953"
             ],
             [
              0.7777777777777778,
              "#fb9f3a"
             ],
             [
              0.8888888888888888,
              "#fdca26"
             ],
             [
              1,
              "#f0f921"
             ]
            ],
            "type": "histogram2d"
           }
          ],
          "histogram2dcontour": [
           {
            "colorbar": {
             "outlinewidth": 0,
             "ticks": ""
            },
            "colorscale": [
             [
              0,
              "#0d0887"
             ],
             [
              0.1111111111111111,
              "#46039f"
             ],
             [
              0.2222222222222222,
              "#7201a8"
             ],
             [
              0.3333333333333333,
              "#9c179e"
             ],
             [
              0.4444444444444444,
              "#bd3786"
             ],
             [
              0.5555555555555556,
              "#d8576b"
             ],
             [
              0.6666666666666666,
              "#ed7953"
             ],
             [
              0.7777777777777778,
              "#fb9f3a"
             ],
             [
              0.8888888888888888,
              "#fdca26"
             ],
             [
              1,
              "#f0f921"
             ]
            ],
            "type": "histogram2dcontour"
           }
          ],
          "mesh3d": [
           {
            "colorbar": {
             "outlinewidth": 0,
             "ticks": ""
            },
            "type": "mesh3d"
           }
          ],
          "parcoords": [
           {
            "line": {
             "colorbar": {
              "outlinewidth": 0,
              "ticks": ""
             }
            },
            "type": "parcoords"
           }
          ],
          "pie": [
           {
            "automargin": true,
            "type": "pie"
           }
          ],
          "scatter": [
           {
            "fillpattern": {
             "fillmode": "overlay",
             "size": 10,
             "solidity": 0.2
            },
            "type": "scatter"
           }
          ],
          "scatter3d": [
           {
            "line": {
             "colorbar": {
              "outlinewidth": 0,
              "ticks": ""
             }
            },
            "marker": {
             "colorbar": {
              "outlinewidth": 0,
              "ticks": ""
             }
            },
            "type": "scatter3d"
           }
          ],
          "scattercarpet": [
           {
            "marker": {
             "colorbar": {
              "outlinewidth": 0,
              "ticks": ""
             }
            },
            "type": "scattercarpet"
           }
          ],
          "scattergeo": [
           {
            "marker": {
             "colorbar": {
              "outlinewidth": 0,
              "ticks": ""
             }
            },
            "type": "scattergeo"
           }
          ],
          "scattergl": [
           {
            "marker": {
             "colorbar": {
              "outlinewidth": 0,
              "ticks": ""
             }
            },
            "type": "scattergl"
           }
          ],
          "scattermap": [
           {
            "marker": {
             "colorbar": {
              "outlinewidth": 0,
              "ticks": ""
             }
            },
            "type": "scattermap"
           }
          ],
          "scattermapbox": [
           {
            "marker": {
             "colorbar": {
              "outlinewidth": 0,
              "ticks": ""
             }
            },
            "type": "scattermapbox"
           }
          ],
          "scatterpolar": [
           {
            "marker": {
             "colorbar": {
              "outlinewidth": 0,
              "ticks": ""
             }
            },
            "type": "scatterpolar"
           }
          ],
          "scatterpolargl": [
           {
            "marker": {
             "colorbar": {
              "outlinewidth": 0,
              "ticks": ""
             }
            },
            "type": "scatterpolargl"
           }
          ],
          "scatterternary": [
           {
            "marker": {
             "colorbar": {
              "outlinewidth": 0,
              "ticks": ""
             }
            },
            "type": "scatterternary"
           }
          ],
          "surface": [
           {
            "colorbar": {
             "outlinewidth": 0,
             "ticks": ""
            },
            "colorscale": [
             [
              0,
              "#0d0887"
             ],
             [
              0.1111111111111111,
              "#46039f"
             ],
             [
              0.2222222222222222,
              "#7201a8"
             ],
             [
              0.3333333333333333,
              "#9c179e"
             ],
             [
              0.4444444444444444,
              "#bd3786"
             ],
             [
              0.5555555555555556,
              "#d8576b"
             ],
             [
              0.6666666666666666,
              "#ed7953"
             ],
             [
              0.7777777777777778,
              "#fb9f3a"
             ],
             [
              0.8888888888888888,
              "#fdca26"
             ],
             [
              1,
              "#f0f921"
             ]
            ],
            "type": "surface"
           }
          ],
          "table": [
           {
            "cells": {
             "fill": {
              "color": "#EBF0F8"
             },
             "line": {
              "color": "white"
             }
            },
            "header": {
             "fill": {
              "color": "#C8D4E3"
             },
             "line": {
              "color": "white"
             }
            },
            "type": "table"
           }
          ]
         },
         "layout": {
          "annotationdefaults": {
           "arrowcolor": "#2a3f5f",
           "arrowhead": 0,
           "arrowwidth": 1
          },
          "autotypenumbers": "strict",
          "coloraxis": {
           "colorbar": {
            "outlinewidth": 0,
            "ticks": ""
           }
          },
          "colorscale": {
           "diverging": [
            [
             0,
             "#8e0152"
            ],
            [
             0.1,
             "#c51b7d"
            ],
            [
             0.2,
             "#de77ae"
            ],
            [
             0.3,
             "#f1b6da"
            ],
            [
             0.4,
             "#fde0ef"
            ],
            [
             0.5,
             "#f7f7f7"
            ],
            [
             0.6,
             "#e6f5d0"
            ],
            [
             0.7,
             "#b8e186"
            ],
            [
             0.8,
             "#7fbc41"
            ],
            [
             0.9,
             "#4d9221"
            ],
            [
             1,
             "#276419"
            ]
           ],
           "sequential": [
            [
             0,
             "#0d0887"
            ],
            [
             0.1111111111111111,
             "#46039f"
            ],
            [
             0.2222222222222222,
             "#7201a8"
            ],
            [
             0.3333333333333333,
             "#9c179e"
            ],
            [
             0.4444444444444444,
             "#bd3786"
            ],
            [
             0.5555555555555556,
             "#d8576b"
            ],
            [
             0.6666666666666666,
             "#ed7953"
            ],
            [
             0.7777777777777778,
             "#fb9f3a"
            ],
            [
             0.8888888888888888,
             "#fdca26"
            ],
            [
             1,
             "#f0f921"
            ]
           ],
           "sequentialminus": [
            [
             0,
             "#0d0887"
            ],
            [
             0.1111111111111111,
             "#46039f"
            ],
            [
             0.2222222222222222,
             "#7201a8"
            ],
            [
             0.3333333333333333,
             "#9c179e"
            ],
            [
             0.4444444444444444,
             "#bd3786"
            ],
            [
             0.5555555555555556,
             "#d8576b"
            ],
            [
             0.6666666666666666,
             "#ed7953"
            ],
            [
             0.7777777777777778,
             "#fb9f3a"
            ],
            [
             0.8888888888888888,
             "#fdca26"
            ],
            [
             1,
             "#f0f921"
            ]
           ]
          },
          "colorway": [
           "#636efa",
           "#EF553B",
           "#00cc96",
           "#ab63fa",
           "#FFA15A",
           "#19d3f3",
           "#FF6692",
           "#B6E880",
           "#FF97FF",
           "#FECB52"
          ],
          "font": {
           "color": "#2a3f5f"
          },
          "geo": {
           "bgcolor": "white",
           "lakecolor": "white",
           "landcolor": "#E5ECF6",
           "showlakes": true,
           "showland": true,
           "subunitcolor": "white"
          },
          "hoverlabel": {
           "align": "left"
          },
          "hovermode": "closest",
          "mapbox": {
           "style": "light"
          },
          "paper_bgcolor": "white",
          "plot_bgcolor": "#E5ECF6",
          "polar": {
           "angularaxis": {
            "gridcolor": "white",
            "linecolor": "white",
            "ticks": ""
           },
           "bgcolor": "#E5ECF6",
           "radialaxis": {
            "gridcolor": "white",
            "linecolor": "white",
            "ticks": ""
           }
          },
          "scene": {
           "xaxis": {
            "backgroundcolor": "#E5ECF6",
            "gridcolor": "white",
            "gridwidth": 2,
            "linecolor": "white",
            "showbackground": true,
            "ticks": "",
            "zerolinecolor": "white"
           },
           "yaxis": {
            "backgroundcolor": "#E5ECF6",
            "gridcolor": "white",
            "gridwidth": 2,
            "linecolor": "white",
            "showbackground": true,
            "ticks": "",
            "zerolinecolor": "white"
           },
           "zaxis": {
            "backgroundcolor": "#E5ECF6",
            "gridcolor": "white",
            "gridwidth": 2,
            "linecolor": "white",
            "showbackground": true,
            "ticks": "",
            "zerolinecolor": "white"
           }
          },
          "shapedefaults": {
           "line": {
            "color": "#2a3f5f"
           }
          },
          "ternary": {
           "aaxis": {
            "gridcolor": "white",
            "linecolor": "white",
            "ticks": ""
           },
           "baxis": {
            "gridcolor": "white",
            "linecolor": "white",
            "ticks": ""
           },
           "bgcolor": "#E5ECF6",
           "caxis": {
            "gridcolor": "white",
            "linecolor": "white",
            "ticks": ""
           }
          },
          "title": {
           "x": 0.05
          },
          "xaxis": {
           "automargin": true,
           "gridcolor": "white",
           "linecolor": "white",
           "ticks": "",
           "title": {
            "standoff": 15
           },
           "zerolinecolor": "white",
           "zerolinewidth": 2
          },
          "yaxis": {
           "automargin": true,
           "gridcolor": "white",
           "linecolor": "white",
           "ticks": "",
           "title": {
            "standoff": 15
           },
           "zerolinecolor": "white",
           "zerolinewidth": 2
          }
         }
        },
        "title": {
         "text": "Hydrogen bond stability in N501 (red) against Y501 (blue)"
        },
        "xaxis": {
         "tickvals": [
          482,
          483,
          484,
          485,
          486,
          487,
          488,
          489,
          490,
          491,
          492,
          493,
          494,
          495,
          496,
          497,
          498,
          499,
          500,
          501,
          502,
          503,
          504,
          505,
          506,
          507,
          508,
          509,
          510,
          511
         ],
         "title": {
          "text": "Residues"
         }
        },
        "yaxis": {
         "title": {
          "text": "Hydrogen bond stability"
         }
        }
       }
      },
      "image/png": "[encoded data removed]",
      "text/html": [
       "<div>            <script src=\"https://cdnjs.cloudflare.com/ajax/libs/mathjax/2.7.5/MathJax.js?config=TeX-AMS-MML_SVG\"></script><script type=\"text/javascript\">if (window.MathJax && window.MathJax.Hub && window.MathJax.Hub.Config) {window.MathJax.Hub.Config({SVG: {font: \"STIX-Web\"}});}</script>                <script type=\"text/javascript\">window.PlotlyConfig = {MathJaxConfig: 'local'};</script>\n",
       "        <script charset=\"utf-8\" src=\"https://cdn.plot.ly/plotly-3.0.1.min.js\"></script>                <div id=\"0086f406-9914-4136-9be9-087a0c82fd01\" class=\"plotly-graph-div\" style=\"height:525px; width:100%;\"></div>            <script type=\"text/javascript\">                window.PLOTLYENV=window.PLOTLYENV || {};                                if (document.getElementById(\"0086f406-9914-4136-9be9-087a0c82fd01\")) {                    Plotly.newPlot(                        \"0086f406-9914-4136-9be9-087a0c82fd01\",                        [{\"marker\":{\"color\":\"red\",\"size\":12},\"mode\":\"markers\",\"name\":\"MCV1900410\",\"opacity\":0.4,\"x\":[482,483,484,485,486,487,488,489,490,491,492,493,494,495,496,497,498,499,500,501,502,503,504,505,506,507,508,509,510,511],\"y\":[0,0,0.058252427184466014,0,0,1.0485436893203883,0,0.07766990291262135,0.019417475728155338,0,0,0.44660194174757284,0,0,0.009708737864077669,0,0.04854368932038834,0,0.4271844660194175,0.4854368932038835,0.038834951456310676,0,0,0.038834951456310676,0,0,0,0,0,0],\"type\":\"scatter\"},{\"marker\":{\"color\":\"red\",\"size\":12},\"mode\":\"markers\",\"name\":\"MCV1900419\",\"opacity\":0.4,\"x\":[482,483,484,485,486,487,488,489,490,491,492,493,494,495,496,497,498,499,500,501,502,503,504,505,506,507,508,509,510,511],\"y\":[0,0,0,0,0,0.980952380952381,0,0,0,0,0,0.6095238095238096,0,0,0.18095238095238095,0,0.12380952380952381,0,0.9428571428571428,0.009523809523809525,0.6,0,0,0.37142857142857144,0,0,0,0,0,0],\"type\":\"scatter\"},{\"marker\":{\"color\":\"blue\",\"size\":12},\"mode\":\"markers\",\"name\":\"MCV1900413\",\"opacity\":0.4,\"x\":[482,483,484,485,486,487,488,489,490,491,492,493,494,495,496,497,498,499,500,501,502,503,504,505,506,507,508,509,510,511],\"y\":[0,0,0.23076923076923078,0,0,0.923076923076923,0,0.009615384615384616,0,0,0,0.45192307692307687,0,0.009615384615384616,0,0,0.04807692307692308,0,0.9326923076923077,0.14423076923076925,0.4807692307692308,0,0,0.375,0,0,0,0,0,0],\"type\":\"scatter\"},{\"marker\":{\"color\":\"blue\",\"size\":12},\"mode\":\"markers\",\"name\":\"MCV1900416\",\"opacity\":0.4,\"x\":[482,483,484,485,486,487,488,489,490,491,492,493,494,495,496,497,498,499,500,501,502,503,504,505,506,507,508,509,510,511],\"y\":[0,0,0.1844660194174757,0,0,0.4077669902912621,0,0.5242718446601942,0.13592233009708737,0,0.06796116504854369,1.0,0,0,0,0,0.4077669902912621,0,0.46601941747572817,0.029126213592233007,0.019417475728155338,0,0,0.029126213592233007,0,0,0,0,0,0],\"type\":\"scatter\"},{\"marker\":{\"color\":\"blue\",\"size\":12},\"mode\":\"markers\",\"name\":\"MCV1900422\",\"opacity\":0.4,\"x\":[482,483,484,485,486,487,488,489,490,491,492,493,494,495,496,497,498,499,500,501,502,503,504,505,506,507,508,509,510,511],\"y\":[0,0,0.3980582524271844,0,0,1.0388349514563107,0,0.019417475728155338,0,0,0,0.5631067961165048,0,0,0,0,0.04854368932038835,0,0.7184466019417476,0.04854368932038834,0.8543689320388349,0,0,0.4660194174757281,0,0,0,0,0,0],\"type\":\"scatter\"}],                        {\"title\":{\"text\":\"Hydrogen bond stability in N501 (red) against Y501 (blue)\"},\"xaxis\":{\"tickvals\":[482,483,484,485,486,487,488,489,490,491,492,493,494,495,496,497,498,499,500,501,502,503,504,505,506,507,508,509,510,511],\"title\":{\"text\":\"Residues\"}},\"yaxis\":{\"title\":{\"text\":\"Hydrogen bond stability\"}},\"template\":{\"data\":{\"histogram2dcontour\":[{\"type\":\"histogram2dcontour\",\"colorbar\":{\"outlinewidth\":0,\"ticks\":\"\"},\"colorscale\":[[0.0,\"#0d0887\"],[0.1111111111111111,\"#46039f\"],[0.2222222222222222,\"#7201a8\"],[0.3333333333333333,\"#9c179e\"],[0.4444444444444444,\"#bd3786\"],[0.5555555555555556,\"#d8576b\"],[0.6666666666666666,\"#ed7953\"],[0.7777777777777778,\"#fb9f3a\"],[0.8888888888888888,\"#fdca26\"],[1.0,\"#f0f921\"]]}],\"choropleth\":[{\"type\":\"choropleth\",\"colorbar\":{\"outlinewidth\":0,\"ticks\":\"\"}}],\"histogram2d\":[{\"type\":\"histogram2d\",\"colorbar\":{\"outlinewidth\":0,\"ticks\":\"\"},\"colorscale\":[[0.0,\"#0d0887\"],[0.1111111111111111,\"#46039f\"],[0.2222222222222222,\"#7201a8\"],[0.3333333333333333,\"#9c179e\"],[0.4444444444444444,\"#bd3786\"],[0.5555555555555556,\"#d8576b\"],[0.6666666666666666,\"#ed7953\"],[0.7777777777777778,\"#fb9f3a\"],[0.8888888888888888,\"#fdca26\"],[1.0,\"#f0f921\"]]}],\"heatmap\":[{\"type\":\"heatmap\",\"colorbar\":{\"outlinewidth\":0,\"ticks\":\"\"},\"colorscale\":[[0.0,\"#0d0887\"],[0.1111111111111111,\"#46039f\"],[0.2222222222222222,\"#7201a8\"],[0.3333333333333333,\"#9c179e\"],[0.4444444444444444,\"#bd3786\"],[0.5555555555555556,\"#d8576b\"],[0.6666666666666666,\"#ed7953\"],[0.7777777777777778,\"#fb9f3a\"],[0.8888888888888888,\"#fdca26\"],[1.0,\"#f0f921\"]]}],\"contourcarpet\":[{\"type\":\"contourcarpet\",\"colorbar\":{\"outlinewidth\":0,\"ticks\":\"\"}}],\"contour\":[{\"type\":\"contour\",\"colorbar\":{\"outlinewidth\":0,\"ticks\":\"\"},\"colorscale\":[[0.0,\"#0d0887\"],[0.1111111111111111,\"#46039f\"],[0.2222222222222222,\"#7201a8\"],[0.3333333333333333,\"#9c179e\"],[0.4444444444444444,\"#bd3786\"],[0.5555555555555556,\"#d8576b\"],[0.6666666666666666,\"#ed7953\"],[0.7777777777777778,\"#fb9f3a\"],[0.8888888888888888,\"#fdca26\"],[1.0,\"#f0f921\"]]}],\"surface\":[{\"type\":\"surface\",\"colorbar\":{\"outlinewidth\":0,\"ticks\":\"\"},\"colorscale\":[[0.0,\"#0d0887\"],[0.1111111111111111,\"#46039f\"],[0.2222222222222222,\"#7201a8\"],[0.3333333333333333,\"#9c179e\"],[0.4444444444444444,\"#bd3786\"],[0.5555555555555556,\"#d8576b\"],[0.6666666666666666,\"#ed7953\"],[0.7777777777777778,\"#fb9f3a\"],[0.8888888888888888,\"#fdca26\"],[1.0,\"#f0f921\"]]}],\"mesh3d\":[{\"type\":\"mesh3d\",\"colorbar\":{\"outlinewidth\":0,\"ticks\":\"\"}}],\"scatter\":[{\"fillpattern\":{\"fillmode\":\"overlay\",\"size\":10,\"solidity\":0.2},\"type\":\"scatter\"}],\"parcoords\":[{\"type\":\"parcoords\",\"line\":{\"colorbar\":{\"outlinewidth\":0,\"ticks\":\"\"}}}],\"scatterpolargl\":[{\"type\":\"scatterpolargl\",\"marker\":{\"colorbar\":{\"outlinewidth\":0,\"ticks\":\"\"}}}],\"bar\":[{\"error_x\":{\"color\":\"#2a3f5f\"},\"error_y\":{\"color\":\"#2a3f5f\"},\"marker\":{\"line\":{\"color\":\"#E5ECF6\",\"width\":0.5},\"pattern\":{\"fillmode\":\"overlay\",\"size\":10,\"solidity\":0.2}},\"type\":\"bar\"}],\"scattergeo\":[{\"type\":\"scattergeo\",\"marker\":{\"colorbar\":{\"outlinewidth\":0,\"ticks\":\"\"}}}],\"scatterpolar\":[{\"type\":\"scatterpolar\",\"marker\":{\"colorbar\":{\"outlinewidth\":0,\"ticks\":\"\"}}}],\"histogram\":[{\"marker\":{\"pattern\":{\"fillmode\":\"overlay\",\"size\":10,\"solidity\":0.2}},\"type\":\"histogram\"}],\"scattergl\":[{\"type\":\"scattergl\",\"marker\":{\"colorbar\":{\"outlinewidth\":0,\"ticks\":\"\"}}}],\"scatter3d\":[{\"type\":\"scatter3d\",\"line\":{\"colorbar\":{\"outlinewidth\":0,\"ticks\":\"\"}},\"marker\":{\"colorbar\":{\"outlinewidth\":0,\"ticks\":\"\"}}}],\"scattermap\":[{\"type\":\"scattermap\",\"marker\":{\"colorbar\":{\"outlinewidth\":0,\"ticks\":\"\"}}}],\"scattermapbox\":[{\"type\":\"scattermapbox\",\"marker\":{\"colorbar\":{\"outlinewidth\":0,\"ticks\":\"\"}}}],\"scatterternary\":[{\"type\":\"scatterternary\",\"marker\":{\"colorbar\":{\"outlinewidth\":0,\"ticks\":\"\"}}}],\"scattercarpet\":[{\"type\":\"scattercarpet\",\"marker\":{\"colorbar\":{\"outlinewidth\":0,\"ticks\":\"\"}}}],\"carpet\":[{\"aaxis\":{\"endlinecolor\":\"#2a3f5f\",\"gridcolor\":\"white\",\"linecolor\":\"white\",\"minorgridcolor\":\"white\",\"startlinecolor\":\"#2a3f5f\"},\"baxis\":{\"endlinecolor\":\"#2a3f5f\",\"gridcolor\":\"white\",\"linecolor\":\"white\",\"minorgridcolor\":\"white\",\"startlinecolor\":\"#2a3f5f\"},\"type\":\"carpet\"}],\"table\":[{\"cells\":{\"fill\":{\"color\":\"#EBF0F8\"},\"line\":{\"color\":\"white\"}},\"header\":{\"fill\":{\"color\":\"#C8D4E3\"},\"line\":{\"color\":\"white\"}},\"type\":\"table\"}],\"barpolar\":[{\"marker\":{\"line\":{\"color\":\"#E5ECF6\",\"width\":0.5},\"pattern\":{\"fillmode\":\"overlay\",\"size\":10,\"solidity\":0.2}},\"type\":\"barpolar\"}],\"pie\":[{\"automargin\":true,\"type\":\"pie\"}]},\"layout\":{\"autotypenumbers\":\"strict\",\"colorway\":[\"#636efa\",\"#EF553B\",\"#00cc96\",\"#ab63fa\",\"#FFA15A\",\"#19d3f3\",\"#FF6692\",\"#B6E880\",\"#FF97FF\",\"#FECB52\"],\"font\":{\"color\":\"#2a3f5f\"},\"hovermode\":\"closest\",\"hoverlabel\":{\"align\":\"left\"},\"paper_bgcolor\":\"white\",\"plot_bgcolor\":\"#E5ECF6\",\"polar\":{\"bgcolor\":\"#E5ECF6\",\"angularaxis\":{\"gridcolor\":\"white\",\"linecolor\":\"white\",\"ticks\":\"\"},\"radialaxis\":{\"gridcolor\":\"white\",\"linecolor\":\"white\",\"ticks\":\"\"}},\"ternary\":{\"bgcolor\":\"#E5ECF6\",\"aaxis\":{\"gridcolor\":\"white\",\"linecolor\":\"white\",\"ticks\":\"\"},\"baxis\":{\"gridcolor\":\"white\",\"linecolor\":\"white\",\"ticks\":\"\"},\"caxis\":{\"gridcolor\":\"white\",\"linecolor\":\"white\",\"ticks\":\"\"}},\"coloraxis\":{\"colorbar\":{\"outlinewidth\":0,\"ticks\":\"\"}},\"colorscale\":{\"sequential\":[[0.0,\"#0d0887\"],[0.1111111111111111,\"#46039f\"],[0.2222222222222222,\"#7201a8\"],[0.3333333333333333,\"#9c179e\"],[0.4444444444444444,\"#bd3786\"],[0.5555555555555556,\"#d8576b\"],[0.6666666666666666,\"#ed7953\"],[0.7777777777777778,\"#fb9f3a\"],[0.8888888888888888,\"#fdca26\"],[1.0,\"#f0f921\"]],\"sequentialminus\":[[0.0,\"#0d0887\"],[0.1111111111111111,\"#46039f\"],[0.2222222222222222,\"#7201a8\"],[0.3333333333333333,\"#9c179e\"],[0.4444444444444444,\"#bd3786\"],[0.5555555555555556,\"#d8576b\"],[0.6666666666666666,\"#ed7953\"],[0.7777777777777778,\"#fb9f3a\"],[0.8888888888888888,\"#fdca26\"],[1.0,\"#f0f921\"]],\"diverging\":[[0,\"#8e0152\"],[0.1,\"#c51b7d\"],[0.2,\"#de77ae\"],[0.3,\"#f1b6da\"],[0.4,\"#fde0ef\"],[0.5,\"#f7f7f7\"],[0.6,\"#e6f5d0\"],[0.7,\"#b8e186\"],[0.8,\"#7fbc41\"],[0.9,\"#4d9221\"],[1,\"#276419\"]]},\"xaxis\":{\"gridcolor\":\"white\",\"linecolor\":\"white\",\"ticks\":\"\",\"title\":{\"standoff\":15},\"zerolinecolor\":\"white\",\"automargin\":true,\"zerolinewidth\":2},\"yaxis\":{\"gridcolor\":\"white\",\"linecolor\":\"white\",\"ticks\":\"\",\"title\":{\"standoff\":15},\"zerolinecolor\":\"white\",\"automargin\":true,\"zerolinewidth\":2},\"scene\":{\"xaxis\":{\"backgroundcolor\":\"#E5ECF6\",\"gridcolor\":\"white\",\"linecolor\":\"white\",\"showbackground\":true,\"ticks\":\"\",\"zerolinecolor\":\"white\",\"gridwidth\":2},\"yaxis\":{\"backgroundcolor\":\"#E5ECF6\",\"gridcolor\":\"white\",\"linecolor\":\"white\",\"showbackground\":true,\"ticks\":\"\",\"zerolinecolor\":\"white\",\"gridwidth\":2},\"zaxis\":{\"backgroundcolor\":\"#E5ECF6\",\"gridcolor\":\"white\",\"linecolor\":\"white\",\"showbackground\":true,\"ticks\":\"\",\"zerolinecolor\":\"white\",\"gridwidth\":2}},\"shapedefaults\":{\"line\":{\"color\":\"#2a3f5f\"}},\"annotationdefaults\":{\"arrowcolor\":\"#2a3f5f\",\"arrowhead\":0,\"arrowwidth\":1},\"geo\":{\"bgcolor\":\"white\",\"landcolor\":\"#E5ECF6\",\"subunitcolor\":\"white\",\"showland\":true,\"showlakes\":true,\"lakecolor\":\"white\"},\"title\":{\"x\":0.05},\"mapbox\":{\"style\":\"light\"}}}},                        {\"responsive\": true}                    ).then(function(){\n",
       "                            \n",
       "var gd = document.getElementById('0086f406-9914-4136-9be9-087a0c82fd01');\n",
       "var x = new MutationObserver(function (mutations, observer) {{\n",
       "        var display = window.getComputedStyle(gd).display;\n",
       "        if (!display || display === 'none') {{\n",
       "            console.log([gd, 'removed!']);\n",
       "            Plotly.purge(gd);\n",
       "            observer.disconnect();\n",
       "        }}\n",
       "}});\n",
       "\n",
       "// Listen for the removal of the full notebook cells\n",
       "var notebookContainer = gd.closest('#notebook-container');\n",
       "if (notebookContainer) {{\n",
       "    x.observe(notebookContainer, {childList: true});\n",
       "}}\n",
       "\n",
       "// Listen for the clearing of the current output cell\n",
       "var outputEl = gd.closest('.output');\n",
       "if (outputEl) {{\n",
       "    x.observe(outputEl, {childList: true});\n",
       "}}\n",
       "\n",
       "                        })                };            </script>        </div>"
      ]
     },
     "metadata": {},
     "output_type": "display_data"
    }
   ],
   "source": [
    "# Set a function to get the specific data energies we are interesed in\n",
    "def get_hbonds_data (accession_or_id : str) -> dict:\n",
    "\n",
    "    # Request the analysis\n",
    "    analysis_request = api_url + 'projects/' + accession_or_id + '/analyses/hbonds'\n",
    "    with urllib.request.urlopen(analysis_request) as response:\n",
    "        parsed_response = json.loads(response.read().decode(\"utf-8\"))\n",
    "    analysis_data = parsed_response['data']\n",
    "\n",
    "    # In this case, there is only one defined interaction: the protein-ligand interaction\n",
    "    interaction_data = analysis_data[0]\n",
    "    \n",
    "    return interaction_data\n",
    "\n",
    "# For each simulation, download hbonds data and find all hydrogen bonds in the target residues\n",
    "colors = { 'N501': 'red', 'Y501': 'blue' }\n",
    "hbonds_data = { 'N501': [], 'Y501': [] } # Store hbonds data for further use\n",
    "plot_data = []\n",
    "for group_name, simulations in simulation_groups.items():\n",
    "    # Make a scatter for each energies result\n",
    "    for simulation in simulations:\n",
    "        simulation_id = simulation['identifier']\n",
    "        accession = simulation['accession']\n",
    "        # Get topology data and indices for target residues\n",
    "        topology = simulation['topology']\n",
    "        atom_residue_indices = topology['atom_residue_indices']\n",
    "        target_residue_indices = simulation['target_residue_indices']\n",
    "        # Get the hydrogen bonds data\n",
    "        hbond_data = get_hbonds_data(simulation_id)\n",
    "        # Get hydrogen bonds in the target residues\n",
    "        acceptors = hbond_data['acceptors']\n",
    "        donors = hbond_data['donors']\n",
    "        hbonds = hbond_data['hbonds']\n",
    "        target_hbonds = {}\n",
    "        for i, target_residue_index in enumerate(target_residue_indices):\n",
    "            # Find atom indices for all atoms in target residue\n",
    "            target_atoms = [ atom_index for atom_index, residue_index in enumerate(atom_residue_indices) if residue_index == target_residue_index ]\n",
    "            residue_stability = 0\n",
    "            for j, hb in enumerate(hbonds):\n",
    "                acceptor = acceptors[j]\n",
    "                donor = donors[j]\n",
    "                target_atom = next((atom for atom in [acceptor, donor] if atom in target_atoms), None)\n",
    "                if not target_atom:\n",
    "                    continue\n",
    "                # Calculate the residue stability by adding all its hydrogen bond stabilities\n",
    "                hbond_stability = sum(hb) / len(hb)\n",
    "                residue_stability += hbond_stability\n",
    "            # Set the final dataset to be displayed, using reference numeration for the residue labels\n",
    "            target_residue_reference_number = target_residues[i]\n",
    "            target_hbonds[target_residue_reference_number] = residue_stability\n",
    "        hbonds_data[group_name].append(target_hbonds)\n",
    "        # Generate the corresponding line for the plot\n",
    "        plot_data.append(\n",
    "            go.Scatter(\n",
    "                x = list(target_hbonds.keys()),\n",
    "                y = list(target_hbonds.values()),\n",
    "                name = accession,\n",
    "                opacity=0.4,\n",
    "                marker={'color': colors[group_name], 'size': 12},\n",
    "                mode=\"markers\",\n",
    "            )\n",
    "        )\n",
    "        \n",
    "# Show the figure of all energies overlapped\n",
    "fig = go.Figure({\n",
    "    \"data\": plot_data,\n",
    "    \"layout\": go.Layout(\n",
    "        title= 'Hydrogen bond stability in N501 (red) against Y501 (blue)',\n",
    "        xaxis={'title': 'Residues', 'tickvals': list(target_hbonds.keys())},\n",
    "        yaxis={'title': 'Hydrogen bond stability'},\n",
    "    )\n",
    "})\n",
    "fig.show()"
   ]
  },
  {
   "cell_type": "markdown",
   "id": "60428a0c",
   "metadata": {},
   "source": [
    "Now to highligh differences we will use a boxplot with averages and standard deviations.<br />\n",
    "We will also discard hydrogen bonds with 0 or near stability."
   ]
  },
  {
   "cell_type": "code",
   "execution_count": 9,
   "id": "f508ec7d",
   "metadata": {},
   "outputs": [
    {
     "data": {
      "application/vnd.plotly.v1+json": {
       "config": {
        "plotlyServerURL": "https://plot.ly"
       },
       "data": [
        {
         "line": {
          "color": "red"
         },
         "name": "N501",
         "type": "box",
         "x": [
          "Residue 484",
          "Residue 484",
          "Residue 487",
          "Residue 487",
          "Residue 489",
          "Residue 489",
          "Residue 493",
          "Residue 493",
          "Residue 498",
          "Residue 498",
          "Residue 500",
          "Residue 500",
          "Residue 501",
          "Residue 501",
          "Residue 502",
          "Residue 502",
          "Residue 505",
          "Residue 505"
         ],
         "y": [
          0.058252427184466014,
          0,
          1.0485436893203883,
          0.980952380952381,
          0.07766990291262135,
          0,
          0.44660194174757284,
          0.6095238095238096,
          0.04854368932038834,
          0.12380952380952381,
          0.4271844660194175,
          0.9428571428571428,
          0.4854368932038835,
          0.009523809523809525,
          0.038834951456310676,
          0.6,
          0.038834951456310676,
          0.37142857142857144
         ]
        },
        {
         "line": {
          "color": "blue"
         },
         "name": "Y501",
         "type": "box",
         "x": [
          "Residue 484",
          "Residue 484",
          "Residue 484",
          "Residue 487",
          "Residue 487",
          "Residue 487",
          "Residue 489",
          "Residue 489",
          "Residue 489",
          "Residue 493",
          "Residue 493",
          "Residue 493",
          "Residue 498",
          "Residue 498",
          "Residue 498",
          "Residue 500",
          "Residue 500",
          "Residue 500",
          "Residue 501",
          "Residue 501",
          "Residue 501",
          "Residue 502",
          "Residue 502",
          "Residue 502",
          "Residue 505",
          "Residue 505",
          "Residue 505"
         ],
         "y": [
          0.23076923076923078,
          0.1844660194174757,
          0.3980582524271844,
          0.923076923076923,
          0.4077669902912621,
          1.0388349514563107,
          0.009615384615384616,
          0.5242718446601942,
          0.019417475728155338,
          0.45192307692307687,
          1,
          0.5631067961165048,
          0.04807692307692308,
          0.4077669902912621,
          0.04854368932038835,
          0.9326923076923077,
          0.46601941747572817,
          0.7184466019417476,
          0.14423076923076925,
          0.029126213592233007,
          0.04854368932038834,
          0.4807692307692308,
          0.019417475728155338,
          0.8543689320388349,
          0.375,
          0.029126213592233007,
          0.4660194174757281
         ]
        }
       ],
       "layout": {
        "boxmode": "group",
        "template": {
         "data": {
          "bar": [
           {
            "error_x": {
             "color": "#2a3f5f"
            },
            "error_y": {
             "color": "#2a3f5f"
            },
            "marker": {
             "line": {
              "color": "#E5ECF6",
              "width": 0.5
             },
             "pattern": {
              "fillmode": "overlay",
              "size": 10,
              "solidity": 0.2
             }
            },
            "type": "bar"
           }
          ],
          "barpolar": [
           {
            "marker": {
             "line": {
              "color": "#E5ECF6",
              "width": 0.5
             },
             "pattern": {
              "fillmode": "overlay",
              "size": 10,
              "solidity": 0.2
             }
            },
            "type": "barpolar"
           }
          ],
          "carpet": [
           {
            "aaxis": {
             "endlinecolor": "#2a3f5f",
             "gridcolor": "white",
             "linecolor": "white",
             "minorgridcolor": "white",
             "startlinecolor": "#2a3f5f"
            },
            "baxis": {
             "endlinecolor": "#2a3f5f",
             "gridcolor": "white",
             "linecolor": "white",
             "minorgridcolor": "white",
             "startlinecolor": "#2a3f5f"
            },
            "type": "carpet"
           }
          ],
          "choropleth": [
           {
            "colorbar": {
             "outlinewidth": 0,
             "ticks": ""
            },
            "type": "choropleth"
           }
          ],
          "contour": [
           {
            "colorbar": {
             "outlinewidth": 0,
             "ticks": ""
            },
            "colorscale": [
             [
              0,
              "#0d0887"
             ],
             [
              0.1111111111111111,
              "#46039f"
             ],
             [
              0.2222222222222222,
              "#7201a8"
             ],
             [
              0.3333333333333333,
              "#9c179e"
             ],
             [
              0.4444444444444444,
              "#bd3786"
             ],
             [
              0.5555555555555556,
              "#d8576b"
             ],
             [
              0.6666666666666666,
              "#ed7953"
             ],
             [
              0.7777777777777778,
              "#fb9f3a"
             ],
             [
              0.8888888888888888,
              "#fdca26"
             ],
             [
              1,
              "#f0f921"
             ]
            ],
            "type": "contour"
           }
          ],
          "contourcarpet": [
           {
            "colorbar": {
             "outlinewidth": 0,
             "ticks": ""
            },
            "type": "contourcarpet"
           }
          ],
          "heatmap": [
           {
            "colorbar": {
             "outlinewidth": 0,
             "ticks": ""
            },
            "colorscale": [
             [
              0,
              "#0d0887"
             ],
             [
              0.1111111111111111,
              "#46039f"
             ],
             [
              0.2222222222222222,
              "#7201a8"
             ],
             [
              0.3333333333333333,
              "#9c179e"
             ],
             [
              0.4444444444444444,
              "#bd3786"
             ],
             [
              0.5555555555555556,
              "#d8576b"
             ],
             [
              0.6666666666666666,
              "#ed7953"
             ],
             [
              0.7777777777777778,
              "#fb9f3a"
             ],
             [
              0.8888888888888888,
              "#fdca26"
             ],
             [
              1,
              "#f0f921"
             ]
            ],
            "type": "heatmap"
           }
          ],
          "histogram": [
           {
            "marker": {
             "pattern": {
              "fillmode": "overlay",
              "size": 10,
              "solidity": 0.2
             }
            },
            "type": "histogram"
           }
          ],
          "histogram2d": [
           {
            "colorbar": {
             "outlinewidth": 0,
             "ticks": ""
            },
            "colorscale": [
             [
              0,
              "#0d0887"
             ],
             [
              0.1111111111111111,
              "#46039f"
             ],
             [
              0.2222222222222222,
              "#7201a8"
             ],
             [
              0.3333333333333333,
              "#9c179e"
             ],
             [
              0.4444444444444444,
              "#bd3786"
             ],
             [
              0.5555555555555556,
              "#d8576b"
             ],
             [
              0.6666666666666666,
              "#ed7953"
             ],
             [
              0.7777777777777778,
              "#fb9f3a"
             ],
             [
              0.8888888888888888,
              "#fdca26"
             ],
             [
              1,
              "#f0f921"
             ]
            ],
            "type": "histogram2d"
           }
          ],
          "histogram2dcontour": [
           {
            "colorbar": {
             "outlinewidth": 0,
             "ticks": ""
            },
            "colorscale": [
             [
              0,
              "#0d0887"
             ],
             [
              0.1111111111111111,
              "#46039f"
             ],
             [
              0.2222222222222222,
              "#7201a8"
             ],
             [
              0.3333333333333333,
              "#9c179e"
             ],
             [
              0.4444444444444444,
              "#bd3786"
             ],
             [
              0.5555555555555556,
              "#d8576b"
             ],
             [
              0.6666666666666666,
              "#ed7953"
             ],
             [
              0.7777777777777778,
              "#fb9f3a"
             ],
             [
              0.8888888888888888,
              "#fdca26"
             ],
             [
              1,
              "#f0f921"
             ]
            ],
            "type": "histogram2dcontour"
           }
          ],
          "mesh3d": [
           {
            "colorbar": {
             "outlinewidth": 0,
             "ticks": ""
            },
            "type": "mesh3d"
           }
          ],
          "parcoords": [
           {
            "line": {
             "colorbar": {
              "outlinewidth": 0,
              "ticks": ""
             }
            },
            "type": "parcoords"
           }
          ],
          "pie": [
           {
            "automargin": true,
            "type": "pie"
           }
          ],
          "scatter": [
           {
            "fillpattern": {
             "fillmode": "overlay",
             "size": 10,
             "solidity": 0.2
            },
            "type": "scatter"
           }
          ],
          "scatter3d": [
           {
            "line": {
             "colorbar": {
              "outlinewidth": 0,
              "ticks": ""
             }
            },
            "marker": {
             "colorbar": {
              "outlinewidth": 0,
              "ticks": ""
             }
            },
            "type": "scatter3d"
           }
          ],
          "scattercarpet": [
           {
            "marker": {
             "colorbar": {
              "outlinewidth": 0,
              "ticks": ""
             }
            },
            "type": "scattercarpet"
           }
          ],
          "scattergeo": [
           {
            "marker": {
             "colorbar": {
              "outlinewidth": 0,
              "ticks": ""
             }
            },
            "type": "scattergeo"
           }
          ],
          "scattergl": [
           {
            "marker": {
             "colorbar": {
              "outlinewidth": 0,
              "ticks": ""
             }
            },
            "type": "scattergl"
           }
          ],
          "scattermap": [
           {
            "marker": {
             "colorbar": {
              "outlinewidth": 0,
              "ticks": ""
             }
            },
            "type": "scattermap"
           }
          ],
          "scattermapbox": [
           {
            "marker": {
             "colorbar": {
              "outlinewidth": 0,
              "ticks": ""
             }
            },
            "type": "scattermapbox"
           }
          ],
          "scatterpolar": [
           {
            "marker": {
             "colorbar": {
              "outlinewidth": 0,
              "ticks": ""
             }
            },
            "type": "scatterpolar"
           }
          ],
          "scatterpolargl": [
           {
            "marker": {
             "colorbar": {
              "outlinewidth": 0,
              "ticks": ""
             }
            },
            "type": "scatterpolargl"
           }
          ],
          "scatterternary": [
           {
            "marker": {
             "colorbar": {
              "outlinewidth": 0,
              "ticks": ""
             }
            },
            "type": "scatterternary"
           }
          ],
          "surface": [
           {
            "colorbar": {
             "outlinewidth": 0,
             "ticks": ""
            },
            "colorscale": [
             [
              0,
              "#0d0887"
             ],
             [
              0.1111111111111111,
              "#46039f"
             ],
             [
              0.2222222222222222,
              "#7201a8"
             ],
             [
              0.3333333333333333,
              "#9c179e"
             ],
             [
              0.4444444444444444,
              "#bd3786"
             ],
             [
              0.5555555555555556,
              "#d8576b"
             ],
             [
              0.6666666666666666,
              "#ed7953"
             ],
             [
              0.7777777777777778,
              "#fb9f3a"
             ],
             [
              0.8888888888888888,
              "#fdca26"
             ],
             [
              1,
              "#f0f921"
             ]
            ],
            "type": "surface"
           }
          ],
          "table": [
           {
            "cells": {
             "fill": {
              "color": "#EBF0F8"
             },
             "line": {
              "color": "white"
             }
            },
            "header": {
             "fill": {
              "color": "#C8D4E3"
             },
             "line": {
              "color": "white"
             }
            },
            "type": "table"
           }
          ]
         },
         "layout": {
          "annotationdefaults": {
           "arrowcolor": "#2a3f5f",
           "arrowhead": 0,
           "arrowwidth": 1
          },
          "autotypenumbers": "strict",
          "coloraxis": {
           "colorbar": {
            "outlinewidth": 0,
            "ticks": ""
           }
          },
          "colorscale": {
           "diverging": [
            [
             0,
             "#8e0152"
            ],
            [
             0.1,
             "#c51b7d"
            ],
            [
             0.2,
             "#de77ae"
            ],
            [
             0.3,
             "#f1b6da"
            ],
            [
             0.4,
             "#fde0ef"
            ],
            [
             0.5,
             "#f7f7f7"
            ],
            [
             0.6,
             "#e6f5d0"
            ],
            [
             0.7,
             "#b8e186"
            ],
            [
             0.8,
             "#7fbc41"
            ],
            [
             0.9,
             "#4d9221"
            ],
            [
             1,
             "#276419"
            ]
           ],
           "sequential": [
            [
             0,
             "#0d0887"
            ],
            [
             0.1111111111111111,
             "#46039f"
            ],
            [
             0.2222222222222222,
             "#7201a8"
            ],
            [
             0.3333333333333333,
             "#9c179e"
            ],
            [
             0.4444444444444444,
             "#bd3786"
            ],
            [
             0.5555555555555556,
             "#d8576b"
            ],
            [
             0.6666666666666666,
             "#ed7953"
            ],
            [
             0.7777777777777778,
             "#fb9f3a"
            ],
            [
             0.8888888888888888,
             "#fdca26"
            ],
            [
             1,
             "#f0f921"
            ]
           ],
           "sequentialminus": [
            [
             0,
             "#0d0887"
            ],
            [
             0.1111111111111111,
             "#46039f"
            ],
            [
             0.2222222222222222,
             "#7201a8"
            ],
            [
             0.3333333333333333,
             "#9c179e"
            ],
            [
             0.4444444444444444,
             "#bd3786"
            ],
            [
             0.5555555555555556,
             "#d8576b"
            ],
            [
             0.6666666666666666,
             "#ed7953"
            ],
            [
             0.7777777777777778,
             "#fb9f3a"
            ],
            [
             0.8888888888888888,
             "#fdca26"
            ],
            [
             1,
             "#f0f921"
            ]
           ]
          },
          "colorway": [
           "#636efa",
           "#EF553B",
           "#00cc96",
           "#ab63fa",
           "#FFA15A",
           "#19d3f3",
           "#FF6692",
           "#B6E880",
           "#FF97FF",
           "#FECB52"
          ],
          "font": {
           "color": "#2a3f5f"
          },
          "geo": {
           "bgcolor": "white",
           "lakecolor": "white",
           "landcolor": "#E5ECF6",
           "showlakes": true,
           "showland": true,
           "subunitcolor": "white"
          },
          "hoverlabel": {
           "align": "left"
          },
          "hovermode": "closest",
          "mapbox": {
           "style": "light"
          },
          "paper_bgcolor": "white",
          "plot_bgcolor": "#E5ECF6",
          "polar": {
           "angularaxis": {
            "gridcolor": "white",
            "linecolor": "white",
            "ticks": ""
           },
           "bgcolor": "#E5ECF6",
           "radialaxis": {
            "gridcolor": "white",
            "linecolor": "white",
            "ticks": ""
           }
          },
          "scene": {
           "xaxis": {
            "backgroundcolor": "#E5ECF6",
            "gridcolor": "white",
            "gridwidth": 2,
            "linecolor": "white",
            "showbackground": true,
            "ticks": "",
            "zerolinecolor": "white"
           },
           "yaxis": {
            "backgroundcolor": "#E5ECF6",
            "gridcolor": "white",
            "gridwidth": 2,
            "linecolor": "white",
            "showbackground": true,
            "ticks": "",
            "zerolinecolor": "white"
           },
           "zaxis": {
            "backgroundcolor": "#E5ECF6",
            "gridcolor": "white",
            "gridwidth": 2,
            "linecolor": "white",
            "showbackground": true,
            "ticks": "",
            "zerolinecolor": "white"
           }
          },
          "shapedefaults": {
           "line": {
            "color": "#2a3f5f"
           }
          },
          "ternary": {
           "aaxis": {
            "gridcolor": "white",
            "linecolor": "white",
            "ticks": ""
           },
           "baxis": {
            "gridcolor": "white",
            "linecolor": "white",
            "ticks": ""
           },
           "bgcolor": "#E5ECF6",
           "caxis": {
            "gridcolor": "white",
            "linecolor": "white",
            "ticks": ""
           }
          },
          "title": {
           "x": 0.05
          },
          "xaxis": {
           "automargin": true,
           "gridcolor": "white",
           "linecolor": "white",
           "ticks": "",
           "title": {
            "standoff": 15
           },
           "zerolinecolor": "white",
           "zerolinewidth": 2
          },
          "yaxis": {
           "automargin": true,
           "gridcolor": "white",
           "linecolor": "white",
           "ticks": "",
           "title": {
            "standoff": 15
           },
           "zerolinecolor": "white",
           "zerolinewidth": 2
          }
         }
        },
        "yaxis": {
         "title": {
          "text": "Hydrogen bond stability"
         }
        }
       }
      },
      "image/png": "[encoded data removed]",
      "text/html": [
       "<div>            <script src=\"https://cdnjs.cloudflare.com/ajax/libs/mathjax/2.7.5/MathJax.js?config=TeX-AMS-MML_SVG\"></script><script type=\"text/javascript\">if (window.MathJax && window.MathJax.Hub && window.MathJax.Hub.Config) {window.MathJax.Hub.Config({SVG: {font: \"STIX-Web\"}});}</script>                <script type=\"text/javascript\">window.PlotlyConfig = {MathJaxConfig: 'local'};</script>\n",
       "        <script charset=\"utf-8\" src=\"https://cdn.plot.ly/plotly-3.0.1.min.js\"></script>                <div id=\"ace20746-fd87-44c7-907a-9bdeba466891\" class=\"plotly-graph-div\" style=\"height:525px; width:100%;\"></div>            <script type=\"text/javascript\">                window.PLOTLYENV=window.PLOTLYENV || {};                                if (document.getElementById(\"ace20746-fd87-44c7-907a-9bdeba466891\")) {                    Plotly.newPlot(                        \"ace20746-fd87-44c7-907a-9bdeba466891\",                        [{\"line\":{\"color\":\"red\"},\"name\":\"N501\",\"x\":[\"Residue 484\",\"Residue 484\",\"Residue 487\",\"Residue 487\",\"Residue 489\",\"Residue 489\",\"Residue 493\",\"Residue 493\",\"Residue 498\",\"Residue 498\",\"Residue 500\",\"Residue 500\",\"Residue 501\",\"Residue 501\",\"Residue 502\",\"Residue 502\",\"Residue 505\",\"Residue 505\"],\"y\":[0.058252427184466014,0,1.0485436893203883,0.980952380952381,0.07766990291262135,0,0.44660194174757284,0.6095238095238096,0.04854368932038834,0.12380952380952381,0.4271844660194175,0.9428571428571428,0.4854368932038835,0.009523809523809525,0.038834951456310676,0.6,0.038834951456310676,0.37142857142857144],\"type\":\"box\"},{\"line\":{\"color\":\"blue\"},\"name\":\"Y501\",\"x\":[\"Residue 484\",\"Residue 484\",\"Residue 484\",\"Residue 487\",\"Residue 487\",\"Residue 487\",\"Residue 489\",\"Residue 489\",\"Residue 489\",\"Residue 493\",\"Residue 493\",\"Residue 493\",\"Residue 498\",\"Residue 498\",\"Residue 498\",\"Residue 500\",\"Residue 500\",\"Residue 500\",\"Residue 501\",\"Residue 501\",\"Residue 501\",\"Residue 502\",\"Residue 502\",\"Residue 502\",\"Residue 505\",\"Residue 505\",\"Residue 505\"],\"y\":[0.23076923076923078,0.1844660194174757,0.3980582524271844,0.923076923076923,0.4077669902912621,1.0388349514563107,0.009615384615384616,0.5242718446601942,0.019417475728155338,0.45192307692307687,1.0,0.5631067961165048,0.04807692307692308,0.4077669902912621,0.04854368932038835,0.9326923076923077,0.46601941747572817,0.7184466019417476,0.14423076923076925,0.029126213592233007,0.04854368932038834,0.4807692307692308,0.019417475728155338,0.8543689320388349,0.375,0.029126213592233007,0.4660194174757281],\"type\":\"box\"}],                        {\"template\":{\"data\":{\"histogram2dcontour\":[{\"type\":\"histogram2dcontour\",\"colorbar\":{\"outlinewidth\":0,\"ticks\":\"\"},\"colorscale\":[[0.0,\"#0d0887\"],[0.1111111111111111,\"#46039f\"],[0.2222222222222222,\"#7201a8\"],[0.3333333333333333,\"#9c179e\"],[0.4444444444444444,\"#bd3786\"],[0.5555555555555556,\"#d8576b\"],[0.6666666666666666,\"#ed7953\"],[0.7777777777777778,\"#fb9f3a\"],[0.8888888888888888,\"#fdca26\"],[1.0,\"#f0f921\"]]}],\"choropleth\":[{\"type\":\"choropleth\",\"colorbar\":{\"outlinewidth\":0,\"ticks\":\"\"}}],\"histogram2d\":[{\"type\":\"histogram2d\",\"colorbar\":{\"outlinewidth\":0,\"ticks\":\"\"},\"colorscale\":[[0.0,\"#0d0887\"],[0.1111111111111111,\"#46039f\"],[0.2222222222222222,\"#7201a8\"],[0.3333333333333333,\"#9c179e\"],[0.4444444444444444,\"#bd3786\"],[0.5555555555555556,\"#d8576b\"],[0.6666666666666666,\"#ed7953\"],[0.7777777777777778,\"#fb9f3a\"],[0.8888888888888888,\"#fdca26\"],[1.0,\"#f0f921\"]]}],\"heatmap\":[{\"type\":\"heatmap\",\"colorbar\":{\"outlinewidth\":0,\"ticks\":\"\"},\"colorscale\":[[0.0,\"#0d0887\"],[0.1111111111111111,\"#46039f\"],[0.2222222222222222,\"#7201a8\"],[0.3333333333333333,\"#9c179e\"],[0.4444444444444444,\"#bd3786\"],[0.5555555555555556,\"#d8576b\"],[0.6666666666666666,\"#ed7953\"],[0.7777777777777778,\"#fb9f3a\"],[0.8888888888888888,\"#fdca26\"],[1.0,\"#f0f921\"]]}],\"contourcarpet\":[{\"type\":\"contourcarpet\",\"colorbar\":{\"outlinewidth\":0,\"ticks\":\"\"}}],\"contour\":[{\"type\":\"contour\",\"colorbar\":{\"outlinewidth\":0,\"ticks\":\"\"},\"colorscale\":[[0.0,\"#0d0887\"],[0.1111111111111111,\"#46039f\"],[0.2222222222222222,\"#7201a8\"],[0.3333333333333333,\"#9c179e\"],[0.4444444444444444,\"#bd3786\"],[0.5555555555555556,\"#d8576b\"],[0.6666666666666666,\"#ed7953\"],[0.7777777777777778,\"#fb9f3a\"],[0.8888888888888888,\"#fdca26\"],[1.0,\"#f0f921\"]]}],\"surface\":[{\"type\":\"surface\",\"colorbar\":{\"outlinewidth\":0,\"ticks\":\"\"},\"colorscale\":[[0.0,\"#0d0887\"],[0.1111111111111111,\"#46039f\"],[0.2222222222222222,\"#7201a8\"],[0.3333333333333333,\"#9c179e\"],[0.4444444444444444,\"#bd3786\"],[0.5555555555555556,\"#d8576b\"],[0.6666666666666666,\"#ed7953\"],[0.7777777777777778,\"#fb9f3a\"],[0.8888888888888888,\"#fdca26\"],[1.0,\"#f0f921\"]]}],\"mesh3d\":[{\"type\":\"mesh3d\",\"colorbar\":{\"outlinewidth\":0,\"ticks\":\"\"}}],\"scatter\":[{\"fillpattern\":{\"fillmode\":\"overlay\",\"size\":10,\"solidity\":0.2},\"type\":\"scatter\"}],\"parcoords\":[{\"type\":\"parcoords\",\"line\":{\"colorbar\":{\"outlinewidth\":0,\"ticks\":\"\"}}}],\"scatterpolargl\":[{\"type\":\"scatterpolargl\",\"marker\":{\"colorbar\":{\"outlinewidth\":0,\"ticks\":\"\"}}}],\"bar\":[{\"error_x\":{\"color\":\"#2a3f5f\"},\"error_y\":{\"color\":\"#2a3f5f\"},\"marker\":{\"line\":{\"color\":\"#E5ECF6\",\"width\":0.5},\"pattern\":{\"fillmode\":\"overlay\",\"size\":10,\"solidity\":0.2}},\"type\":\"bar\"}],\"scattergeo\":[{\"type\":\"scattergeo\",\"marker\":{\"colorbar\":{\"outlinewidth\":0,\"ticks\":\"\"}}}],\"scatterpolar\":[{\"type\":\"scatterpolar\",\"marker\":{\"colorbar\":{\"outlinewidth\":0,\"ticks\":\"\"}}}],\"histogram\":[{\"marker\":{\"pattern\":{\"fillmode\":\"overlay\",\"size\":10,\"solidity\":0.2}},\"type\":\"histogram\"}],\"scattergl\":[{\"type\":\"scattergl\",\"marker\":{\"colorbar\":{\"outlinewidth\":0,\"ticks\":\"\"}}}],\"scatter3d\":[{\"type\":\"scatter3d\",\"line\":{\"colorbar\":{\"outlinewidth\":0,\"ticks\":\"\"}},\"marker\":{\"colorbar\":{\"outlinewidth\":0,\"ticks\":\"\"}}}],\"scattermap\":[{\"type\":\"scattermap\",\"marker\":{\"colorbar\":{\"outlinewidth\":0,\"ticks\":\"\"}}}],\"scattermapbox\":[{\"type\":\"scattermapbox\",\"marker\":{\"colorbar\":{\"outlinewidth\":0,\"ticks\":\"\"}}}],\"scatterternary\":[{\"type\":\"scatterternary\",\"marker\":{\"colorbar\":{\"outlinewidth\":0,\"ticks\":\"\"}}}],\"scattercarpet\":[{\"type\":\"scattercarpet\",\"marker\":{\"colorbar\":{\"outlinewidth\":0,\"ticks\":\"\"}}}],\"carpet\":[{\"aaxis\":{\"endlinecolor\":\"#2a3f5f\",\"gridcolor\":\"white\",\"linecolor\":\"white\",\"minorgridcolor\":\"white\",\"startlinecolor\":\"#2a3f5f\"},\"baxis\":{\"endlinecolor\":\"#2a3f5f\",\"gridcolor\":\"white\",\"linecolor\":\"white\",\"minorgridcolor\":\"white\",\"startlinecolor\":\"#2a3f5f\"},\"type\":\"carpet\"}],\"table\":[{\"cells\":{\"fill\":{\"color\":\"#EBF0F8\"},\"line\":{\"color\":\"white\"}},\"header\":{\"fill\":{\"color\":\"#C8D4E3\"},\"line\":{\"color\":\"white\"}},\"type\":\"table\"}],\"barpolar\":[{\"marker\":{\"line\":{\"color\":\"#E5ECF6\",\"width\":0.5},\"pattern\":{\"fillmode\":\"overlay\",\"size\":10,\"solidity\":0.2}},\"type\":\"barpolar\"}],\"pie\":[{\"automargin\":true,\"type\":\"pie\"}]},\"layout\":{\"autotypenumbers\":\"strict\",\"colorway\":[\"#636efa\",\"#EF553B\",\"#00cc96\",\"#ab63fa\",\"#FFA15A\",\"#19d3f3\",\"#FF6692\",\"#B6E880\",\"#FF97FF\",\"#FECB52\"],\"font\":{\"color\":\"#2a3f5f\"},\"hovermode\":\"closest\",\"hoverlabel\":{\"align\":\"left\"},\"paper_bgcolor\":\"white\",\"plot_bgcolor\":\"#E5ECF6\",\"polar\":{\"bgcolor\":\"#E5ECF6\",\"angularaxis\":{\"gridcolor\":\"white\",\"linecolor\":\"white\",\"ticks\":\"\"},\"radialaxis\":{\"gridcolor\":\"white\",\"linecolor\":\"white\",\"ticks\":\"\"}},\"ternary\":{\"bgcolor\":\"#E5ECF6\",\"aaxis\":{\"gridcolor\":\"white\",\"linecolor\":\"white\",\"ticks\":\"\"},\"baxis\":{\"gridcolor\":\"white\",\"linecolor\":\"white\",\"ticks\":\"\"},\"caxis\":{\"gridcolor\":\"white\",\"linecolor\":\"white\",\"ticks\":\"\"}},\"coloraxis\":{\"colorbar\":{\"outlinewidth\":0,\"ticks\":\"\"}},\"colorscale\":{\"sequential\":[[0.0,\"#0d0887\"],[0.1111111111111111,\"#46039f\"],[0.2222222222222222,\"#7201a8\"],[0.3333333333333333,\"#9c179e\"],[0.4444444444444444,\"#bd3786\"],[0.5555555555555556,\"#d8576b\"],[0.6666666666666666,\"#ed7953\"],[0.7777777777777778,\"#fb9f3a\"],[0.8888888888888888,\"#fdca26\"],[1.0,\"#f0f921\"]],\"sequentialminus\":[[0.0,\"#0d0887\"],[0.1111111111111111,\"#46039f\"],[0.2222222222222222,\"#7201a8\"],[0.3333333333333333,\"#9c179e\"],[0.4444444444444444,\"#bd3786\"],[0.5555555555555556,\"#d8576b\"],[0.6666666666666666,\"#ed7953\"],[0.7777777777777778,\"#fb9f3a\"],[0.8888888888888888,\"#fdca26\"],[1.0,\"#f0f921\"]],\"diverging\":[[0,\"#8e0152\"],[0.1,\"#c51b7d\"],[0.2,\"#de77ae\"],[0.3,\"#f1b6da\"],[0.4,\"#fde0ef\"],[0.5,\"#f7f7f7\"],[0.6,\"#e6f5d0\"],[0.7,\"#b8e186\"],[0.8,\"#7fbc41\"],[0.9,\"#4d9221\"],[1,\"#276419\"]]},\"xaxis\":{\"gridcolor\":\"white\",\"linecolor\":\"white\",\"ticks\":\"\",\"title\":{\"standoff\":15},\"zerolinecolor\":\"white\",\"automargin\":true,\"zerolinewidth\":2},\"yaxis\":{\"gridcolor\":\"white\",\"linecolor\":\"white\",\"ticks\":\"\",\"title\":{\"standoff\":15},\"zerolinecolor\":\"white\",\"automargin\":true,\"zerolinewidth\":2},\"scene\":{\"xaxis\":{\"backgroundcolor\":\"#E5ECF6\",\"gridcolor\":\"white\",\"linecolor\":\"white\",\"showbackground\":true,\"ticks\":\"\",\"zerolinecolor\":\"white\",\"gridwidth\":2},\"yaxis\":{\"backgroundcolor\":\"#E5ECF6\",\"gridcolor\":\"white\",\"linecolor\":\"white\",\"showbackground\":true,\"ticks\":\"\",\"zerolinecolor\":\"white\",\"gridwidth\":2},\"zaxis\":{\"backgroundcolor\":\"#E5ECF6\",\"gridcolor\":\"white\",\"linecolor\":\"white\",\"showbackground\":true,\"ticks\":\"\",\"zerolinecolor\":\"white\",\"gridwidth\":2}},\"shapedefaults\":{\"line\":{\"color\":\"#2a3f5f\"}},\"annotationdefaults\":{\"arrowcolor\":\"#2a3f5f\",\"arrowhead\":0,\"arrowwidth\":1},\"geo\":{\"bgcolor\":\"white\",\"landcolor\":\"#E5ECF6\",\"subunitcolor\":\"white\",\"showland\":true,\"showlakes\":true,\"lakecolor\":\"white\"},\"title\":{\"x\":0.05},\"mapbox\":{\"style\":\"light\"}}},\"yaxis\":{\"title\":{\"text\":\"Hydrogen bond stability\"}},\"boxmode\":\"group\"},                        {\"responsive\": true}                    ).then(function(){\n",
       "                            \n",
       "var gd = document.getElementById('ace20746-fd87-44c7-907a-9bdeba466891');\n",
       "var x = new MutationObserver(function (mutations, observer) {{\n",
       "        var display = window.getComputedStyle(gd).display;\n",
       "        if (!display || display === 'none') {{\n",
       "            console.log([gd, 'removed!']);\n",
       "            Plotly.purge(gd);\n",
       "            observer.disconnect();\n",
       "        }}\n",
       "}});\n",
       "\n",
       "// Listen for the removal of the full notebook cells\n",
       "var notebookContainer = gd.closest('#notebook-container');\n",
       "if (notebookContainer) {{\n",
       "    x.observe(notebookContainer, {childList: true});\n",
       "}}\n",
       "\n",
       "// Listen for the clearing of the current output cell\n",
       "var outputEl = gd.closest('.output');\n",
       "if (outputEl) {{\n",
       "    x.observe(outputEl, {childList: true});\n",
       "}}\n",
       "\n",
       "                        })                };            </script>        </div>"
      ]
     },
     "metadata": {},
     "output_type": "display_data"
    }
   ],
   "source": [
    "fig = go.Figure()\n",
    "\n",
    "# Set the residues to be displayed\n",
    "# Display only residues which reach a minimum of stability in at least one of the simulations in any group\n",
    "minimum_stability_cutoff = 0.2\n",
    "def is_displayed (residue : int) -> bool:\n",
    "    for hbonds_analyses in hbonds_data.values():\n",
    "        for hbonds_analysis in hbonds_analyses:\n",
    "            if hbonds_analysis[residue] >= minimum_stability_cutoff:\n",
    "                return True\n",
    "    return False\n",
    "\n",
    "display_residues = [residue for residue in target_residues if is_displayed(residue) ]\n",
    "\n",
    "# Iterate over the groups\n",
    "for group_name, hbonds_analyses in hbonds_data.items():\n",
    "    x = []\n",
    "    y = []\n",
    "    for residue in display_residues:\n",
    "        residue_stability_values = [ hb[residue] for hb in hbonds_analyses ]\n",
    "        y += residue_stability_values\n",
    "        # Literally repeate the name of the residue several times\n",
    "        # This is useless for further sorting\n",
    "        x += [ 'Residue ' + str(residue) for i in range(len(residue_stability_values)) ]\n",
    "        \n",
    "    box = go.Box(\n",
    "        name = group_name,\n",
    "        x = x, y = y,\n",
    "        line = {'color':colors[group_name]}\n",
    "    )\n",
    "    fig.add_trace(box)\n",
    "\n",
    "# Group together boxes of the same residue\n",
    "fig.update_layout(\n",
    "    yaxis_title='Hydrogen bond stability',\n",
    "    # Group together boxes of the same residue\n",
    "    boxmode='group'\n",
    ")\n",
    "fig.show()"
   ]
  },
  {
   "cell_type": "code",
   "execution_count": null,
   "id": "c5f28877",
   "metadata": {},
   "outputs": [],
   "source": []
  }
 ],
 "metadata": {
  "kernelspec": {
   "display_name": "Python 3 (ipykernel)",
   "language": "python",
   "name": "python3"
  },
  "language_info": {
   "codemirror_mode": {
    "name": "ipython",
    "version": 3
   },
   "file_extension": ".py",
   "mimetype": "text/x-python",
   "name": "python",
   "nbconvert_exporter": "python",
   "pygments_lexer": "ipython3",
   "version": "3.12.10"
  }
 },
 "nbformat": 4,
 "nbformat_minor": 5
}
