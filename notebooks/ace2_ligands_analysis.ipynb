{
 "cells": [
  {
   "cell_type": "markdown",
   "id": "b117ac7d",
   "metadata": {},
   "source": [
    "# Protein-Ligand interaction analysis for different ligands\n",
    "***\n",
    "\n",
    "In this example we intend to analyze simulations of **ACE2 protein with different ligands (drugs)**. We aim to compare, for each ligand, how both electrostatic and Van de Waals energies change. For this test we are using 78 **atomistic MD trajectories** from D. E. Shaw already loaded in the **[MDDB](https://irb.mddbr.eu) database**.\n",
    "\n",
    "This workflow is based on the MDDB database REST API: https://irb.mddbr.eu/api/rest/docs/\n",
    "\n",
    "***\n",
    "**Version:** 1.0 (May 2025)\n",
    "***\n",
    "**Contributors:**  Adam Hospital, Daniel Beltrán, Aurélien Luciani, Genís Bayarri, Josep Lluís Gelpí, Modesto Orozco (IRB-Barcelona, Spain)\n",
    "***\n",
    "**Contact:** [daniel.beltran@irbbarcelona.org](mailto:daniel.beltran@irbbarcelona.org)\n",
    "***"
   ]
  },
  {
   "cell_type": "code",
   "execution_count": 1,
   "id": "ccff8516",
   "metadata": {},
   "outputs": [
    {
     "data": {
      "text/html": [
       "        <script type=\"text/javascript\">\n",
       "        window.PlotlyConfig = {MathJaxConfig: 'local'};\n",
       "        if (window.MathJax && window.MathJax.Hub && window.MathJax.Hub.Config) {window.MathJax.Hub.Config({SVG: {font: \"STIX-Web\"}});}\n",
       "        </script>\n",
       "        <script type=\"module\">import \"https://cdn.plot.ly/plotly-3.0.1.min\"</script>\n",
       "        "
      ]
     },
     "metadata": {},
     "output_type": "display_data"
    }
   ],
   "source": [
    "import urllib.request\n",
    "import json\n",
    "import os\n",
    "\n",
    "import plotly\n",
    "import plotly.graph_objs as go\n",
    "plotly.offline.init_notebook_mode(connected=True)"
   ]
  },
  {
   "cell_type": "markdown",
   "id": "2034728a",
   "metadata": {},
   "source": [
    "Request the desired simulation projects through the API"
   ]
  },
  {
   "cell_type": "code",
   "execution_count": 2,
   "id": "e1265eae",
   "metadata": {},
   "outputs": [],
   "source": [
    "# Set the URL to the MDDB REST API\n",
    "api_url = 'https://irb.mddbr.eu/api/rest/v1/'\n",
    "\n",
    "# Get a list with all simulations including the 'egfr' word in their names\n",
    "simulations_request = api_url + 'projects?query={\"metadata.CV19_UNIT\":\"ACE2\",\"metadata.AUTHORS\":{\"$regex\":\"Shaw\",\"$options\":\"i\"}}&limit=100'\n",
    "with urllib.request.urlopen(simulations_request) as response:\n",
    "    parsed_response = json.loads(response.read().decode(\"utf-8\"))\n",
    "\n",
    "available_simulations = parsed_response['projects']"
   ]
  },
  {
   "cell_type": "markdown",
   "id": "47016552",
   "metadata": {},
   "source": [
    "Set the API request for each project energies analysis data"
   ]
  },
  {
   "cell_type": "code",
   "execution_count": 7,
   "id": "cf058100",
   "metadata": {},
   "outputs": [],
   "source": [
    "# Set a function to get the specific data are interesed in from the analysis\n",
    "def get_energies_data (sim : dict) -> dict:\n",
    "    # Get the id of the project in order to request its analysis\n",
    "    database_id = sim['identifier']\n",
    "\n",
    "    # Request the analysis\n",
    "    analysis_request = api_url + 'projects/' + database_id + '/analyses/energies'\n",
    "    with urllib.request.urlopen(analysis_request) as response:\n",
    "        parsed_response = json.loads(response.read().decode(\"utf-8\"))\n",
    "\n",
    "    analysis_data = parsed_response['data']\n",
    "\n",
    "    # In this case, there is only one defined interaction: the protein-ligand interaction\n",
    "    interaction_data = analysis_data[0]\n",
    "\n",
    "    # In this case, the protein is the agent 1 and the ligand is the agent 2\n",
    "    # We get the protein data\n",
    "    protein_data = interaction_data['agent1']\n",
    "\n",
    "    # For this example, we are going to focus in the overall sum of energies\n",
    "    energies_data = protein_data['both']\n",
    "    \n",
    "    return energies_data"
   ]
  },
  {
   "cell_type": "markdown",
   "id": "07087436",
   "metadata": {},
   "source": [
    "Hardcode a few things in order to better represent the graphs"
   ]
  },
  {
   "cell_type": "code",
   "execution_count": 8,
   "id": "f423ad28",
   "metadata": {},
   "outputs": [],
   "source": [
    "# Set the graphs x axis values\n",
    "x_axis = list(range(19,615))\n",
    "\n",
    "# Set a list with each residue name\n",
    "residue_names = ['ACE', 'SER', 'THR', 'ILE', 'GLU', 'GLU', 'GLN', 'ALA', 'LYS', 'THR', 'PHE', 'LEU', 'ASP', 'LYS', 'PHE', 'ASN', 'HID', 'GLU', 'ALA', 'GLU', 'ASP', 'LEU', 'PHE', 'TYR', 'GLN', 'SER', 'SER', 'LEU', 'ALA', 'SER', 'TRP', 'ASN', 'TYR', 'ASN', 'THR', 'ASN', 'ILE', 'THR', 'GLU', 'GLU', 'ASN', 'VAL', 'GLN', 'ASN', 'MET', 'ASN', 'ASN', 'ALA', 'GLY', 'ASP', 'LYS', 'TRP', 'SER', 'ALA', 'PHE', 'LEU', 'LYS', 'GLU', 'GLN', 'SER', 'THR', 'LEU', 'ALA', 'GLN', 'MET', 'TYR', 'PRO', 'LEU', 'GLN', 'GLU', 'ILE', 'GLN', 'NAG', 'LEU', 'THR', 'VAL', 'LYS', 'LEU', 'GLN', 'LEU', 'GLN', 'ALA', 'LEU', 'GLN', 'GLN', 'NAG', 'GLY', 'SER', 'SER', 'VAL', 'LEU', 'SER', 'GLU', 'ASP', 'LYS', 'SER', 'LYS', 'ARG', 'LEU', 'ASN', 'THR', 'ILE', 'LEU', 'ASN', 'THR', 'MET', 'SER', 'THR', 'ILE', 'TYR', 'SER', 'THR', 'GLY', 'LYS', 'VAL', 'CYX', 'ASN', 'PRO', 'ASP', 'ASN', 'PRO', 'GLN', 'GLU', 'CYX', 'LEU', 'LEU', 'LEU', 'GLU', 'PRO', 'GLY', 'LEU', 'ASN', 'GLU', 'ILE', 'MET', 'ALA', 'ASN', 'SER', 'LEU', 'ASP', 'TYR', 'ASN', 'GLU', 'ARG', 'LEU', 'TRP', 'ALA', 'TRP', 'GLU', 'SER', 'TRP', 'ARG', 'SER', 'GLU', 'VAL', 'GLY', 'LYS', 'GLN', 'LEU', 'ARG', 'PRO', 'LEU', 'TYR', 'GLU', 'GLU', 'TYR', 'VAL', 'VAL', 'LEU', 'LYS', 'ASN', 'GLU', 'MET', 'ALA', 'ARG', 'ALA', 'ASN', 'HID', 'TYR', 'GLU', 'ASP', 'TYR', 'GLY', 'ASP', 'TYR', 'TRP', 'ARG', 'GLY', 'ASP', 'TYR', 'GLU', 'VAL', 'ASN', 'GLY', 'VAL', 'ASP', 'GLY', 'TYR', 'ASP', 'TYR', 'SER', 'ARG', 'GLY', 'GLN', 'LEU', 'ILE', 'GLU', 'ASP', 'VAL', 'GLU', 'HID', 'THR', 'PHE', 'GLU', 'GLU', 'ILE', 'LYS', 'PRO', 'LEU', 'TYR', 'GLU', 'HID', 'LEU', 'HID', 'ALA', 'TYR', 'VAL', 'ARG', 'ALA', 'LYS', 'LEU', 'MET', 'ASN', 'ALA', 'TYR', 'PRO', 'SER', 'TYR', 'ILE', 'SER', 'PRO', 'ILE', 'GLY', 'CYS', 'LEU', 'PRO', 'ALA', 'HID', 'LEU', 'LEU', 'GLY', 'ASP', 'MET', 'TRP', 'GLY', 'ARG', 'PHE', 'TRP', 'THR', 'ASN', 'LEU', 'TYR', 'SER', 'LEU', 'THR', 'VAL', 'PRO', 'PHE', 'GLY', 'GLN', 'LYS', 'PRO', 'ASN', 'ILE', 'ASP', 'VAL', 'THR', 'ASP', 'ALA', 'MET', 'VAL', 'ASP', 'GLN', 'ALA', 'TRP', 'ASP', 'ALA', 'GLN', 'ARG', 'ILE', 'PHE', 'LYS', 'GLU', 'ALA', 'GLU', 'LYS', 'PHE', 'PHE', 'VAL', 'SER', 'VAL', 'GLY', 'LEU', 'PRO', 'NAG', 'MET', 'THR', 'GLN', 'GLY', 'PHE', 'TRP', 'GLU', 'ASN', 'SER', 'MET', 'LEU', 'THR', 'ASP', 'PRO', 'GLY', 'ASN', 'VAL', 'GLN', 'LYS', 'ALA', 'VAL', 'CYX', 'HID', 'PRO', 'THR', 'ALA', 'TRP', 'ASP', 'LEU', 'GLY', 'LYS', 'GLY', 'ASP', 'PHE', 'ARG', 'ILE', 'LEU', 'MET', 'CYX', 'THR', 'LYS', 'VAL', 'THR', 'MET', 'ASP', 'ASP', 'PHE', 'LEU', 'THR', 'ALA', 'HID', 'HID', 'GLU', 'MET', 'GLY', 'HID', 'ILE', 'GLN', 'TYR', 'ASP', 'MET', 'ALA', 'TYR', 'ALA', 'ALA', 'GLN', 'PRO', 'PHE', 'LEU', 'LEU', 'ARG', 'ASN', 'GLY', 'ALA', 'ASN', 'GLU', 'GLY', 'PHE', 'HID', 'GLU', 'ALA', 'VAL', 'GLY', 'GLU', 'ILE', 'MET', 'SER', 'LEU', 'SER', 'ALA', 'ALA', 'THR', 'PRO', 'LYS', 'HID', 'LEU', 'LYS', 'SER', 'ILE', 'GLY', 'LEU', 'LEU', 'SER', 'PRO', 'ASP', 'PHE', 'GLN', 'GLU', 'ASP', 'NAG', 'GLU', 'THR', 'GLU', 'ILE', 'ASN', 'PHE', 'LEU', 'LEU', 'LYS', 'GLN', 'ALA', 'LEU', 'THR', 'ILE', 'VAL', 'GLY', 'THR', 'LEU', 'PRO', 'PHE', 'THR', 'TYR', 'MET', 'LEU', 'GLU', 'LYS', 'TRP', 'ARG', 'TRP', 'MET', 'VAL', 'PHE', 'LYS', 'GLY', 'GLU', 'ILE', 'PRO', 'LYS', 'ASP', 'GLN', 'TRP', 'MET', 'LYS', 'LYS', 'TRP', 'TRP', 'GLU', 'MET', 'LYS', 'ARG', 'GLU', 'ILE', 'VAL', 'GLY', 'VAL', 'VAL', 'GLU', 'PRO', 'VAL', 'PRO', 'HID', 'ASP', 'GLU', 'THR', 'TYR', 'CYS', 'ASP', 'PRO', 'ALA', 'SER', 'LEU', 'PHE', 'HID', 'VAL', 'SER', 'ASN', 'ASP', 'TYR', 'SER', 'PHE', 'ILE', 'ARG', 'TYR', 'TYR', 'THR', 'ARG', 'THR', 'LEU', 'TYR', 'GLN', 'PHE', 'GLN', 'PHE', 'GLN', 'GLU', 'ALA', 'LEU', 'CYX', 'GLN', 'ALA', 'ALA', 'LYS', 'HID', 'GLU', 'GLY', 'PRO', 'LEU', 'HID', 'LYS', 'CYX', 'ASP', 'ILE', 'SER', 'NAG', 'SER', 'THR', 'GLU', 'ALA', 'GLY', 'GLN', 'LYS', 'LEU', 'PHE', 'ASN', 'MET', 'LEU', 'ARG', 'LEU', 'GLY', 'LYS', 'SER', 'GLU', 'PRO', 'TRP', 'THR', 'LEU', 'ALA', 'LEU', 'GLU', 'ASN', 'VAL', 'VAL', 'GLY', 'ALA', 'LYS', 'ASN', 'MET', 'ASN', 'VAL', 'ARG', 'PRO', 'LEU', 'LEU', 'ASN', 'TYR', 'PHE', 'GLU', 'PRO', 'LEU', 'PHE', 'THR', 'TRP', 'LEU', 'LYS', 'ASP', 'GLN', 'ASN', 'LYS', 'ASN', 'SER', 'PHE', 'VAL', 'GLY', 'TRP', 'SER', 'THR', 'ASP', 'TRP', 'SER', 'PRO', 'TYR', 'ALA', 'NMA']"
   ]
  },
  {
   "cell_type": "markdown",
   "id": "835155ab",
   "metadata": {},
   "source": [
    "Get the energies per residue and prepare a graph for each ligand"
   ]
  },
  {
   "cell_type": "code",
   "execution_count": 11,
   "id": "50641021",
   "metadata": {},
   "outputs": [],
   "source": [
    "# Get the energies for each ligand\n",
    "# Draw the energies graph for each ligand\n",
    "ligand_energies = {}\n",
    "ligand_figures = {}\n",
    "for sim in available_simulations:\n",
    "    # Get the ligand name\n",
    "    ligand_name = sim['metadata']['NAME'].split()[-1].replace('(','').replace(')','')\n",
    "    # Get the energies data\n",
    "    energies = get_energies_data(sim)\n",
    "    # Add energies data to the dictionary\n",
    "    ligand_energies[ligand_name] = energies\n",
    "    # Set the plot\n",
    "    data = [\n",
    "        go.Scatter(\n",
    "            x = x_axis,\n",
    "            y = energies,\n",
    "            name = ligand_name,\n",
    "            hovertemplate = 'Residue %{x} (%{text}): %{y:.4f}',\n",
    "            text = residue_names,\n",
    "        ),\n",
    "    ]\n",
    "    fig = go.Figure({\n",
    "        \"data\": data,\n",
    "        \"layout\": go.Layout(\n",
    "            #title= ligand_full_names[ligand],\n",
    "            title={\n",
    "                'text': ligand_name,\n",
    "                'font': { 'size': 24 },\n",
    "                'y':0.98,\n",
    "                'x':0.5,\n",
    "            },\n",
    "            xaxis={\n",
    "                'title': {\n",
    "                    'text': 'Residues',\n",
    "                    'font': { 'size': 20 },\n",
    "                    'standoff': 0\n",
    "                },\n",
    "                # Size of numbers in axis\n",
    "                'tickfont': { 'size': 16 },\n",
    "            },\n",
    "            yaxis={\n",
    "                'title': {\n",
    "                    'text': 'Electrostatic + VdW energy (kcal/mol)',\n",
    "                    'font': { 'size': 20 },\n",
    "                    'standoff': 0\n",
    "                },\n",
    "                # Size of numbers in axis\n",
    "                'tickfont': { 'size': 16 },\n",
    "            },\n",
    "            width=700,\n",
    "            height=500,\n",
    "            margin=go.layout.Margin(\n",
    "                l=5, #left margin\n",
    "                r=5, #right margin\n",
    "                b=5, #bottom margin\n",
    "                t=32, #top margin\n",
    "            )\n",
    "            \n",
    "        )\n",
    "    })\n",
    "    ligand_figures[ligand_name] = fig\n",
    "    \n",
    "    #fig.show()"
   ]
  },
  {
   "cell_type": "markdown",
   "id": "805303a7",
   "metadata": {},
   "source": [
    "Sort simulations according to total energies value and plot the sorted list"
   ]
  },
  {
   "cell_type": "code",
   "execution_count": 12,
   "id": "e0f5f93e",
   "metadata": {},
   "outputs": [
    {
     "data": {
      "application/vnd.plotly.v1+json": {
       "config": {
        "plotlyServerURL": "https://plot.ly"
       },
       "data": [
        {
         "orientation": "h",
         "type": "bar",
         "x": [
          20.070103074727257,
          19.83337005096969,
          9.80990255516162,
          8.992971073747473,
          5.5056435917373765,
          4.031566487323231,
          1.293180667787878,
          1.0860195027070698,
          -0.2561482063434386,
          -0.5162176913636385,
          -1.4450352262036779,
          -2.8770860472727366,
          -3.0390945744646456,
          -3.123078707769697,
          -5.84860149893838,
          -8.94191229822525,
          -9.37875546268182,
          -10.035934614670412,
          -10.051892606446465,
          -11.470776190726129,
          -11.718009987767674,
          -11.859055378745017,
          -12.32001822060988,
          -13.504597241570432,
          -13.508336348456924,
          -13.901494740511426,
          -13.93412626616487,
          -14.06664547948778,
          -14.264584070151507,
          -14.325467364137308,
          -14.57773413143813,
          -14.617128841798294,
          -15.156328402731852,
          -15.31575881483388,
          -15.625538908333334,
          -16.1285961920303,
          -17.237652324242426,
          -17.455617463221877,
          -17.62942803115556,
          -17.861371711563294,
          -18.42511572217785,
          -19.078733763066193,
          -19.132741732222208,
          -19.82391014201007,
          -19.966234597575752,
          -20.155625177627375,
          -20.520268981212123,
          -20.98809504819192,
          -21.06769408123608,
          -21.14804677767675,
          -21.39489472814141,
          -22.14850255835052,
          -25.909848367593078,
          -27.001192565488015,
          -28.447271959090905,
          -28.64512436937374,
          -28.713118933878786,
          -29.461565359171715,
          -30.0034670869394,
          -30.64852242559596,
          -30.94991547067677,
          -31.460400818817206,
          -31.789910526010097,
          -33.49063864094949,
          -33.54848982038385,
          -33.69653153262627,
          -35.84016463858586,
          -35.97075153057576,
          -37.101302941477016,
          -39.281163378909675,
          -43.1123073070505,
          -47.741366235161614,
          -50.41148015806061,
          -52.08324422585858,
          -55.409505225295966,
          -58.53311225319192
         ],
         "y": [
          "kanamycin",
          "bekanamycin",
          "gentamicin",
          "nafithromycin",
          "bunazosin",
          "perphenazine",
          "fluvastatin",
          "prazosin",
          "modithromycin",
          "methylnaltrexone",
          "dabigatran",
          "tobramycin",
          "tivozanib",
          "berzosertib",
          "delavirdine",
          "doxazosin",
          "metronidazole",
          "bendamustine",
          "KPT-9274",
          "deutivacaftor",
          "afeletecan",
          "azathioprine",
          "acalabrutinib",
          "gemifloxacin",
          "topiramate",
          "panobinostat",
          "cimicoxib",
          "vadimezan",
          "ceritinib",
          "brequinar",
          "nevirapine",
          "methylprednisolone",
          "pioglitazone",
          "pelitinib",
          "propylhexedrine",
          "netupitant",
          "desvenlafaxine",
          "lixivaptan",
          "brigatinib",
          "pimecrolimus",
          "rabeprazole",
          "sivifene",
          "elamipretide",
          "copanlisib",
          "eletriptan",
          "barusiban",
          "disopyramide",
          "orphenadrine",
          "elvitegravir",
          "netilmicin",
          "ticlopidine",
          "capreomycin",
          "amentoflavone",
          "birinapant",
          "primaquine",
          "pramoxine",
          "ipamorelin",
          "conivaptan",
          "aclidinium",
          "TT-232",
          "dimenhydrinate",
          "fluoxetine",
          "dasatinib",
          "prochlorperazine",
          "ziritaxestat",
          "mefloquine",
          "midazolam",
          "brompheniramine",
          "elbasvir",
          "bromocriptine",
          "e7107",
          "imatinib",
          "sonidegib",
          "chloroquine",
          "dacomitinib",
          "ruzasvir"
         ]
        }
       ],
       "layout": {
        "height": 1500,
        "template": {
         "data": {
          "bar": [
           {
            "error_x": {
             "color": "#2a3f5f"
            },
            "error_y": {
             "color": "#2a3f5f"
            },
            "marker": {
             "line": {
              "color": "#E5ECF6",
              "width": 0.5
             },
             "pattern": {
              "fillmode": "overlay",
              "size": 10,
              "solidity": 0.2
             }
            },
            "type": "bar"
           }
          ],
          "barpolar": [
           {
            "marker": {
             "line": {
              "color": "#E5ECF6",
              "width": 0.5
             },
             "pattern": {
              "fillmode": "overlay",
              "size": 10,
              "solidity": 0.2
             }
            },
            "type": "barpolar"
           }
          ],
          "carpet": [
           {
            "aaxis": {
             "endlinecolor": "#2a3f5f",
             "gridcolor": "white",
             "linecolor": "white",
             "minorgridcolor": "white",
             "startlinecolor": "#2a3f5f"
            },
            "baxis": {
             "endlinecolor": "#2a3f5f",
             "gridcolor": "white",
             "linecolor": "white",
             "minorgridcolor": "white",
             "startlinecolor": "#2a3f5f"
            },
            "type": "carpet"
           }
          ],
          "choropleth": [
           {
            "colorbar": {
             "outlinewidth": 0,
             "ticks": ""
            },
            "type": "choropleth"
           }
          ],
          "contour": [
           {
            "colorbar": {
             "outlinewidth": 0,
             "ticks": ""
            },
            "colorscale": [
             [
              0,
              "#0d0887"
             ],
             [
              0.1111111111111111,
              "#46039f"
             ],
             [
              0.2222222222222222,
              "#7201a8"
             ],
             [
              0.3333333333333333,
              "#9c179e"
             ],
             [
              0.4444444444444444,
              "#bd3786"
             ],
             [
              0.5555555555555556,
              "#d8576b"
             ],
             [
              0.6666666666666666,
              "#ed7953"
             ],
             [
              0.7777777777777778,
              "#fb9f3a"
             ],
             [
              0.8888888888888888,
              "#fdca26"
             ],
             [
              1,
              "#f0f921"
             ]
            ],
            "type": "contour"
           }
          ],
          "contourcarpet": [
           {
            "colorbar": {
             "outlinewidth": 0,
             "ticks": ""
            },
            "type": "contourcarpet"
           }
          ],
          "heatmap": [
           {
            "colorbar": {
             "outlinewidth": 0,
             "ticks": ""
            },
            "colorscale": [
             [
              0,
              "#0d0887"
             ],
             [
              0.1111111111111111,
              "#46039f"
             ],
             [
              0.2222222222222222,
              "#7201a8"
             ],
             [
              0.3333333333333333,
              "#9c179e"
             ],
             [
              0.4444444444444444,
              "#bd3786"
             ],
             [
              0.5555555555555556,
              "#d8576b"
             ],
             [
              0.6666666666666666,
              "#ed7953"
             ],
             [
              0.7777777777777778,
              "#fb9f3a"
             ],
             [
              0.8888888888888888,
              "#fdca26"
             ],
             [
              1,
              "#f0f921"
             ]
            ],
            "type": "heatmap"
           }
          ],
          "histogram": [
           {
            "marker": {
             "pattern": {
              "fillmode": "overlay",
              "size": 10,
              "solidity": 0.2
             }
            },
            "type": "histogram"
           }
          ],
          "histogram2d": [
           {
            "colorbar": {
             "outlinewidth": 0,
             "ticks": ""
            },
            "colorscale": [
             [
              0,
              "#0d0887"
             ],
             [
              0.1111111111111111,
              "#46039f"
             ],
             [
              0.2222222222222222,
              "#7201a8"
             ],
             [
              0.3333333333333333,
              "#9c179e"
             ],
             [
              0.4444444444444444,
              "#bd3786"
             ],
             [
              0.5555555555555556,
              "#d8576b"
             ],
             [
              0.6666666666666666,
              "#ed7953"
             ],
             [
              0.7777777777777778,
              "#fb9f3a"
             ],
             [
              0.8888888888888888,
              "#fdca26"
             ],
             [
              1,
              "#f0f921"
             ]
            ],
            "type": "histogram2d"
           }
          ],
          "histogram2dcontour": [
           {
            "colorbar": {
             "outlinewidth": 0,
             "ticks": ""
            },
            "colorscale": [
             [
              0,
              "#0d0887"
             ],
             [
              0.1111111111111111,
              "#46039f"
             ],
             [
              0.2222222222222222,
              "#7201a8"
             ],
             [
              0.3333333333333333,
              "#9c179e"
             ],
             [
              0.4444444444444444,
              "#bd3786"
             ],
             [
              0.5555555555555556,
              "#d8576b"
             ],
             [
              0.6666666666666666,
              "#ed7953"
             ],
             [
              0.7777777777777778,
              "#fb9f3a"
             ],
             [
              0.8888888888888888,
              "#fdca26"
             ],
             [
              1,
              "#f0f921"
             ]
            ],
            "type": "histogram2dcontour"
           }
          ],
          "mesh3d": [
           {
            "colorbar": {
             "outlinewidth": 0,
             "ticks": ""
            },
            "type": "mesh3d"
           }
          ],
          "parcoords": [
           {
            "line": {
             "colorbar": {
              "outlinewidth": 0,
              "ticks": ""
             }
            },
            "type": "parcoords"
           }
          ],
          "pie": [
           {
            "automargin": true,
            "type": "pie"
           }
          ],
          "scatter": [
           {
            "fillpattern": {
             "fillmode": "overlay",
             "size": 10,
             "solidity": 0.2
            },
            "type": "scatter"
           }
          ],
          "scatter3d": [
           {
            "line": {
             "colorbar": {
              "outlinewidth": 0,
              "ticks": ""
             }
            },
            "marker": {
             "colorbar": {
              "outlinewidth": 0,
              "ticks": ""
             }
            },
            "type": "scatter3d"
           }
          ],
          "scattercarpet": [
           {
            "marker": {
             "colorbar": {
              "outlinewidth": 0,
              "ticks": ""
             }
            },
            "type": "scattercarpet"
           }
          ],
          "scattergeo": [
           {
            "marker": {
             "colorbar": {
              "outlinewidth": 0,
              "ticks": ""
             }
            },
            "type": "scattergeo"
           }
          ],
          "scattergl": [
           {
            "marker": {
             "colorbar": {
              "outlinewidth": 0,
              "ticks": ""
             }
            },
            "type": "scattergl"
           }
          ],
          "scattermap": [
           {
            "marker": {
             "colorbar": {
              "outlinewidth": 0,
              "ticks": ""
             }
            },
            "type": "scattermap"
           }
          ],
          "scattermapbox": [
           {
            "marker": {
             "colorbar": {
              "outlinewidth": 0,
              "ticks": ""
             }
            },
            "type": "scattermapbox"
           }
          ],
          "scatterpolar": [
           {
            "marker": {
             "colorbar": {
              "outlinewidth": 0,
              "ticks": ""
             }
            },
            "type": "scatterpolar"
           }
          ],
          "scatterpolargl": [
           {
            "marker": {
             "colorbar": {
              "outlinewidth": 0,
              "ticks": ""
             }
            },
            "type": "scatterpolargl"
           }
          ],
          "scatterternary": [
           {
            "marker": {
             "colorbar": {
              "outlinewidth": 0,
              "ticks": ""
             }
            },
            "type": "scatterternary"
           }
          ],
          "surface": [
           {
            "colorbar": {
             "outlinewidth": 0,
             "ticks": ""
            },
            "colorscale": [
             [
              0,
              "#0d0887"
             ],
             [
              0.1111111111111111,
              "#46039f"
             ],
             [
              0.2222222222222222,
              "#7201a8"
             ],
             [
              0.3333333333333333,
              "#9c179e"
             ],
             [
              0.4444444444444444,
              "#bd3786"
             ],
             [
              0.5555555555555556,
              "#d8576b"
             ],
             [
              0.6666666666666666,
              "#ed7953"
             ],
             [
              0.7777777777777778,
              "#fb9f3a"
             ],
             [
              0.8888888888888888,
              "#fdca26"
             ],
             [
              1,
              "#f0f921"
             ]
            ],
            "type": "surface"
           }
          ],
          "table": [
           {
            "cells": {
             "fill": {
              "color": "#EBF0F8"
             },
             "line": {
              "color": "white"
             }
            },
            "header": {
             "fill": {
              "color": "#C8D4E3"
             },
             "line": {
              "color": "white"
             }
            },
            "type": "table"
           }
          ]
         },
         "layout": {
          "annotationdefaults": {
           "arrowcolor": "#2a3f5f",
           "arrowhead": 0,
           "arrowwidth": 1
          },
          "autotypenumbers": "strict",
          "coloraxis": {
           "colorbar": {
            "outlinewidth": 0,
            "ticks": ""
           }
          },
          "colorscale": {
           "diverging": [
            [
             0,
             "#8e0152"
            ],
            [
             0.1,
             "#c51b7d"
            ],
            [
             0.2,
             "#de77ae"
            ],
            [
             0.3,
             "#f1b6da"
            ],
            [
             0.4,
             "#fde0ef"
            ],
            [
             0.5,
             "#f7f7f7"
            ],
            [
             0.6,
             "#e6f5d0"
            ],
            [
             0.7,
             "#b8e186"
            ],
            [
             0.8,
             "#7fbc41"
            ],
            [
             0.9,
             "#4d9221"
            ],
            [
             1,
             "#276419"
            ]
           ],
           "sequential": [
            [
             0,
             "#0d0887"
            ],
            [
             0.1111111111111111,
             "#46039f"
            ],
            [
             0.2222222222222222,
             "#7201a8"
            ],
            [
             0.3333333333333333,
             "#9c179e"
            ],
            [
             0.4444444444444444,
             "#bd3786"
            ],
            [
             0.5555555555555556,
             "#d8576b"
            ],
            [
             0.6666666666666666,
             "#ed7953"
            ],
            [
             0.7777777777777778,
             "#fb9f3a"
            ],
            [
             0.8888888888888888,
             "#fdca26"
            ],
            [
             1,
             "#f0f921"
            ]
           ],
           "sequentialminus": [
            [
             0,
             "#0d0887"
            ],
            [
             0.1111111111111111,
             "#46039f"
            ],
            [
             0.2222222222222222,
             "#7201a8"
            ],
            [
             0.3333333333333333,
             "#9c179e"
            ],
            [
             0.4444444444444444,
             "#bd3786"
            ],
            [
             0.5555555555555556,
             "#d8576b"
            ],
            [
             0.6666666666666666,
             "#ed7953"
            ],
            [
             0.7777777777777778,
             "#fb9f3a"
            ],
            [
             0.8888888888888888,
             "#fdca26"
            ],
            [
             1,
             "#f0f921"
            ]
           ]
          },
          "colorway": [
           "#636efa",
           "#EF553B",
           "#00cc96",
           "#ab63fa",
           "#FFA15A",
           "#19d3f3",
           "#FF6692",
           "#B6E880",
           "#FF97FF",
           "#FECB52"
          ],
          "font": {
           "color": "#2a3f5f"
          },
          "geo": {
           "bgcolor": "white",
           "lakecolor": "white",
           "landcolor": "#E5ECF6",
           "showlakes": true,
           "showland": true,
           "subunitcolor": "white"
          },
          "hoverlabel": {
           "align": "left"
          },
          "hovermode": "closest",
          "mapbox": {
           "style": "light"
          },
          "paper_bgcolor": "white",
          "plot_bgcolor": "#E5ECF6",
          "polar": {
           "angularaxis": {
            "gridcolor": "white",
            "linecolor": "white",
            "ticks": ""
           },
           "bgcolor": "#E5ECF6",
           "radialaxis": {
            "gridcolor": "white",
            "linecolor": "white",
            "ticks": ""
           }
          },
          "scene": {
           "xaxis": {
            "backgroundcolor": "#E5ECF6",
            "gridcolor": "white",
            "gridwidth": 2,
            "linecolor": "white",
            "showbackground": true,
            "ticks": "",
            "zerolinecolor": "white"
           },
           "yaxis": {
            "backgroundcolor": "#E5ECF6",
            "gridcolor": "white",
            "gridwidth": 2,
            "linecolor": "white",
            "showbackground": true,
            "ticks": "",
            "zerolinecolor": "white"
           },
           "zaxis": {
            "backgroundcolor": "#E5ECF6",
            "gridcolor": "white",
            "gridwidth": 2,
            "linecolor": "white",
            "showbackground": true,
            "ticks": "",
            "zerolinecolor": "white"
           }
          },
          "shapedefaults": {
           "line": {
            "color": "#2a3f5f"
           }
          },
          "ternary": {
           "aaxis": {
            "gridcolor": "white",
            "linecolor": "white",
            "ticks": ""
           },
           "baxis": {
            "gridcolor": "white",
            "linecolor": "white",
            "ticks": ""
           },
           "bgcolor": "#E5ECF6",
           "caxis": {
            "gridcolor": "white",
            "linecolor": "white",
            "ticks": ""
           }
          },
          "title": {
           "x": 0.05
          },
          "xaxis": {
           "automargin": true,
           "gridcolor": "white",
           "linecolor": "white",
           "ticks": "",
           "title": {
            "standoff": 15
           },
           "zerolinecolor": "white",
           "zerolinewidth": 2
          },
          "yaxis": {
           "automargin": true,
           "gridcolor": "white",
           "linecolor": "white",
           "ticks": "",
           "title": {
            "standoff": 15
           },
           "zerolinecolor": "white",
           "zerolinewidth": 2
          }
         }
        },
        "title": {
         "text": "Total energies value per ligand"
        },
        "xaxis": {
         "autorange": "reversed",
         "title": {
          "text": "Electrostatic + VdW energy (kcal/mol)"
         }
        },
        "yaxis": {
         "title": {
          "text": "Ligands"
         }
        }
       }
      },
      "image/png": "[encoded data removed]",
      "text/html": [
       "<div>            <script src=\"https://cdnjs.cloudflare.com/ajax/libs/mathjax/2.7.5/MathJax.js?config=TeX-AMS-MML_SVG\"></script><script type=\"text/javascript\">if (window.MathJax && window.MathJax.Hub && window.MathJax.Hub.Config) {window.MathJax.Hub.Config({SVG: {font: \"STIX-Web\"}});}</script>                <script type=\"text/javascript\">window.PlotlyConfig = {MathJaxConfig: 'local'};</script>\n",
       "        <script charset=\"utf-8\" src=\"https://cdn.plot.ly/plotly-3.0.1.min.js\"></script>                <div id=\"a534bcc2-5258-4218-ba2a-1ceaf9103281\" class=\"plotly-graph-div\" style=\"height:1500px; width:100%;\"></div>            <script type=\"text/javascript\">                window.PLOTLYENV=window.PLOTLYENV || {};                                if (document.getElementById(\"a534bcc2-5258-4218-ba2a-1ceaf9103281\")) {                    Plotly.newPlot(                        \"a534bcc2-5258-4218-ba2a-1ceaf9103281\",                        [{\"orientation\":\"h\",\"x\":[20.070103074727257,19.83337005096969,9.80990255516162,8.992971073747473,5.5056435917373765,4.031566487323231,1.293180667787878,1.0860195027070698,-0.2561482063434386,-0.5162176913636385,-1.4450352262036779,-2.8770860472727366,-3.0390945744646456,-3.123078707769697,-5.84860149893838,-8.94191229822525,-9.37875546268182,-10.035934614670412,-10.051892606446465,-11.470776190726129,-11.718009987767674,-11.859055378745017,-12.32001822060988,-13.504597241570432,-13.508336348456924,-13.901494740511426,-13.93412626616487,-14.06664547948778,-14.264584070151507,-14.325467364137308,-14.57773413143813,-14.617128841798294,-15.156328402731852,-15.31575881483388,-15.625538908333334,-16.1285961920303,-17.237652324242426,-17.455617463221877,-17.62942803115556,-17.861371711563294,-18.42511572217785,-19.078733763066193,-19.132741732222208,-19.82391014201007,-19.966234597575752,-20.155625177627375,-20.520268981212123,-20.98809504819192,-21.06769408123608,-21.14804677767675,-21.39489472814141,-22.14850255835052,-25.909848367593078,-27.001192565488015,-28.447271959090905,-28.64512436937374,-28.713118933878786,-29.461565359171715,-30.0034670869394,-30.64852242559596,-30.94991547067677,-31.460400818817206,-31.789910526010097,-33.49063864094949,-33.54848982038385,-33.69653153262627,-35.84016463858586,-35.97075153057576,-37.101302941477016,-39.281163378909675,-43.1123073070505,-47.741366235161614,-50.41148015806061,-52.08324422585858,-55.409505225295966,-58.53311225319192],\"y\":[\"kanamycin\",\"bekanamycin\",\"gentamicin\",\"nafithromycin\",\"bunazosin\",\"perphenazine\",\"fluvastatin\",\"prazosin\",\"modithromycin\",\"methylnaltrexone\",\"dabigatran\",\"tobramycin\",\"tivozanib\",\"berzosertib\",\"delavirdine\",\"doxazosin\",\"metronidazole\",\"bendamustine\",\"KPT-9274\",\"deutivacaftor\",\"afeletecan\",\"azathioprine\",\"acalabrutinib\",\"gemifloxacin\",\"topiramate\",\"panobinostat\",\"cimicoxib\",\"vadimezan\",\"ceritinib\",\"brequinar\",\"nevirapine\",\"methylprednisolone\",\"pioglitazone\",\"pelitinib\",\"propylhexedrine\",\"netupitant\",\"desvenlafaxine\",\"lixivaptan\",\"brigatinib\",\"pimecrolimus\",\"rabeprazole\",\"sivifene\",\"elamipretide\",\"copanlisib\",\"eletriptan\",\"barusiban\",\"disopyramide\",\"orphenadrine\",\"elvitegravir\",\"netilmicin\",\"ticlopidine\",\"capreomycin\",\"amentoflavone\",\"birinapant\",\"primaquine\",\"pramoxine\",\"ipamorelin\",\"conivaptan\",\"aclidinium\",\"TT-232\",\"dimenhydrinate\",\"fluoxetine\",\"dasatinib\",\"prochlorperazine\",\"ziritaxestat\",\"mefloquine\",\"midazolam\",\"brompheniramine\",\"elbasvir\",\"bromocriptine\",\"e7107\",\"imatinib\",\"sonidegib\",\"chloroquine\",\"dacomitinib\",\"ruzasvir\"],\"type\":\"bar\"}],                        {\"height\":1500,\"title\":{\"text\":\"Total energies value per ligand\"},\"xaxis\":{\"autorange\":\"reversed\",\"title\":{\"text\":\"Electrostatic + VdW energy (kcal\\u002fmol)\"}},\"yaxis\":{\"title\":{\"text\":\"Ligands\"}},\"template\":{\"data\":{\"histogram2dcontour\":[{\"type\":\"histogram2dcontour\",\"colorbar\":{\"outlinewidth\":0,\"ticks\":\"\"},\"colorscale\":[[0.0,\"#0d0887\"],[0.1111111111111111,\"#46039f\"],[0.2222222222222222,\"#7201a8\"],[0.3333333333333333,\"#9c179e\"],[0.4444444444444444,\"#bd3786\"],[0.5555555555555556,\"#d8576b\"],[0.6666666666666666,\"#ed7953\"],[0.7777777777777778,\"#fb9f3a\"],[0.8888888888888888,\"#fdca26\"],[1.0,\"#f0f921\"]]}],\"choropleth\":[{\"type\":\"choropleth\",\"colorbar\":{\"outlinewidth\":0,\"ticks\":\"\"}}],\"histogram2d\":[{\"type\":\"histogram2d\",\"colorbar\":{\"outlinewidth\":0,\"ticks\":\"\"},\"colorscale\":[[0.0,\"#0d0887\"],[0.1111111111111111,\"#46039f\"],[0.2222222222222222,\"#7201a8\"],[0.3333333333333333,\"#9c179e\"],[0.4444444444444444,\"#bd3786\"],[0.5555555555555556,\"#d8576b\"],[0.6666666666666666,\"#ed7953\"],[0.7777777777777778,\"#fb9f3a\"],[0.8888888888888888,\"#fdca26\"],[1.0,\"#f0f921\"]]}],\"heatmap\":[{\"type\":\"heatmap\",\"colorbar\":{\"outlinewidth\":0,\"ticks\":\"\"},\"colorscale\":[[0.0,\"#0d0887\"],[0.1111111111111111,\"#46039f\"],[0.2222222222222222,\"#7201a8\"],[0.3333333333333333,\"#9c179e\"],[0.4444444444444444,\"#bd3786\"],[0.5555555555555556,\"#d8576b\"],[0.6666666666666666,\"#ed7953\"],[0.7777777777777778,\"#fb9f3a\"],[0.8888888888888888,\"#fdca26\"],[1.0,\"#f0f921\"]]}],\"contourcarpet\":[{\"type\":\"contourcarpet\",\"colorbar\":{\"outlinewidth\":0,\"ticks\":\"\"}}],\"contour\":[{\"type\":\"contour\",\"colorbar\":{\"outlinewidth\":0,\"ticks\":\"\"},\"colorscale\":[[0.0,\"#0d0887\"],[0.1111111111111111,\"#46039f\"],[0.2222222222222222,\"#7201a8\"],[0.3333333333333333,\"#9c179e\"],[0.4444444444444444,\"#bd3786\"],[0.5555555555555556,\"#d8576b\"],[0.6666666666666666,\"#ed7953\"],[0.7777777777777778,\"#fb9f3a\"],[0.8888888888888888,\"#fdca26\"],[1.0,\"#f0f921\"]]}],\"surface\":[{\"type\":\"surface\",\"colorbar\":{\"outlinewidth\":0,\"ticks\":\"\"},\"colorscale\":[[0.0,\"#0d0887\"],[0.1111111111111111,\"#46039f\"],[0.2222222222222222,\"#7201a8\"],[0.3333333333333333,\"#9c179e\"],[0.4444444444444444,\"#bd3786\"],[0.5555555555555556,\"#d8576b\"],[0.6666666666666666,\"#ed7953\"],[0.7777777777777778,\"#fb9f3a\"],[0.8888888888888888,\"#fdca26\"],[1.0,\"#f0f921\"]]}],\"mesh3d\":[{\"type\":\"mesh3d\",\"colorbar\":{\"outlinewidth\":0,\"ticks\":\"\"}}],\"scatter\":[{\"fillpattern\":{\"fillmode\":\"overlay\",\"size\":10,\"solidity\":0.2},\"type\":\"scatter\"}],\"parcoords\":[{\"type\":\"parcoords\",\"line\":{\"colorbar\":{\"outlinewidth\":0,\"ticks\":\"\"}}}],\"scatterpolargl\":[{\"type\":\"scatterpolargl\",\"marker\":{\"colorbar\":{\"outlinewidth\":0,\"ticks\":\"\"}}}],\"bar\":[{\"error_x\":{\"color\":\"#2a3f5f\"},\"error_y\":{\"color\":\"#2a3f5f\"},\"marker\":{\"line\":{\"color\":\"#E5ECF6\",\"width\":0.5},\"pattern\":{\"fillmode\":\"overlay\",\"size\":10,\"solidity\":0.2}},\"type\":\"bar\"}],\"scattergeo\":[{\"type\":\"scattergeo\",\"marker\":{\"colorbar\":{\"outlinewidth\":0,\"ticks\":\"\"}}}],\"scatterpolar\":[{\"type\":\"scatterpolar\",\"marker\":{\"colorbar\":{\"outlinewidth\":0,\"ticks\":\"\"}}}],\"histogram\":[{\"marker\":{\"pattern\":{\"fillmode\":\"overlay\",\"size\":10,\"solidity\":0.2}},\"type\":\"histogram\"}],\"scattergl\":[{\"type\":\"scattergl\",\"marker\":{\"colorbar\":{\"outlinewidth\":0,\"ticks\":\"\"}}}],\"scatter3d\":[{\"type\":\"scatter3d\",\"line\":{\"colorbar\":{\"outlinewidth\":0,\"ticks\":\"\"}},\"marker\":{\"colorbar\":{\"outlinewidth\":0,\"ticks\":\"\"}}}],\"scattermap\":[{\"type\":\"scattermap\",\"marker\":{\"colorbar\":{\"outlinewidth\":0,\"ticks\":\"\"}}}],\"scattermapbox\":[{\"type\":\"scattermapbox\",\"marker\":{\"colorbar\":{\"outlinewidth\":0,\"ticks\":\"\"}}}],\"scatterternary\":[{\"type\":\"scatterternary\",\"marker\":{\"colorbar\":{\"outlinewidth\":0,\"ticks\":\"\"}}}],\"scattercarpet\":[{\"type\":\"scattercarpet\",\"marker\":{\"colorbar\":{\"outlinewidth\":0,\"ticks\":\"\"}}}],\"carpet\":[{\"aaxis\":{\"endlinecolor\":\"#2a3f5f\",\"gridcolor\":\"white\",\"linecolor\":\"white\",\"minorgridcolor\":\"white\",\"startlinecolor\":\"#2a3f5f\"},\"baxis\":{\"endlinecolor\":\"#2a3f5f\",\"gridcolor\":\"white\",\"linecolor\":\"white\",\"minorgridcolor\":\"white\",\"startlinecolor\":\"#2a3f5f\"},\"type\":\"carpet\"}],\"table\":[{\"cells\":{\"fill\":{\"color\":\"#EBF0F8\"},\"line\":{\"color\":\"white\"}},\"header\":{\"fill\":{\"color\":\"#C8D4E3\"},\"line\":{\"color\":\"white\"}},\"type\":\"table\"}],\"barpolar\":[{\"marker\":{\"line\":{\"color\":\"#E5ECF6\",\"width\":0.5},\"pattern\":{\"fillmode\":\"overlay\",\"size\":10,\"solidity\":0.2}},\"type\":\"barpolar\"}],\"pie\":[{\"automargin\":true,\"type\":\"pie\"}]},\"layout\":{\"autotypenumbers\":\"strict\",\"colorway\":[\"#636efa\",\"#EF553B\",\"#00cc96\",\"#ab63fa\",\"#FFA15A\",\"#19d3f3\",\"#FF6692\",\"#B6E880\",\"#FF97FF\",\"#FECB52\"],\"font\":{\"color\":\"#2a3f5f\"},\"hovermode\":\"closest\",\"hoverlabel\":{\"align\":\"left\"},\"paper_bgcolor\":\"white\",\"plot_bgcolor\":\"#E5ECF6\",\"polar\":{\"bgcolor\":\"#E5ECF6\",\"angularaxis\":{\"gridcolor\":\"white\",\"linecolor\":\"white\",\"ticks\":\"\"},\"radialaxis\":{\"gridcolor\":\"white\",\"linecolor\":\"white\",\"ticks\":\"\"}},\"ternary\":{\"bgcolor\":\"#E5ECF6\",\"aaxis\":{\"gridcolor\":\"white\",\"linecolor\":\"white\",\"ticks\":\"\"},\"baxis\":{\"gridcolor\":\"white\",\"linecolor\":\"white\",\"ticks\":\"\"},\"caxis\":{\"gridcolor\":\"white\",\"linecolor\":\"white\",\"ticks\":\"\"}},\"coloraxis\":{\"colorbar\":{\"outlinewidth\":0,\"ticks\":\"\"}},\"colorscale\":{\"sequential\":[[0.0,\"#0d0887\"],[0.1111111111111111,\"#46039f\"],[0.2222222222222222,\"#7201a8\"],[0.3333333333333333,\"#9c179e\"],[0.4444444444444444,\"#bd3786\"],[0.5555555555555556,\"#d8576b\"],[0.6666666666666666,\"#ed7953\"],[0.7777777777777778,\"#fb9f3a\"],[0.8888888888888888,\"#fdca26\"],[1.0,\"#f0f921\"]],\"sequentialminus\":[[0.0,\"#0d0887\"],[0.1111111111111111,\"#46039f\"],[0.2222222222222222,\"#7201a8\"],[0.3333333333333333,\"#9c179e\"],[0.4444444444444444,\"#bd3786\"],[0.5555555555555556,\"#d8576b\"],[0.6666666666666666,\"#ed7953\"],[0.7777777777777778,\"#fb9f3a\"],[0.8888888888888888,\"#fdca26\"],[1.0,\"#f0f921\"]],\"diverging\":[[0,\"#8e0152\"],[0.1,\"#c51b7d\"],[0.2,\"#de77ae\"],[0.3,\"#f1b6da\"],[0.4,\"#fde0ef\"],[0.5,\"#f7f7f7\"],[0.6,\"#e6f5d0\"],[0.7,\"#b8e186\"],[0.8,\"#7fbc41\"],[0.9,\"#4d9221\"],[1,\"#276419\"]]},\"xaxis\":{\"gridcolor\":\"white\",\"linecolor\":\"white\",\"ticks\":\"\",\"title\":{\"standoff\":15},\"zerolinecolor\":\"white\",\"automargin\":true,\"zerolinewidth\":2},\"yaxis\":{\"gridcolor\":\"white\",\"linecolor\":\"white\",\"ticks\":\"\",\"title\":{\"standoff\":15},\"zerolinecolor\":\"white\",\"automargin\":true,\"zerolinewidth\":2},\"scene\":{\"xaxis\":{\"backgroundcolor\":\"#E5ECF6\",\"gridcolor\":\"white\",\"linecolor\":\"white\",\"showbackground\":true,\"ticks\":\"\",\"zerolinecolor\":\"white\",\"gridwidth\":2},\"yaxis\":{\"backgroundcolor\":\"#E5ECF6\",\"gridcolor\":\"white\",\"linecolor\":\"white\",\"showbackground\":true,\"ticks\":\"\",\"zerolinecolor\":\"white\",\"gridwidth\":2},\"zaxis\":{\"backgroundcolor\":\"#E5ECF6\",\"gridcolor\":\"white\",\"linecolor\":\"white\",\"showbackground\":true,\"ticks\":\"\",\"zerolinecolor\":\"white\",\"gridwidth\":2}},\"shapedefaults\":{\"line\":{\"color\":\"#2a3f5f\"}},\"annotationdefaults\":{\"arrowcolor\":\"#2a3f5f\",\"arrowhead\":0,\"arrowwidth\":1},\"geo\":{\"bgcolor\":\"white\",\"landcolor\":\"#E5ECF6\",\"subunitcolor\":\"white\",\"showland\":true,\"showlakes\":true,\"lakecolor\":\"white\"},\"title\":{\"x\":0.05},\"mapbox\":{\"style\":\"light\"}}}},                        {\"responsive\": true}                    ).then(function(){\n",
       "                            \n",
       "var gd = document.getElementById('a534bcc2-5258-4218-ba2a-1ceaf9103281');\n",
       "var x = new MutationObserver(function (mutations, observer) {{\n",
       "        var display = window.getComputedStyle(gd).display;\n",
       "        if (!display || display === 'none') {{\n",
       "            console.log([gd, 'removed!']);\n",
       "            Plotly.purge(gd);\n",
       "            observer.disconnect();\n",
       "        }}\n",
       "}});\n",
       "\n",
       "// Listen for the removal of the full notebook cells\n",
       "var notebookContainer = gd.closest('#notebook-container');\n",
       "if (notebookContainer) {{\n",
       "    x.observe(notebookContainer, {childList: true});\n",
       "}}\n",
       "\n",
       "// Listen for the clearing of the current output cell\n",
       "var outputEl = gd.closest('.output');\n",
       "if (outputEl) {{\n",
       "    x.observe(outputEl, {childList: true});\n",
       "}}\n",
       "\n",
       "                        })                };            </script>        </div>"
      ]
     },
     "metadata": {},
     "output_type": "display_data"
    }
   ],
   "source": [
    "ligand_energies_sum = { key: sum(values) for key, values in ligand_energies.items() }\n",
    "def by_value (item : tuple):\n",
    "    return item[1]\n",
    "sorted_items = sorted(ligand_energies_sum.items(), key=by_value, reverse=True)\n",
    "ligand_energies_sum = { key: value for key, value in sorted_items }\n",
    "\n",
    "fig = go.Figure(\n",
    "    go.Bar(\n",
    "        x=list(ligand_energies_sum.values()),\n",
    "        y=list(ligand_energies_sum.keys()),\n",
    "        orientation='h'\n",
    "    ),\n",
    "    layout = go.Layout(\n",
    "        title='Total energies value per ligand',\n",
    "        xaxis={'title': 'Electrostatic + VdW energy (kcal/mol)', 'autorange': 'reversed'},\n",
    "        yaxis={'title': 'Ligands'},\n",
    "        height=1500,\n",
    "    )\n",
    ")\n",
    "fig.show()"
   ]
  },
  {
   "cell_type": "markdown",
   "id": "2b1ae18a",
   "metadata": {},
   "source": [
    "Show the strongest ligand energies graph"
   ]
  },
  {
   "cell_type": "code",
   "execution_count": 13,
   "id": "d3a2139e",
   "metadata": {},
   "outputs": [
    {
     "data": {
      "application/vnd.plotly.v1+json": {
       "config": {
        "plotlyServerURL": "https://plot.ly"
       },
       "data": [
        {
         "hovertemplate": "Residue %{x} (%{text}): %{y:.4f}",
         "name": "ruzasvir",
         "text": [
          "ACE",
          "SER",
          "THR",
          "ILE",
          "GLU",
          "GLU",
          "GLN",
          "ALA",
          "LYS",
          "THR",
          "PHE",
          "LEU",
          "ASP",
          "LYS",
          "PHE",
          "ASN",
          "HID",
          "GLU",
          "ALA",
          "GLU",
          "ASP",
          "LEU",
          "PHE",
          "TYR",
          "GLN",
          "SER",
          "SER",
          "LEU",
          "ALA",
          "SER",
          "TRP",
          "ASN",
          "TYR",
          "ASN",
          "THR",
          "ASN",
          "ILE",
          "THR",
          "GLU",
          "GLU",
          "ASN",
          "VAL",
          "GLN",
          "ASN",
          "MET",
          "ASN",
          "ASN",
          "ALA",
          "GLY",
          "ASP",
          "LYS",
          "TRP",
          "SER",
          "ALA",
          "PHE",
          "LEU",
          "LYS",
          "GLU",
          "GLN",
          "SER",
          "THR",
          "LEU",
          "ALA",
          "GLN",
          "MET",
          "TYR",
          "PRO",
          "LEU",
          "GLN",
          "GLU",
          "ILE",
          "GLN",
          "NAG",
          "LEU",
          "THR",
          "VAL",
          "LYS",
          "LEU",
          "GLN",
          "LEU",
          "GLN",
          "ALA",
          "LEU",
          "GLN",
          "GLN",
          "NAG",
          "GLY",
          "SER",
          "SER",
          "VAL",
          "LEU",
          "SER",
          "GLU",
          "ASP",
          "LYS",
          "SER",
          "LYS",
          "ARG",
          "LEU",
          "ASN",
          "THR",
          "ILE",
          "LEU",
          "ASN",
          "THR",
          "MET",
          "SER",
          "THR",
          "ILE",
          "TYR",
          "SER",
          "THR",
          "GLY",
          "LYS",
          "VAL",
          "CYX",
          "ASN",
          "PRO",
          "ASP",
          "ASN",
          "PRO",
          "GLN",
          "GLU",
          "CYX",
          "LEU",
          "LEU",
          "LEU",
          "GLU",
          "PRO",
          "GLY",
          "LEU",
          "ASN",
          "GLU",
          "ILE",
          "MET",
          "ALA",
          "ASN",
          "SER",
          "LEU",
          "ASP",
          "TYR",
          "ASN",
          "GLU",
          "ARG",
          "LEU",
          "TRP",
          "ALA",
          "TRP",
          "GLU",
          "SER",
          "TRP",
          "ARG",
          "SER",
          "GLU",
          "VAL",
          "GLY",
          "LYS",
          "GLN",
          "LEU",
          "ARG",
          "PRO",
          "LEU",
          "TYR",
          "GLU",
          "GLU",
          "TYR",
          "VAL",
          "VAL",
          "LEU",
          "LYS",
          "ASN",
          "GLU",
          "MET",
          "ALA",
          "ARG",
          "ALA",
          "ASN",
          "HID",
          "TYR",
          "GLU",
          "ASP",
          "TYR",
          "GLY",
          "ASP",
          "TYR",
          "TRP",
          "ARG",
          "GLY",
          "ASP",
          "TYR",
          "GLU",
          "VAL",
          "ASN",
          "GLY",
          "VAL",
          "ASP",
          "GLY",
          "TYR",
          "ASP",
          "TYR",
          "SER",
          "ARG",
          "GLY",
          "GLN",
          "LEU",
          "ILE",
          "GLU",
          "ASP",
          "VAL",
          "GLU",
          "HID",
          "THR",
          "PHE",
          "GLU",
          "GLU",
          "ILE",
          "LYS",
          "PRO",
          "LEU",
          "TYR",
          "GLU",
          "HID",
          "LEU",
          "HID",
          "ALA",
          "TYR",
          "VAL",
          "ARG",
          "ALA",
          "LYS",
          "LEU",
          "MET",
          "ASN",
          "ALA",
          "TYR",
          "PRO",
          "SER",
          "TYR",
          "ILE",
          "SER",
          "PRO",
          "ILE",
          "GLY",
          "CYS",
          "LEU",
          "PRO",
          "ALA",
          "HID",
          "LEU",
          "LEU",
          "GLY",
          "ASP",
          "MET",
          "TRP",
          "GLY",
          "ARG",
          "PHE",
          "TRP",
          "THR",
          "ASN",
          "LEU",
          "TYR",
          "SER",
          "LEU",
          "THR",
          "VAL",
          "PRO",
          "PHE",
          "GLY",
          "GLN",
          "LYS",
          "PRO",
          "ASN",
          "ILE",
          "ASP",
          "VAL",
          "THR",
          "ASP",
          "ALA",
          "MET",
          "VAL",
          "ASP",
          "GLN",
          "ALA",
          "TRP",
          "ASP",
          "ALA",
          "GLN",
          "ARG",
          "ILE",
          "PHE",
          "LYS",
          "GLU",
          "ALA",
          "GLU",
          "LYS",
          "PHE",
          "PHE",
          "VAL",
          "SER",
          "VAL",
          "GLY",
          "LEU",
          "PRO",
          "NAG",
          "MET",
          "THR",
          "GLN",
          "GLY",
          "PHE",
          "TRP",
          "GLU",
          "ASN",
          "SER",
          "MET",
          "LEU",
          "THR",
          "ASP",
          "PRO",
          "GLY",
          "ASN",
          "VAL",
          "GLN",
          "LYS",
          "ALA",
          "VAL",
          "CYX",
          "HID",
          "PRO",
          "THR",
          "ALA",
          "TRP",
          "ASP",
          "LEU",
          "GLY",
          "LYS",
          "GLY",
          "ASP",
          "PHE",
          "ARG",
          "ILE",
          "LEU",
          "MET",
          "CYX",
          "THR",
          "LYS",
          "VAL",
          "THR",
          "MET",
          "ASP",
          "ASP",
          "PHE",
          "LEU",
          "THR",
          "ALA",
          "HID",
          "HID",
          "GLU",
          "MET",
          "GLY",
          "HID",
          "ILE",
          "GLN",
          "TYR",
          "ASP",
          "MET",
          "ALA",
          "TYR",
          "ALA",
          "ALA",
          "GLN",
          "PRO",
          "PHE",
          "LEU",
          "LEU",
          "ARG",
          "ASN",
          "GLY",
          "ALA",
          "ASN",
          "GLU",
          "GLY",
          "PHE",
          "HID",
          "GLU",
          "ALA",
          "VAL",
          "GLY",
          "GLU",
          "ILE",
          "MET",
          "SER",
          "LEU",
          "SER",
          "ALA",
          "ALA",
          "THR",
          "PRO",
          "LYS",
          "HID",
          "LEU",
          "LYS",
          "SER",
          "ILE",
          "GLY",
          "LEU",
          "LEU",
          "SER",
          "PRO",
          "ASP",
          "PHE",
          "GLN",
          "GLU",
          "ASP",
          "NAG",
          "GLU",
          "THR",
          "GLU",
          "ILE",
          "ASN",
          "PHE",
          "LEU",
          "LEU",
          "LYS",
          "GLN",
          "ALA",
          "LEU",
          "THR",
          "ILE",
          "VAL",
          "GLY",
          "THR",
          "LEU",
          "PRO",
          "PHE",
          "THR",
          "TYR",
          "MET",
          "LEU",
          "GLU",
          "LYS",
          "TRP",
          "ARG",
          "TRP",
          "MET",
          "VAL",
          "PHE",
          "LYS",
          "GLY",
          "GLU",
          "ILE",
          "PRO",
          "LYS",
          "ASP",
          "GLN",
          "TRP",
          "MET",
          "LYS",
          "LYS",
          "TRP",
          "TRP",
          "GLU",
          "MET",
          "LYS",
          "ARG",
          "GLU",
          "ILE",
          "VAL",
          "GLY",
          "VAL",
          "VAL",
          "GLU",
          "PRO",
          "VAL",
          "PRO",
          "HID",
          "ASP",
          "GLU",
          "THR",
          "TYR",
          "CYS",
          "ASP",
          "PRO",
          "ALA",
          "SER",
          "LEU",
          "PHE",
          "HID",
          "VAL",
          "SER",
          "ASN",
          "ASP",
          "TYR",
          "SER",
          "PHE",
          "ILE",
          "ARG",
          "TYR",
          "TYR",
          "THR",
          "ARG",
          "THR",
          "LEU",
          "TYR",
          "GLN",
          "PHE",
          "GLN",
          "PHE",
          "GLN",
          "GLU",
          "ALA",
          "LEU",
          "CYX",
          "GLN",
          "ALA",
          "ALA",
          "LYS",
          "HID",
          "GLU",
          "GLY",
          "PRO",
          "LEU",
          "HID",
          "LYS",
          "CYX",
          "ASP",
          "ILE",
          "SER",
          "NAG",
          "SER",
          "THR",
          "GLU",
          "ALA",
          "GLY",
          "GLN",
          "LYS",
          "LEU",
          "PHE",
          "ASN",
          "MET",
          "LEU",
          "ARG",
          "LEU",
          "GLY",
          "LYS",
          "SER",
          "GLU",
          "PRO",
          "TRP",
          "THR",
          "LEU",
          "ALA",
          "LEU",
          "GLU",
          "ASN",
          "VAL",
          "VAL",
          "GLY",
          "ALA",
          "LYS",
          "ASN",
          "MET",
          "ASN",
          "VAL",
          "ARG",
          "PRO",
          "LEU",
          "LEU",
          "ASN",
          "TYR",
          "PHE",
          "GLU",
          "PRO",
          "LEU",
          "PHE",
          "THR",
          "TRP",
          "LEU",
          "LYS",
          "ASP",
          "GLN",
          "ASN",
          "LYS",
          "ASN",
          "SER",
          "PHE",
          "VAL",
          "GLY",
          "TRP",
          "SER",
          "THR",
          "ASP",
          "TRP",
          "SER",
          "PRO",
          "TYR",
          "ALA",
          "NMA"
         ],
         "type": "scatter",
         "x": [
          19,
          20,
          21,
          22,
          23,
          24,
          25,
          26,
          27,
          28,
          29,
          30,
          31,
          32,
          33,
          34,
          35,
          36,
          37,
          38,
          39,
          40,
          41,
          42,
          43,
          44,
          45,
          46,
          47,
          48,
          49,
          50,
          51,
          52,
          53,
          54,
          55,
          56,
          57,
          58,
          59,
          60,
          61,
          62,
          63,
          64,
          65,
          66,
          67,
          68,
          69,
          70,
          71,
          72,
          73,
          74,
          75,
          76,
          77,
          78,
          79,
          80,
          81,
          82,
          83,
          84,
          85,
          86,
          87,
          88,
          89,
          90,
          91,
          92,
          93,
          94,
          95,
          96,
          97,
          98,
          99,
          100,
          101,
          102,
          103,
          104,
          105,
          106,
          107,
          108,
          109,
          110,
          111,
          112,
          113,
          114,
          115,
          116,
          117,
          118,
          119,
          120,
          121,
          122,
          123,
          124,
          125,
          126,
          127,
          128,
          129,
          130,
          131,
          132,
          133,
          134,
          135,
          136,
          137,
          138,
          139,
          140,
          141,
          142,
          143,
          144,
          145,
          146,
          147,
          148,
          149,
          150,
          151,
          152,
          153,
          154,
          155,
          156,
          157,
          158,
          159,
          160,
          161,
          162,
          163,
          164,
          165,
          166,
          167,
          168,
          169,
          170,
          171,
          172,
          173,
          174,
          175,
          176,
          177,
          178,
          179,
          180,
          181,
          182,
          183,
          184,
          185,
          186,
          187,
          188,
          189,
          190,
          191,
          192,
          193,
          194,
          195,
          196,
          197,
          198,
          199,
          200,
          201,
          202,
          203,
          204,
          205,
          206,
          207,
          208,
          209,
          210,
          211,
          212,
          213,
          214,
          215,
          216,
          217,
          218,
          219,
          220,
          221,
          222,
          223,
          224,
          225,
          226,
          227,
          228,
          229,
          230,
          231,
          232,
          233,
          234,
          235,
          236,
          237,
          238,
          239,
          240,
          241,
          242,
          243,
          244,
          245,
          246,
          247,
          248,
          249,
          250,
          251,
          252,
          253,
          254,
          255,
          256,
          257,
          258,
          259,
          260,
          261,
          262,
          263,
          264,
          265,
          266,
          267,
          268,
          269,
          270,
          271,
          272,
          273,
          274,
          275,
          276,
          277,
          278,
          279,
          280,
          281,
          282,
          283,
          284,
          285,
          286,
          287,
          288,
          289,
          290,
          291,
          292,
          293,
          294,
          295,
          296,
          297,
          298,
          299,
          300,
          301,
          302,
          303,
          304,
          305,
          306,
          307,
          308,
          309,
          310,
          311,
          312,
          313,
          314,
          315,
          316,
          317,
          318,
          319,
          320,
          321,
          322,
          323,
          324,
          325,
          326,
          327,
          328,
          329,
          330,
          331,
          332,
          333,
          334,
          335,
          336,
          337,
          338,
          339,
          340,
          341,
          342,
          343,
          344,
          345,
          346,
          347,
          348,
          349,
          350,
          351,
          352,
          353,
          354,
          355,
          356,
          357,
          358,
          359,
          360,
          361,
          362,
          363,
          364,
          365,
          366,
          367,
          368,
          369,
          370,
          371,
          372,
          373,
          374,
          375,
          376,
          377,
          378,
          379,
          380,
          381,
          382,
          383,
          384,
          385,
          386,
          387,
          388,
          389,
          390,
          391,
          392,
          393,
          394,
          395,
          396,
          397,
          398,
          399,
          400,
          401,
          402,
          403,
          404,
          405,
          406,
          407,
          408,
          409,
          410,
          411,
          412,
          413,
          414,
          415,
          416,
          417,
          418,
          419,
          420,
          421,
          422,
          423,
          424,
          425,
          426,
          427,
          428,
          429,
          430,
          431,
          432,
          433,
          434,
          435,
          436,
          437,
          438,
          439,
          440,
          441,
          442,
          443,
          444,
          445,
          446,
          447,
          448,
          449,
          450,
          451,
          452,
          453,
          454,
          455,
          456,
          457,
          458,
          459,
          460,
          461,
          462,
          463,
          464,
          465,
          466,
          467,
          468,
          469,
          470,
          471,
          472,
          473,
          474,
          475,
          476,
          477,
          478,
          479,
          480,
          481,
          482,
          483,
          484,
          485,
          486,
          487,
          488,
          489,
          490,
          491,
          492,
          493,
          494,
          495,
          496,
          497,
          498,
          499,
          500,
          501,
          502,
          503,
          504,
          505,
          506,
          507,
          508,
          509,
          510,
          511,
          512,
          513,
          514,
          515,
          516,
          517,
          518,
          519,
          520,
          521,
          522,
          523,
          524,
          525,
          526,
          527,
          528,
          529,
          530,
          531,
          532,
          533,
          534,
          535,
          536,
          537,
          538,
          539,
          540,
          541,
          542,
          543,
          544,
          545,
          546,
          547,
          548,
          549,
          550,
          551,
          552,
          553,
          554,
          555,
          556,
          557,
          558,
          559,
          560,
          561,
          562,
          563,
          564,
          565,
          566,
          567,
          568,
          569,
          570,
          571,
          572,
          573,
          574,
          575,
          576,
          577,
          578,
          579,
          580,
          581,
          582,
          583,
          584,
          585,
          586,
          587,
          588,
          589,
          590,
          591,
          592,
          593,
          594,
          595,
          596,
          597,
          598,
          599,
          600,
          601,
          602,
          603,
          604,
          605,
          606,
          607,
          608,
          609,
          610,
          611,
          612,
          613,
          614
         ],
         "y": [
          -0.026285515151515136,
          -0.3622134848484847,
          0.007064606060606064,
          -0.6447931989898987,
          -0.3706023737373739,
          -0.2818865474747474,
          -0.2656146666666666,
          -0.4686859191919192,
          -0.6518907505050504,
          -0.23758539393939387,
          -0.7399935757575755,
          -0.8563406818181821,
          -0.3388787282828282,
          -0.7956884979797981,
          -0.6991650505050507,
          -0.6549698989898992,
          -0.6103356161616164,
          -0.832660101010101,
          -0.34742046464646464,
          -0.5275516161616163,
          -0.4628936868686868,
          -1.281740680808081,
          -1.9007281424242415,
          -0.7864389959595958,
          -0.6415643232323233,
          -1.6729121808080816,
          -0.9948283939393939,
          -0.5570887474747477,
          -0.15551429654545454,
          -0.8145545808080812,
          -0.6340885656565655,
          -0.3842660808080807,
          -1.2432396864949495,
          -0.17607408209090908,
          -0.26703935858585864,
          -0.05994569393939395,
          -0.6171351010101009,
          -0.34580725858585853,
          -0.3721738585858588,
          -0.3634019595959595,
          -0.445520585858586,
          -1.197202617949495,
          -0.5934327565656569,
          -0.4321495787878787,
          -2.7655035363636364,
          -1.7988414898989893,
          -0.7745313777777777,
          -0.48924929292929303,
          -1.4793040505050508,
          -0.47651474747474737,
          -0.6142851111111111,
          -3.9553380707070724,
          -0.5201084747474747,
          -1.0033025252525256,
          -1.006104444444445,
          -3.236547695959595,
          -0.9777800282828283,
          -0.5353524242424244,
          -0.6498671828282827,
          -0.5997954444444442,
          -0.2982407474747476,
          -0.6278682424242426,
          -0.10480967676767675,
          -0.8636388080808084,
          -0.39574997979797993,
          -0.589414767676768,
          -0.4588076262626262,
          -0.28215109090909096,
          -0.5406905252525251,
          -0.32657105050505036,
          -0.4804401969696968,
          -0.3268692525252526,
          -1.1838695606060607,
          -0.7455607131313131,
          -0.4987523939393941,
          -0.4456297373737372,
          -0.6634022606060604,
          -0.8403422181818181,
          -1.0456698212121214,
          -0.6154366636363636,
          -0.9985945333333334,
          -2.1873873828282817,
          -1.7702070858585854,
          -0.8102055050505049,
          -2.4747393868686864,
          -2.735760184949495,
          -1.437571286868687,
          -2.6290514949494943,
          -0.8548255757575759,
          -2.18647344919192,
          -0.5329342868686868,
          -0.5524468989898986,
          -0.3933607111111111,
          -0.368188303030303,
          -0.7419256565656567,
          -0.4119655555555556,
          -0.9536405191919192,
          -0.5019431474747474,
          -1.3696549545454546,
          -1.9723955464646463,
          -0.5230326686868686,
          -0.6225238292929294,
          -1.9337257434343447,
          -0.7544411252525254,
          -0.33754489898989903,
          -0.5161155555555555,
          -0.14965651515151518,
          -0.36388292929292937,
          -0.3060484202020202,
          -0.3519331111111111,
          -0.1243569393939393,
          -0.10775214646464648,
          -0.14596103535353536,
          -0.3098545434343435,
          -0.20864224242424237,
          -0.10326269696969692,
          -0.18440231737373747,
          -0.11290360818181816,
          -0.15528048484848486,
          -0.15898830404040404,
          -0.09147698383838379,
          -0.18410965787878786,
          -0.1883764545454545,
          -0.05212042727272727,
          -0.24743842424242418,
          -0.17536290505050509,
          -0.24463213333333325,
          -0.210305,
          -0.1926811313131313,
          -0.04184877777777777,
          -0.2864096787878789,
          -0.23538229292929297,
          -0.1694842446464646,
          -0.2258870818181818,
          -0.2842632525252524,
          -0.09628626262626264,
          -0.18344115161616162,
          -0.07926480808080812,
          -0.22556920404040404,
          -0.09384130707070706,
          -0.20191731212121214,
          -0.10505474646464645,
          -0.10935898989898991,
          -0.39536983838383827,
          -0.1392372494949495,
          -0.3236227616161616,
          -0.08563379191919192,
          -0.3306172222222223,
          -0.22610967727272735,
          -0.08801558484848483,
          -0.32921484141414137,
          -0.23766225353535353,
          -0.12071808686868683,
          -0.2321530101010101,
          -0.19242987878787873,
          -0.08852589898989896,
          -0.3278329545454544,
          -0.2685495020202018,
          -0.3120517707070708,
          -0.3920885313131313,
          -0.20839942424242425,
          -0.5451456464646464,
          -0.28570197979798,
          -0.42479981616161616,
          -0.40415548080808095,
          -0.5948880747474747,
          -0.2110267676767677,
          -0.3507468888888889,
          -0.39318206363636354,
          -0.982742304242424,
          -0.2576642626262625,
          -0.3891570414141415,
          -1.322156022121212,
          -0.29093516161616145,
          -0.4463238393939396,
          -0.3371461717171717,
          -0.45908527272727273,
          -0.6019547333333334,
          -0.9592928808080806,
          -0.3630126868686872,
          -0.1566740707070707,
          -0.5187152525252523,
          -0.12518599696969696,
          -0.1485352727272727,
          -0.8776238767676768,
          -0.5855054747474748,
          -0.6389821494949498,
          -0.4578656838383838,
          -0.6647911979797981,
          -0.39159631010101004,
          -0.5119648333333333,
          -0.6224943131313131,
          -0.6818405453535353,
          0.06690824242424241,
          -0.6160374464646465,
          -0.290126686868687,
          0.004284929292929293,
          -0.4965695656565655,
          -0.25182017171717175,
          -0.372629603030303,
          -0.28608610101010107,
          -0.38272819898989907,
          -0.24443661616161613,
          -0.2754896060606061,
          -0.39407614141414155,
          -0.24546391919191912,
          -0.31950503030303024,
          -0.24464677474747473,
          -0.16694739898989908,
          -0.25119407070707067,
          -0.32219992929292934,
          -0.3252103333333334,
          -0.262835292929293,
          -0.1667684141414142,
          -0.3408059797979799,
          -0.23433730303030295,
          -0.281634698989899,
          -0.13504956565656565,
          -0.19502368686868693,
          -0.2853587616161617,
          -0.09437142929292928,
          -0.23178214737373742,
          -0.09186150808080809,
          -0.2799385212121212,
          -0.1426549393939394,
          -0.21469878474747472,
          -0.13239721010101005,
          -0.17958933131313132,
          -0.14741940404040407,
          -0.11512535656565659,
          -0.24981150606060606,
          -0.11040471818181818,
          -0.12946808888888894,
          -0.09882454040404044,
          -0.13945264646464647,
          -0.10544594949494947,
          -0.1470911919191919,
          -0.1606810618181818,
          -0.18328909191919188,
          -0.09444530303030306,
          -0.1468300202020202,
          -0.16920983535353537,
          -0.0342026808080808,
          -0.09931767676767676,
          -0.23480249494949493,
          -0.13528496676767676,
          -0.12428250505050507,
          -0.19825160404040415,
          -0.19943169898989896,
          -0.16924805050505057,
          -0.07963482828282831,
          -0.32209354545454544,
          -0.24210182222222223,
          -0.29659517878787883,
          -0.09958460606060604,
          -0.4155608652525253,
          -0.28411407666666666,
          -0.38701147272727277,
          -0.15906410808080804,
          -0.18172885858585855,
          -0.21168801919191918,
          -0.28253823232323233,
          -0.09875217171717174,
          -0.17603699696969702,
          -0.10795116666666667,
          -0.16129229292929295,
          -0.11261517474747477,
          -0.17684958585858587,
          -0.010901810101010101,
          -0.194320404040404,
          -0.1491092323232323,
          -0.22684272727272736,
          -0.11637151515151516,
          -0.2376363272727272,
          -0.12463509292929294,
          -0.17560249898989894,
          -0.23854541414141409,
          -0.0696800515151515,
          -0.07609895646464644,
          -0.31404838383838374,
          -0.17009011717171715,
          -0.08679026464646465,
          -0.17918637171717172,
          -0.09155590909090906,
          -0.18232912121212116,
          -0.3754601818181819,
          -0.05859105050505052,
          -0.2433983636363637,
          -0.32813169393939384,
          -0.20587168393939387,
          -0.3852937555555555,
          -0.41811591717171714,
          -0.24207703333333327,
          -0.14479939393939395,
          -0.18561003838383838,
          -0.24473625252525247,
          -0.3077895555555556,
          -0.19588240808080803,
          -0.4255192020202018,
          -0.21536892929292922,
          -0.24503866262626267,
          -0.07099868686868688,
          -0.3482338161616162,
          -0.37498810101010105,
          -0.5180868919191918,
          0.11838925252525255,
          0.3158273292929295,
          0.14094842424242424,
          0.04449925252525251,
          0.421870595959596,
          0.4522042353535352,
          0.1895027474747475,
          0.3542904040404041,
          0.3147641010101011,
          0.2685177676767677,
          0.17152803030303035,
          0.20683915151515153,
          0.2682522929292929,
          0.2740729696969698,
          0.0696351313131313,
          0.22016693939393933,
          0.3635775252525253,
          0.3845836353535354,
          0.410579212121212,
          0.15802237373737374,
          0.2699756161616162,
          0.10520356565656568,
          0.4252708686868687,
          0.45717535353535355,
          0.2286259898989898,
          0.311462622979798,
          0.05729435734343438,
          0.2651931858585858,
          0.6111550715151514,
          0.07255203030303033,
          0.7504105616161617,
          0.18115616161616163,
          0.3777519292929293,
          0.4473297171717172,
          0.5097316767676767,
          0.18731001010101012,
          0.359048985858586,
          0.266296101010101,
          0.21472233333333338,
          0.14033496969696974,
          0.3098836666666666,
          0.20473162626262623,
          0.19788465656565665,
          0.35482091919191927,
          0.11547333333333333,
          0.17015812121212115,
          0.17304385858585866,
          0.3794883131313131,
          0.42594076767676753,
          0.1741897878787879,
          0.38149143838383825,
          0.16952792929292934,
          0.38190976565656565,
          0.3633565252525253,
          0.16400803030303032,
          0.32232778181818195,
          0.617149406060606,
          0.36247854545454555,
          0.643437616161616,
          0.4183335252525252,
          0.3612849595959598,
          0.22607874747474752,
          0.5680757272727274,
          0.2616887474747475,
          0.09541105050505055,
          0.5019919696969697,
          0.5691210909090908,
          0.7030418518181819,
          1.47126557070707,
          1.0013778535353537,
          1.650407272727273,
          0.30910650303030307,
          0.4008647171717171,
          0.3991200594949495,
          0.42804166666666654,
          0.42822227272727287,
          0.4509672727272725,
          0.4105383232323236,
          0.6245149090909091,
          0.32063746464646453,
          0.15507869696969698,
          0.5081895555555557,
          0.08075369696969699,
          0.2804099797979797,
          0.297187505050505,
          0.2283920505050504,
          0.14086712121212128,
          0.3996068080808084,
          0.053122191919191895,
          0.1292593838383838,
          0.26055293939393936,
          0.2368941717171717,
          0.22703188888888887,
          0.2336952828282828,
          0.22795102020202015,
          0.40160490909090907,
          0.21971546464646458,
          0.09362374747474746,
          0.24675117171717165,
          0.07519660606060605,
          0.30473143434343436,
          0.3329995858585859,
          0.14110616161616163,
          0.08454965656565654,
          0.04578220202020202,
          0.141048501010101,
          0.16838866161616164,
          0.1093285656565657,
          0.05049894949494949,
          0.3640474282828283,
          0.13239070707070708,
          0.10046814141414144,
          0.18404044444444448,
          0.19262246464646465,
          0.24845580808080805,
          0.2631701676767677,
          0.22617613131313138,
          0.19374213131313128,
          0.26624139393939394,
          0.15989261616161615,
          0.10396292929292936,
          0.16929402020202017,
          0.1743041212121212,
          0.21294415151515148,
          0.18042019191919187,
          0.07381119191919193,
          0.25827986868686853,
          0.47350590909090917,
          0.21664130707070703,
          0.3853408080808082,
          0.3205712323232325,
          0.28008387676767676,
          0.14806453535353534,
          0.38428249494949485,
          0.26056207070707077,
          0.33492913131313123,
          0.35754623131313135,
          0.36597762626262637,
          0.5721840404040407,
          0.29792936363636374,
          0.4180214848484849,
          0.3422103232323233,
          0.4008365151515152,
          0.0547178585858586,
          0.2793880808080808,
          0.2759309292929292,
          0.19905435353535342,
          0.2294976666666667,
          0.12387260606060603,
          0.28946191010100997,
          0.3578595353535353,
          0.31561741414141414,
          0.25791900707070703,
          0.2773943333333334,
          0.31965943434343413,
          0.3424737272727273,
          0.14005213737373737,
          0.2943004545454546,
          0.25795689898989904,
          0.2882692171717173,
          0.31583208080808073,
          0.16394077777777785,
          0.16469022222222218,
          0.09616403535353536,
          0.22275583030303026,
          0.17001308080808075,
          0.125401797979798,
          0.11758828282828279,
          0.17156557676767684,
          0.1822348282828283,
          0.1387607272727273,
          0.15922173737373738,
          0.1332924747474748,
          0.24956284848484842,
          0.2354374444444445,
          0.19872361616161624,
          0.1794737777777778,
          0.2004109292929293,
          0.10888141414141417,
          0.13869028282828283,
          0.5777436262626267,
          0.38894647474747496,
          0.32832642424242425,
          0.18348134636363633,
          -0.27263017050505045,
          -0.2335984993232323,
          -0.48282763181818217,
          0.44953394535353547,
          0.20006307878787874,
          0.25221487878787874,
          0.5061731818181819,
          0.6433516213131313,
          0.24100314141414134,
          0.31270911111111094,
          0.22024226262626265,
          0.3987983030303028,
          0.17129463838383838,
          0.32981530303030293,
          0.3905105151515152,
          0.18536174747474757,
          0.4438432626262627,
          0.26959365252525247,
          0.2549107676767676,
          0.22931952727272725,
          0.13025743434343437,
          0.14306211212121217,
          0.33885713131313144,
          0.10522303030303036,
          0.1370188888888889,
          0.25413120202020195,
          0.11478286868686867,
          0.42642561616161606,
          0.15800678787878789,
          0.16052818787878792,
          0.1383530101010101,
          0.05543834343434342,
          0.15662091919191917,
          0.27490777777777775,
          0.22403045353535347,
          0.19325710101010107,
          0.19315464646464645,
          0.3813019999999998,
          0.05426442424242426,
          0.5845097020202018,
          0.0911426464646465,
          0.16121239393939396,
          0.1423949090909091,
          0.0701711515151515,
          0.06139861616161616,
          0.22014973737373736,
          0.3157774474747474,
          0.3386237979797979,
          0.39677408080808085,
          0.2825356868686868,
          0.4042324848484848,
          0.643567494949495,
          0.5302764343434343,
          0.7884327272727271,
          0.34984609090909097,
          1.2251569046464645,
          0.6577832222222222,
          0.3380643434343435,
          0.5978354444444446,
          0.7264498383838385,
          0.32167622222222203,
          0.34783415151515173,
          0.3438849797979798,
          0.3280110404040404,
          0.3223637070707071,
          0.18300512121212126,
          0.315420282828283,
          0.3275194343434343,
          0.0636449898989899,
          0.1042008484848485,
          0.46798329090909085,
          0.2798150101010103,
          0.37076612121212094,
          0.18170628282828286,
          0.28214708080808076,
          0.3839285959595958,
          0.2174442525252525,
          0.3379578686868685,
          0.14734746464646464,
          0.22870568282828282,
          0.2018369393939394,
          0.2547143838383838,
          0.13923106060606064,
          0.11284853737373735,
          0.299623909090909,
          0.25470936363636365,
          0.2125894646464647,
          0.17447431313131315,
          0.2918303636363636,
          0.1383890808080808,
          0.08578989898989897,
          0.1840722636363636,
          0.13633791919191923,
          0.20019975656565656,
          0.20105542424242429,
          0.13406682626262628,
          0.26760228282828286,
          0.1419234343434343,
          0.10335901010101005,
          0.343405903030303,
          0.06933458585858583,
          0.17621506060606065,
          0.16534213131313133,
          0.37687574747474756,
          0.13639370707070705,
          0.18709685858585856,
          0.28422719191919193,
          0.15446979797979796,
          0.05354715151515151,
          0.012171414141414143
         ]
        }
       ],
       "layout": {
        "height": 500,
        "margin": {
         "b": 5,
         "l": 5,
         "r": 5,
         "t": 32
        },
        "template": {
         "data": {
          "bar": [
           {
            "error_x": {
             "color": "#2a3f5f"
            },
            "error_y": {
             "color": "#2a3f5f"
            },
            "marker": {
             "line": {
              "color": "#E5ECF6",
              "width": 0.5
             },
             "pattern": {
              "fillmode": "overlay",
              "size": 10,
              "solidity": 0.2
             }
            },
            "type": "bar"
           }
          ],
          "barpolar": [
           {
            "marker": {
             "line": {
              "color": "#E5ECF6",
              "width": 0.5
             },
             "pattern": {
              "fillmode": "overlay",
              "size": 10,
              "solidity": 0.2
             }
            },
            "type": "barpolar"
           }
          ],
          "carpet": [
           {
            "aaxis": {
             "endlinecolor": "#2a3f5f",
             "gridcolor": "white",
             "linecolor": "white",
             "minorgridcolor": "white",
             "startlinecolor": "#2a3f5f"
            },
            "baxis": {
             "endlinecolor": "#2a3f5f",
             "gridcolor": "white",
             "linecolor": "white",
             "minorgridcolor": "white",
             "startlinecolor": "#2a3f5f"
            },
            "type": "carpet"
           }
          ],
          "choropleth": [
           {
            "colorbar": {
             "outlinewidth": 0,
             "ticks": ""
            },
            "type": "choropleth"
           }
          ],
          "contour": [
           {
            "colorbar": {
             "outlinewidth": 0,
             "ticks": ""
            },
            "colorscale": [
             [
              0,
              "#0d0887"
             ],
             [
              0.1111111111111111,
              "#46039f"
             ],
             [
              0.2222222222222222,
              "#7201a8"
             ],
             [
              0.3333333333333333,
              "#9c179e"
             ],
             [
              0.4444444444444444,
              "#bd3786"
             ],
             [
              0.5555555555555556,
              "#d8576b"
             ],
             [
              0.6666666666666666,
              "#ed7953"
             ],
             [
              0.7777777777777778,
              "#fb9f3a"
             ],
             [
              0.8888888888888888,
              "#fdca26"
             ],
             [
              1,
              "#f0f921"
             ]
            ],
            "type": "contour"
           }
          ],
          "contourcarpet": [
           {
            "colorbar": {
             "outlinewidth": 0,
             "ticks": ""
            },
            "type": "contourcarpet"
           }
          ],
          "heatmap": [
           {
            "colorbar": {
             "outlinewidth": 0,
             "ticks": ""
            },
            "colorscale": [
             [
              0,
              "#0d0887"
             ],
             [
              0.1111111111111111,
              "#46039f"
             ],
             [
              0.2222222222222222,
              "#7201a8"
             ],
             [
              0.3333333333333333,
              "#9c179e"
             ],
             [
              0.4444444444444444,
              "#bd3786"
             ],
             [
              0.5555555555555556,
              "#d8576b"
             ],
             [
              0.6666666666666666,
              "#ed7953"
             ],
             [
              0.7777777777777778,
              "#fb9f3a"
             ],
             [
              0.8888888888888888,
              "#fdca26"
             ],
             [
              1,
              "#f0f921"
             ]
            ],
            "type": "heatmap"
           }
          ],
          "histogram": [
           {
            "marker": {
             "pattern": {
              "fillmode": "overlay",
              "size": 10,
              "solidity": 0.2
             }
            },
            "type": "histogram"
           }
          ],
          "histogram2d": [
           {
            "colorbar": {
             "outlinewidth": 0,
             "ticks": ""
            },
            "colorscale": [
             [
              0,
              "#0d0887"
             ],
             [
              0.1111111111111111,
              "#46039f"
             ],
             [
              0.2222222222222222,
              "#7201a8"
             ],
             [
              0.3333333333333333,
              "#9c179e"
             ],
             [
              0.4444444444444444,
              "#bd3786"
             ],
             [
              0.5555555555555556,
              "#d8576b"
             ],
             [
              0.6666666666666666,
              "#ed7953"
             ],
             [
              0.7777777777777778,
              "#fb9f3a"
             ],
             [
              0.8888888888888888,
              "#fdca26"
             ],
             [
              1,
              "#f0f921"
             ]
            ],
            "type": "histogram2d"
           }
          ],
          "histogram2dcontour": [
           {
            "colorbar": {
             "outlinewidth": 0,
             "ticks": ""
            },
            "colorscale": [
             [
              0,
              "#0d0887"
             ],
             [
              0.1111111111111111,
              "#46039f"
             ],
             [
              0.2222222222222222,
              "#7201a8"
             ],
             [
              0.3333333333333333,
              "#9c179e"
             ],
             [
              0.4444444444444444,
              "#bd3786"
             ],
             [
              0.5555555555555556,
              "#d8576b"
             ],
             [
              0.6666666666666666,
              "#ed7953"
             ],
             [
              0.7777777777777778,
              "#fb9f3a"
             ],
             [
              0.8888888888888888,
              "#fdca26"
             ],
             [
              1,
              "#f0f921"
             ]
            ],
            "type": "histogram2dcontour"
           }
          ],
          "mesh3d": [
           {
            "colorbar": {
             "outlinewidth": 0,
             "ticks": ""
            },
            "type": "mesh3d"
           }
          ],
          "parcoords": [
           {
            "line": {
             "colorbar": {
              "outlinewidth": 0,
              "ticks": ""
             }
            },
            "type": "parcoords"
           }
          ],
          "pie": [
           {
            "automargin": true,
            "type": "pie"
           }
          ],
          "scatter": [
           {
            "fillpattern": {
             "fillmode": "overlay",
             "size": 10,
             "solidity": 0.2
            },
            "type": "scatter"
           }
          ],
          "scatter3d": [
           {
            "line": {
             "colorbar": {
              "outlinewidth": 0,
              "ticks": ""
             }
            },
            "marker": {
             "colorbar": {
              "outlinewidth": 0,
              "ticks": ""
             }
            },
            "type": "scatter3d"
           }
          ],
          "scattercarpet": [
           {
            "marker": {
             "colorbar": {
              "outlinewidth": 0,
              "ticks": ""
             }
            },
            "type": "scattercarpet"
           }
          ],
          "scattergeo": [
           {
            "marker": {
             "colorbar": {
              "outlinewidth": 0,
              "ticks": ""
             }
            },
            "type": "scattergeo"
           }
          ],
          "scattergl": [
           {
            "marker": {
             "colorbar": {
              "outlinewidth": 0,
              "ticks": ""
             }
            },
            "type": "scattergl"
           }
          ],
          "scattermap": [
           {
            "marker": {
             "colorbar": {
              "outlinewidth": 0,
              "ticks": ""
             }
            },
            "type": "scattermap"
           }
          ],
          "scattermapbox": [
           {
            "marker": {
             "colorbar": {
              "outlinewidth": 0,
              "ticks": ""
             }
            },
            "type": "scattermapbox"
           }
          ],
          "scatterpolar": [
           {
            "marker": {
             "colorbar": {
              "outlinewidth": 0,
              "ticks": ""
             }
            },
            "type": "scatterpolar"
           }
          ],
          "scatterpolargl": [
           {
            "marker": {
             "colorbar": {
              "outlinewidth": 0,
              "ticks": ""
             }
            },
            "type": "scatterpolargl"
           }
          ],
          "scatterternary": [
           {
            "marker": {
             "colorbar": {
              "outlinewidth": 0,
              "ticks": ""
             }
            },
            "type": "scatterternary"
           }
          ],
          "surface": [
           {
            "colorbar": {
             "outlinewidth": 0,
             "ticks": ""
            },
            "colorscale": [
             [
              0,
              "#0d0887"
             ],
             [
              0.1111111111111111,
              "#46039f"
             ],
             [
              0.2222222222222222,
              "#7201a8"
             ],
             [
              0.3333333333333333,
              "#9c179e"
             ],
             [
              0.4444444444444444,
              "#bd3786"
             ],
             [
              0.5555555555555556,
              "#d8576b"
             ],
             [
              0.6666666666666666,
              "#ed7953"
             ],
             [
              0.7777777777777778,
              "#fb9f3a"
             ],
             [
              0.8888888888888888,
              "#fdca26"
             ],
             [
              1,
              "#f0f921"
             ]
            ],
            "type": "surface"
           }
          ],
          "table": [
           {
            "cells": {
             "fill": {
              "color": "#EBF0F8"
             },
             "line": {
              "color": "white"
             }
            },
            "header": {
             "fill": {
              "color": "#C8D4E3"
             },
             "line": {
              "color": "white"
             }
            },
            "type": "table"
           }
          ]
         },
         "layout": {
          "annotationdefaults": {
           "arrowcolor": "#2a3f5f",
           "arrowhead": 0,
           "arrowwidth": 1
          },
          "autotypenumbers": "strict",
          "coloraxis": {
           "colorbar": {
            "outlinewidth": 0,
            "ticks": ""
           }
          },
          "colorscale": {
           "diverging": [
            [
             0,
             "#8e0152"
            ],
            [
             0.1,
             "#c51b7d"
            ],
            [
             0.2,
             "#de77ae"
            ],
            [
             0.3,
             "#f1b6da"
            ],
            [
             0.4,
             "#fde0ef"
            ],
            [
             0.5,
             "#f7f7f7"
            ],
            [
             0.6,
             "#e6f5d0"
            ],
            [
             0.7,
             "#b8e186"
            ],
            [
             0.8,
             "#7fbc41"
            ],
            [
             0.9,
             "#4d9221"
            ],
            [
             1,
             "#276419"
            ]
           ],
           "sequential": [
            [
             0,
             "#0d0887"
            ],
            [
             0.1111111111111111,
             "#46039f"
            ],
            [
             0.2222222222222222,
             "#7201a8"
            ],
            [
             0.3333333333333333,
             "#9c179e"
            ],
            [
             0.4444444444444444,
             "#bd3786"
            ],
            [
             0.5555555555555556,
             "#d8576b"
            ],
            [
             0.6666666666666666,
             "#ed7953"
            ],
            [
             0.7777777777777778,
             "#fb9f3a"
            ],
            [
             0.8888888888888888,
             "#fdca26"
            ],
            [
             1,
             "#f0f921"
            ]
           ],
           "sequentialminus": [
            [
             0,
             "#0d0887"
            ],
            [
             0.1111111111111111,
             "#46039f"
            ],
            [
             0.2222222222222222,
             "#7201a8"
            ],
            [
             0.3333333333333333,
             "#9c179e"
            ],
            [
             0.4444444444444444,
             "#bd3786"
            ],
            [
             0.5555555555555556,
             "#d8576b"
            ],
            [
             0.6666666666666666,
             "#ed7953"
            ],
            [
             0.7777777777777778,
             "#fb9f3a"
            ],
            [
             0.8888888888888888,
             "#fdca26"
            ],
            [
             1,
             "#f0f921"
            ]
           ]
          },
          "colorway": [
           "#636efa",
           "#EF553B",
           "#00cc96",
           "#ab63fa",
           "#FFA15A",
           "#19d3f3",
           "#FF6692",
           "#B6E880",
           "#FF97FF",
           "#FECB52"
          ],
          "font": {
           "color": "#2a3f5f"
          },
          "geo": {
           "bgcolor": "white",
           "lakecolor": "white",
           "landcolor": "#E5ECF6",
           "showlakes": true,
           "showland": true,
           "subunitcolor": "white"
          },
          "hoverlabel": {
           "align": "left"
          },
          "hovermode": "closest",
          "mapbox": {
           "style": "light"
          },
          "paper_bgcolor": "white",
          "plot_bgcolor": "#E5ECF6",
          "polar": {
           "angularaxis": {
            "gridcolor": "white",
            "linecolor": "white",
            "ticks": ""
           },
           "bgcolor": "#E5ECF6",
           "radialaxis": {
            "gridcolor": "white",
            "linecolor": "white",
            "ticks": ""
           }
          },
          "scene": {
           "xaxis": {
            "backgroundcolor": "#E5ECF6",
            "gridcolor": "white",
            "gridwidth": 2,
            "linecolor": "white",
            "showbackground": true,
            "ticks": "",
            "zerolinecolor": "white"
           },
           "yaxis": {
            "backgroundcolor": "#E5ECF6",
            "gridcolor": "white",
            "gridwidth": 2,
            "linecolor": "white",
            "showbackground": true,
            "ticks": "",
            "zerolinecolor": "white"
           },
           "zaxis": {
            "backgroundcolor": "#E5ECF6",
            "gridcolor": "white",
            "gridwidth": 2,
            "linecolor": "white",
            "showbackground": true,
            "ticks": "",
            "zerolinecolor": "white"
           }
          },
          "shapedefaults": {
           "line": {
            "color": "#2a3f5f"
           }
          },
          "ternary": {
           "aaxis": {
            "gridcolor": "white",
            "linecolor": "white",
            "ticks": ""
           },
           "baxis": {
            "gridcolor": "white",
            "linecolor": "white",
            "ticks": ""
           },
           "bgcolor": "#E5ECF6",
           "caxis": {
            "gridcolor": "white",
            "linecolor": "white",
            "ticks": ""
           }
          },
          "title": {
           "x": 0.05
          },
          "xaxis": {
           "automargin": true,
           "gridcolor": "white",
           "linecolor": "white",
           "ticks": "",
           "title": {
            "standoff": 15
           },
           "zerolinecolor": "white",
           "zerolinewidth": 2
          },
          "yaxis": {
           "automargin": true,
           "gridcolor": "white",
           "linecolor": "white",
           "ticks": "",
           "title": {
            "standoff": 15
           },
           "zerolinecolor": "white",
           "zerolinewidth": 2
          }
         }
        },
        "title": {
         "font": {
          "size": 24
         },
         "text": "ruzasvir",
         "x": 0.5,
         "y": 0.98
        },
        "width": 700,
        "xaxis": {
         "tickfont": {
          "size": 16
         },
         "title": {
          "font": {
           "size": 20
          },
          "standoff": 0,
          "text": "Residues"
         }
        },
        "yaxis": {
         "tickfont": {
          "size": 16
         },
         "title": {
          "font": {
           "size": 20
          },
          "standoff": 0,
          "text": "Electrostatic + VdW energy (kcal/mol)"
         }
        }
       }
      },
      "image/png": "[encoded data removed]",
      "text/html": [
       "<div>            <script src=\"https://cdnjs.cloudflare.com/ajax/libs/mathjax/2.7.5/MathJax.js?config=TeX-AMS-MML_SVG\"></script><script type=\"text/javascript\">if (window.MathJax && window.MathJax.Hub && window.MathJax.Hub.Config) {window.MathJax.Hub.Config({SVG: {font: \"STIX-Web\"}});}</script>                <script type=\"text/javascript\">window.PlotlyConfig = {MathJaxConfig: 'local'};</script>\n",
       "        <script charset=\"utf-8\" src=\"https://cdn.plot.ly/plotly-3.0.1.min.js\"></script>                <div id=\"60b4e458-5e19-48d7-b223-25ca070b7731\" class=\"plotly-graph-div\" style=\"height:500px; width:700px;\"></div>            <script type=\"text/javascript\">                window.PLOTLYENV=window.PLOTLYENV || {};                                if (document.getElementById(\"60b4e458-5e19-48d7-b223-25ca070b7731\")) {                    Plotly.newPlot(                        \"60b4e458-5e19-48d7-b223-25ca070b7731\",                        [{\"hovertemplate\":\"Residue %{x} (%{text}): %{y:.4f}\",\"name\":\"ruzasvir\",\"text\":[\"ACE\",\"SER\",\"THR\",\"ILE\",\"GLU\",\"GLU\",\"GLN\",\"ALA\",\"LYS\",\"THR\",\"PHE\",\"LEU\",\"ASP\",\"LYS\",\"PHE\",\"ASN\",\"HID\",\"GLU\",\"ALA\",\"GLU\",\"ASP\",\"LEU\",\"PHE\",\"TYR\",\"GLN\",\"SER\",\"SER\",\"LEU\",\"ALA\",\"SER\",\"TRP\",\"ASN\",\"TYR\",\"ASN\",\"THR\",\"ASN\",\"ILE\",\"THR\",\"GLU\",\"GLU\",\"ASN\",\"VAL\",\"GLN\",\"ASN\",\"MET\",\"ASN\",\"ASN\",\"ALA\",\"GLY\",\"ASP\",\"LYS\",\"TRP\",\"SER\",\"ALA\",\"PHE\",\"LEU\",\"LYS\",\"GLU\",\"GLN\",\"SER\",\"THR\",\"LEU\",\"ALA\",\"GLN\",\"MET\",\"TYR\",\"PRO\",\"LEU\",\"GLN\",\"GLU\",\"ILE\",\"GLN\",\"NAG\",\"LEU\",\"THR\",\"VAL\",\"LYS\",\"LEU\",\"GLN\",\"LEU\",\"GLN\",\"ALA\",\"LEU\",\"GLN\",\"GLN\",\"NAG\",\"GLY\",\"SER\",\"SER\",\"VAL\",\"LEU\",\"SER\",\"GLU\",\"ASP\",\"LYS\",\"SER\",\"LYS\",\"ARG\",\"LEU\",\"ASN\",\"THR\",\"ILE\",\"LEU\",\"ASN\",\"THR\",\"MET\",\"SER\",\"THR\",\"ILE\",\"TYR\",\"SER\",\"THR\",\"GLY\",\"LYS\",\"VAL\",\"CYX\",\"ASN\",\"PRO\",\"ASP\",\"ASN\",\"PRO\",\"GLN\",\"GLU\",\"CYX\",\"LEU\",\"LEU\",\"LEU\",\"GLU\",\"PRO\",\"GLY\",\"LEU\",\"ASN\",\"GLU\",\"ILE\",\"MET\",\"ALA\",\"ASN\",\"SER\",\"LEU\",\"ASP\",\"TYR\",\"ASN\",\"GLU\",\"ARG\",\"LEU\",\"TRP\",\"ALA\",\"TRP\",\"GLU\",\"SER\",\"TRP\",\"ARG\",\"SER\",\"GLU\",\"VAL\",\"GLY\",\"LYS\",\"GLN\",\"LEU\",\"ARG\",\"PRO\",\"LEU\",\"TYR\",\"GLU\",\"GLU\",\"TYR\",\"VAL\",\"VAL\",\"LEU\",\"LYS\",\"ASN\",\"GLU\",\"MET\",\"ALA\",\"ARG\",\"ALA\",\"ASN\",\"HID\",\"TYR\",\"GLU\",\"ASP\",\"TYR\",\"GLY\",\"ASP\",\"TYR\",\"TRP\",\"ARG\",\"GLY\",\"ASP\",\"TYR\",\"GLU\",\"VAL\",\"ASN\",\"GLY\",\"VAL\",\"ASP\",\"GLY\",\"TYR\",\"ASP\",\"TYR\",\"SER\",\"ARG\",\"GLY\",\"GLN\",\"LEU\",\"ILE\",\"GLU\",\"ASP\",\"VAL\",\"GLU\",\"HID\",\"THR\",\"PHE\",\"GLU\",\"GLU\",\"ILE\",\"LYS\",\"PRO\",\"LEU\",\"TYR\",\"GLU\",\"HID\",\"LEU\",\"HID\",\"ALA\",\"TYR\",\"VAL\",\"ARG\",\"ALA\",\"LYS\",\"LEU\",\"MET\",\"ASN\",\"ALA\",\"TYR\",\"PRO\",\"SER\",\"TYR\",\"ILE\",\"SER\",\"PRO\",\"ILE\",\"GLY\",\"CYS\",\"LEU\",\"PRO\",\"ALA\",\"HID\",\"LEU\",\"LEU\",\"GLY\",\"ASP\",\"MET\",\"TRP\",\"GLY\",\"ARG\",\"PHE\",\"TRP\",\"THR\",\"ASN\",\"LEU\",\"TYR\",\"SER\",\"LEU\",\"THR\",\"VAL\",\"PRO\",\"PHE\",\"GLY\",\"GLN\",\"LYS\",\"PRO\",\"ASN\",\"ILE\",\"ASP\",\"VAL\",\"THR\",\"ASP\",\"ALA\",\"MET\",\"VAL\",\"ASP\",\"GLN\",\"ALA\",\"TRP\",\"ASP\",\"ALA\",\"GLN\",\"ARG\",\"ILE\",\"PHE\",\"LYS\",\"GLU\",\"ALA\",\"GLU\",\"LYS\",\"PHE\",\"PHE\",\"VAL\",\"SER\",\"VAL\",\"GLY\",\"LEU\",\"PRO\",\"NAG\",\"MET\",\"THR\",\"GLN\",\"GLY\",\"PHE\",\"TRP\",\"GLU\",\"ASN\",\"SER\",\"MET\",\"LEU\",\"THR\",\"ASP\",\"PRO\",\"GLY\",\"ASN\",\"VAL\",\"GLN\",\"LYS\",\"ALA\",\"VAL\",\"CYX\",\"HID\",\"PRO\",\"THR\",\"ALA\",\"TRP\",\"ASP\",\"LEU\",\"GLY\",\"LYS\",\"GLY\",\"ASP\",\"PHE\",\"ARG\",\"ILE\",\"LEU\",\"MET\",\"CYX\",\"THR\",\"LYS\",\"VAL\",\"THR\",\"MET\",\"ASP\",\"ASP\",\"PHE\",\"LEU\",\"THR\",\"ALA\",\"HID\",\"HID\",\"GLU\",\"MET\",\"GLY\",\"HID\",\"ILE\",\"GLN\",\"TYR\",\"ASP\",\"MET\",\"ALA\",\"TYR\",\"ALA\",\"ALA\",\"GLN\",\"PRO\",\"PHE\",\"LEU\",\"LEU\",\"ARG\",\"ASN\",\"GLY\",\"ALA\",\"ASN\",\"GLU\",\"GLY\",\"PHE\",\"HID\",\"GLU\",\"ALA\",\"VAL\",\"GLY\",\"GLU\",\"ILE\",\"MET\",\"SER\",\"LEU\",\"SER\",\"ALA\",\"ALA\",\"THR\",\"PRO\",\"LYS\",\"HID\",\"LEU\",\"LYS\",\"SER\",\"ILE\",\"GLY\",\"LEU\",\"LEU\",\"SER\",\"PRO\",\"ASP\",\"PHE\",\"GLN\",\"GLU\",\"ASP\",\"NAG\",\"GLU\",\"THR\",\"GLU\",\"ILE\",\"ASN\",\"PHE\",\"LEU\",\"LEU\",\"LYS\",\"GLN\",\"ALA\",\"LEU\",\"THR\",\"ILE\",\"VAL\",\"GLY\",\"THR\",\"LEU\",\"PRO\",\"PHE\",\"THR\",\"TYR\",\"MET\",\"LEU\",\"GLU\",\"LYS\",\"TRP\",\"ARG\",\"TRP\",\"MET\",\"VAL\",\"PHE\",\"LYS\",\"GLY\",\"GLU\",\"ILE\",\"PRO\",\"LYS\",\"ASP\",\"GLN\",\"TRP\",\"MET\",\"LYS\",\"LYS\",\"TRP\",\"TRP\",\"GLU\",\"MET\",\"LYS\",\"ARG\",\"GLU\",\"ILE\",\"VAL\",\"GLY\",\"VAL\",\"VAL\",\"GLU\",\"PRO\",\"VAL\",\"PRO\",\"HID\",\"ASP\",\"GLU\",\"THR\",\"TYR\",\"CYS\",\"ASP\",\"PRO\",\"ALA\",\"SER\",\"LEU\",\"PHE\",\"HID\",\"VAL\",\"SER\",\"ASN\",\"ASP\",\"TYR\",\"SER\",\"PHE\",\"ILE\",\"ARG\",\"TYR\",\"TYR\",\"THR\",\"ARG\",\"THR\",\"LEU\",\"TYR\",\"GLN\",\"PHE\",\"GLN\",\"PHE\",\"GLN\",\"GLU\",\"ALA\",\"LEU\",\"CYX\",\"GLN\",\"ALA\",\"ALA\",\"LYS\",\"HID\",\"GLU\",\"GLY\",\"PRO\",\"LEU\",\"HID\",\"LYS\",\"CYX\",\"ASP\",\"ILE\",\"SER\",\"NAG\",\"SER\",\"THR\",\"GLU\",\"ALA\",\"GLY\",\"GLN\",\"LYS\",\"LEU\",\"PHE\",\"ASN\",\"MET\",\"LEU\",\"ARG\",\"LEU\",\"GLY\",\"LYS\",\"SER\",\"GLU\",\"PRO\",\"TRP\",\"THR\",\"LEU\",\"ALA\",\"LEU\",\"GLU\",\"ASN\",\"VAL\",\"VAL\",\"GLY\",\"ALA\",\"LYS\",\"ASN\",\"MET\",\"ASN\",\"VAL\",\"ARG\",\"PRO\",\"LEU\",\"LEU\",\"ASN\",\"TYR\",\"PHE\",\"GLU\",\"PRO\",\"LEU\",\"PHE\",\"THR\",\"TRP\",\"LEU\",\"LYS\",\"ASP\",\"GLN\",\"ASN\",\"LYS\",\"ASN\",\"SER\",\"PHE\",\"VAL\",\"GLY\",\"TRP\",\"SER\",\"THR\",\"ASP\",\"TRP\",\"SER\",\"PRO\",\"TYR\",\"ALA\",\"NMA\"],\"x\":[19,20,21,22,23,24,25,26,27,28,29,30,31,32,33,34,35,36,37,38,39,40,41,42,43,44,45,46,47,48,49,50,51,52,53,54,55,56,57,58,59,60,61,62,63,64,65,66,67,68,69,70,71,72,73,74,75,76,77,78,79,80,81,82,83,84,85,86,87,88,89,90,91,92,93,94,95,96,97,98,99,100,101,102,103,104,105,106,107,108,109,110,111,112,113,114,115,116,117,118,119,120,121,122,123,124,125,126,127,128,129,130,131,132,133,134,135,136,137,138,139,140,141,142,143,144,145,146,147,148,149,150,151,152,153,154,155,156,157,158,159,160,161,162,163,164,165,166,167,168,169,170,171,172,173,174,175,176,177,178,179,180,181,182,183,184,185,186,187,188,189,190,191,192,193,194,195,196,197,198,199,200,201,202,203,204,205,206,207,208,209,210,211,212,213,214,215,216,217,218,219,220,221,222,223,224,225,226,227,228,229,230,231,232,233,234,235,236,237,238,239,240,241,242,243,244,245,246,247,248,249,250,251,252,253,254,255,256,257,258,259,260,261,262,263,264,265,266,267,268,269,270,271,272,273,274,275,276,277,278,279,280,281,282,283,284,285,286,287,288,289,290,291,292,293,294,295,296,297,298,299,300,301,302,303,304,305,306,307,308,309,310,311,312,313,314,315,316,317,318,319,320,321,322,323,324,325,326,327,328,329,330,331,332,333,334,335,336,337,338,339,340,341,342,343,344,345,346,347,348,349,350,351,352,353,354,355,356,357,358,359,360,361,362,363,364,365,366,367,368,369,370,371,372,373,374,375,376,377,378,379,380,381,382,383,384,385,386,387,388,389,390,391,392,393,394,395,396,397,398,399,400,401,402,403,404,405,406,407,408,409,410,411,412,413,414,415,416,417,418,419,420,421,422,423,424,425,426,427,428,429,430,431,432,433,434,435,436,437,438,439,440,441,442,443,444,445,446,447,448,449,450,451,452,453,454,455,456,457,458,459,460,461,462,463,464,465,466,467,468,469,470,471,472,473,474,475,476,477,478,479,480,481,482,483,484,485,486,487,488,489,490,491,492,493,494,495,496,497,498,499,500,501,502,503,504,505,506,507,508,509,510,511,512,513,514,515,516,517,518,519,520,521,522,523,524,525,526,527,528,529,530,531,532,533,534,535,536,537,538,539,540,541,542,543,544,545,546,547,548,549,550,551,552,553,554,555,556,557,558,559,560,561,562,563,564,565,566,567,568,569,570,571,572,573,574,575,576,577,578,579,580,581,582,583,584,585,586,587,588,589,590,591,592,593,594,595,596,597,598,599,600,601,602,603,604,605,606,607,608,609,610,611,612,613,614],\"y\":[-0.026285515151515136,-0.3622134848484847,0.007064606060606064,-0.6447931989898987,-0.3706023737373739,-0.2818865474747474,-0.2656146666666666,-0.4686859191919192,-0.6518907505050504,-0.23758539393939387,-0.7399935757575755,-0.8563406818181821,-0.3388787282828282,-0.7956884979797981,-0.6991650505050507,-0.6549698989898992,-0.6103356161616164,-0.832660101010101,-0.34742046464646464,-0.5275516161616163,-0.4628936868686868,-1.281740680808081,-1.9007281424242415,-0.7864389959595958,-0.6415643232323233,-1.6729121808080816,-0.9948283939393939,-0.5570887474747477,-0.15551429654545454,-0.8145545808080812,-0.6340885656565655,-0.3842660808080807,-1.2432396864949495,-0.17607408209090908,-0.26703935858585864,-0.05994569393939395,-0.6171351010101009,-0.34580725858585853,-0.3721738585858588,-0.3634019595959595,-0.445520585858586,-1.197202617949495,-0.5934327565656569,-0.4321495787878787,-2.7655035363636364,-1.7988414898989893,-0.7745313777777777,-0.48924929292929303,-1.4793040505050508,-0.47651474747474737,-0.6142851111111111,-3.9553380707070724,-0.5201084747474747,-1.0033025252525256,-1.006104444444445,-3.236547695959595,-0.9777800282828283,-0.5353524242424244,-0.6498671828282827,-0.5997954444444442,-0.2982407474747476,-0.6278682424242426,-0.10480967676767675,-0.8636388080808084,-0.39574997979797993,-0.589414767676768,-0.4588076262626262,-0.28215109090909096,-0.5406905252525251,-0.32657105050505036,-0.4804401969696968,-0.3268692525252526,-1.1838695606060607,-0.7455607131313131,-0.4987523939393941,-0.4456297373737372,-0.6634022606060604,-0.8403422181818181,-1.0456698212121214,-0.6154366636363636,-0.9985945333333334,-2.1873873828282817,-1.7702070858585854,-0.8102055050505049,-2.4747393868686864,-2.735760184949495,-1.437571286868687,-2.6290514949494943,-0.8548255757575759,-2.18647344919192,-0.5329342868686868,-0.5524468989898986,-0.3933607111111111,-0.368188303030303,-0.7419256565656567,-0.4119655555555556,-0.9536405191919192,-0.5019431474747474,-1.3696549545454546,-1.9723955464646463,-0.5230326686868686,-0.6225238292929294,-1.9337257434343447,-0.7544411252525254,-0.33754489898989903,-0.5161155555555555,-0.14965651515151518,-0.36388292929292937,-0.3060484202020202,-0.3519331111111111,-0.1243569393939393,-0.10775214646464648,-0.14596103535353536,-0.3098545434343435,-0.20864224242424237,-0.10326269696969692,-0.18440231737373747,-0.11290360818181816,-0.15528048484848486,-0.15898830404040404,-0.09147698383838379,-0.18410965787878786,-0.1883764545454545,-0.05212042727272727,-0.24743842424242418,-0.17536290505050509,-0.24463213333333325,-0.210305,-0.1926811313131313,-0.04184877777777777,-0.2864096787878789,-0.23538229292929297,-0.1694842446464646,-0.2258870818181818,-0.2842632525252524,-0.09628626262626264,-0.18344115161616162,-0.07926480808080812,-0.22556920404040404,-0.09384130707070706,-0.20191731212121214,-0.10505474646464645,-0.10935898989898991,-0.39536983838383827,-0.1392372494949495,-0.3236227616161616,-0.08563379191919192,-0.3306172222222223,-0.22610967727272735,-0.08801558484848483,-0.32921484141414137,-0.23766225353535353,-0.12071808686868683,-0.2321530101010101,-0.19242987878787873,-0.08852589898989896,-0.3278329545454544,-0.2685495020202018,-0.3120517707070708,-0.3920885313131313,-0.20839942424242425,-0.5451456464646464,-0.28570197979798,-0.42479981616161616,-0.40415548080808095,-0.5948880747474747,-0.2110267676767677,-0.3507468888888889,-0.39318206363636354,-0.982742304242424,-0.2576642626262625,-0.3891570414141415,-1.322156022121212,-0.29093516161616145,-0.4463238393939396,-0.3371461717171717,-0.45908527272727273,-0.6019547333333334,-0.9592928808080806,-0.3630126868686872,-0.1566740707070707,-0.5187152525252523,-0.12518599696969696,-0.1485352727272727,-0.8776238767676768,-0.5855054747474748,-0.6389821494949498,-0.4578656838383838,-0.6647911979797981,-0.39159631010101004,-0.5119648333333333,-0.6224943131313131,-0.6818405453535353,0.06690824242424241,-0.6160374464646465,-0.290126686868687,0.004284929292929293,-0.4965695656565655,-0.25182017171717175,-0.372629603030303,-0.28608610101010107,-0.38272819898989907,-0.24443661616161613,-0.2754896060606061,-0.39407614141414155,-0.24546391919191912,-0.31950503030303024,-0.24464677474747473,-0.16694739898989908,-0.25119407070707067,-0.32219992929292934,-0.3252103333333334,-0.262835292929293,-0.1667684141414142,-0.3408059797979799,-0.23433730303030295,-0.281634698989899,-0.13504956565656565,-0.19502368686868693,-0.2853587616161617,-0.09437142929292928,-0.23178214737373742,-0.09186150808080809,-0.2799385212121212,-0.1426549393939394,-0.21469878474747472,-0.13239721010101005,-0.17958933131313132,-0.14741940404040407,-0.11512535656565659,-0.24981150606060606,-0.11040471818181818,-0.12946808888888894,-0.09882454040404044,-0.13945264646464647,-0.10544594949494947,-0.1470911919191919,-0.1606810618181818,-0.18328909191919188,-0.09444530303030306,-0.1468300202020202,-0.16920983535353537,-0.0342026808080808,-0.09931767676767676,-0.23480249494949493,-0.13528496676767676,-0.12428250505050507,-0.19825160404040415,-0.19943169898989896,-0.16924805050505057,-0.07963482828282831,-0.32209354545454544,-0.24210182222222223,-0.29659517878787883,-0.09958460606060604,-0.4155608652525253,-0.28411407666666666,-0.38701147272727277,-0.15906410808080804,-0.18172885858585855,-0.21168801919191918,-0.28253823232323233,-0.09875217171717174,-0.17603699696969702,-0.10795116666666667,-0.16129229292929295,-0.11261517474747477,-0.17684958585858587,-0.010901810101010101,-0.194320404040404,-0.1491092323232323,-0.22684272727272736,-0.11637151515151516,-0.2376363272727272,-0.12463509292929294,-0.17560249898989894,-0.23854541414141409,-0.0696800515151515,-0.07609895646464644,-0.31404838383838374,-0.17009011717171715,-0.08679026464646465,-0.17918637171717172,-0.09155590909090906,-0.18232912121212116,-0.3754601818181819,-0.05859105050505052,-0.2433983636363637,-0.32813169393939384,-0.20587168393939387,-0.3852937555555555,-0.41811591717171714,-0.24207703333333327,-0.14479939393939395,-0.18561003838383838,-0.24473625252525247,-0.3077895555555556,-0.19588240808080803,-0.4255192020202018,-0.21536892929292922,-0.24503866262626267,-0.07099868686868688,-0.3482338161616162,-0.37498810101010105,-0.5180868919191918,0.11838925252525255,0.3158273292929295,0.14094842424242424,0.04449925252525251,0.421870595959596,0.4522042353535352,0.1895027474747475,0.3542904040404041,0.3147641010101011,0.2685177676767677,0.17152803030303035,0.20683915151515153,0.2682522929292929,0.2740729696969698,0.0696351313131313,0.22016693939393933,0.3635775252525253,0.3845836353535354,0.410579212121212,0.15802237373737374,0.2699756161616162,0.10520356565656568,0.4252708686868687,0.45717535353535355,0.2286259898989898,0.311462622979798,0.05729435734343438,0.2651931858585858,0.6111550715151514,0.07255203030303033,0.7504105616161617,0.18115616161616163,0.3777519292929293,0.4473297171717172,0.5097316767676767,0.18731001010101012,0.359048985858586,0.266296101010101,0.21472233333333338,0.14033496969696974,0.3098836666666666,0.20473162626262623,0.19788465656565665,0.35482091919191927,0.11547333333333333,0.17015812121212115,0.17304385858585866,0.3794883131313131,0.42594076767676753,0.1741897878787879,0.38149143838383825,0.16952792929292934,0.38190976565656565,0.3633565252525253,0.16400803030303032,0.32232778181818195,0.617149406060606,0.36247854545454555,0.643437616161616,0.4183335252525252,0.3612849595959598,0.22607874747474752,0.5680757272727274,0.2616887474747475,0.09541105050505055,0.5019919696969697,0.5691210909090908,0.7030418518181819,1.47126557070707,1.0013778535353537,1.650407272727273,0.30910650303030307,0.4008647171717171,0.3991200594949495,0.42804166666666654,0.42822227272727287,0.4509672727272725,0.4105383232323236,0.6245149090909091,0.32063746464646453,0.15507869696969698,0.5081895555555557,0.08075369696969699,0.2804099797979797,0.297187505050505,0.2283920505050504,0.14086712121212128,0.3996068080808084,0.053122191919191895,0.1292593838383838,0.26055293939393936,0.2368941717171717,0.22703188888888887,0.2336952828282828,0.22795102020202015,0.40160490909090907,0.21971546464646458,0.09362374747474746,0.24675117171717165,0.07519660606060605,0.30473143434343436,0.3329995858585859,0.14110616161616163,0.08454965656565654,0.04578220202020202,0.141048501010101,0.16838866161616164,0.1093285656565657,0.05049894949494949,0.3640474282828283,0.13239070707070708,0.10046814141414144,0.18404044444444448,0.19262246464646465,0.24845580808080805,0.2631701676767677,0.22617613131313138,0.19374213131313128,0.26624139393939394,0.15989261616161615,0.10396292929292936,0.16929402020202017,0.1743041212121212,0.21294415151515148,0.18042019191919187,0.07381119191919193,0.25827986868686853,0.47350590909090917,0.21664130707070703,0.3853408080808082,0.3205712323232325,0.28008387676767676,0.14806453535353534,0.38428249494949485,0.26056207070707077,0.33492913131313123,0.35754623131313135,0.36597762626262637,0.5721840404040407,0.29792936363636374,0.4180214848484849,0.3422103232323233,0.4008365151515152,0.0547178585858586,0.2793880808080808,0.2759309292929292,0.19905435353535342,0.2294976666666667,0.12387260606060603,0.28946191010100997,0.3578595353535353,0.31561741414141414,0.25791900707070703,0.2773943333333334,0.31965943434343413,0.3424737272727273,0.14005213737373737,0.2943004545454546,0.25795689898989904,0.2882692171717173,0.31583208080808073,0.16394077777777785,0.16469022222222218,0.09616403535353536,0.22275583030303026,0.17001308080808075,0.125401797979798,0.11758828282828279,0.17156557676767684,0.1822348282828283,0.1387607272727273,0.15922173737373738,0.1332924747474748,0.24956284848484842,0.2354374444444445,0.19872361616161624,0.1794737777777778,0.2004109292929293,0.10888141414141417,0.13869028282828283,0.5777436262626267,0.38894647474747496,0.32832642424242425,0.18348134636363633,-0.27263017050505045,-0.2335984993232323,-0.48282763181818217,0.44953394535353547,0.20006307878787874,0.25221487878787874,0.5061731818181819,0.6433516213131313,0.24100314141414134,0.31270911111111094,0.22024226262626265,0.3987983030303028,0.17129463838383838,0.32981530303030293,0.3905105151515152,0.18536174747474757,0.4438432626262627,0.26959365252525247,0.2549107676767676,0.22931952727272725,0.13025743434343437,0.14306211212121217,0.33885713131313144,0.10522303030303036,0.1370188888888889,0.25413120202020195,0.11478286868686867,0.42642561616161606,0.15800678787878789,0.16052818787878792,0.1383530101010101,0.05543834343434342,0.15662091919191917,0.27490777777777775,0.22403045353535347,0.19325710101010107,0.19315464646464645,0.3813019999999998,0.05426442424242426,0.5845097020202018,0.0911426464646465,0.16121239393939396,0.1423949090909091,0.0701711515151515,0.06139861616161616,0.22014973737373736,0.3157774474747474,0.3386237979797979,0.39677408080808085,0.2825356868686868,0.4042324848484848,0.643567494949495,0.5302764343434343,0.7884327272727271,0.34984609090909097,1.2251569046464645,0.6577832222222222,0.3380643434343435,0.5978354444444446,0.7264498383838385,0.32167622222222203,0.34783415151515173,0.3438849797979798,0.3280110404040404,0.3223637070707071,0.18300512121212126,0.315420282828283,0.3275194343434343,0.0636449898989899,0.1042008484848485,0.46798329090909085,0.2798150101010103,0.37076612121212094,0.18170628282828286,0.28214708080808076,0.3839285959595958,0.2174442525252525,0.3379578686868685,0.14734746464646464,0.22870568282828282,0.2018369393939394,0.2547143838383838,0.13923106060606064,0.11284853737373735,0.299623909090909,0.25470936363636365,0.2125894646464647,0.17447431313131315,0.2918303636363636,0.1383890808080808,0.08578989898989897,0.1840722636363636,0.13633791919191923,0.20019975656565656,0.20105542424242429,0.13406682626262628,0.26760228282828286,0.1419234343434343,0.10335901010101005,0.343405903030303,0.06933458585858583,0.17621506060606065,0.16534213131313133,0.37687574747474756,0.13639370707070705,0.18709685858585856,0.28422719191919193,0.15446979797979796,0.05354715151515151,0.012171414141414143],\"type\":\"scatter\"}],                        {\"height\":500,\"margin\":{\"b\":5,\"l\":5,\"r\":5,\"t\":32},\"title\":{\"font\":{\"size\":24},\"text\":\"ruzasvir\",\"x\":0.5,\"y\":0.98},\"width\":700,\"xaxis\":{\"tickfont\":{\"size\":16},\"title\":{\"font\":{\"size\":20},\"standoff\":0,\"text\":\"Residues\"}},\"yaxis\":{\"tickfont\":{\"size\":16},\"title\":{\"font\":{\"size\":20},\"standoff\":0,\"text\":\"Electrostatic + VdW energy (kcal\\u002fmol)\"}},\"template\":{\"data\":{\"histogram2dcontour\":[{\"type\":\"histogram2dcontour\",\"colorbar\":{\"outlinewidth\":0,\"ticks\":\"\"},\"colorscale\":[[0.0,\"#0d0887\"],[0.1111111111111111,\"#46039f\"],[0.2222222222222222,\"#7201a8\"],[0.3333333333333333,\"#9c179e\"],[0.4444444444444444,\"#bd3786\"],[0.5555555555555556,\"#d8576b\"],[0.6666666666666666,\"#ed7953\"],[0.7777777777777778,\"#fb9f3a\"],[0.8888888888888888,\"#fdca26\"],[1.0,\"#f0f921\"]]}],\"choropleth\":[{\"type\":\"choropleth\",\"colorbar\":{\"outlinewidth\":0,\"ticks\":\"\"}}],\"histogram2d\":[{\"type\":\"histogram2d\",\"colorbar\":{\"outlinewidth\":0,\"ticks\":\"\"},\"colorscale\":[[0.0,\"#0d0887\"],[0.1111111111111111,\"#46039f\"],[0.2222222222222222,\"#7201a8\"],[0.3333333333333333,\"#9c179e\"],[0.4444444444444444,\"#bd3786\"],[0.5555555555555556,\"#d8576b\"],[0.6666666666666666,\"#ed7953\"],[0.7777777777777778,\"#fb9f3a\"],[0.8888888888888888,\"#fdca26\"],[1.0,\"#f0f921\"]]}],\"heatmap\":[{\"type\":\"heatmap\",\"colorbar\":{\"outlinewidth\":0,\"ticks\":\"\"},\"colorscale\":[[0.0,\"#0d0887\"],[0.1111111111111111,\"#46039f\"],[0.2222222222222222,\"#7201a8\"],[0.3333333333333333,\"#9c179e\"],[0.4444444444444444,\"#bd3786\"],[0.5555555555555556,\"#d8576b\"],[0.6666666666666666,\"#ed7953\"],[0.7777777777777778,\"#fb9f3a\"],[0.8888888888888888,\"#fdca26\"],[1.0,\"#f0f921\"]]}],\"contourcarpet\":[{\"type\":\"contourcarpet\",\"colorbar\":{\"outlinewidth\":0,\"ticks\":\"\"}}],\"contour\":[{\"type\":\"contour\",\"colorbar\":{\"outlinewidth\":0,\"ticks\":\"\"},\"colorscale\":[[0.0,\"#0d0887\"],[0.1111111111111111,\"#46039f\"],[0.2222222222222222,\"#7201a8\"],[0.3333333333333333,\"#9c179e\"],[0.4444444444444444,\"#bd3786\"],[0.5555555555555556,\"#d8576b\"],[0.6666666666666666,\"#ed7953\"],[0.7777777777777778,\"#fb9f3a\"],[0.8888888888888888,\"#fdca26\"],[1.0,\"#f0f921\"]]}],\"surface\":[{\"type\":\"surface\",\"colorbar\":{\"outlinewidth\":0,\"ticks\":\"\"},\"colorscale\":[[0.0,\"#0d0887\"],[0.1111111111111111,\"#46039f\"],[0.2222222222222222,\"#7201a8\"],[0.3333333333333333,\"#9c179e\"],[0.4444444444444444,\"#bd3786\"],[0.5555555555555556,\"#d8576b\"],[0.6666666666666666,\"#ed7953\"],[0.7777777777777778,\"#fb9f3a\"],[0.8888888888888888,\"#fdca26\"],[1.0,\"#f0f921\"]]}],\"mesh3d\":[{\"type\":\"mesh3d\",\"colorbar\":{\"outlinewidth\":0,\"ticks\":\"\"}}],\"scatter\":[{\"fillpattern\":{\"fillmode\":\"overlay\",\"size\":10,\"solidity\":0.2},\"type\":\"scatter\"}],\"parcoords\":[{\"type\":\"parcoords\",\"line\":{\"colorbar\":{\"outlinewidth\":0,\"ticks\":\"\"}}}],\"scatterpolargl\":[{\"type\":\"scatterpolargl\",\"marker\":{\"colorbar\":{\"outlinewidth\":0,\"ticks\":\"\"}}}],\"bar\":[{\"error_x\":{\"color\":\"#2a3f5f\"},\"error_y\":{\"color\":\"#2a3f5f\"},\"marker\":{\"line\":{\"color\":\"#E5ECF6\",\"width\":0.5},\"pattern\":{\"fillmode\":\"overlay\",\"size\":10,\"solidity\":0.2}},\"type\":\"bar\"}],\"scattergeo\":[{\"type\":\"scattergeo\",\"marker\":{\"colorbar\":{\"outlinewidth\":0,\"ticks\":\"\"}}}],\"scatterpolar\":[{\"type\":\"scatterpolar\",\"marker\":{\"colorbar\":{\"outlinewidth\":0,\"ticks\":\"\"}}}],\"histogram\":[{\"marker\":{\"pattern\":{\"fillmode\":\"overlay\",\"size\":10,\"solidity\":0.2}},\"type\":\"histogram\"}],\"scattergl\":[{\"type\":\"scattergl\",\"marker\":{\"colorbar\":{\"outlinewidth\":0,\"ticks\":\"\"}}}],\"scatter3d\":[{\"type\":\"scatter3d\",\"line\":{\"colorbar\":{\"outlinewidth\":0,\"ticks\":\"\"}},\"marker\":{\"colorbar\":{\"outlinewidth\":0,\"ticks\":\"\"}}}],\"scattermap\":[{\"type\":\"scattermap\",\"marker\":{\"colorbar\":{\"outlinewidth\":0,\"ticks\":\"\"}}}],\"scattermapbox\":[{\"type\":\"scattermapbox\",\"marker\":{\"colorbar\":{\"outlinewidth\":0,\"ticks\":\"\"}}}],\"scatterternary\":[{\"type\":\"scatterternary\",\"marker\":{\"colorbar\":{\"outlinewidth\":0,\"ticks\":\"\"}}}],\"scattercarpet\":[{\"type\":\"scattercarpet\",\"marker\":{\"colorbar\":{\"outlinewidth\":0,\"ticks\":\"\"}}}],\"carpet\":[{\"aaxis\":{\"endlinecolor\":\"#2a3f5f\",\"gridcolor\":\"white\",\"linecolor\":\"white\",\"minorgridcolor\":\"white\",\"startlinecolor\":\"#2a3f5f\"},\"baxis\":{\"endlinecolor\":\"#2a3f5f\",\"gridcolor\":\"white\",\"linecolor\":\"white\",\"minorgridcolor\":\"white\",\"startlinecolor\":\"#2a3f5f\"},\"type\":\"carpet\"}],\"table\":[{\"cells\":{\"fill\":{\"color\":\"#EBF0F8\"},\"line\":{\"color\":\"white\"}},\"header\":{\"fill\":{\"color\":\"#C8D4E3\"},\"line\":{\"color\":\"white\"}},\"type\":\"table\"}],\"barpolar\":[{\"marker\":{\"line\":{\"color\":\"#E5ECF6\",\"width\":0.5},\"pattern\":{\"fillmode\":\"overlay\",\"size\":10,\"solidity\":0.2}},\"type\":\"barpolar\"}],\"pie\":[{\"automargin\":true,\"type\":\"pie\"}]},\"layout\":{\"autotypenumbers\":\"strict\",\"colorway\":[\"#636efa\",\"#EF553B\",\"#00cc96\",\"#ab63fa\",\"#FFA15A\",\"#19d3f3\",\"#FF6692\",\"#B6E880\",\"#FF97FF\",\"#FECB52\"],\"font\":{\"color\":\"#2a3f5f\"},\"hovermode\":\"closest\",\"hoverlabel\":{\"align\":\"left\"},\"paper_bgcolor\":\"white\",\"plot_bgcolor\":\"#E5ECF6\",\"polar\":{\"bgcolor\":\"#E5ECF6\",\"angularaxis\":{\"gridcolor\":\"white\",\"linecolor\":\"white\",\"ticks\":\"\"},\"radialaxis\":{\"gridcolor\":\"white\",\"linecolor\":\"white\",\"ticks\":\"\"}},\"ternary\":{\"bgcolor\":\"#E5ECF6\",\"aaxis\":{\"gridcolor\":\"white\",\"linecolor\":\"white\",\"ticks\":\"\"},\"baxis\":{\"gridcolor\":\"white\",\"linecolor\":\"white\",\"ticks\":\"\"},\"caxis\":{\"gridcolor\":\"white\",\"linecolor\":\"white\",\"ticks\":\"\"}},\"coloraxis\":{\"colorbar\":{\"outlinewidth\":0,\"ticks\":\"\"}},\"colorscale\":{\"sequential\":[[0.0,\"#0d0887\"],[0.1111111111111111,\"#46039f\"],[0.2222222222222222,\"#7201a8\"],[0.3333333333333333,\"#9c179e\"],[0.4444444444444444,\"#bd3786\"],[0.5555555555555556,\"#d8576b\"],[0.6666666666666666,\"#ed7953\"],[0.7777777777777778,\"#fb9f3a\"],[0.8888888888888888,\"#fdca26\"],[1.0,\"#f0f921\"]],\"sequentialminus\":[[0.0,\"#0d0887\"],[0.1111111111111111,\"#46039f\"],[0.2222222222222222,\"#7201a8\"],[0.3333333333333333,\"#9c179e\"],[0.4444444444444444,\"#bd3786\"],[0.5555555555555556,\"#d8576b\"],[0.6666666666666666,\"#ed7953\"],[0.7777777777777778,\"#fb9f3a\"],[0.8888888888888888,\"#fdca26\"],[1.0,\"#f0f921\"]],\"diverging\":[[0,\"#8e0152\"],[0.1,\"#c51b7d\"],[0.2,\"#de77ae\"],[0.3,\"#f1b6da\"],[0.4,\"#fde0ef\"],[0.5,\"#f7f7f7\"],[0.6,\"#e6f5d0\"],[0.7,\"#b8e186\"],[0.8,\"#7fbc41\"],[0.9,\"#4d9221\"],[1,\"#276419\"]]},\"xaxis\":{\"gridcolor\":\"white\",\"linecolor\":\"white\",\"ticks\":\"\",\"title\":{\"standoff\":15},\"zerolinecolor\":\"white\",\"automargin\":true,\"zerolinewidth\":2},\"yaxis\":{\"gridcolor\":\"white\",\"linecolor\":\"white\",\"ticks\":\"\",\"title\":{\"standoff\":15},\"zerolinecolor\":\"white\",\"automargin\":true,\"zerolinewidth\":2},\"scene\":{\"xaxis\":{\"backgroundcolor\":\"#E5ECF6\",\"gridcolor\":\"white\",\"linecolor\":\"white\",\"showbackground\":true,\"ticks\":\"\",\"zerolinecolor\":\"white\",\"gridwidth\":2},\"yaxis\":{\"backgroundcolor\":\"#E5ECF6\",\"gridcolor\":\"white\",\"linecolor\":\"white\",\"showbackground\":true,\"ticks\":\"\",\"zerolinecolor\":\"white\",\"gridwidth\":2},\"zaxis\":{\"backgroundcolor\":\"#E5ECF6\",\"gridcolor\":\"white\",\"linecolor\":\"white\",\"showbackground\":true,\"ticks\":\"\",\"zerolinecolor\":\"white\",\"gridwidth\":2}},\"shapedefaults\":{\"line\":{\"color\":\"#2a3f5f\"}},\"annotationdefaults\":{\"arrowcolor\":\"#2a3f5f\",\"arrowhead\":0,\"arrowwidth\":1},\"geo\":{\"bgcolor\":\"white\",\"landcolor\":\"#E5ECF6\",\"subunitcolor\":\"white\",\"showland\":true,\"showlakes\":true,\"lakecolor\":\"white\"},\"title\":{\"x\":0.05},\"mapbox\":{\"style\":\"light\"}}}},                        {\"responsive\": true}                    ).then(function(){\n",
       "                            \n",
       "var gd = document.getElementById('60b4e458-5e19-48d7-b223-25ca070b7731');\n",
       "var x = new MutationObserver(function (mutations, observer) {{\n",
       "        var display = window.getComputedStyle(gd).display;\n",
       "        if (!display || display === 'none') {{\n",
       "            console.log([gd, 'removed!']);\n",
       "            Plotly.purge(gd);\n",
       "            observer.disconnect();\n",
       "        }}\n",
       "}});\n",
       "\n",
       "// Listen for the removal of the full notebook cells\n",
       "var notebookContainer = gd.closest('#notebook-container');\n",
       "if (notebookContainer) {{\n",
       "    x.observe(notebookContainer, {childList: true});\n",
       "}}\n",
       "\n",
       "// Listen for the clearing of the current output cell\n",
       "var outputEl = gd.closest('.output');\n",
       "if (outputEl) {{\n",
       "    x.observe(outputEl, {childList: true});\n",
       "}}\n",
       "\n",
       "                        })                };            </script>        </div>"
      ]
     },
     "metadata": {},
     "output_type": "display_data"
    }
   ],
   "source": [
    "strongest_ligand = list(ligand_energies_sum.keys())[-1]\n",
    "strongest_ligand_figure = ligand_figures[strongest_ligand]\n",
    "strongest_ligand_figure.show()"
   ]
  },
  {
   "cell_type": "code",
   "execution_count": null,
   "id": "4518fa4a-3229-4e62-8196-4f6c38cbe0ff",
   "metadata": {},
   "outputs": [],
   "source": []
  }
 ],
 "metadata": {
  "kernelspec": {
   "display_name": "Python 3 (ipykernel)",
   "language": "python",
   "name": "python3"
  },
  "language_info": {
   "codemirror_mode": {
    "name": "ipython",
    "version": 3
   },
   "file_extension": ".py",
   "mimetype": "text/x-python",
   "name": "python",
   "nbconvert_exporter": "python",
   "pygments_lexer": "ipython3",
   "version": "3.12.10"
  }
 },
 "nbformat": 4,
 "nbformat_minor": 5
}
