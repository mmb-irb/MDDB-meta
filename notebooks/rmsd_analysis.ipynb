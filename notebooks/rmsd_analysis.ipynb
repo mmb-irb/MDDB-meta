{
 "cells": [
  {
   "cell_type": "markdown",
   "metadata": {
    "tags": []
   },
   "source": [
    "# RMSD analysis\n",
    "***\n",
    "This tutorials shows how to reproduce RMSD analysis results from any project in the **[MDDB](https://irb.mddbr.eu) database**.\n",
    "\n",
    "Although the **examples** are presented **step by step** with associated information, it is extremely advisable to previously spend some time reading documentation about **Molecular Dynamics (MD)** and the generated **trajectories and metadata**, to get familiar with the terms used, especially for newcomers to the field. \n",
    "\n",
    "This workflow is based on the MDDB database **[REST API](https://irb.mddbr.eu/api/rest/docs/)**: \n",
    "\n",
    "***\n",
    "**Version:** 1.0 (May 2025)\n",
    "***\n",
    "**Contributors:**  Adam Hospital, Daniel Beltrán, Aurélien Luciani, Genís Bayarri, Josep Lluís Gelpí, Modesto Orozco (IRB-Barcelona, Spain)\n",
    "***\n",
    "**Contact:** [daniel.beltran@irbbarcelona.org](mailto:daniel.beltran@irbbarcelona.org)\n",
    "***\n",
    "\n",
    "#### Import required libraries"
   ]
  },
  {
   "cell_type": "code",
   "execution_count": 1,
   "metadata": {},
   "outputs": [],
   "source": [
    "import json, urllib\n",
    "from os.path import exists\n",
    "import mdtraj as mdt\n",
    "import plotly.graph_objs as go"
   ]
  },
  {
   "cell_type": "markdown",
   "metadata": {},
   "source": [
    "#### Set some constants"
   ]
  },
  {
   "cell_type": "code",
   "execution_count": 2,
   "metadata": {},
   "outputs": [],
   "source": [
    "API_BASE_URL = \"http://irb.mddbr.eu/api/rest/current\""
   ]
  },
  {
   "cell_type": "markdown",
   "metadata": {},
   "source": [
    "#### Set a couple of functions to query the REST API"
   ]
  },
  {
   "cell_type": "code",
   "execution_count": 3,
   "metadata": {},
   "outputs": [],
   "source": [
    "# Set a function to call the API\n",
    "def query_api (url : str) -> dict:\n",
    "    # Parse the URL in case it contains any HTTP control characters\n",
    "    # Replace white spaces by the corresponding percent notation character\n",
    "    parsed_url = url.replace(\" \", \"%20\")\n",
    "    with urllib.request.urlopen(parsed_url) as response:\n",
    "        return json.loads(response.read().decode(\"utf-8\"))\n",
    "# Set a function to call the API\n",
    "def download_file_api (url : str, filename : str):\n",
    "    # Parse the URL in case it contains any HTTP control characters\n",
    "    # Replace white spaces by the corresponding percent notation character\n",
    "    parsed_url = url.replace(\" \", \"%20\")\n",
    "    urllib.request.urlretrieve(url, filename)"
   ]
  },
  {
   "cell_type": "markdown",
   "metadata": {},
   "source": [
    "#### Download both structure and trajectory data\n",
    "\n",
    "Use project MCV1900213 for this example since it has just 1000 frames and thus the trajectory download will be ligth."
   ]
  },
  {
   "cell_type": "code",
   "execution_count": 4,
   "metadata": {},
   "outputs": [
    {
     "name": "stdout",
     "output_type": "stream",
     "text": [
      "We query the API at http://irb.mddbr.eu/api/rest/current/projects/MCV1900213/files/structure\n",
      "Structure file has been downloaded successfully\n",
      "We query the API at http://irb.mddbr.eu/api/rest/current/projects/MCV1900213/files/trajectory?format=xtc\n",
      "Trajectory file has been downloaded successfully\n"
     ]
    }
   ],
   "source": [
    "# Set the structure query URL for the API\n",
    "specific_project_url = API_BASE_URL + '/projects/MCV1900213'\n",
    "structure_query = specific_project_url + '/files/structure'\n",
    "print('We query the API at ' + structure_query)\n",
    "\n",
    "# Download the file with an arbitrary name\n",
    "structure_filename = 'structure.pdb'\n",
    "download_file_api(structure_query, structure_filename)\n",
    "if exists(structure_filename):\n",
    "    print('Structure file has been downloaded successfully')\n",
    "\n",
    "# Set the structure query URL for the API\n",
    "trajectory_query = specific_project_url + '/files/trajectory?format=xtc'\n",
    "print('We query the API at ' + trajectory_query)\n",
    "\n",
    "# Download the file with an arbitrary name\n",
    "trajectory_filename = 'trajectory.xtc'\n",
    "print('This may take a few seconds...', end='\\r')\n",
    "download_file_api(trajectory_query, trajectory_filename)\n",
    "if exists(trajectory_filename):\n",
    "    print('Trajectory file has been downloaded successfully')"
   ]
  },
  {
   "cell_type": "markdown",
   "metadata": {},
   "source": [
    "#### Run the analysis\n",
    "\n",
    "Compute the RMSD between every frame and the first frame (i.e. starting conformation)"
   ]
  },
  {
   "cell_type": "code",
   "execution_count": 5,
   "metadata": {},
   "outputs": [],
   "source": [
    "# Load the trajectory to MDtraj\n",
    "trajectory = mdt.load(trajectory_filename, top=structure_filename)\n",
    "# Select protein atoms only for the analysis, as it is done in the automatic analysis workflow\n",
    "protein_selection_atom_indices = list(trajectory.top.select('protein'))\n",
    "# Run the RMSD analysis\n",
    "rmsd_values = mdt.rmsd(trajectory, trajectory[0], atom_indices=protein_selection_atom_indices)"
   ]
  },
  {
   "cell_type": "markdown",
   "metadata": {},
   "source": [
    "#### Display the results"
   ]
  },
  {
   "cell_type": "code",
   "execution_count": 6,
   "metadata": {},
   "outputs": [
    {
     "data": {
      "application/vnd.plotly.v1+json": {
       "config": {
        "plotlyServerURL": "https://plot.ly"
       },
       "data": [
        {
         "type": "scatter",
         "x": [
          0,
          1,
          2,
          3,
          4,
          5,
          6,
          7,
          8,
          9,
          10,
          11,
          12,
          13,
          14,
          15,
          16,
          17,
          18,
          19,
          20,
          21,
          22,
          23,
          24,
          25,
          26,
          27,
          28,
          29,
          30,
          31,
          32,
          33,
          34,
          35,
          36,
          37,
          38,
          39,
          40,
          41,
          42,
          43,
          44,
          45,
          46,
          47,
          48,
          49,
          50,
          51,
          52,
          53,
          54,
          55,
          56,
          57,
          58,
          59,
          60,
          61,
          62,
          63,
          64,
          65,
          66,
          67,
          68,
          69,
          70,
          71,
          72,
          73,
          74,
          75,
          76,
          77,
          78,
          79,
          80,
          81,
          82,
          83,
          84,
          85,
          86,
          87,
          88,
          89,
          90,
          91,
          92,
          93,
          94,
          95,
          96,
          97,
          98,
          99,
          100,
          101,
          102,
          103,
          104,
          105,
          106,
          107,
          108,
          109,
          110,
          111,
          112,
          113,
          114,
          115,
          116,
          117,
          118,
          119,
          120,
          121,
          122,
          123,
          124,
          125,
          126,
          127,
          128,
          129,
          130,
          131,
          132,
          133,
          134,
          135,
          136,
          137,
          138,
          139,
          140,
          141,
          142,
          143,
          144,
          145,
          146,
          147,
          148,
          149,
          150,
          151,
          152,
          153,
          154,
          155,
          156,
          157,
          158,
          159,
          160,
          161,
          162,
          163,
          164,
          165,
          166,
          167,
          168,
          169,
          170,
          171,
          172,
          173,
          174,
          175,
          176,
          177,
          178,
          179,
          180,
          181,
          182,
          183,
          184,
          185,
          186,
          187,
          188,
          189,
          190,
          191,
          192,
          193,
          194,
          195,
          196,
          197,
          198,
          199,
          200,
          201,
          202,
          203,
          204,
          205,
          206,
          207,
          208,
          209,
          210,
          211,
          212,
          213,
          214,
          215,
          216,
          217,
          218,
          219,
          220,
          221,
          222,
          223,
          224,
          225,
          226,
          227,
          228,
          229,
          230,
          231,
          232,
          233,
          234,
          235,
          236,
          237,
          238,
          239,
          240,
          241,
          242,
          243,
          244,
          245,
          246,
          247,
          248,
          249,
          250,
          251,
          252,
          253,
          254,
          255,
          256,
          257,
          258,
          259,
          260,
          261,
          262,
          263,
          264,
          265,
          266,
          267,
          268,
          269,
          270,
          271,
          272,
          273,
          274,
          275,
          276,
          277,
          278,
          279,
          280,
          281,
          282,
          283,
          284,
          285,
          286,
          287,
          288,
          289,
          290,
          291,
          292,
          293,
          294,
          295,
          296,
          297,
          298,
          299,
          300,
          301,
          302,
          303,
          304,
          305,
          306,
          307,
          308,
          309,
          310,
          311,
          312,
          313,
          314,
          315,
          316,
          317,
          318,
          319,
          320,
          321,
          322,
          323,
          324,
          325,
          326,
          327,
          328,
          329,
          330,
          331,
          332,
          333,
          334,
          335,
          336,
          337,
          338,
          339,
          340,
          341,
          342,
          343,
          344,
          345,
          346,
          347,
          348,
          349,
          350,
          351,
          352,
          353,
          354,
          355,
          356,
          357,
          358,
          359,
          360,
          361,
          362,
          363,
          364,
          365,
          366,
          367,
          368,
          369,
          370,
          371,
          372,
          373,
          374,
          375,
          376,
          377,
          378,
          379,
          380,
          381,
          382,
          383,
          384,
          385,
          386,
          387,
          388,
          389,
          390,
          391,
          392,
          393,
          394,
          395,
          396,
          397,
          398,
          399,
          400,
          401,
          402,
          403,
          404,
          405,
          406,
          407,
          408,
          409,
          410,
          411,
          412,
          413,
          414,
          415,
          416,
          417,
          418,
          419,
          420,
          421,
          422,
          423,
          424,
          425,
          426,
          427,
          428,
          429,
          430,
          431,
          432,
          433,
          434,
          435,
          436,
          437,
          438,
          439,
          440,
          441,
          442,
          443,
          444,
          445,
          446,
          447,
          448,
          449,
          450,
          451,
          452,
          453,
          454,
          455,
          456,
          457,
          458,
          459,
          460,
          461,
          462,
          463,
          464,
          465,
          466,
          467,
          468,
          469,
          470,
          471,
          472,
          473,
          474,
          475,
          476,
          477,
          478,
          479,
          480,
          481,
          482,
          483,
          484,
          485,
          486,
          487,
          488,
          489,
          490,
          491,
          492,
          493,
          494,
          495,
          496,
          497,
          498,
          499,
          500,
          501,
          502,
          503,
          504,
          505,
          506,
          507,
          508,
          509,
          510,
          511,
          512,
          513,
          514,
          515,
          516,
          517,
          518,
          519,
          520,
          521,
          522,
          523,
          524,
          525,
          526,
          527,
          528,
          529,
          530,
          531,
          532,
          533,
          534,
          535,
          536,
          537,
          538,
          539,
          540,
          541,
          542,
          543,
          544,
          545,
          546,
          547,
          548,
          549,
          550,
          551,
          552,
          553,
          554,
          555,
          556,
          557,
          558,
          559,
          560,
          561,
          562,
          563,
          564,
          565,
          566,
          567,
          568,
          569,
          570,
          571,
          572,
          573,
          574,
          575,
          576,
          577,
          578,
          579,
          580,
          581,
          582,
          583,
          584,
          585,
          586,
          587,
          588,
          589,
          590,
          591,
          592,
          593,
          594,
          595,
          596,
          597,
          598,
          599,
          600,
          601,
          602,
          603,
          604,
          605,
          606,
          607,
          608,
          609,
          610,
          611,
          612,
          613,
          614,
          615,
          616,
          617,
          618,
          619,
          620,
          621,
          622,
          623,
          624,
          625,
          626,
          627,
          628,
          629,
          630,
          631,
          632,
          633,
          634,
          635,
          636,
          637,
          638,
          639,
          640,
          641,
          642,
          643,
          644,
          645,
          646,
          647,
          648,
          649,
          650,
          651,
          652,
          653,
          654,
          655,
          656,
          657,
          658,
          659,
          660,
          661,
          662,
          663,
          664,
          665,
          666,
          667,
          668,
          669,
          670,
          671,
          672,
          673,
          674,
          675,
          676,
          677,
          678,
          679,
          680,
          681,
          682,
          683,
          684,
          685,
          686,
          687,
          688,
          689,
          690,
          691,
          692,
          693,
          694,
          695,
          696,
          697,
          698,
          699,
          700,
          701,
          702,
          703,
          704,
          705,
          706,
          707,
          708,
          709,
          710,
          711,
          712,
          713,
          714,
          715,
          716,
          717,
          718,
          719,
          720,
          721,
          722,
          723,
          724,
          725,
          726,
          727,
          728,
          729,
          730,
          731,
          732,
          733,
          734,
          735,
          736,
          737,
          738,
          739,
          740,
          741,
          742,
          743,
          744,
          745,
          746,
          747,
          748,
          749,
          750,
          751,
          752,
          753,
          754,
          755,
          756,
          757,
          758,
          759,
          760,
          761,
          762,
          763,
          764,
          765,
          766,
          767,
          768,
          769,
          770,
          771,
          772,
          773,
          774,
          775,
          776,
          777,
          778,
          779,
          780,
          781,
          782,
          783,
          784,
          785,
          786,
          787,
          788,
          789,
          790,
          791,
          792,
          793,
          794,
          795,
          796,
          797,
          798,
          799,
          800,
          801,
          802,
          803,
          804,
          805,
          806,
          807,
          808,
          809,
          810,
          811,
          812,
          813,
          814,
          815,
          816,
          817,
          818,
          819,
          820,
          821,
          822,
          823,
          824,
          825,
          826,
          827,
          828,
          829,
          830,
          831,
          832,
          833,
          834,
          835,
          836,
          837,
          838,
          839,
          840,
          841,
          842,
          843,
          844,
          845,
          846,
          847,
          848,
          849,
          850,
          851,
          852,
          853,
          854,
          855,
          856,
          857,
          858,
          859,
          860,
          861,
          862,
          863,
          864,
          865,
          866,
          867,
          868,
          869,
          870,
          871,
          872,
          873,
          874,
          875,
          876,
          877,
          878,
          879,
          880,
          881,
          882,
          883,
          884,
          885,
          886,
          887,
          888,
          889,
          890,
          891,
          892,
          893,
          894,
          895,
          896,
          897,
          898,
          899,
          900,
          901,
          902,
          903,
          904,
          905,
          906,
          907,
          908,
          909,
          910,
          911,
          912,
          913,
          914,
          915,
          916,
          917,
          918,
          919,
          920,
          921,
          922,
          923,
          924,
          925,
          926,
          927,
          928,
          929,
          930,
          931,
          932,
          933,
          934,
          935,
          936,
          937,
          938,
          939,
          940,
          941,
          942,
          943,
          944,
          945,
          946,
          947,
          948,
          949,
          950,
          951,
          952,
          953,
          954,
          955,
          956,
          957,
          958,
          959,
          960,
          961,
          962,
          963,
          964,
          965,
          966,
          967,
          968,
          969,
          970,
          971,
          972,
          973,
          974,
          975,
          976,
          977,
          978,
          979,
          980,
          981,
          982,
          983,
          984,
          985,
          986,
          987,
          988,
          989,
          990,
          991,
          992,
          993,
          994,
          995,
          996,
          997,
          998,
          999,
          1000
         ],
         "y": {
          "bdata": "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",
          "dtype": "f4"
         }
        }
       ],
       "layout": {
        "template": {
         "data": {
          "bar": [
           {
            "error_x": {
             "color": "#2a3f5f"
            },
            "error_y": {
             "color": "#2a3f5f"
            },
            "marker": {
             "line": {
              "color": "#E5ECF6",
              "width": 0.5
             },
             "pattern": {
              "fillmode": "overlay",
              "size": 10,
              "solidity": 0.2
             }
            },
            "type": "bar"
           }
          ],
          "barpolar": [
           {
            "marker": {
             "line": {
              "color": "#E5ECF6",
              "width": 0.5
             },
             "pattern": {
              "fillmode": "overlay",
              "size": 10,
              "solidity": 0.2
             }
            },
            "type": "barpolar"
           }
          ],
          "carpet": [
           {
            "aaxis": {
             "endlinecolor": "#2a3f5f",
             "gridcolor": "white",
             "linecolor": "white",
             "minorgridcolor": "white",
             "startlinecolor": "#2a3f5f"
            },
            "baxis": {
             "endlinecolor": "#2a3f5f",
             "gridcolor": "white",
             "linecolor": "white",
             "minorgridcolor": "white",
             "startlinecolor": "#2a3f5f"
            },
            "type": "carpet"
           }
          ],
          "choropleth": [
           {
            "colorbar": {
             "outlinewidth": 0,
             "ticks": ""
            },
            "type": "choropleth"
           }
          ],
          "contour": [
           {
            "colorbar": {
             "outlinewidth": 0,
             "ticks": ""
            },
            "colorscale": [
             [
              0,
              "#0d0887"
             ],
             [
              0.1111111111111111,
              "#46039f"
             ],
             [
              0.2222222222222222,
              "#7201a8"
             ],
             [
              0.3333333333333333,
              "#9c179e"
             ],
             [
              0.4444444444444444,
              "#bd3786"
             ],
             [
              0.5555555555555556,
              "#d8576b"
             ],
             [
              0.6666666666666666,
              "#ed7953"
             ],
             [
              0.7777777777777778,
              "#fb9f3a"
             ],
             [
              0.8888888888888888,
              "#fdca26"
             ],
             [
              1,
              "#f0f921"
             ]
            ],
            "type": "contour"
           }
          ],
          "contourcarpet": [
           {
            "colorbar": {
             "outlinewidth": 0,
             "ticks": ""
            },
            "type": "contourcarpet"
           }
          ],
          "heatmap": [
           {
            "colorbar": {
             "outlinewidth": 0,
             "ticks": ""
            },
            "colorscale": [
             [
              0,
              "#0d0887"
             ],
             [
              0.1111111111111111,
              "#46039f"
             ],
             [
              0.2222222222222222,
              "#7201a8"
             ],
             [
              0.3333333333333333,
              "#9c179e"
             ],
             [
              0.4444444444444444,
              "#bd3786"
             ],
             [
              0.5555555555555556,
              "#d8576b"
             ],
             [
              0.6666666666666666,
              "#ed7953"
             ],
             [
              0.7777777777777778,
              "#fb9f3a"
             ],
             [
              0.8888888888888888,
              "#fdca26"
             ],
             [
              1,
              "#f0f921"
             ]
            ],
            "type": "heatmap"
           }
          ],
          "histogram": [
           {
            "marker": {
             "pattern": {
              "fillmode": "overlay",
              "size": 10,
              "solidity": 0.2
             }
            },
            "type": "histogram"
           }
          ],
          "histogram2d": [
           {
            "colorbar": {
             "outlinewidth": 0,
             "ticks": ""
            },
            "colorscale": [
             [
              0,
              "#0d0887"
             ],
             [
              0.1111111111111111,
              "#46039f"
             ],
             [
              0.2222222222222222,
              "#7201a8"
             ],
             [
              0.3333333333333333,
              "#9c179e"
             ],
             [
              0.4444444444444444,
              "#bd3786"
             ],
             [
              0.5555555555555556,
              "#d8576b"
             ],
             [
              0.6666666666666666,
              "#ed7953"
             ],
             [
              0.7777777777777778,
              "#fb9f3a"
             ],
             [
              0.8888888888888888,
              "#fdca26"
             ],
             [
              1,
              "#f0f921"
             ]
            ],
            "type": "histogram2d"
           }
          ],
          "histogram2dcontour": [
           {
            "colorbar": {
             "outlinewidth": 0,
             "ticks": ""
            },
            "colorscale": [
             [
              0,
              "#0d0887"
             ],
             [
              0.1111111111111111,
              "#46039f"
             ],
             [
              0.2222222222222222,
              "#7201a8"
             ],
             [
              0.3333333333333333,
              "#9c179e"
             ],
             [
              0.4444444444444444,
              "#bd3786"
             ],
             [
              0.5555555555555556,
              "#d8576b"
             ],
             [
              0.6666666666666666,
              "#ed7953"
             ],
             [
              0.7777777777777778,
              "#fb9f3a"
             ],
             [
              0.8888888888888888,
              "#fdca26"
             ],
             [
              1,
              "#f0f921"
             ]
            ],
            "type": "histogram2dcontour"
           }
          ],
          "mesh3d": [
           {
            "colorbar": {
             "outlinewidth": 0,
             "ticks": ""
            },
            "type": "mesh3d"
           }
          ],
          "parcoords": [
           {
            "line": {
             "colorbar": {
              "outlinewidth": 0,
              "ticks": ""
             }
            },
            "type": "parcoords"
           }
          ],
          "pie": [
           {
            "automargin": true,
            "type": "pie"
           }
          ],
          "scatter": [
           {
            "fillpattern": {
             "fillmode": "overlay",
             "size": 10,
             "solidity": 0.2
            },
            "type": "scatter"
           }
          ],
          "scatter3d": [
           {
            "line": {
             "colorbar": {
              "outlinewidth": 0,
              "ticks": ""
             }
            },
            "marker": {
             "colorbar": {
              "outlinewidth": 0,
              "ticks": ""
             }
            },
            "type": "scatter3d"
           }
          ],
          "scattercarpet": [
           {
            "marker": {
             "colorbar": {
              "outlinewidth": 0,
              "ticks": ""
             }
            },
            "type": "scattercarpet"
           }
          ],
          "scattergeo": [
           {
            "marker": {
             "colorbar": {
              "outlinewidth": 0,
              "ticks": ""
             }
            },
            "type": "scattergeo"
           }
          ],
          "scattergl": [
           {
            "marker": {
             "colorbar": {
              "outlinewidth": 0,
              "ticks": ""
             }
            },
            "type": "scattergl"
           }
          ],
          "scattermap": [
           {
            "marker": {
             "colorbar": {
              "outlinewidth": 0,
              "ticks": ""
             }
            },
            "type": "scattermap"
           }
          ],
          "scattermapbox": [
           {
            "marker": {
             "colorbar": {
              "outlinewidth": 0,
              "ticks": ""
             }
            },
            "type": "scattermapbox"
           }
          ],
          "scatterpolar": [
           {
            "marker": {
             "colorbar": {
              "outlinewidth": 0,
              "ticks": ""
             }
            },
            "type": "scatterpolar"
           }
          ],
          "scatterpolargl": [
           {
            "marker": {
             "colorbar": {
              "outlinewidth": 0,
              "ticks": ""
             }
            },
            "type": "scatterpolargl"
           }
          ],
          "scatterternary": [
           {
            "marker": {
             "colorbar": {
              "outlinewidth": 0,
              "ticks": ""
             }
            },
            "type": "scatterternary"
           }
          ],
          "surface": [
           {
            "colorbar": {
             "outlinewidth": 0,
             "ticks": ""
            },
            "colorscale": [
             [
              0,
              "#0d0887"
             ],
             [
              0.1111111111111111,
              "#46039f"
             ],
             [
              0.2222222222222222,
              "#7201a8"
             ],
             [
              0.3333333333333333,
              "#9c179e"
             ],
             [
              0.4444444444444444,
              "#bd3786"
             ],
             [
              0.5555555555555556,
              "#d8576b"
             ],
             [
              0.6666666666666666,
              "#ed7953"
             ],
             [
              0.7777777777777778,
              "#fb9f3a"
             ],
             [
              0.8888888888888888,
              "#fdca26"
             ],
             [
              1,
              "#f0f921"
             ]
            ],
            "type": "surface"
           }
          ],
          "table": [
           {
            "cells": {
             "fill": {
              "color": "#EBF0F8"
             },
             "line": {
              "color": "white"
             }
            },
            "header": {
             "fill": {
              "color": "#C8D4E3"
             },
             "line": {
              "color": "white"
             }
            },
            "type": "table"
           }
          ]
         },
         "layout": {
          "annotationdefaults": {
           "arrowcolor": "#2a3f5f",
           "arrowhead": 0,
           "arrowwidth": 1
          },
          "autotypenumbers": "strict",
          "coloraxis": {
           "colorbar": {
            "outlinewidth": 0,
            "ticks": ""
           }
          },
          "colorscale": {
           "diverging": [
            [
             0,
             "#8e0152"
            ],
            [
             0.1,
             "#c51b7d"
            ],
            [
             0.2,
             "#de77ae"
            ],
            [
             0.3,
             "#f1b6da"
            ],
            [
             0.4,
             "#fde0ef"
            ],
            [
             0.5,
             "#f7f7f7"
            ],
            [
             0.6,
             "#e6f5d0"
            ],
            [
             0.7,
             "#b8e186"
            ],
            [
             0.8,
             "#7fbc41"
            ],
            [
             0.9,
             "#4d9221"
            ],
            [
             1,
             "#276419"
            ]
           ],
           "sequential": [
            [
             0,
             "#0d0887"
            ],
            [
             0.1111111111111111,
             "#46039f"
            ],
            [
             0.2222222222222222,
             "#7201a8"
            ],
            [
             0.3333333333333333,
             "#9c179e"
            ],
            [
             0.4444444444444444,
             "#bd3786"
            ],
            [
             0.5555555555555556,
             "#d8576b"
            ],
            [
             0.6666666666666666,
             "#ed7953"
            ],
            [
             0.7777777777777778,
             "#fb9f3a"
            ],
            [
             0.8888888888888888,
             "#fdca26"
            ],
            [
             1,
             "#f0f921"
            ]
           ],
           "sequentialminus": [
            [
             0,
             "#0d0887"
            ],
            [
             0.1111111111111111,
             "#46039f"
            ],
            [
             0.2222222222222222,
             "#7201a8"
            ],
            [
             0.3333333333333333,
             "#9c179e"
            ],
            [
             0.4444444444444444,
             "#bd3786"
            ],
            [
             0.5555555555555556,
             "#d8576b"
            ],
            [
             0.6666666666666666,
             "#ed7953"
            ],
            [
             0.7777777777777778,
             "#fb9f3a"
            ],
            [
             0.8888888888888888,
             "#fdca26"
            ],
            [
             1,
             "#f0f921"
            ]
           ]
          },
          "colorway": [
           "#636efa",
           "#EF553B",
           "#00cc96",
           "#ab63fa",
           "#FFA15A",
           "#19d3f3",
           "#FF6692",
           "#B6E880",
           "#FF97FF",
           "#FECB52"
          ],
          "font": {
           "color": "#2a3f5f"
          },
          "geo": {
           "bgcolor": "white",
           "lakecolor": "white",
           "landcolor": "#E5ECF6",
           "showlakes": true,
           "showland": true,
           "subunitcolor": "white"
          },
          "hoverlabel": {
           "align": "left"
          },
          "hovermode": "closest",
          "mapbox": {
           "style": "light"
          },
          "paper_bgcolor": "white",
          "plot_bgcolor": "#E5ECF6",
          "polar": {
           "angularaxis": {
            "gridcolor": "white",
            "linecolor": "white",
            "ticks": ""
           },
           "bgcolor": "#E5ECF6",
           "radialaxis": {
            "gridcolor": "white",
            "linecolor": "white",
            "ticks": ""
           }
          },
          "scene": {
           "xaxis": {
            "backgroundcolor": "#E5ECF6",
            "gridcolor": "white",
            "gridwidth": 2,
            "linecolor": "white",
            "showbackground": true,
            "ticks": "",
            "zerolinecolor": "white"
           },
           "yaxis": {
            "backgroundcolor": "#E5ECF6",
            "gridcolor": "white",
            "gridwidth": 2,
            "linecolor": "white",
            "showbackground": true,
            "ticks": "",
            "zerolinecolor": "white"
           },
           "zaxis": {
            "backgroundcolor": "#E5ECF6",
            "gridcolor": "white",
            "gridwidth": 2,
            "linecolor": "white",
            "showbackground": true,
            "ticks": "",
            "zerolinecolor": "white"
           }
          },
          "shapedefaults": {
           "line": {
            "color": "#2a3f5f"
           }
          },
          "ternary": {
           "aaxis": {
            "gridcolor": "white",
            "linecolor": "white",
            "ticks": ""
           },
           "baxis": {
            "gridcolor": "white",
            "linecolor": "white",
            "ticks": ""
           },
           "bgcolor": "#E5ECF6",
           "caxis": {
            "gridcolor": "white",
            "linecolor": "white",
            "ticks": ""
           }
          },
          "title": {
           "x": 0.05
          },
          "xaxis": {
           "automargin": true,
           "gridcolor": "white",
           "linecolor": "white",
           "ticks": "",
           "title": {
            "standoff": 15
           },
           "zerolinecolor": "white",
           "zerolinewidth": 2
          },
          "yaxis": {
           "automargin": true,
           "gridcolor": "white",
           "linecolor": "white",
           "ticks": "",
           "title": {
            "standoff": 15
           },
           "zerolinecolor": "white",
           "zerolinewidth": 2
          }
         }
        },
        "title": {
         "text": "RMSD per frame (against the first trajectory frame)"
        },
        "xaxis": {
         "title": {
          "text": "Frames"
         }
        },
        "yaxis": {
         "title": {
          "text": "RMSD (nm)"
         }
        }
       }
      },
      "image/png": "[encoded data removed]"
     },
     "metadata": {},
     "output_type": "display_data"
    }
   ],
   "source": [
    "# Set the plot\n",
    "frames = list(range(len(rmsd_values)))\n",
    "fig = go.Figure({\n",
    "    \"data\": [ go.Scatter(x = frames, y = rmsd_values) ],\n",
    "    \"layout\": go.Layout(\n",
    "        title = 'RMSD per frame (against the first trajectory frame)',\n",
    "        xaxis = {'title': 'Frames'},\n",
    "        yaxis = {'title': 'RMSD (nm)'}\n",
    "    )\n",
    "})\n",
    "fig.show()"
   ]
  },
  {
   "cell_type": "markdown",
   "metadata": {},
   "source": [
    "# If you have any question, please do not hesitate to ask\n",
    "\n",
    "Contact: daniel.beltran@irbbarcelona.org"
   ]
  },
  {
   "cell_type": "code",
   "execution_count": null,
   "metadata": {},
   "outputs": [],
   "source": []
  }
 ],
 "metadata": {
  "kernelspec": {
   "display_name": "Python 3 (ipykernel)",
   "language": "python",
   "name": "python3"
  },
  "language_info": {
   "codemirror_mode": {
    "name": "ipython",
    "version": 3
   },
   "file_extension": ".py",
   "mimetype": "text/x-python",
   "name": "python",
   "nbconvert_exporter": "python",
   "pygments_lexer": "ipython3",
   "version": "3.12.10"
  }
 },
 "nbformat": 4,
 "nbformat_minor": 4
}
