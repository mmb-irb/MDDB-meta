{
 "cells": [
  {
   "cell_type": "markdown",
   "metadata": {
    "tags": []
   },
   "source": [
    "# Browsing projects\n",
    "***\n",
    "This **tutorial** shows an example of how to browse among the different entries (projects) in the **[MDDB](https://irb.mddbr.eu) database**. Each project contains metadata such as names of the authors, parameters of the simulation, etc.\n",
    "\n",
    "Although the **examples** are presented **step by step** with associated information, it is extremely advisable to previously spend some time reading documentation about **Molecular Dynamics (MD)** and the generated **trajectories and metadata**, to get familiar with the terms used, especially for newcomers to the field. \n",
    "\n",
    "This workflow is based on the MDDB database **[REST API](https://irb.mddbr.eu/api/rest/docs/)**: \n",
    "\n",
    "***\n",
    "**Version:** 1.0 (May 2025)\n",
    "***\n",
    "**Contributors:**  Adam Hospital, Daniel Beltrán, Aurélien Luciani, Genís Bayarri, Josep Lluís Gelpí, Modesto Orozco (IRB-Barcelona, Spain)\n",
    "***\n",
    "**Contact:** [daniel.beltran@irbbarcelona.org](mailto:daniel.beltran@irbbarcelona.org)\n",
    "***"
   ]
  },
  {
   "cell_type": "markdown",
   "metadata": {},
   "source": [
    "#### Import required libraries"
   ]
  },
  {
   "cell_type": "code",
   "execution_count": 1,
   "metadata": {},
   "outputs": [],
   "source": [
    "import json, urllib\n",
    "from urllib.request import urlopen\n",
    "from math import floor, ceil"
   ]
  },
  {
   "cell_type": "markdown",
   "metadata": {},
   "source": [
    "#### Set some constants"
   ]
  },
  {
   "cell_type": "code",
   "execution_count": 2,
   "metadata": {},
   "outputs": [],
   "source": [
    "API_BASE_URL = \"http://irb.mddbr.eu/api/rest/current\""
   ]
  },
  {
   "cell_type": "markdown",
   "metadata": {},
   "source": [
    "#### Set a function to query the REST API"
   ]
  },
  {
   "cell_type": "code",
   "execution_count": 3,
   "metadata": {},
   "outputs": [],
   "source": [
    "# Set a function to call the API\n",
    "def query_api (url : str) -> dict:\n",
    "    # Parse the URL in case it contains any HTTP control characters\n",
    "    # Replace white spaces by the corresponding percent notation character\n",
    "    parsed_url = url.replace(\" \", \"%20\")\n",
    "    with urllib.request.urlopen(parsed_url) as response:\n",
    "        return json.loads(response.read().decode(\"utf-8\"))"
   ]
  },
  {
   "cell_type": "markdown",
   "metadata": {},
   "source": [
    "## The projects endpoint\n",
    "\n",
    "In order to browse projects programatically from the REST API we use the **'projects'** endpoint. This means we make a call to the API URL by just adding '/projects' at the end. In this first block we call the projects endpoint with no additional parameters.<br />\n",
    "\n",
    "The expected **response** includes 2 fields: filteredCount and projects. The filtered count stands for the number of projects in the database which were found by the query. In this case the number of projects corresponds to the total number of projects in the database, since there is no query parameters and thus there is no filter. The projects list contains data of projects found by the query. Not all found projects are included in the response. This is explanied in the next block.\n",
    "\n",
    "Note that you can also do the query and see the response in [your own browser](http://irb.mddbr.eu/api/rest/current/projects)."
   ]
  },
  {
   "cell_type": "code",
   "execution_count": 4,
   "metadata": {},
   "outputs": [
    {
     "name": "stdout",
     "output_type": "stream",
     "text": [
      "We query the API at http://irb.mddbr.eu/api/rest/current/projects\n",
      "We found 4146 projects\n"
     ]
    }
   ],
   "source": [
    "# Set the URL for the projects endpoint\n",
    "projects_url = API_BASE_URL + '/projects'\n",
    "print('We query the API at ' + projects_url)\n",
    "\n",
    "# Query the API\n",
    "response = query_api(projects_url)\n",
    "print(f'We found {response[\"filteredCount\"]} projects')"
   ]
  },
  {
   "cell_type": "markdown",
   "metadata": {},
   "source": [
    "## Pagination\n",
    "\n",
    "When the number of matched projects exceeds the **limit** the number of returned projects is reduced to this limit. This limit is set to 10 by default but it may be changed using the 'limit' parameter. However there is a **hard limit of 100** to not overload the API memory. Requesting more than 100 projects results in retrieving only 100.\n",
    "\n",
    "In order to obtain all projects data **it is necessary to paginate**. This means we have to do several queries to get the response by pieces. To do so we must use also the 'page' parameter. For this example we use no query parameters, as we do in the previous block, to get all projects in the database. Our aim is to mine the accession values of all projects in the database."
   ]
  },
  {
   "cell_type": "code",
   "execution_count": 5,
   "metadata": {},
   "outputs": [
    {
     "name": "stdout",
     "output_type": "stream",
     "text": [
      "We have mined 4146 accessions\n"
     ]
    }
   ],
   "source": [
    "# Set a list to store all the mined accession values\n",
    "accessions = []\n",
    "# Get the number of projects from the previous response\n",
    "n_projects = response['filteredCount']\n",
    "# Set the limit of projects per page\n",
    "limit = 100\n",
    "# Calculate the expected number of pages\n",
    "pages = ceil(n_projects / limit)\n",
    "# Iterate over pages\n",
    "# Note that pages are 1-base numerated, and NOT 0-based\n",
    "for page in range(1, pages + 1):\n",
    "    print(f'Requesting page {page}/{pages}', end='\\r')\n",
    "    # Set the URL for the projects endpoint\n",
    "    # This time include both limit and page parameters\n",
    "    paginated_url = f'{projects_url}?limit={limit}&page={page}'\n",
    "    # Query the API\n",
    "    response = query_api(paginated_url)\n",
    "    # Mine target data\n",
    "    projects = response['projects']\n",
    "    project_accessions = [ project['accession'] for project in projects ]\n",
    "    accessions += project_accessions\n",
    "    \n",
    "print(f'We have mined {len(accessions)} accessions')"
   ]
  },
  {
   "cell_type": "markdown",
   "metadata": {},
   "source": [
    "***\n",
    "## Simple queries\n",
    "\n",
    "The simple query is done with the **'search'** query argument. The API will search for all projects which contain the requested word(s) in the following fields:\n",
    "   - Project name\n",
    "   - Project description\n",
    "   - Author names\n",
    "   - Group names\n",
    "   \n",
    "In the following example we will query for projects including the term 'IRB Barcelona'. Note that the amount of projects found has fallen.\n",
    "***"
   ]
  },
  {
   "cell_type": "code",
   "execution_count": 6,
   "metadata": {},
   "outputs": [
    {
     "name": "stdout",
     "output_type": "stream",
     "text": [
      "We query the API at \"http://irb.mddbr.eu/api/rest/current/projects?search=IRB Barcelona\"\n",
      "We found 2426 projects\n"
     ]
    }
   ],
   "source": [
    "# Set the URL for the projects endpoint including a query parameter\n",
    "projects_query_url = projects_url + '?search=IRB Barcelona'\n",
    "print(f'We query the API at \"{projects_query_url}\"')\n",
    "\n",
    "# Query the API\n",
    "response = query_api(projects_query_url)\n",
    "print(f'We found {response[\"filteredCount\"]} projects')"
   ]
  },
  {
   "cell_type": "markdown",
   "metadata": {},
   "source": [
    "In the following tutorial we will learn what data can be found in a project and how to mine it."
   ]
  },
  {
   "cell_type": "markdown",
   "metadata": {},
   "source": [
    "# If you have any question, please do not hesitate to ask\n",
    "\n",
    "Contact: daniel.beltran@irbbarcelona.org"
   ]
  },
  {
   "cell_type": "code",
   "execution_count": null,
   "metadata": {},
   "outputs": [],
   "source": []
  }
 ],
 "metadata": {
  "kernelspec": {
   "display_name": "Python 3 (ipykernel)",
   "language": "python",
   "name": "python3"
  },
  "language_info": {
   "codemirror_mode": {
    "name": "ipython",
    "version": 3
   },
   "file_extension": ".py",
   "mimetype": "text/x-python",
   "name": "python",
   "nbconvert_exporter": "python",
   "pygments_lexer": "ipython3",
   "version": "3.12.10"
  }
 },
 "nbformat": 4,
 "nbformat_minor": 4
}
